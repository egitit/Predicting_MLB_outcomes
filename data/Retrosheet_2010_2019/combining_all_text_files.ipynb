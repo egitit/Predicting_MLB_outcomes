{
 "cells": [
  {
   "cell_type": "code",
   "execution_count": 1,
   "metadata": {
    "ExecuteTime": {
     "end_time": "2020-05-26T00:08:00.841612Z",
     "start_time": "2020-05-26T00:07:59.876593Z"
    },
    "code_folding": []
   },
   "outputs": [],
   "source": [
    "# running this notebook to have the list of column names for dataframe import\n",
    "%run column_names_lst.ipynb"
   ]
  },
  {
   "cell_type": "markdown",
   "metadata": {},
   "source": [
    "#### Function to create a complete dataframe from the 2010-2019 baseball seasons. Each row is a game from that season. "
   ]
  },
  {
   "cell_type": "code",
   "execution_count": 2,
   "metadata": {
    "ExecuteTime": {
     "end_time": "2020-05-26T00:08:00.854029Z",
     "start_time": "2020-05-26T00:08:00.843915Z"
    },
    "code_folding": [
     0
    ]
   },
   "outputs": [],
   "source": [
    "def make_dataframe():\n",
    "    '''\n",
    "    create a complete dataframe from a list of strings\n",
    "    \n",
    "    parameters:\n",
    "    lst - a list of strings to load into a dataframe\n",
    "    \n",
    "    returns:\n",
    "    complete dataframe of the 2010-2019 baseball seasons\n",
    "    '''\n",
    "    df = pd.DataFrame(columns=lst)\n",
    "    \n",
    "    file_names = ['GL2010', 'GL2011', 'GL2012', 'GL2013', 'GL2014', 'GL2015',\n",
    "                  'GL2016', 'GL2017', 'GL2018', 'GL2019']\n",
    "    files = []\n",
    "    \n",
    "    for x in file_names:\n",
    "        files.append(f\"/Users/Lisa/_MLB_Prediction_capstone/data/Retrosheet_2010_2019/{x}.TXT\")\n",
    "        \n",
    "    for link in files:\n",
    "        data = pd.read_csv(link, names=lst)\n",
    "        df = df.append(data, ignore_index = True)\n",
    "        \n",
    "    return df"
   ]
  },
  {
   "cell_type": "code",
   "execution_count": 5,
   "metadata": {
    "ExecuteTime": {
     "end_time": "2020-05-26T00:13:54.851686Z",
     "start_time": "2020-05-26T00:13:52.468553Z"
    }
   },
   "outputs": [],
   "source": [
    "df = make_dataframe()"
   ]
  },
  {
   "cell_type": "code",
   "execution_count": 8,
   "metadata": {
    "ExecuteTime": {
     "end_time": "2020-05-26T14:57:26.064906Z",
     "start_time": "2020-05-26T14:57:23.682312Z"
    }
   },
   "outputs": [],
   "source": [
    "# df.to_csv('2010_to_2019_seasons.csv')\n",
    "# Commenting out since the csv was created..."
   ]
  }
 ],
 "metadata": {
  "kernelspec": {
   "display_name": "Python 3",
   "language": "python",
   "name": "python3"
  },
  "language_info": {
   "codemirror_mode": {
    "name": "ipython",
    "version": 3
   },
   "file_extension": ".py",
   "mimetype": "text/x-python",
   "name": "python",
   "nbconvert_exporter": "python",
   "pygments_lexer": "ipython3",
   "version": "3.7.7"
  }
 },
 "nbformat": 4,
 "nbformat_minor": 4
}
