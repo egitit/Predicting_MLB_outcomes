{
 "cells": [
  {
   "cell_type": "code",
   "execution_count": 1,
   "metadata": {
    "ExecuteTime": {
     "end_time": "2020-06-08T20:04:01.589257Z",
     "start_time": "2020-06-08T20:03:56.452385Z"
    }
   },
   "outputs": [],
   "source": [
    "# Imports for plotting, data manipulation, and modeling\n",
    "import pandas as pd\n",
    "import numpy as np\n",
    "import matplotlib.pyplot as plt\n",
    "import seaborn as sns\n",
    "sns.set()\n",
    "%matplotlib inline\n",
    "from sklearn.ensemble import RandomForestClassifier\n",
    "from sklearn.ensemble import GradientBoostingClassifier\n",
    "from sklearn.ensemble import AdaBoostClassifier\n",
    "from sklearn.model_selection import GridSearchCV\n",
    "from sklearn.model_selection import cross_val_score\n",
    "from sklearn import metrics"
   ]
  },
  {
   "cell_type": "code",
   "execution_count": 2,
   "metadata": {
    "ExecuteTime": {
     "end_time": "2020-06-08T20:04:01.600880Z",
     "start_time": "2020-06-08T20:04:01.592054Z"
    }
   },
   "outputs": [],
   "source": [
    "# Dataframe imports and droppin unnecessary columns\n",
    "file = '/Users/Lisa/_MLB_Prediction_capstone/cleaned_batting_df.csv'\n",
    "file2 = '/Users/Lisa/_MLB_Prediction_capstone/cleaned_piching_df.csv'\n",
    "file3 = '/Users/Lisa/_MLB_Prediction_capstone/cleaned_game_df.csv'\n",
    "batting_df = pd.read_csv(file)\n",
    "pitching_df = pd.read_csv(file2)\n",
    "game_df = pd.read_csv(file3)\n",
    "batting_df.drop('Unnamed: 0', axis=1, inplace=True)\n",
    "pitching_df.drop('Unnamed: 0', axis=1, inplace=True)\n",
    "game_df.drop('Unnamed: 0', axis=1, inplace=True)"
   ]
  },
  {
   "cell_type": "markdown",
   "metadata": {},
   "source": [
    "## Batting Feature engineering ideas\n",
    "- All of these stats will be on a PER PLATE APPEARANCE then divide by 162 to get PER GAME STATS\n",
    "    - Team stats will be summed up and averaged - Will ultimately be compared to a teams 7 day trends history\n",
    "        - 'totalBases' / total 'plateAppearances' - DONE\n",
    "        - 'leftonbase'/ total 'plateAppearances' - DONE\n",
    "        - 'runs' / total 'plateAppearances' - DONE\n",
    "        - 'strikeOuts' / total 'atBats' - DONE\n",
    "        - 'baseOnBalls' + 'intentionalWalks' / total 'plateAppearances' - DONE\n",
    "            - 'hits' / total 'atBats' --- Leverage for game_df. get team stats per game...\n",
    "            - 'obp' / # of batters on team --- Same as above\n",
    "        - 'rbi' / total 'atBats' - DONE"
   ]
  },
  {
   "cell_type": "code",
   "execution_count": 5,
   "metadata": {
    "ExecuteTime": {
     "end_time": "2020-06-08T20:04:02.067957Z",
     "start_time": "2020-06-08T20:04:01.990289Z"
    }
   },
   "outputs": [],
   "source": [
    "# MIA & FLO are different. Standardizing to MIA\n",
    "batting_df.replace(to_replace='FLA', value='MIA', inplace=True)"
   ]
  },
  {
   "cell_type": "markdown",
   "metadata": {},
   "source": [
    "### Create New Features for TEAM stats"
   ]
  },
  {
   "cell_type": "code",
   "execution_count": 7,
   "metadata": {
    "ExecuteTime": {
     "end_time": "2020-06-08T20:04:02.297345Z",
     "start_time": "2020-06-08T20:04:02.154406Z"
    },
    "code_folding": []
   },
   "outputs": [],
   "source": [
    "# THIS IS THE FRAMEWORK TO GENERATE TEAM STATISTICS...\n",
    "# Creating a dataframe containing team annual Batting Averages\n",
    "\n",
    "a = batting_df.groupby(['year', 'teamAbbrev'])['hits'].sum()\n",
    "b = batting_df.groupby(['year', 'teamAbbrev'])['atBats'].sum()\n",
    "a = a.to_frame()\n",
    "b = b.to_frame()\n",
    "BA = a.join(b, on=['year', 'teamAbbrev'])\n",
    "BA['team_BA'] = round((BA['hits']/BA['atBats']), 3)\n",
    "# BA = BA.reset_index()"
   ]
  },
  {
   "cell_type": "code",
   "execution_count": 8,
   "metadata": {
    "ExecuteTime": {
     "end_time": "2020-06-08T20:04:02.438714Z",
     "start_time": "2020-06-08T20:04:02.301818Z"
    },
    "code_folding": []
   },
   "outputs": [],
   "source": [
    "# Total bases per plate appearance\n",
    "\n",
    "a = batting_df.groupby(['year', 'teamAbbrev'])['totalBases'].sum()\n",
    "b = batting_df.groupby(['year', 'teamAbbrev'])['plateAppearances'].sum()\n",
    "a = a.to_frame()\n",
    "b = b.to_frame()\n",
    "TB = a.join(b, on=['year', 'teamAbbrev'])\n",
    "TB['total_bases_avg'] = round((TB['totalBases']/TB['plateAppearances']), 3)\n",
    "# TB = TB.reset_index()"
   ]
  },
  {
   "cell_type": "code",
   "execution_count": 9,
   "metadata": {
    "ExecuteTime": {
     "end_time": "2020-06-08T20:04:02.591433Z",
     "start_time": "2020-06-08T20:04:02.467835Z"
    },
    "code_folding": []
   },
   "outputs": [],
   "source": [
    "# LOB per plate appearnace\n",
    "\n",
    "a = batting_df.groupby(['year', 'teamAbbrev'])['leftOnBase'].sum()\n",
    "b = batting_df.groupby(['year', 'teamAbbrev'])['plateAppearances'].sum()\n",
    "a = a.to_frame()\n",
    "b = b.to_frame()\n",
    "LOB = a.join(b, on=['year', 'teamAbbrev'])\n",
    "LOB['LOB_avg'] = round((LOB['leftOnBase']/LOB['plateAppearances']), 3)\n",
    "# LOB = LOB.reset_index()"
   ]
  },
  {
   "cell_type": "code",
   "execution_count": 10,
   "metadata": {
    "ExecuteTime": {
     "end_time": "2020-06-08T20:04:02.809725Z",
     "start_time": "2020-06-08T20:04:02.733030Z"
    },
    "code_folding": []
   },
   "outputs": [],
   "source": [
    "# Runs per plate appearance\n",
    "\n",
    "a = batting_df.groupby(['year', 'teamAbbrev'])['runs'].sum()\n",
    "b = batting_df.groupby(['year', 'teamAbbrev'])['plateAppearances'].sum()\n",
    "a = a.to_frame()\n",
    "b = b.to_frame()\n",
    "RUNS = a.join(b, on=['year', 'teamAbbrev'])\n",
    "RUNS['runs_avg'] = round((RUNS['runs']/RUNS['plateAppearances']), 3)\n",
    "# RUNS = RUNS.reset_index()"
   ]
  },
  {
   "cell_type": "code",
   "execution_count": 11,
   "metadata": {
    "ExecuteTime": {
     "end_time": "2020-06-08T20:04:02.943895Z",
     "start_time": "2020-06-08T20:04:02.813542Z"
    },
    "code_folding": []
   },
   "outputs": [],
   "source": [
    "# K's per AtBat\n",
    "\n",
    "a = batting_df.groupby(['year', 'teamAbbrev'])['strikeOuts'].sum()\n",
    "b = batting_df.groupby(['year', 'teamAbbrev'])['atBats'].sum()\n",
    "a = a.to_frame()\n",
    "b = b.to_frame()\n",
    "K = a.join(b, on=['year', 'teamAbbrev'])\n",
    "K['K_avg'] = round((K['strikeOuts']/K['atBats']), 3)\n",
    "# K = K.reset_index()"
   ]
  },
  {
   "cell_type": "code",
   "execution_count": 12,
   "metadata": {
    "ExecuteTime": {
     "end_time": "2020-06-08T20:04:03.083634Z",
     "start_time": "2020-06-08T20:04:02.948792Z"
    },
    "code_folding": []
   },
   "outputs": [],
   "source": [
    "# BB per plate appearance\n",
    "\n",
    "a = batting_df.groupby(['year', 'teamAbbrev'])['baseOnBalls'].sum()\n",
    "b = batting_df.groupby(['year', 'teamAbbrev'])['plateAppearances'].sum()\n",
    "a = a.to_frame()\n",
    "b = b.to_frame()\n",
    "BB = a.join(b, on=['year', 'teamAbbrev'])\n",
    "BB['BB_avg'] = round((BB['baseOnBalls']/BB['plateAppearances']), 3)\n",
    "# BB = BB.reset_index()"
   ]
  },
  {
   "cell_type": "code",
   "execution_count": 13,
   "metadata": {
    "ExecuteTime": {
     "end_time": "2020-06-08T20:04:03.224563Z",
     "start_time": "2020-06-08T20:04:03.091686Z"
    },
    "code_folding": []
   },
   "outputs": [],
   "source": [
    "# RBI per plate appearance\n",
    "\n",
    "a = batting_df.groupby(['year', 'teamAbbrev'])['rbi'].sum()\n",
    "b = batting_df.groupby(['year', 'teamAbbrev'])['plateAppearances'].sum()\n",
    "a = a.to_frame()\n",
    "b = b.to_frame()\n",
    "RBI = a.join(b, on=['year', 'teamAbbrev'])\n",
    "RBI['RBI_avg'] = round((RBI['rbi']/RBI['plateAppearances']), 3)\n",
    "# RBI = RBI.reset_index()"
   ]
  },
  {
   "cell_type": "markdown",
   "metadata": {},
   "source": [
    "## Merge all the TEAM stats into one dataframe"
   ]
  },
  {
   "cell_type": "code",
   "execution_count": 14,
   "metadata": {
    "ExecuteTime": {
     "end_time": "2020-06-08T20:04:03.328765Z",
     "start_time": "2020-06-08T20:04:03.227841Z"
    }
   },
   "outputs": [],
   "source": [
    "team_stats_lst = [BA, TB, LOB, RUNS, K, BB, RBI]"
   ]
  },
  {
   "cell_type": "code",
   "execution_count": 15,
   "metadata": {
    "ExecuteTime": {
     "end_time": "2020-06-08T20:04:03.408398Z",
     "start_time": "2020-06-08T20:04:03.346213Z"
    }
   },
   "outputs": [],
   "source": [
    "team_stats = pd.concat(team_stats_lst, join='outer', axis=1)"
   ]
  },
  {
   "cell_type": "code",
   "execution_count": 16,
   "metadata": {
    "ExecuteTime": {
     "end_time": "2020-06-08T20:04:03.469731Z",
     "start_time": "2020-06-08T20:04:03.425604Z"
    }
   },
   "outputs": [],
   "source": [
    "team_stats = team_stats.reset_index()"
   ]
  },
  {
   "cell_type": "code",
   "execution_count": 17,
   "metadata": {
    "ExecuteTime": {
     "end_time": "2020-06-08T20:04:03.622751Z",
     "start_time": "2020-06-08T20:04:03.591275Z"
    }
   },
   "outputs": [
    {
     "data": {
      "text/plain": [
       "Index(['year', 'teamAbbrev', 'hits', 'atBats', 'team_BA', 'totalBases',\n",
       "       'plateAppearances', 'total_bases_avg', 'leftOnBase', 'plateAppearances',\n",
       "       'LOB_avg', 'runs', 'plateAppearances', 'runs_avg', 'strikeOuts',\n",
       "       'atBats', 'K_avg', 'baseOnBalls', 'plateAppearances', 'BB_avg', 'rbi',\n",
       "       'plateAppearances', 'RBI_avg'],\n",
       "      dtype='object')"
      ]
     },
     "execution_count": 17,
     "metadata": {},
     "output_type": "execute_result"
    }
   ],
   "source": [
    "team_stats.columns"
   ]
  },
  {
   "cell_type": "markdown",
   "metadata": {},
   "source": [
    "## Pitching Feature ideas\n",
    "- Pitching stats will focus on starting pitchers Per9 innings stat (except for certain features)\n",
    "    - 'winningPercentage'\n",
    "    - 'runsScoredPer9'\n",
    "    - 'hitsPer9'\n",
    "    - 'era'\n",
    "    - 'whip'"
   ]
  },
  {
   "cell_type": "code",
   "execution_count": 18,
   "metadata": {
    "ExecuteTime": {
     "end_time": "2020-06-08T20:04:03.670540Z",
     "start_time": "2020-06-08T20:04:03.641170Z"
    }
   },
   "outputs": [],
   "source": [
    "# Rearrange the pitching_df so the columns have a better flow\n",
    "pitching_df = pitching_df.reindex(columns=['year','playerName','teamAbbrev','winningPercentage','runsScoredPer9','hitsPer9','strikeoutsPer9','baseOnBallsPer9','homeRunsPer9','era','whip','ops','gidp','avg'])\n",
    "# Columns to be left out from the reindexing --- 'winPercentage', 'strikeoutsPer9Inn', 'walksPer9Inn', 'hitsPer9Inn'"
   ]
  },
  {
   "cell_type": "code",
   "execution_count": 19,
   "metadata": {
    "ExecuteTime": {
     "end_time": "2020-06-08T20:04:03.839164Z",
     "start_time": "2020-06-08T20:04:03.690595Z"
    }
   },
   "outputs": [],
   "source": [
    "# Marlins have the team labels: MIA & FLO. Standardizing to MIA\n",
    "pitching_df.replace(to_replace='FLA', value='MIA', inplace=True)"
   ]
  },
  {
   "cell_type": "code",
   "execution_count": 20,
   "metadata": {
    "ExecuteTime": {
     "end_time": "2020-06-08T20:04:03.876283Z",
     "start_time": "2020-06-08T20:04:03.845751Z"
    }
   },
   "outputs": [
    {
     "data": {
      "text/plain": [
       "31"
      ]
     },
     "execution_count": 20,
     "metadata": {},
     "output_type": "execute_result"
    }
   ],
   "source": [
    "# 31 teams showing up since it seems like there are some NaN values for team names.\n",
    "# Will deal with should it become an issue...\n",
    "len(pitching_df.teamAbbrev.unique())"
   ]
  },
  {
   "cell_type": "markdown",
   "metadata": {},
   "source": [
    "## Game DF Feature ideas\n",
    "- Turn VisitorRunsScored & HomeRunsScore into a column that indicates if the home team won - DONE.\n",
    "- Combine VisitorHBP & VisitorBB & VisitorIBB into a single column containing all the stats - DONE.\n",
    "- Same with HomeHBP & HomeBB & HomeIBB - DONE.\n",
    "<br/><br/>\n",
    "- Combine VisitorH / VisitorAB = team_BA - DONE.\n",
    "- Same with HomeH / HomeAB - DONE. \n",
    "<br/><br/>\n",
    "- Eventually add on all the other engineered features into this dataframe...\n",
    "<br/><br/>\n",
    "- Since the game_df has a date column, I'd like to leverage that to look at 7-day-trends, 14-day-trends, etc"
   ]
  },
  {
   "cell_type": "code",
   "execution_count": 21,
   "metadata": {
    "ExecuteTime": {
     "end_time": "2020-06-08T20:04:03.911307Z",
     "start_time": "2020-06-08T20:04:03.884628Z"
    }
   },
   "outputs": [],
   "source": [
    "# Creating a Target for the model to eventually train on\n",
    "game_df['Home_team_won?'] = game_df['HomeRunsScore'] > game_df['VisitorRunsScored']"
   ]
  },
  {
   "cell_type": "code",
   "execution_count": 22,
   "metadata": {
    "ExecuteTime": {
     "end_time": "2020-06-08T20:04:03.979987Z",
     "start_time": "2020-06-08T20:04:03.921938Z"
    }
   },
   "outputs": [],
   "source": [
    "# Adding a Home & Away BA per game to compare batting trends over time\n",
    "game_df['Visitor_BA'] = round((game_df['VisitorH'] / game_df['VisitorAB']), 3)\n",
    "game_df['Home_BA'] = round((game_df['HomeH'] / game_df['HomeAB']), 3)"
   ]
  },
  {
   "cell_type": "code",
   "execution_count": 23,
   "metadata": {
    "ExecuteTime": {
     "end_time": "2020-06-08T20:04:04.274869Z",
     "start_time": "2020-06-08T20:04:04.001586Z"
    }
   },
   "outputs": [],
   "source": [
    "# Creating a new column in order to add Date/Time to my dataframe\n",
    "game_df['New_Date'] = pd.to_datetime(game_df['Date'].astype(str), format='%Y%m%d')"
   ]
  },
  {
   "cell_type": "code",
   "execution_count": 24,
   "metadata": {
    "ExecuteTime": {
     "end_time": "2020-06-08T20:04:04.350306Z",
     "start_time": "2020-06-08T20:04:04.285389Z"
    }
   },
   "outputs": [],
   "source": [
    "# Rearranging columns so new date/time is at the front of the DF & dropping old date column since it was an integer\n",
    "game_df = game_df.reindex(columns=['New_Date','Date', 'VisitingTeam','VisitorStartingPitcherName','HomeTeam','HomeStartingPitcherName', 'VisitorRunsScored','HomeRunsScore', 'VisitorAB', 'VisitorH','Visitor_BA', 'VisitorHBP', 'VisitorBB','VisitorIBB', 'VisitorLOB', 'HomeAB', 'HomeH', 'Home_BA', 'HomeHBP', 'HomeBB', 'HomeIBB', 'HomeLOB', 'Home_team_won?'])\n",
    "game_df.drop('Date', axis='columns', inplace=True)"
   ]
  },
  {
   "cell_type": "code",
   "execution_count": 25,
   "metadata": {
    "ExecuteTime": {
     "end_time": "2020-06-08T20:04:07.133721Z",
     "start_time": "2020-06-08T20:04:04.412335Z"
    }
   },
   "outputs": [],
   "source": [
    "# Had an extra team due to the Marlins having two different labels. Updating their team name to MIA\n",
    "game_df.replace(to_replace='FLO', value='MIA', inplace=True)\n",
    "\n",
    "# Updating game_df so team abbreviations match. Will be leveraged when aggregating teams stats\n",
    "game_df.replace(to_replace={\"NYA\":\"NYY\", \"SDN\":\"SD\", \"CHN\":\"CHC\", \"SLN\":\"STL\", \"SFN\":\"SF\", \"LAN\":\"LAD\", \"TBA\":\"TB\", \"KCA\":\"KC\", \"CHA\":\"CWS\", \"ANA\":\"LAA\", \"NYN\":\"NYM\"}, inplace=True)"
   ]
  },
  {
   "cell_type": "code",
   "execution_count": 26,
   "metadata": {
    "ExecuteTime": {
     "end_time": "2020-06-08T20:04:07.198927Z",
     "start_time": "2020-06-08T20:04:07.138157Z"
    },
    "scrolled": false
   },
   "outputs": [],
   "source": [
    "# Adding a prior year column in order to match last seasons stats from pitching_df/team_stats to game_df\n",
    "game_df['prior_year'] = game_df['New_Date'].dt.year-1"
   ]
  },
  {
   "cell_type": "markdown",
   "metadata": {},
   "source": [
    "## Merge pitching_df stats to game_df"
   ]
  },
  {
   "cell_type": "code",
   "execution_count": 27,
   "metadata": {
    "ExecuteTime": {
     "end_time": "2020-06-08T20:04:07.409871Z",
     "start_time": "2020-06-08T20:04:07.306880Z"
    }
   },
   "outputs": [],
   "source": [
    "# Merging the pitching stats on the prior year in the game_df in order to leverage the pitchers \n",
    "game_df = game_df.merge(pitching_df, how='left', left_on=['prior_year','VisitorStartingPitcherName'], right_on=['year', 'playerName'])"
   ]
  },
  {
   "cell_type": "code",
   "execution_count": 28,
   "metadata": {
    "ExecuteTime": {
     "end_time": "2020-06-08T20:04:07.606925Z",
     "start_time": "2020-06-08T20:04:07.445136Z"
    }
   },
   "outputs": [],
   "source": [
    "game_df = game_df.merge(pitching_df, how='left', left_on=['prior_year','HomeStartingPitcherName'], right_on=['year', 'playerName'])"
   ]
  },
  {
   "cell_type": "markdown",
   "metadata": {},
   "source": [
    "## Merge Team Batting stats to game_df"
   ]
  },
  {
   "cell_type": "code",
   "execution_count": 29,
   "metadata": {
    "ExecuteTime": {
     "end_time": "2020-06-08T20:04:07.765924Z",
     "start_time": "2020-06-08T20:04:07.610316Z"
    }
   },
   "outputs": [
    {
     "data": {
      "text/html": [
       "<div>\n",
       "<style scoped>\n",
       "    .dataframe tbody tr th:only-of-type {\n",
       "        vertical-align: middle;\n",
       "    }\n",
       "\n",
       "    .dataframe tbody tr th {\n",
       "        vertical-align: top;\n",
       "    }\n",
       "\n",
       "    .dataframe thead th {\n",
       "        text-align: right;\n",
       "    }\n",
       "</style>\n",
       "<table border=\"1\" class=\"dataframe\">\n",
       "  <thead>\n",
       "    <tr style=\"text-align: right;\">\n",
       "      <th></th>\n",
       "      <th>year</th>\n",
       "      <th>teamAbbrev</th>\n",
       "      <th>hits</th>\n",
       "      <th>atBats</th>\n",
       "      <th>team_BA</th>\n",
       "      <th>totalBases</th>\n",
       "      <th>plateAppearances</th>\n",
       "      <th>total_bases_avg</th>\n",
       "      <th>leftOnBase</th>\n",
       "      <th>plateAppearances</th>\n",
       "      <th>...</th>\n",
       "      <th>runs_avg</th>\n",
       "      <th>strikeOuts</th>\n",
       "      <th>atBats</th>\n",
       "      <th>K_avg</th>\n",
       "      <th>baseOnBalls</th>\n",
       "      <th>plateAppearances</th>\n",
       "      <th>BB_avg</th>\n",
       "      <th>rbi</th>\n",
       "      <th>plateAppearances</th>\n",
       "      <th>RBI_avg</th>\n",
       "    </tr>\n",
       "  </thead>\n",
       "  <tbody>\n",
       "    <tr>\n",
       "      <th>0</th>\n",
       "      <td>2009</td>\n",
       "      <td>ARI</td>\n",
       "      <td>1310</td>\n",
       "      <td>5182</td>\n",
       "      <td>0.253</td>\n",
       "      <td>2195</td>\n",
       "      <td>5858</td>\n",
       "      <td>0.375</td>\n",
       "      <td>2225</td>\n",
       "      <td>5858</td>\n",
       "      <td>...</td>\n",
       "      <td>0.116</td>\n",
       "      <td>1224</td>\n",
       "      <td>5182</td>\n",
       "      <td>0.236</td>\n",
       "      <td>545</td>\n",
       "      <td>5858</td>\n",
       "      <td>0.093</td>\n",
       "      <td>664</td>\n",
       "      <td>5858</td>\n",
       "      <td>0.113</td>\n",
       "    </tr>\n",
       "    <tr>\n",
       "      <th>1</th>\n",
       "      <td>2009</td>\n",
       "      <td>ATL</td>\n",
       "      <td>1492</td>\n",
       "      <td>5678</td>\n",
       "      <td>0.263</td>\n",
       "      <td>2336</td>\n",
       "      <td>6510</td>\n",
       "      <td>0.359</td>\n",
       "      <td>2432</td>\n",
       "      <td>6510</td>\n",
       "      <td>...</td>\n",
       "      <td>0.119</td>\n",
       "      <td>1137</td>\n",
       "      <td>5678</td>\n",
       "      <td>0.200</td>\n",
       "      <td>637</td>\n",
       "      <td>6510</td>\n",
       "      <td>0.098</td>\n",
       "      <td>723</td>\n",
       "      <td>6510</td>\n",
       "      <td>0.111</td>\n",
       "    </tr>\n",
       "    <tr>\n",
       "      <th>2</th>\n",
       "      <td>2009</td>\n",
       "      <td>BAL</td>\n",
       "      <td>1367</td>\n",
       "      <td>5073</td>\n",
       "      <td>0.269</td>\n",
       "      <td>2107</td>\n",
       "      <td>5610</td>\n",
       "      <td>0.376</td>\n",
       "      <td>2132</td>\n",
       "      <td>5610</td>\n",
       "      <td>...</td>\n",
       "      <td>0.120</td>\n",
       "      <td>913</td>\n",
       "      <td>5073</td>\n",
       "      <td>0.180</td>\n",
       "      <td>449</td>\n",
       "      <td>5610</td>\n",
       "      <td>0.080</td>\n",
       "      <td>628</td>\n",
       "      <td>5610</td>\n",
       "      <td>0.112</td>\n",
       "    </tr>\n",
       "    <tr>\n",
       "      <th>3</th>\n",
       "      <td>2009</td>\n",
       "      <td>BOS</td>\n",
       "      <td>1915</td>\n",
       "      <td>7202</td>\n",
       "      <td>0.266</td>\n",
       "      <td>3151</td>\n",
       "      <td>8245</td>\n",
       "      <td>0.382</td>\n",
       "      <td>3223</td>\n",
       "      <td>8245</td>\n",
       "      <td>...</td>\n",
       "      <td>0.128</td>\n",
       "      <td>1435</td>\n",
       "      <td>7202</td>\n",
       "      <td>0.199</td>\n",
       "      <td>864</td>\n",
       "      <td>8245</td>\n",
       "      <td>0.105</td>\n",
       "      <td>1036</td>\n",
       "      <td>8245</td>\n",
       "      <td>0.126</td>\n",
       "    </tr>\n",
       "    <tr>\n",
       "      <th>4</th>\n",
       "      <td>2009</td>\n",
       "      <td>CHC</td>\n",
       "      <td>1392</td>\n",
       "      <td>5459</td>\n",
       "      <td>0.255</td>\n",
       "      <td>2228</td>\n",
       "      <td>6214</td>\n",
       "      <td>0.359</td>\n",
       "      <td>2458</td>\n",
       "      <td>6214</td>\n",
       "      <td>...</td>\n",
       "      <td>0.113</td>\n",
       "      <td>1176</td>\n",
       "      <td>5459</td>\n",
       "      <td>0.215</td>\n",
       "      <td>590</td>\n",
       "      <td>6214</td>\n",
       "      <td>0.095</td>\n",
       "      <td>679</td>\n",
       "      <td>6214</td>\n",
       "      <td>0.109</td>\n",
       "    </tr>\n",
       "  </tbody>\n",
       "</table>\n",
       "<p>5 rows × 23 columns</p>\n",
       "</div>"
      ],
      "text/plain": [
       "   year teamAbbrev  hits  atBats  team_BA  totalBases  plateAppearances  \\\n",
       "0  2009        ARI  1310    5182    0.253        2195              5858   \n",
       "1  2009        ATL  1492    5678    0.263        2336              6510   \n",
       "2  2009        BAL  1367    5073    0.269        2107              5610   \n",
       "3  2009        BOS  1915    7202    0.266        3151              8245   \n",
       "4  2009        CHC  1392    5459    0.255        2228              6214   \n",
       "\n",
       "   total_bases_avg  leftOnBase  plateAppearances  ...  runs_avg  strikeOuts  \\\n",
       "0            0.375        2225              5858  ...     0.116        1224   \n",
       "1            0.359        2432              6510  ...     0.119        1137   \n",
       "2            0.376        2132              5610  ...     0.120         913   \n",
       "3            0.382        3223              8245  ...     0.128        1435   \n",
       "4            0.359        2458              6214  ...     0.113        1176   \n",
       "\n",
       "   atBats  K_avg  baseOnBalls  plateAppearances  BB_avg   rbi  \\\n",
       "0    5182  0.236          545              5858   0.093   664   \n",
       "1    5678  0.200          637              6510   0.098   723   \n",
       "2    5073  0.180          449              5610   0.080   628   \n",
       "3    7202  0.199          864              8245   0.105  1036   \n",
       "4    5459  0.215          590              6214   0.095   679   \n",
       "\n",
       "   plateAppearances  RBI_avg  \n",
       "0              5858    0.113  \n",
       "1              6510    0.111  \n",
       "2              5610    0.112  \n",
       "3              8245    0.126  \n",
       "4              6214    0.109  \n",
       "\n",
       "[5 rows x 23 columns]"
      ]
     },
     "execution_count": 29,
     "metadata": {},
     "output_type": "execute_result"
    }
   ],
   "source": [
    "team_stats.head()"
   ]
  },
  {
   "cell_type": "code",
   "execution_count": 30,
   "metadata": {
    "ExecuteTime": {
     "end_time": "2020-06-08T20:04:08.066704Z",
     "start_time": "2020-06-08T20:04:07.812094Z"
    }
   },
   "outputs": [],
   "source": [
    "# Dropping redundant columns from batting stats df\n",
    "team_stats.drop('plateAppearances', axis=1, inplace=True)"
   ]
  },
  {
   "cell_type": "code",
   "execution_count": 31,
   "metadata": {
    "ExecuteTime": {
     "end_time": "2020-06-08T20:04:08.468544Z",
     "start_time": "2020-06-08T20:04:08.073194Z"
    }
   },
   "outputs": [],
   "source": [
    "# Merging away team stats\n",
    "game_df = game_df.merge(team_stats, how='left', left_on=['prior_year', 'VisitingTeam'], right_on=['year', 'teamAbbrev'])"
   ]
  },
  {
   "cell_type": "code",
   "execution_count": 32,
   "metadata": {
    "ExecuteTime": {
     "end_time": "2020-06-08T20:04:09.110276Z",
     "start_time": "2020-06-08T20:04:08.509813Z"
    }
   },
   "outputs": [],
   "source": [
    "# Merging home team stats\n",
    "game_df = game_df.merge(team_stats, how='left', left_on=['prior_year', 'HomeTeam'], right_on=['year', 'teamAbbrev'])"
   ]
  },
  {
   "cell_type": "code",
   "execution_count": 33,
   "metadata": {
    "ExecuteTime": {
     "end_time": "2020-06-08T20:04:09.260879Z",
     "start_time": "2020-06-08T20:04:09.118574Z"
    }
   },
   "outputs": [],
   "source": [
    "# Creating an integer reference point in game_df\n",
    "game_df['current_year'] = game_df['New_Date'].dt.year"
   ]
  },
  {
   "cell_type": "code",
   "execution_count": 34,
   "metadata": {
    "ExecuteTime": {
     "end_time": "2020-06-08T20:04:09.506721Z",
     "start_time": "2020-06-08T20:04:09.264121Z"
    }
   },
   "outputs": [],
   "source": [
    "# Addressing NaN values in game_df by giving them a -1 score\n",
    "# NaN indicates that the player did not have stats from the prior year to measure againsta\n",
    "game_df.fillna(value = -1, inplace=True)"
   ]
  },
  {
   "cell_type": "code",
   "execution_count": 35,
   "metadata": {
    "ExecuteTime": {
     "end_time": "2020-06-08T20:04:10.093210Z",
     "start_time": "2020-06-08T20:04:09.512787Z"
    }
   },
   "outputs": [
    {
     "data": {
      "text/plain": [
       "False"
      ]
     },
     "execution_count": 35,
     "metadata": {},
     "output_type": "execute_result"
    }
   ],
   "source": [
    "# Checking game_df for ANY NaN values\n",
    "game_df.isnull().values.any()\n",
    "# Returns false, indicating that there are NO NaN values in the game_df"
   ]
  },
  {
   "cell_type": "code",
   "execution_count": 36,
   "metadata": {
    "ExecuteTime": {
     "end_time": "2020-06-08T20:04:10.317787Z",
     "start_time": "2020-06-08T20:04:10.171809Z"
    }
   },
   "outputs": [
    {
     "data": {
      "text/plain": [
       "Index(['New_Date', 'VisitingTeam', 'VisitorStartingPitcherName', 'HomeTeam',\n",
       "       'HomeStartingPitcherName', 'VisitorRunsScored', 'HomeRunsScore',\n",
       "       'VisitorAB', 'VisitorH', 'Visitor_BA', 'VisitorHBP', 'VisitorBB',\n",
       "       'VisitorIBB', 'VisitorLOB', 'HomeAB', 'HomeH', 'Home_BA', 'HomeHBP',\n",
       "       'HomeBB', 'HomeIBB', 'HomeLOB', 'Home_team_won?', 'prior_year',\n",
       "       'year_x', 'playerName_x', 'teamAbbrev_x', 'winningPercentage_x',\n",
       "       'runsScoredPer9_x', 'hitsPer9_x', 'strikeoutsPer9_x',\n",
       "       'baseOnBallsPer9_x', 'homeRunsPer9_x', 'era_x', 'whip_x', 'ops_x',\n",
       "       'gidp_x', 'avg_x', 'year_y', 'playerName_y', 'teamAbbrev_y',\n",
       "       'winningPercentage_y', 'runsScoredPer9_y', 'hitsPer9_y',\n",
       "       'strikeoutsPer9_y', 'baseOnBallsPer9_y', 'homeRunsPer9_y', 'era_y',\n",
       "       'whip_y', 'ops_y', 'gidp_y', 'avg_y', 'year_x', 'teamAbbrev_x',\n",
       "       'hits_x', 'atBats_x', 'team_BA_x', 'totalBases_x', 'total_bases_avg_x',\n",
       "       'leftOnBase_x', 'LOB_avg_x', 'runs_x', 'runs_avg_x', 'strikeOuts_x',\n",
       "       'atBats_x', 'K_avg_x', 'baseOnBalls_x', 'BB_avg_x', 'rbi_x',\n",
       "       'RBI_avg_x', 'year_y', 'teamAbbrev_y', 'hits_y', 'atBats_y',\n",
       "       'team_BA_y', 'totalBases_y', 'total_bases_avg_y', 'leftOnBase_y',\n",
       "       'LOB_avg_y', 'runs_y', 'runs_avg_y', 'strikeOuts_y', 'atBats_y',\n",
       "       'K_avg_y', 'baseOnBalls_y', 'BB_avg_y', 'rbi_y', 'RBI_avg_y',\n",
       "       'current_year'],\n",
       "      dtype='object')"
      ]
     },
     "execution_count": 36,
     "metadata": {},
     "output_type": "execute_result"
    }
   ],
   "source": [
    "game_df.columns"
   ]
  },
  {
   "cell_type": "code",
   "execution_count": 37,
   "metadata": {
    "ExecuteTime": {
     "end_time": "2020-06-08T20:04:10.781385Z",
     "start_time": "2020-06-08T20:04:10.327690Z"
    }
   },
   "outputs": [
    {
     "data": {
      "text/html": [
       "<div>\n",
       "<style scoped>\n",
       "    .dataframe tbody tr th:only-of-type {\n",
       "        vertical-align: middle;\n",
       "    }\n",
       "\n",
       "    .dataframe tbody tr th {\n",
       "        vertical-align: top;\n",
       "    }\n",
       "\n",
       "    .dataframe thead th {\n",
       "        text-align: right;\n",
       "    }\n",
       "</style>\n",
       "<table border=\"1\" class=\"dataframe\">\n",
       "  <thead>\n",
       "    <tr style=\"text-align: right;\">\n",
       "      <th></th>\n",
       "      <th>New_Date</th>\n",
       "      <th>VisitingTeam</th>\n",
       "      <th>VisitorStartingPitcherName</th>\n",
       "      <th>HomeTeam</th>\n",
       "      <th>HomeStartingPitcherName</th>\n",
       "      <th>VisitorRunsScored</th>\n",
       "      <th>HomeRunsScore</th>\n",
       "      <th>VisitorAB</th>\n",
       "      <th>VisitorH</th>\n",
       "      <th>Visitor_BA</th>\n",
       "      <th>...</th>\n",
       "      <th>runs_y</th>\n",
       "      <th>runs_avg_y</th>\n",
       "      <th>strikeOuts_y</th>\n",
       "      <th>atBats_y</th>\n",
       "      <th>K_avg_y</th>\n",
       "      <th>baseOnBalls_y</th>\n",
       "      <th>BB_avg_y</th>\n",
       "      <th>rbi_y</th>\n",
       "      <th>RBI_avg_y</th>\n",
       "      <th>current_year</th>\n",
       "    </tr>\n",
       "  </thead>\n",
       "  <tbody>\n",
       "    <tr>\n",
       "      <th>0</th>\n",
       "      <td>2010-04-04</td>\n",
       "      <td>NYY</td>\n",
       "      <td>CC Sabathia</td>\n",
       "      <td>BOS</td>\n",
       "      <td>Josh Beckett</td>\n",
       "      <td>7</td>\n",
       "      <td>9</td>\n",
       "      <td>37</td>\n",
       "      <td>12</td>\n",
       "      <td>0.324</td>\n",
       "      <td>...</td>\n",
       "      <td>1057.0</td>\n",
       "      <td>0.128</td>\n",
       "      <td>1435.0</td>\n",
       "      <td>7202.0</td>\n",
       "      <td>0.199</td>\n",
       "      <td>864.0</td>\n",
       "      <td>0.105</td>\n",
       "      <td>1036.0</td>\n",
       "      <td>0.126</td>\n",
       "      <td>2010</td>\n",
       "    </tr>\n",
       "    <tr>\n",
       "      <th>1</th>\n",
       "      <td>2010-04-05</td>\n",
       "      <td>MIN</td>\n",
       "      <td>Scott Baker</td>\n",
       "      <td>LAA</td>\n",
       "      <td>Jered Weaver</td>\n",
       "      <td>3</td>\n",
       "      <td>6</td>\n",
       "      <td>32</td>\n",
       "      <td>7</td>\n",
       "      <td>0.219</td>\n",
       "      <td>...</td>\n",
       "      <td>879.0</td>\n",
       "      <td>0.140</td>\n",
       "      <td>1047.0</td>\n",
       "      <td>5597.0</td>\n",
       "      <td>0.187</td>\n",
       "      <td>544.0</td>\n",
       "      <td>0.087</td>\n",
       "      <td>837.0</td>\n",
       "      <td>0.133</td>\n",
       "      <td>2010</td>\n",
       "    </tr>\n",
       "    <tr>\n",
       "      <th>2</th>\n",
       "      <td>2010-04-05</td>\n",
       "      <td>CLE</td>\n",
       "      <td>Jake Westbrook</td>\n",
       "      <td>CWS</td>\n",
       "      <td>Mark Buehrle</td>\n",
       "      <td>0</td>\n",
       "      <td>6</td>\n",
       "      <td>30</td>\n",
       "      <td>4</td>\n",
       "      <td>0.133</td>\n",
       "      <td>...</td>\n",
       "      <td>707.0</td>\n",
       "      <td>0.115</td>\n",
       "      <td>959.0</td>\n",
       "      <td>5518.0</td>\n",
       "      <td>0.174</td>\n",
       "      <td>491.0</td>\n",
       "      <td>0.080</td>\n",
       "      <td>686.0</td>\n",
       "      <td>0.111</td>\n",
       "      <td>2010</td>\n",
       "    </tr>\n",
       "    <tr>\n",
       "      <th>3</th>\n",
       "      <td>2010-04-05</td>\n",
       "      <td>DET</td>\n",
       "      <td>Justin Verlander</td>\n",
       "      <td>KC</td>\n",
       "      <td>Zack Greinke</td>\n",
       "      <td>8</td>\n",
       "      <td>4</td>\n",
       "      <td>39</td>\n",
       "      <td>12</td>\n",
       "      <td>0.308</td>\n",
       "      <td>...</td>\n",
       "      <td>715.0</td>\n",
       "      <td>0.110</td>\n",
       "      <td>1119.0</td>\n",
       "      <td>5876.0</td>\n",
       "      <td>0.190</td>\n",
       "      <td>471.0</td>\n",
       "      <td>0.073</td>\n",
       "      <td>692.0</td>\n",
       "      <td>0.107</td>\n",
       "      <td>2010</td>\n",
       "    </tr>\n",
       "    <tr>\n",
       "      <th>4</th>\n",
       "      <td>2010-04-05</td>\n",
       "      <td>SEA</td>\n",
       "      <td>Felix Hernandez</td>\n",
       "      <td>OAK</td>\n",
       "      <td>Ben Sheets</td>\n",
       "      <td>5</td>\n",
       "      <td>3</td>\n",
       "      <td>31</td>\n",
       "      <td>6</td>\n",
       "      <td>0.194</td>\n",
       "      <td>...</td>\n",
       "      <td>641.0</td>\n",
       "      <td>0.124</td>\n",
       "      <td>887.0</td>\n",
       "      <td>4635.0</td>\n",
       "      <td>0.191</td>\n",
       "      <td>410.0</td>\n",
       "      <td>0.080</td>\n",
       "      <td>609.0</td>\n",
       "      <td>0.118</td>\n",
       "      <td>2010</td>\n",
       "    </tr>\n",
       "    <tr>\n",
       "      <th>...</th>\n",
       "      <td>...</td>\n",
       "      <td>...</td>\n",
       "      <td>...</td>\n",
       "      <td>...</td>\n",
       "      <td>...</td>\n",
       "      <td>...</td>\n",
       "      <td>...</td>\n",
       "      <td>...</td>\n",
       "      <td>...</td>\n",
       "      <td>...</td>\n",
       "      <td>...</td>\n",
       "      <td>...</td>\n",
       "      <td>...</td>\n",
       "      <td>...</td>\n",
       "      <td>...</td>\n",
       "      <td>...</td>\n",
       "      <td>...</td>\n",
       "      <td>...</td>\n",
       "      <td>...</td>\n",
       "      <td>...</td>\n",
       "      <td>...</td>\n",
       "    </tr>\n",
       "    <tr>\n",
       "      <th>24295</th>\n",
       "      <td>2019-09-29</td>\n",
       "      <td>DET</td>\n",
       "      <td>Spencer Turnbull</td>\n",
       "      <td>CWS</td>\n",
       "      <td>Ross Detwiler</td>\n",
       "      <td>3</td>\n",
       "      <td>5</td>\n",
       "      <td>31</td>\n",
       "      <td>7</td>\n",
       "      <td>0.226</td>\n",
       "      <td>...</td>\n",
       "      <td>641.0</td>\n",
       "      <td>0.107</td>\n",
       "      <td>1608.0</td>\n",
       "      <td>5448.0</td>\n",
       "      <td>0.295</td>\n",
       "      <td>423.0</td>\n",
       "      <td>0.071</td>\n",
       "      <td>626.0</td>\n",
       "      <td>0.105</td>\n",
       "      <td>2019</td>\n",
       "    </tr>\n",
       "    <tr>\n",
       "      <th>24296</th>\n",
       "      <td>2019-09-29</td>\n",
       "      <td>MIN</td>\n",
       "      <td>Martin Perez</td>\n",
       "      <td>KC</td>\n",
       "      <td>Jorge Lopez</td>\n",
       "      <td>4</td>\n",
       "      <td>5</td>\n",
       "      <td>32</td>\n",
       "      <td>6</td>\n",
       "      <td>0.188</td>\n",
       "      <td>...</td>\n",
       "      <td>522.0</td>\n",
       "      <td>0.107</td>\n",
       "      <td>1092.0</td>\n",
       "      <td>4425.0</td>\n",
       "      <td>0.247</td>\n",
       "      <td>349.0</td>\n",
       "      <td>0.072</td>\n",
       "      <td>472.0</td>\n",
       "      <td>0.097</td>\n",
       "      <td>2019</td>\n",
       "    </tr>\n",
       "    <tr>\n",
       "      <th>24297</th>\n",
       "      <td>2019-09-29</td>\n",
       "      <td>OAK</td>\n",
       "      <td>Tanner Roark</td>\n",
       "      <td>SEA</td>\n",
       "      <td>Justin Dunn</td>\n",
       "      <td>1</td>\n",
       "      <td>3</td>\n",
       "      <td>30</td>\n",
       "      <td>3</td>\n",
       "      <td>0.100</td>\n",
       "      <td>...</td>\n",
       "      <td>722.0</td>\n",
       "      <td>0.111</td>\n",
       "      <td>1294.0</td>\n",
       "      <td>5891.0</td>\n",
       "      <td>0.220</td>\n",
       "      <td>487.0</td>\n",
       "      <td>0.075</td>\n",
       "      <td>692.0</td>\n",
       "      <td>0.106</td>\n",
       "      <td>2019</td>\n",
       "    </tr>\n",
       "    <tr>\n",
       "      <th>24298</th>\n",
       "      <td>2019-09-29</td>\n",
       "      <td>NYY</td>\n",
       "      <td>Chad Green</td>\n",
       "      <td>TEX</td>\n",
       "      <td>Lance Lynn</td>\n",
       "      <td>1</td>\n",
       "      <td>6</td>\n",
       "      <td>30</td>\n",
       "      <td>3</td>\n",
       "      <td>0.100</td>\n",
       "      <td>...</td>\n",
       "      <td>736.0</td>\n",
       "      <td>0.119</td>\n",
       "      <td>1491.0</td>\n",
       "      <td>5469.0</td>\n",
       "      <td>0.273</td>\n",
       "      <td>560.0</td>\n",
       "      <td>0.091</td>\n",
       "      <td>694.0</td>\n",
       "      <td>0.112</td>\n",
       "      <td>2019</td>\n",
       "    </tr>\n",
       "    <tr>\n",
       "      <th>24299</th>\n",
       "      <td>2019-09-29</td>\n",
       "      <td>TB</td>\n",
       "      <td>Blake Snell</td>\n",
       "      <td>TOR</td>\n",
       "      <td>Clay Buchholz</td>\n",
       "      <td>3</td>\n",
       "      <td>8</td>\n",
       "      <td>36</td>\n",
       "      <td>9</td>\n",
       "      <td>0.250</td>\n",
       "      <td>...</td>\n",
       "      <td>616.0</td>\n",
       "      <td>0.112</td>\n",
       "      <td>1231.0</td>\n",
       "      <td>4963.0</td>\n",
       "      <td>0.248</td>\n",
       "      <td>431.0</td>\n",
       "      <td>0.079</td>\n",
       "      <td>617.0</td>\n",
       "      <td>0.112</td>\n",
       "      <td>2019</td>\n",
       "    </tr>\n",
       "  </tbody>\n",
       "</table>\n",
       "<p>24300 rows × 88 columns</p>\n",
       "</div>"
      ],
      "text/plain": [
       "        New_Date VisitingTeam VisitorStartingPitcherName HomeTeam  \\\n",
       "0     2010-04-04          NYY                CC Sabathia      BOS   \n",
       "1     2010-04-05          MIN                Scott Baker      LAA   \n",
       "2     2010-04-05          CLE             Jake Westbrook      CWS   \n",
       "3     2010-04-05          DET           Justin Verlander       KC   \n",
       "4     2010-04-05          SEA            Felix Hernandez      OAK   \n",
       "...          ...          ...                        ...      ...   \n",
       "24295 2019-09-29          DET           Spencer Turnbull      CWS   \n",
       "24296 2019-09-29          MIN               Martin Perez       KC   \n",
       "24297 2019-09-29          OAK               Tanner Roark      SEA   \n",
       "24298 2019-09-29          NYY                 Chad Green      TEX   \n",
       "24299 2019-09-29           TB                Blake Snell      TOR   \n",
       "\n",
       "      HomeStartingPitcherName  VisitorRunsScored  HomeRunsScore  VisitorAB  \\\n",
       "0                Josh Beckett                  7              9         37   \n",
       "1                Jered Weaver                  3              6         32   \n",
       "2                Mark Buehrle                  0              6         30   \n",
       "3                Zack Greinke                  8              4         39   \n",
       "4                  Ben Sheets                  5              3         31   \n",
       "...                       ...                ...            ...        ...   \n",
       "24295           Ross Detwiler                  3              5         31   \n",
       "24296             Jorge Lopez                  4              5         32   \n",
       "24297             Justin Dunn                  1              3         30   \n",
       "24298              Lance Lynn                  1              6         30   \n",
       "24299           Clay Buchholz                  3              8         36   \n",
       "\n",
       "       VisitorH  Visitor_BA  ...  runs_y  runs_avg_y  strikeOuts_y  atBats_y  \\\n",
       "0            12       0.324  ...  1057.0       0.128        1435.0    7202.0   \n",
       "1             7       0.219  ...   879.0       0.140        1047.0    5597.0   \n",
       "2             4       0.133  ...   707.0       0.115         959.0    5518.0   \n",
       "3            12       0.308  ...   715.0       0.110        1119.0    5876.0   \n",
       "4             6       0.194  ...   641.0       0.124         887.0    4635.0   \n",
       "...         ...         ...  ...     ...         ...           ...       ...   \n",
       "24295         7       0.226  ...   641.0       0.107        1608.0    5448.0   \n",
       "24296         6       0.188  ...   522.0       0.107        1092.0    4425.0   \n",
       "24297         3       0.100  ...   722.0       0.111        1294.0    5891.0   \n",
       "24298         3       0.100  ...   736.0       0.119        1491.0    5469.0   \n",
       "24299         9       0.250  ...   616.0       0.112        1231.0    4963.0   \n",
       "\n",
       "       K_avg_y  baseOnBalls_y  BB_avg_y   rbi_y  RBI_avg_y  current_year  \n",
       "0        0.199          864.0     0.105  1036.0      0.126          2010  \n",
       "1        0.187          544.0     0.087   837.0      0.133          2010  \n",
       "2        0.174          491.0     0.080   686.0      0.111          2010  \n",
       "3        0.190          471.0     0.073   692.0      0.107          2010  \n",
       "4        0.191          410.0     0.080   609.0      0.118          2010  \n",
       "...        ...            ...       ...     ...        ...           ...  \n",
       "24295    0.295          423.0     0.071   626.0      0.105          2019  \n",
       "24296    0.247          349.0     0.072   472.0      0.097          2019  \n",
       "24297    0.220          487.0     0.075   692.0      0.106          2019  \n",
       "24298    0.273          560.0     0.091   694.0      0.112          2019  \n",
       "24299    0.248          431.0     0.079   617.0      0.112          2019  \n",
       "\n",
       "[24300 rows x 88 columns]"
      ]
     },
     "execution_count": 37,
     "metadata": {},
     "output_type": "execute_result"
    }
   ],
   "source": [
    "game_df"
   ]
  },
  {
   "cell_type": "code",
   "execution_count": 38,
   "metadata": {
    "ExecuteTime": {
     "end_time": "2020-06-08T20:04:10.944927Z",
     "start_time": "2020-06-08T20:04:10.847681Z"
    }
   },
   "outputs": [
    {
     "data": {
      "text/plain": [
       "0        14.0\n",
       "1         5.0\n",
       "2        28.0\n",
       "3        17.0\n",
       "4        -1.0\n",
       "         ... \n",
       "24295     5.0\n",
       "24296     3.0\n",
       "24297    -1.0\n",
       "24298    13.0\n",
       "24299     9.0\n",
       "Name: gidp_y, Length: 24300, dtype: float64"
      ]
     },
     "execution_count": 38,
     "metadata": {},
     "output_type": "execute_result"
    }
   ],
   "source": [
    "game_df.gidp_y"
   ]
  },
  {
   "cell_type": "markdown",
   "metadata": {},
   "source": [
    "## Train and fit a model to see how these feature perform so far..."
   ]
  },
  {
   "cell_type": "markdown",
   "metadata": {},
   "source": [
    "#### First model being trained will be on the teams/starting pitcher prior year statistics"
   ]
  },
  {
   "cell_type": "code",
   "execution_count": 39,
   "metadata": {
    "ExecuteTime": {
     "end_time": "2020-06-08T20:04:11.005469Z",
     "start_time": "2020-06-08T20:04:10.979211Z"
    },
    "code_folding": [
     0
    ]
   },
   "outputs": [],
   "source": [
    "# Creating an initial drop_lst variable to use for dropping metrics that are answers...\n",
    "drop_lst = ['New_Date',\n",
    "'VisitingTeam',\n",
    "'VisitorStartingPitcherName',\n",
    "'HomeTeam',\n",
    "'HomeStartingPitcherName',\n",
    "'VisitorRunsScored', \n",
    "'HomeRunsScore', \n",
    "'Home_team_won?', \n",
    "'VisitorAB',\n",
    "'VisitorH',\n",
    "'Visitor_BA',\n",
    "'VisitorHBP',\n",
    "'VisitorBB',\n",
    "'VisitorIBB',\n",
    "'VisitorLOB',\n",
    "'HomeAB',\n",
    "'HomeH',\n",
    "'Home_BA',\n",
    "'HomeHBP',\n",
    "'HomeBB',\n",
    "'HomeIBB',\n",
    "'HomeLOB',\n",
    "'playerName_x',\n",
    "'teamAbbrev_x',\n",
    "'playerName_y',\n",
    "'teamAbbrev_y',\n",
    "'teamAbbrev_x',\n",
    "'teamAbbrev_y',\n",
    "'year_x',\n",
    "'year_y',\n",
    "'prior_year']"
   ]
  },
  {
   "cell_type": "code",
   "execution_count": 40,
   "metadata": {
    "ExecuteTime": {
     "end_time": "2020-06-08T20:04:11.062660Z",
     "start_time": "2020-06-08T20:04:11.015016Z"
    }
   },
   "outputs": [],
   "source": [
    "y = game_df['Home_team_won?']\n",
    "X = game_df.drop(drop_lst, axis=1)"
   ]
  },
  {
   "cell_type": "code",
   "execution_count": 41,
   "metadata": {
    "ExecuteTime": {
     "end_time": "2020-06-08T20:04:11.104104Z",
     "start_time": "2020-06-08T20:04:11.069786Z"
    },
    "code_folding": [
     0
    ]
   },
   "outputs": [],
   "source": [
    "def my_train_test_split(X, y, start_year, end_year):\n",
    "    '''\n",
    "    creating a custom train_test_split in order to split data by seasons\n",
    "    i.e.\n",
    "    - train on 2010-2016 seasons\n",
    "    - test on 2018-2019 seasons\n",
    "    \n",
    "    Parameters:\n",
    "    X: features\n",
    "    y: target value\n",
    "    \n",
    "    returns:\n",
    "    X_train, X_test, y_train, y_test\n",
    "    '''\n",
    "    # There are objects in the DF that need to be numeric values\n",
    "    # obj_lst = ['winningPercentage_x','runsScoredPer9_x','hitsPer9_x','strikeoutsPer9_x','baseOnBallsPer9_x','homeRunsPer9_x','era_x','whip_x','winningPercentage_y','runsScoredPer9_y','hitsPer9_y','strikeoutsPer9_y','baseOnBallsPer9_y','homeRunsPer9_y','era_y','whip_y']\n",
    "\n",
    "    # Getting X values to_numeric\n",
    "    X = X.apply(pd.to_numeric, errors='coerce')\n",
    "    X.fillna(value = -1, inplace=True)\n",
    "    \n",
    "                    # THIS WAS THE LINE ADDED THAT MESSED STUFF UP!!!!!!!!\n",
    "    #Adding a drop y step to the function to make the tweaked version later work better\n",
    "#     y = y.loc[y['current_year'] <= end_year+1]\n",
    "#     y = y['Home_team_won?']\n",
    "    \n",
    "    \n",
    "    # Setting up how to break up seasons by years\n",
    "    years = np.arange(start_year, end_year+1)\n",
    "    mask = game_df['current_year'].isin(years)\n",
    "    \n",
    "    # Splitting between the training & testing sets\n",
    "    X_train = X[mask]\n",
    "    X_test = X[~mask]\n",
    "    y_train = y[mask]\n",
    "    y_test = y[~mask]\n",
    "\n",
    "    return X_train, X_test, y_train, y_test"
   ]
  },
  {
   "cell_type": "code",
   "execution_count": 42,
   "metadata": {
    "ExecuteTime": {
     "end_time": "2020-06-08T20:04:12.393267Z",
     "start_time": "2020-06-08T20:04:11.111511Z"
    }
   },
   "outputs": [],
   "source": [
    "X_train, X_test, y_train, y_test = my_train_test_split(X, y, 2010, 2017)"
   ]
  },
  {
   "cell_type": "code",
   "execution_count": 43,
   "metadata": {
    "ExecuteTime": {
     "end_time": "2020-06-08T20:04:12.618909Z",
     "start_time": "2020-06-08T20:04:12.401439Z"
    }
   },
   "outputs": [
    {
     "data": {
      "text/plain": [
       "Index(['winningPercentage_x', 'runsScoredPer9_x', 'hitsPer9_x',\n",
       "       'strikeoutsPer9_x', 'baseOnBallsPer9_x', 'homeRunsPer9_x', 'era_x',\n",
       "       'whip_x', 'ops_x', 'gidp_x', 'avg_x', 'winningPercentage_y',\n",
       "       'runsScoredPer9_y', 'hitsPer9_y', 'strikeoutsPer9_y',\n",
       "       'baseOnBallsPer9_y', 'homeRunsPer9_y', 'era_y', 'whip_y', 'ops_y',\n",
       "       'gidp_y', 'avg_y', 'hits_x', 'atBats_x', 'team_BA_x', 'totalBases_x',\n",
       "       'total_bases_avg_x', 'leftOnBase_x', 'LOB_avg_x', 'runs_x',\n",
       "       'runs_avg_x', 'strikeOuts_x', 'atBats_x', 'K_avg_x', 'baseOnBalls_x',\n",
       "       'BB_avg_x', 'rbi_x', 'RBI_avg_x', 'hits_y', 'atBats_y', 'team_BA_y',\n",
       "       'totalBases_y', 'total_bases_avg_y', 'leftOnBase_y', 'LOB_avg_y',\n",
       "       'runs_y', 'runs_avg_y', 'strikeOuts_y', 'atBats_y', 'K_avg_y',\n",
       "       'baseOnBalls_y', 'BB_avg_y', 'rbi_y', 'RBI_avg_y', 'current_year'],\n",
       "      dtype='object')"
      ]
     },
     "execution_count": 43,
     "metadata": {},
     "output_type": "execute_result"
    }
   ],
   "source": [
    "X_train.columns"
   ]
  },
  {
   "cell_type": "code",
   "execution_count": 44,
   "metadata": {
    "ExecuteTime": {
     "end_time": "2020-06-08T20:04:33.752861Z",
     "start_time": "2020-06-08T20:04:12.643992Z"
    }
   },
   "outputs": [],
   "source": [
    "rf = RandomForestClassifier()\n",
    "rf.fit(X_train, y_train)\n",
    "y_pred = rf.predict(X_test)"
   ]
  },
  {
   "cell_type": "code",
   "execution_count": 45,
   "metadata": {
    "ExecuteTime": {
     "end_time": "2020-06-08T20:04:33.955672Z",
     "start_time": "2020-06-08T20:04:33.756789Z"
    }
   },
   "outputs": [
    {
     "data": {
      "text/html": [
       "<div>\n",
       "<style scoped>\n",
       "    .dataframe tbody tr th:only-of-type {\n",
       "        vertical-align: middle;\n",
       "    }\n",
       "\n",
       "    .dataframe tbody tr th {\n",
       "        vertical-align: top;\n",
       "    }\n",
       "\n",
       "    .dataframe thead th {\n",
       "        text-align: right;\n",
       "    }\n",
       "</style>\n",
       "<table border=\"1\" class=\"dataframe\">\n",
       "  <thead>\n",
       "    <tr style=\"text-align: right;\">\n",
       "      <th>Predicted Result</th>\n",
       "      <th>False</th>\n",
       "      <th>True</th>\n",
       "    </tr>\n",
       "    <tr>\n",
       "      <th>Actual Result</th>\n",
       "      <th></th>\n",
       "      <th></th>\n",
       "    </tr>\n",
       "  </thead>\n",
       "  <tbody>\n",
       "    <tr>\n",
       "      <th>False</th>\n",
       "      <td>907</td>\n",
       "      <td>1384</td>\n",
       "    </tr>\n",
       "    <tr>\n",
       "      <th>True</th>\n",
       "      <td>799</td>\n",
       "      <td>1770</td>\n",
       "    </tr>\n",
       "  </tbody>\n",
       "</table>\n",
       "</div>"
      ],
      "text/plain": [
       "Predicted Result  False  True \n",
       "Actual Result                 \n",
       "False               907   1384\n",
       "True                799   1770"
      ]
     },
     "execution_count": 45,
     "metadata": {},
     "output_type": "execute_result"
    }
   ],
   "source": [
    "# True indicates that the Home TEAM WON, \n",
    "pd.crosstab(y_test, y_pred, rownames=['Actual Result'], colnames=['Predicted Result'])"
   ]
  },
  {
   "cell_type": "code",
   "execution_count": 46,
   "metadata": {
    "ExecuteTime": {
     "end_time": "2020-06-08T20:04:34.104778Z",
     "start_time": "2020-06-08T20:04:33.987018Z"
    }
   },
   "outputs": [
    {
     "name": "stdout",
     "output_type": "stream",
     "text": [
      "Accuracy of historic stats: 55.08%\n"
     ]
    }
   ],
   "source": [
    "print(f\"Accuracy of historic stats: {round(metrics.accuracy_score(y_test, y_pred)*100, 2)}%\")"
   ]
  },
  {
   "cell_type": "code",
   "execution_count": 47,
   "metadata": {
    "ExecuteTime": {
     "end_time": "2020-06-08T20:06:07.328842Z",
     "start_time": "2020-06-08T20:04:34.131613Z"
    }
   },
   "outputs": [
    {
     "name": "stdout",
     "output_type": "stream",
     "text": [
      "Cross-validation score is: 53.54%\n"
     ]
    }
   ],
   "source": [
    "print(f\"Cross-validation score is: {round(np.mean(cross_val_score(rf, X_train, y_train, cv=5))*100, 2)}%\")"
   ]
  },
  {
   "cell_type": "code",
   "execution_count": 48,
   "metadata": {
    "ExecuteTime": {
     "end_time": "2020-06-08T20:06:07.367394Z",
     "start_time": "2020-06-08T20:06:07.343142Z"
    },
    "code_folding": [
     0
    ]
   },
   "outputs": [],
   "source": [
    "def plot_features_importance(model, color):\n",
    "    '''\n",
    "    A funciton to plot my feature importances\n",
    "    \n",
    "    parameter:\n",
    "    model - the variable that we fit our model to. i.e. RF = RandomForest()\n",
    "    color - a string that will assign the graphs color scheme\n",
    "    \n",
    "    ex: rf = RandomForestClassifier()\n",
    "    model = rf\n",
    "    \n",
    "    returns:\n",
    "    a plot highlighting feature importance\n",
    "    '''\n",
    "    model.feature_importances_\n",
    "    importances = pd.Series(data=model.feature_importances_, index= X_train.columns)\n",
    "    importances_sorted = importances.sort_values()\n",
    "    importances_sorted.plot(kind='barh', color=color, figsize=(15,10))"
   ]
  },
  {
   "cell_type": "code",
   "execution_count": 49,
   "metadata": {
    "ExecuteTime": {
     "end_time": "2020-06-08T20:06:10.440171Z",
     "start_time": "2020-06-08T20:06:07.406032Z"
    }
   },
   "outputs": [
    {
     "data": {
      "image/png": "[encoded data removed]",
      "text/plain": [
       "<Figure size 1080x720 with 1 Axes>"
      ]
     },
     "metadata": {
      "needs_background": "light"
     },
     "output_type": "display_data"
    }
   ],
   "source": [
    "# Generating feature importance from prior year team offensive stats as well as starting pitchers stats\n",
    "plot_features_importance(rf, \"red\")"
   ]
  },
  {
   "cell_type": "markdown",
   "metadata": {},
   "source": [
    "## Adding a rolling 3-day & 7-day average for teams:\n",
    "- Batting averages ( sum(Hits) / sum(AtBats) )\n",
    "    - DONE!!! \n",
    "- LOB averages ( sum(LOB) / sum(AtBats + BB + IBB + HBP) ) # denom is sum of plate appearances\n",
    "    - Holding off for now...\n",
    "- Run averages ( sum(runs) / 7-games )\n",
    "    - DONE!!!\n",
    "- OBP averages ( sum(Hits + BB + IBB + HBP) / sum(AtBats + BB + IBB + HBP) ) # denom is sum of plate appearances\n",
    "    - DONE!!!"
   ]
  },
  {
   "cell_type": "markdown",
   "metadata": {},
   "source": [
    "## Create Home & Away OBP stats"
   ]
  },
  {
   "cell_type": "code",
   "execution_count": 50,
   "metadata": {
    "ExecuteTime": {
     "end_time": "2020-06-08T20:06:10.797512Z",
     "start_time": "2020-06-08T20:06:10.446892Z"
    }
   },
   "outputs": [],
   "source": [
    "game_df['Visitor_OBP'] = round((game_df['VisitorH'] + game_df['VisitorHBP'] + game_df['VisitorIBB'] + game_df['VisitorBB']) / (game_df['VisitorAB'] + game_df['VisitorHBP'] + game_df['VisitorIBB'] + game_df['VisitorBB']), 3)\n",
    "game_df['Home_OBP'] = round((game_df['HomeH'] + game_df['HomeHBP'] + game_df['HomeIBB'] + game_df['HomeBB']) / (game_df['HomeAB'] + game_df['HomeHBP'] + game_df['HomeIBB'] + game_df['HomeBB']), 3)"
   ]
  },
  {
   "cell_type": "markdown",
   "metadata": {},
   "source": [
    "## Create Home & Away 3d & 7d OBP trends"
   ]
  },
  {
   "cell_type": "code",
   "execution_count": 51,
   "metadata": {
    "ExecuteTime": {
     "end_time": "2020-06-08T20:06:15.935254Z",
     "start_time": "2020-06-08T20:06:10.804433Z"
    }
   },
   "outputs": [],
   "source": [
    "game_df['3d_homeOBP_avg'] = game_df.groupby(['current_year', 'HomeTeam'])['Home_OBP'].transform(lambda x: round(x.rolling(3).mean().shift(periods=1, axis=0), 3))\n",
    "game_df['7d_homeOBP_avg'] = game_df.groupby(['current_year', 'HomeTeam'])['Home_OBP'].transform(lambda x: round(x.rolling(7).mean().shift(periods=1, axis=0), 3))\n",
    "game_df['3d_visitorOBP_avg'] = game_df.groupby(['current_year', 'VisitingTeam'])['Visitor_OBP'].transform(lambda x: round(x.rolling(3).mean().shift(periods=1, axis=0), 3))\n",
    "game_df['7d_visitorOBP_avg'] = game_df.groupby(['current_year', 'VisitingTeam'])['Visitor_OBP'].transform(lambda x: round(x.rolling(7).mean().shift(periods=1, axis=0), 3))"
   ]
  },
  {
   "cell_type": "markdown",
   "metadata": {},
   "source": [
    "## Create Home & Away 3d & 7d scoring trends"
   ]
  },
  {
   "cell_type": "code",
   "execution_count": 52,
   "metadata": {
    "ExecuteTime": {
     "end_time": "2020-06-08T20:06:21.900530Z",
     "start_time": "2020-06-08T20:06:15.939774Z"
    },
    "scrolled": true
   },
   "outputs": [],
   "source": [
    "game_df['3d_homescore_avg'] = game_df.groupby(['current_year', 'HomeTeam'])['HomeRunsScore'].transform(lambda x: round(x.rolling(3).mean().shift(periods=1, axis=0), 3))\n",
    "game_df['7d_homescore_avg'] = game_df.groupby(['current_year', 'HomeTeam'])['HomeRunsScore'].transform(lambda x: round(x.rolling(7).mean().shift(periods=1, axis=0), 3))\n",
    "game_df['3d_visitorscore_avg'] = game_df.groupby(['current_year', 'VisitingTeam'])['VisitorRunsScored'].transform(lambda x: round(x.rolling(3).mean().shift(periods=1, axis=0), 3))\n",
    "game_df['7d_visitorscore_avg'] = game_df.groupby(['current_year', 'VisitingTeam'])['VisitorRunsScored'].transform(lambda x: round(x.rolling(7).mean().shift(periods=1, axis=0), 3))"
   ]
  },
  {
   "cell_type": "markdown",
   "metadata": {},
   "source": [
    "## Create Home & Away 3d & 7d Batting Average trends"
   ]
  },
  {
   "cell_type": "code",
   "execution_count": 53,
   "metadata": {
    "ExecuteTime": {
     "end_time": "2020-06-08T20:06:26.809909Z",
     "start_time": "2020-06-08T20:06:21.905332Z"
    }
   },
   "outputs": [],
   "source": [
    "game_df['3d_homeBA'] = game_df.groupby(['current_year', 'HomeTeam'])['Home_BA'].transform(lambda x: round(x.rolling(3).mean().shift(periods=1, axis=0), 3))\n",
    "game_df['7d_homeBA'] = game_df.groupby(['current_year', 'HomeTeam'])['Home_BA'].transform(lambda x: round(x.rolling(7).mean().shift(periods=1, axis=0), 3))\n",
    "game_df['3d_visitorBA'] = game_df.groupby(['current_year', 'VisitingTeam'])['Visitor_BA'].transform(lambda x: round(x.rolling(3).mean().shift(periods=1, axis=0), 3))\n",
    "game_df['7d_visitorBA'] = game_df.groupby(['current_year', 'VisitingTeam'])['Visitor_BA'].transform(lambda x: round(x.rolling(7).mean().shift(periods=1, axis=0), 3))"
   ]
  },
  {
   "cell_type": "markdown",
   "metadata": {},
   "source": [
    "#### Seems like everything worked... now to train and test different models with the additional engineered features"
   ]
  },
  {
   "cell_type": "code",
   "execution_count": 54,
   "metadata": {
    "ExecuteTime": {
     "end_time": "2020-06-08T20:06:26.849520Z",
     "start_time": "2020-06-08T20:06:26.812208Z"
    },
    "code_folding": [
     0
    ]
   },
   "outputs": [],
   "source": [
    "# Created a 2nd drop_lst2 to take out additional columns that were created for previous modeling\n",
    "drop_lst = ['New_Date',\n",
    "'VisitingTeam',\n",
    "'VisitorStartingPitcherName',\n",
    "'HomeTeam',\n",
    "'HomeStartingPitcherName',\n",
    "'VisitorRunsScored', \n",
    "'HomeRunsScore', \n",
    "'Home_team_won?', \n",
    "'VisitorAB',\n",
    "'VisitorH',\n",
    "'Visitor_BA',\n",
    "'VisitorHBP',\n",
    "'VisitorBB',\n",
    "'VisitorIBB',\n",
    "'VisitorLOB',\n",
    "'HomeAB',\n",
    "'HomeH',\n",
    "'Home_BA',\n",
    "'HomeHBP',\n",
    "'HomeBB',\n",
    "'HomeIBB',\n",
    "'HomeLOB',\n",
    "'playerName_x',\n",
    "'teamAbbrev_x',\n",
    "'playerName_y',\n",
    "'teamAbbrev_y',\n",
    "'teamAbbrev_x',\n",
    "'teamAbbrev_y',\n",
    "'year_x',\n",
    "'year_y',\n",
    "'prior_year',\n",
    "'Visitor_OBP',\n",
    "'Home_OBP',\n",
    "'winningPercentage_x', 'runsScoredPer9_x', 'hitsPer9_x',\n",
    "'strikeoutsPer9_x', 'baseOnBallsPer9_x', 'homeRunsPer9_x', 'era_x',\n",
    "'whip_x', 'ops_x', 'gidp_x', 'avg_x', 'winningPercentage_y',\n",
    "'runsScoredPer9_y', 'hitsPer9_y', 'strikeoutsPer9_y',\n",
    "'baseOnBallsPer9_y', 'homeRunsPer9_y', 'era_y', 'whip_y', 'ops_y',\n",
    "'gidp_y', 'avg_y', 'hits_x', 'team_BA_x', 'totalBases_x',\n",
    "'total_bases_avg_x', 'leftOnBase_x', 'LOB_avg_x', 'runs_x',\n",
    "'runs_avg_x', 'strikeOuts_x', 'atBats_x', 'K_avg_x', 'baseOnBalls_x',\n",
    "'BB_avg_x', 'rbi_x', 'RBI_avg_x', 'hits_y', 'team_BA_y', 'totalBases_y',\n",
    "'total_bases_avg_y', 'leftOnBase_y', 'LOB_avg_y', 'runs_y',\n",
    "'runs_avg_y', 'strikeOuts_y', 'atBats_y', 'K_avg_y', 'baseOnBalls_y',\n",
    "'BB_avg_y', 'rbi_y', 'RBI_avg_y', ]"
   ]
  },
  {
   "cell_type": "code",
   "execution_count": 55,
   "metadata": {
    "ExecuteTime": {
     "end_time": "2020-06-08T20:06:26.926103Z",
     "start_time": "2020-06-08T20:06:26.852451Z"
    }
   },
   "outputs": [],
   "source": [
    "three_day_trends = ['3d_homeOBP_avg', '3d_visitorOBP_avg', '3d_homescore_avg', '3d_visitorscore_avg', '3d_homeBA', '3d_visitorBA']"
   ]
  },
  {
   "cell_type": "code",
   "execution_count": 56,
   "metadata": {
    "ExecuteTime": {
     "end_time": "2020-06-08T20:06:27.078004Z",
     "start_time": "2020-06-08T20:06:26.986755Z"
    }
   },
   "outputs": [],
   "source": [
    "seven_day_trends = ['7d_homeOBP_avg','7d_visitorOBP_avg','7d_homescore_avg','7d_visitorscore_avg','7d_homeBA','7d_visitorBA']"
   ]
  },
  {
   "cell_type": "markdown",
   "metadata": {},
   "source": [
    "## Test on 3d trends first"
   ]
  },
  {
   "cell_type": "code",
   "execution_count": 57,
   "metadata": {
    "ExecuteTime": {
     "end_time": "2020-06-08T20:06:27.401335Z",
     "start_time": "2020-06-08T20:06:27.118952Z"
    }
   },
   "outputs": [],
   "source": [
    "y = game_df['Home_team_won?']\n",
    "X = game_df.drop(drop_lst, axis=1)\n",
    "X = X.drop(seven_day_trends, axis=1)"
   ]
  },
  {
   "cell_type": "code",
   "execution_count": 58,
   "metadata": {
    "ExecuteTime": {
     "end_time": "2020-06-08T20:06:27.638171Z",
     "start_time": "2020-06-08T20:06:27.405362Z"
    }
   },
   "outputs": [],
   "source": [
    "X_train, X_test, y_train, y_test = my_train_test_split(X, y, 2010, 2017)"
   ]
  },
  {
   "cell_type": "code",
   "execution_count": 59,
   "metadata": {
    "ExecuteTime": {
     "end_time": "2020-06-08T20:06:27.903370Z",
     "start_time": "2020-06-08T20:06:27.645579Z"
    }
   },
   "outputs": [
    {
     "data": {
      "text/plain": [
       "Index(['current_year', '3d_homeOBP_avg', '3d_visitorOBP_avg',\n",
       "       '3d_homescore_avg', '3d_visitorscore_avg', '3d_homeBA', '3d_visitorBA'],\n",
       "      dtype='object')"
      ]
     },
     "execution_count": 59,
     "metadata": {},
     "output_type": "execute_result"
    }
   ],
   "source": [
    "X_train.columns"
   ]
  },
  {
   "cell_type": "code",
   "execution_count": 60,
   "metadata": {
    "ExecuteTime": {
     "end_time": "2020-06-08T20:06:37.576409Z",
     "start_time": "2020-06-08T20:06:27.988494Z"
    }
   },
   "outputs": [],
   "source": [
    "rf2 = RandomForestClassifier()\n",
    "rf2.fit(X_train, y_train)\n",
    "y_pred = rf2.predict(X_test)"
   ]
  },
  {
   "cell_type": "code",
   "execution_count": 61,
   "metadata": {
    "ExecuteTime": {
     "end_time": "2020-06-08T20:06:37.736620Z",
     "start_time": "2020-06-08T20:06:37.579431Z"
    }
   },
   "outputs": [
    {
     "data": {
      "text/html": [
       "<div>\n",
       "<style scoped>\n",
       "    .dataframe tbody tr th:only-of-type {\n",
       "        vertical-align: middle;\n",
       "    }\n",
       "\n",
       "    .dataframe tbody tr th {\n",
       "        vertical-align: top;\n",
       "    }\n",
       "\n",
       "    .dataframe thead th {\n",
       "        text-align: right;\n",
       "    }\n",
       "</style>\n",
       "<table border=\"1\" class=\"dataframe\">\n",
       "  <thead>\n",
       "    <tr style=\"text-align: right;\">\n",
       "      <th>Predicted Result</th>\n",
       "      <th>False</th>\n",
       "      <th>True</th>\n",
       "    </tr>\n",
       "    <tr>\n",
       "      <th>Actual Result</th>\n",
       "      <th></th>\n",
       "      <th></th>\n",
       "    </tr>\n",
       "  </thead>\n",
       "  <tbody>\n",
       "    <tr>\n",
       "      <th>False</th>\n",
       "      <td>805</td>\n",
       "      <td>1486</td>\n",
       "    </tr>\n",
       "    <tr>\n",
       "      <th>True</th>\n",
       "      <td>929</td>\n",
       "      <td>1640</td>\n",
       "    </tr>\n",
       "  </tbody>\n",
       "</table>\n",
       "</div>"
      ],
      "text/plain": [
       "Predicted Result  False  True \n",
       "Actual Result                 \n",
       "False               805   1486\n",
       "True                929   1640"
      ]
     },
     "execution_count": 61,
     "metadata": {},
     "output_type": "execute_result"
    }
   ],
   "source": [
    "pd.crosstab(y_test, y_pred, rownames=['Actual Result'], colnames=['Predicted Result'])"
   ]
  },
  {
   "cell_type": "code",
   "execution_count": 62,
   "metadata": {
    "ExecuteTime": {
     "end_time": "2020-06-08T20:06:37.780999Z",
     "start_time": "2020-06-08T20:06:37.750460Z"
    }
   },
   "outputs": [
    {
     "name": "stdout",
     "output_type": "stream",
     "text": [
      "Accuracy for 3d trends: 50.31%\n"
     ]
    }
   ],
   "source": [
    "print(f\"Accuracy for 3d trends: {round(metrics.accuracy_score(y_test, y_pred)*100, 2)}%\")"
   ]
  },
  {
   "cell_type": "code",
   "execution_count": 63,
   "metadata": {
    "ExecuteTime": {
     "end_time": "2020-06-08T20:07:19.253467Z",
     "start_time": "2020-06-08T20:06:37.785513Z"
    }
   },
   "outputs": [
    {
     "name": "stdout",
     "output_type": "stream",
     "text": [
      "Cross-validation score is: 50.74%\n"
     ]
    }
   ],
   "source": [
    "print(f\"Cross-validation score is: {round(np.mean(cross_val_score(rf2, X_train, y_train, cv=5))*100, 2)}%\")"
   ]
  },
  {
   "cell_type": "code",
   "execution_count": 64,
   "metadata": {
    "ExecuteTime": {
     "end_time": "2020-06-08T20:07:21.466801Z",
     "start_time": "2020-06-08T20:07:19.301882Z"
    }
   },
   "outputs": [
    {
     "data": {
      "image/png": "[encoded data removed]",
      "text/plain": [
       "<Figure size 1080x720 with 1 Axes>"
      ]
     },
     "metadata": {
      "needs_background": "light"
     },
     "output_type": "display_data"
    }
   ],
   "source": [
    "plot_features_importance(rf2, \"blue\")"
   ]
  },
  {
   "cell_type": "markdown",
   "metadata": {},
   "source": [
    "## Now test 7d trends"
   ]
  },
  {
   "cell_type": "code",
   "execution_count": 65,
   "metadata": {
    "ExecuteTime": {
     "end_time": "2020-06-08T20:07:21.494652Z",
     "start_time": "2020-06-08T20:07:21.469867Z"
    }
   },
   "outputs": [],
   "source": [
    "y = game_df['Home_team_won?']\n",
    "X = game_df.drop(drop_lst, axis=1)\n",
    "X = X.drop(three_day_trends, axis=1)"
   ]
  },
  {
   "cell_type": "code",
   "execution_count": 66,
   "metadata": {
    "ExecuteTime": {
     "end_time": "2020-06-08T20:07:21.590014Z",
     "start_time": "2020-06-08T20:07:21.497528Z"
    }
   },
   "outputs": [],
   "source": [
    "X_train, X_test, y_train, y_test = my_train_test_split(X, y, 2010, 2017)"
   ]
  },
  {
   "cell_type": "code",
   "execution_count": 67,
   "metadata": {
    "ExecuteTime": {
     "end_time": "2020-06-08T20:07:21.640767Z",
     "start_time": "2020-06-08T20:07:21.601511Z"
    }
   },
   "outputs": [
    {
     "data": {
      "text/plain": [
       "Index(['current_year', '7d_homeOBP_avg', '7d_visitorOBP_avg',\n",
       "       '7d_homescore_avg', '7d_visitorscore_avg', '7d_homeBA', '7d_visitorBA'],\n",
       "      dtype='object')"
      ]
     },
     "execution_count": 67,
     "metadata": {},
     "output_type": "execute_result"
    }
   ],
   "source": [
    "X_train.columns"
   ]
  },
  {
   "cell_type": "code",
   "execution_count": 68,
   "metadata": {
    "ExecuteTime": {
     "end_time": "2020-06-08T20:07:31.030349Z",
     "start_time": "2020-06-08T20:07:21.707194Z"
    }
   },
   "outputs": [],
   "source": [
    "rf2_7 = RandomForestClassifier()\n",
    "rf2_7.fit(X_train, y_train)\n",
    "y_pred = rf2_7.predict(X_test)"
   ]
  },
  {
   "cell_type": "code",
   "execution_count": 69,
   "metadata": {
    "ExecuteTime": {
     "end_time": "2020-06-08T20:07:31.312765Z",
     "start_time": "2020-06-08T20:07:31.035788Z"
    }
   },
   "outputs": [
    {
     "data": {
      "text/html": [
       "<div>\n",
       "<style scoped>\n",
       "    .dataframe tbody tr th:only-of-type {\n",
       "        vertical-align: middle;\n",
       "    }\n",
       "\n",
       "    .dataframe tbody tr th {\n",
       "        vertical-align: top;\n",
       "    }\n",
       "\n",
       "    .dataframe thead th {\n",
       "        text-align: right;\n",
       "    }\n",
       "</style>\n",
       "<table border=\"1\" class=\"dataframe\">\n",
       "  <thead>\n",
       "    <tr style=\"text-align: right;\">\n",
       "      <th>Predicted Result</th>\n",
       "      <th>False</th>\n",
       "      <th>True</th>\n",
       "    </tr>\n",
       "    <tr>\n",
       "      <th>Actual Result</th>\n",
       "      <th></th>\n",
       "      <th></th>\n",
       "    </tr>\n",
       "  </thead>\n",
       "  <tbody>\n",
       "    <tr>\n",
       "      <th>False</th>\n",
       "      <td>793</td>\n",
       "      <td>1498</td>\n",
       "    </tr>\n",
       "    <tr>\n",
       "      <th>True</th>\n",
       "      <td>931</td>\n",
       "      <td>1638</td>\n",
       "    </tr>\n",
       "  </tbody>\n",
       "</table>\n",
       "</div>"
      ],
      "text/plain": [
       "Predicted Result  False  True \n",
       "Actual Result                 \n",
       "False               793   1498\n",
       "True                931   1638"
      ]
     },
     "execution_count": 69,
     "metadata": {},
     "output_type": "execute_result"
    }
   ],
   "source": [
    "pd.crosstab(y_test, y_pred, rownames=['Actual Result'], colnames=['Predicted Result'])"
   ]
  },
  {
   "cell_type": "code",
   "execution_count": 70,
   "metadata": {
    "ExecuteTime": {
     "end_time": "2020-06-08T20:07:31.398648Z",
     "start_time": "2020-06-08T20:07:31.364777Z"
    }
   },
   "outputs": [
    {
     "name": "stdout",
     "output_type": "stream",
     "text": [
      "Accuracy for 7d trends: 50.02%\n"
     ]
    }
   ],
   "source": [
    "print(f\"Accuracy for 7d trends: {round(metrics.accuracy_score(y_test, y_pred)*100, 2)}%\")"
   ]
  },
  {
   "cell_type": "code",
   "execution_count": 71,
   "metadata": {
    "ExecuteTime": {
     "end_time": "2020-06-08T20:08:00.047104Z",
     "start_time": "2020-06-08T20:07:31.403348Z"
    }
   },
   "outputs": [
    {
     "name": "stdout",
     "output_type": "stream",
     "text": [
      "Cross-validation score is: 50.64%\n"
     ]
    }
   ],
   "source": [
    "print(f\"Cross-validation score is: {round(np.mean(cross_val_score(rf2_7, X_train, y_train, cv=5))*100, 2)}%\")"
   ]
  },
  {
   "cell_type": "code",
   "execution_count": 72,
   "metadata": {
    "ExecuteTime": {
     "end_time": "2020-06-08T20:08:01.441480Z",
     "start_time": "2020-06-08T20:08:00.056501Z"
    }
   },
   "outputs": [
    {
     "data": {
      "image/png": "[encoded data removed]",
      "text/plain": [
       "<Figure size 1080x720 with 1 Axes>"
      ]
     },
     "metadata": {
      "needs_background": "light"
     },
     "output_type": "display_data"
    }
   ],
   "source": [
    "plot_features_importance(rf2_7, \"red\")"
   ]
  },
  {
   "cell_type": "markdown",
   "metadata": {},
   "source": [
    "### It seemed like the 3d trends barely inched out the 7d trends by a fraction of a percent\n",
    "### Going to try and model with:\n",
    "    - historic trends & 3d\n",
    "    - historic trends & 7d\n",
    "    - historic trends with 3d & 7d trends"
   ]
  },
  {
   "cell_type": "markdown",
   "metadata": {},
   "source": [
    "### Will train a RandomForest model on historitc team stats, 3d, and 7d trends."
   ]
  },
  {
   "cell_type": "code",
   "execution_count": 73,
   "metadata": {
    "ExecuteTime": {
     "end_time": "2020-06-08T20:08:01.640932Z",
     "start_time": "2020-06-08T20:08:01.453377Z"
    },
    "code_folding": []
   },
   "outputs": [],
   "source": [
    "# More or less the same features being dropped from before but adding 2 new features added to the game_df\n",
    "new_drop_lst = ['New_Date',\n",
    "'VisitingTeam',\n",
    "'VisitorStartingPitcherName',\n",
    "'HomeTeam',\n",
    "'HomeStartingPitcherName',\n",
    "'VisitorRunsScored', \n",
    "'HomeRunsScore', \n",
    "'Home_team_won?', \n",
    "'VisitorAB',\n",
    "'VisitorH',\n",
    "'Visitor_BA',\n",
    "'VisitorHBP',\n",
    "'VisitorBB',\n",
    "'VisitorIBB',\n",
    "'VisitorLOB',\n",
    "'HomeAB',\n",
    "'HomeH',\n",
    "'Home_BA',\n",
    "'HomeHBP',\n",
    "'HomeBB',\n",
    "'HomeIBB',\n",
    "'HomeLOB',\n",
    "'playerName_x',\n",
    "'teamAbbrev_x',\n",
    "'playerName_y',\n",
    "'teamAbbrev_y',\n",
    "'teamAbbrev_x',\n",
    "'teamAbbrev_y',\n",
    "'year_x',\n",
    "'year_y',\n",
    "'prior_year',\n",
    "'Visitor_OBP',\n",
    "'Home_OBP']"
   ]
  },
  {
   "cell_type": "markdown",
   "metadata": {},
   "source": [
    "### Will leverage 3d trends first..."
   ]
  },
  {
   "cell_type": "code",
   "execution_count": 74,
   "metadata": {
    "ExecuteTime": {
     "end_time": "2020-06-08T20:08:01.942158Z",
     "start_time": "2020-06-08T20:08:01.682017Z"
    }
   },
   "outputs": [],
   "source": [
    "y = game_df['Home_team_won?']\n",
    "# Drop usual features\n",
    "X = game_df.drop(new_drop_lst, axis=1)\n",
    "# Dropping the seven day trends\n",
    "X = X.drop(seven_day_trends, axis=1)"
   ]
  },
  {
   "cell_type": "code",
   "execution_count": 75,
   "metadata": {
    "ExecuteTime": {
     "end_time": "2020-06-08T20:08:02.855105Z",
     "start_time": "2020-06-08T20:08:01.957699Z"
    }
   },
   "outputs": [],
   "source": [
    "X_train, X_test, y_train, y_test = my_train_test_split(X, y, 2010, 2017)"
   ]
  },
  {
   "cell_type": "code",
   "execution_count": 76,
   "metadata": {
    "ExecuteTime": {
     "end_time": "2020-06-08T20:08:02.920592Z",
     "start_time": "2020-06-08T20:08:02.858878Z"
    }
   },
   "outputs": [
    {
     "data": {
      "text/plain": [
       "Index(['winningPercentage_x', 'runsScoredPer9_x', 'hitsPer9_x',\n",
       "       'strikeoutsPer9_x', 'baseOnBallsPer9_x', 'homeRunsPer9_x', 'era_x',\n",
       "       'whip_x', 'ops_x', 'gidp_x', 'avg_x', 'winningPercentage_y',\n",
       "       'runsScoredPer9_y', 'hitsPer9_y', 'strikeoutsPer9_y',\n",
       "       'baseOnBallsPer9_y', 'homeRunsPer9_y', 'era_y', 'whip_y', 'ops_y',\n",
       "       'gidp_y', 'avg_y', 'hits_x', 'atBats_x', 'team_BA_x', 'totalBases_x',\n",
       "       'total_bases_avg_x', 'leftOnBase_x', 'LOB_avg_x', 'runs_x',\n",
       "       'runs_avg_x', 'strikeOuts_x', 'atBats_x', 'K_avg_x', 'baseOnBalls_x',\n",
       "       'BB_avg_x', 'rbi_x', 'RBI_avg_x', 'hits_y', 'atBats_y', 'team_BA_y',\n",
       "       'totalBases_y', 'total_bases_avg_y', 'leftOnBase_y', 'LOB_avg_y',\n",
       "       'runs_y', 'runs_avg_y', 'strikeOuts_y', 'atBats_y', 'K_avg_y',\n",
       "       'baseOnBalls_y', 'BB_avg_y', 'rbi_y', 'RBI_avg_y', 'current_year',\n",
       "       '3d_homeOBP_avg', '3d_visitorOBP_avg', '3d_homescore_avg',\n",
       "       '3d_visitorscore_avg', '3d_homeBA', '3d_visitorBA'],\n",
       "      dtype='object')"
      ]
     },
     "execution_count": 76,
     "metadata": {},
     "output_type": "execute_result"
    }
   ],
   "source": [
    "X_train.columns"
   ]
  },
  {
   "cell_type": "code",
   "execution_count": 77,
   "metadata": {
    "ExecuteTime": {
     "end_time": "2020-06-08T20:08:23.503934Z",
     "start_time": "2020-06-08T20:08:02.961668Z"
    }
   },
   "outputs": [],
   "source": [
    "rf = RandomForestClassifier()\n",
    "rf.fit(X_train, y_train)\n",
    "y_pred = rf.predict(X_test)"
   ]
  },
  {
   "cell_type": "code",
   "execution_count": 78,
   "metadata": {
    "ExecuteTime": {
     "end_time": "2020-06-08T20:08:23.656658Z",
     "start_time": "2020-06-08T20:08:23.510717Z"
    }
   },
   "outputs": [
    {
     "data": {
      "text/html": [
       "<div>\n",
       "<style scoped>\n",
       "    .dataframe tbody tr th:only-of-type {\n",
       "        vertical-align: middle;\n",
       "    }\n",
       "\n",
       "    .dataframe tbody tr th {\n",
       "        vertical-align: top;\n",
       "    }\n",
       "\n",
       "    .dataframe thead th {\n",
       "        text-align: right;\n",
       "    }\n",
       "</style>\n",
       "<table border=\"1\" class=\"dataframe\">\n",
       "  <thead>\n",
       "    <tr style=\"text-align: right;\">\n",
       "      <th>Predicted Result</th>\n",
       "      <th>False</th>\n",
       "      <th>True</th>\n",
       "    </tr>\n",
       "    <tr>\n",
       "      <th>Actual Result</th>\n",
       "      <th></th>\n",
       "      <th></th>\n",
       "    </tr>\n",
       "  </thead>\n",
       "  <tbody>\n",
       "    <tr>\n",
       "      <th>False</th>\n",
       "      <td>936</td>\n",
       "      <td>1355</td>\n",
       "    </tr>\n",
       "    <tr>\n",
       "      <th>True</th>\n",
       "      <td>796</td>\n",
       "      <td>1773</td>\n",
       "    </tr>\n",
       "  </tbody>\n",
       "</table>\n",
       "</div>"
      ],
      "text/plain": [
       "Predicted Result  False  True \n",
       "Actual Result                 \n",
       "False               936   1355\n",
       "True                796   1773"
      ]
     },
     "execution_count": 78,
     "metadata": {},
     "output_type": "execute_result"
    }
   ],
   "source": [
    "pd.crosstab(y_test, y_pred, rownames=['Actual Result'], colnames=['Predicted Result'])"
   ]
  },
  {
   "cell_type": "code",
   "execution_count": 79,
   "metadata": {
    "ExecuteTime": {
     "end_time": "2020-06-08T20:08:23.809280Z",
     "start_time": "2020-06-08T20:08:23.761738Z"
    }
   },
   "outputs": [
    {
     "name": "stdout",
     "output_type": "stream",
     "text": [
      "Accuracy for historic + 3d trends: 55.74%\n"
     ]
    }
   ],
   "source": [
    "print(f\"Accuracy for historic + 3d trends: {round(metrics.accuracy_score(y_test, y_pred)*100, 2)}%\")"
   ]
  },
  {
   "cell_type": "code",
   "execution_count": 80,
   "metadata": {
    "ExecuteTime": {
     "end_time": "2020-06-08T20:09:50.319904Z",
     "start_time": "2020-06-08T20:08:23.821237Z"
    }
   },
   "outputs": [
    {
     "name": "stdout",
     "output_type": "stream",
     "text": [
      "Cross-validation score is: 53.81%\n"
     ]
    }
   ],
   "source": [
    "print(f\"Cross-validation score is: {round(np.mean(cross_val_score(rf, X_train, y_train, cv=5))*100, 2)}%\")"
   ]
  },
  {
   "cell_type": "code",
   "execution_count": 81,
   "metadata": {
    "ExecuteTime": {
     "end_time": "2020-06-08T20:09:53.192395Z",
     "start_time": "2020-06-08T20:09:50.370917Z"
    }
   },
   "outputs": [
    {
     "data": {
      "image/png": "[encoded data removed]",
      "text/plain": [
       "<Figure size 1080x720 with 1 Axes>"
      ]
     },
     "metadata": {
      "needs_background": "light"
     },
     "output_type": "display_data"
    }
   ],
   "source": [
    "plot_features_importance(rf, \"red\")"
   ]
  },
  {
   "cell_type": "markdown",
   "metadata": {},
   "source": [
    "### Now leverage 7d trends"
   ]
  },
  {
   "cell_type": "code",
   "execution_count": 82,
   "metadata": {
    "ExecuteTime": {
     "end_time": "2020-06-08T20:09:53.357364Z",
     "start_time": "2020-06-08T20:09:53.201074Z"
    }
   },
   "outputs": [],
   "source": [
    "y = game_df['Home_team_won?']\n",
    "X = game_df.drop(new_drop_lst, axis=1)\n",
    "X = X.drop(three_day_trends, axis=1)"
   ]
  },
  {
   "cell_type": "code",
   "execution_count": 83,
   "metadata": {
    "ExecuteTime": {
     "end_time": "2020-06-08T20:09:54.235531Z",
     "start_time": "2020-06-08T20:09:53.362974Z"
    }
   },
   "outputs": [],
   "source": [
    "X_train, X_test, y_train, y_test = my_train_test_split(X, y, 2010, 2017)"
   ]
  },
  {
   "cell_type": "code",
   "execution_count": 84,
   "metadata": {
    "ExecuteTime": {
     "end_time": "2020-06-08T20:09:54.345627Z",
     "start_time": "2020-06-08T20:09:54.239439Z"
    }
   },
   "outputs": [
    {
     "data": {
      "text/plain": [
       "Index(['winningPercentage_x', 'runsScoredPer9_x', 'hitsPer9_x',\n",
       "       'strikeoutsPer9_x', 'baseOnBallsPer9_x', 'homeRunsPer9_x', 'era_x',\n",
       "       'whip_x', 'ops_x', 'gidp_x', 'avg_x', 'winningPercentage_y',\n",
       "       'runsScoredPer9_y', 'hitsPer9_y', 'strikeoutsPer9_y',\n",
       "       'baseOnBallsPer9_y', 'homeRunsPer9_y', 'era_y', 'whip_y', 'ops_y',\n",
       "       'gidp_y', 'avg_y', 'hits_x', 'atBats_x', 'team_BA_x', 'totalBases_x',\n",
       "       'total_bases_avg_x', 'leftOnBase_x', 'LOB_avg_x', 'runs_x',\n",
       "       'runs_avg_x', 'strikeOuts_x', 'atBats_x', 'K_avg_x', 'baseOnBalls_x',\n",
       "       'BB_avg_x', 'rbi_x', 'RBI_avg_x', 'hits_y', 'atBats_y', 'team_BA_y',\n",
       "       'totalBases_y', 'total_bases_avg_y', 'leftOnBase_y', 'LOB_avg_y',\n",
       "       'runs_y', 'runs_avg_y', 'strikeOuts_y', 'atBats_y', 'K_avg_y',\n",
       "       'baseOnBalls_y', 'BB_avg_y', 'rbi_y', 'RBI_avg_y', 'current_year',\n",
       "       '7d_homeOBP_avg', '7d_visitorOBP_avg', '7d_homescore_avg',\n",
       "       '7d_visitorscore_avg', '7d_homeBA', '7d_visitorBA'],\n",
       "      dtype='object')"
      ]
     },
     "execution_count": 84,
     "metadata": {},
     "output_type": "execute_result"
    }
   ],
   "source": [
    "X_train.columns"
   ]
  },
  {
   "cell_type": "code",
   "execution_count": 85,
   "metadata": {
    "ExecuteTime": {
     "end_time": "2020-06-08T20:10:18.278531Z",
     "start_time": "2020-06-08T20:09:54.441523Z"
    }
   },
   "outputs": [],
   "source": [
    "rf = RandomForestClassifier()\n",
    "rf.fit(X_train, y_train)\n",
    "y_pred = rf.predict(X_test)"
   ]
  },
  {
   "cell_type": "code",
   "execution_count": 86,
   "metadata": {
    "ExecuteTime": {
     "end_time": "2020-06-08T20:10:18.411738Z",
     "start_time": "2020-06-08T20:10:18.293498Z"
    }
   },
   "outputs": [
    {
     "data": {
      "text/html": [
       "<div>\n",
       "<style scoped>\n",
       "    .dataframe tbody tr th:only-of-type {\n",
       "        vertical-align: middle;\n",
       "    }\n",
       "\n",
       "    .dataframe tbody tr th {\n",
       "        vertical-align: top;\n",
       "    }\n",
       "\n",
       "    .dataframe thead th {\n",
       "        text-align: right;\n",
       "    }\n",
       "</style>\n",
       "<table border=\"1\" class=\"dataframe\">\n",
       "  <thead>\n",
       "    <tr style=\"text-align: right;\">\n",
       "      <th>Predicted Result</th>\n",
       "      <th>False</th>\n",
       "      <th>True</th>\n",
       "    </tr>\n",
       "    <tr>\n",
       "      <th>Actual Result</th>\n",
       "      <th></th>\n",
       "      <th></th>\n",
       "    </tr>\n",
       "  </thead>\n",
       "  <tbody>\n",
       "    <tr>\n",
       "      <th>False</th>\n",
       "      <td>965</td>\n",
       "      <td>1326</td>\n",
       "    </tr>\n",
       "    <tr>\n",
       "      <th>True</th>\n",
       "      <td>818</td>\n",
       "      <td>1751</td>\n",
       "    </tr>\n",
       "  </tbody>\n",
       "</table>\n",
       "</div>"
      ],
      "text/plain": [
       "Predicted Result  False  True \n",
       "Actual Result                 \n",
       "False               965   1326\n",
       "True                818   1751"
      ]
     },
     "execution_count": 86,
     "metadata": {},
     "output_type": "execute_result"
    }
   ],
   "source": [
    "pd.crosstab(y_test, y_pred, rownames=['Actual Result'], colnames=['Predicted Result'])"
   ]
  },
  {
   "cell_type": "code",
   "execution_count": 87,
   "metadata": {
    "ExecuteTime": {
     "end_time": "2020-06-08T20:10:18.703605Z",
     "start_time": "2020-06-08T20:10:18.567678Z"
    }
   },
   "outputs": [
    {
     "name": "stdout",
     "output_type": "stream",
     "text": [
      "Accuracy for historic + 7d trends: 55.88%\n"
     ]
    }
   ],
   "source": [
    "print(f\"Accuracy for historic + 7d trends: {round(metrics.accuracy_score(y_test, y_pred)*100, 2)}%\")"
   ]
  },
  {
   "cell_type": "code",
   "execution_count": 88,
   "metadata": {
    "ExecuteTime": {
     "end_time": "2020-06-08T20:11:40.786856Z",
     "start_time": "2020-06-08T20:10:18.776364Z"
    }
   },
   "outputs": [
    {
     "name": "stdout",
     "output_type": "stream",
     "text": [
      "Cross-validation score is: 52.91%\n"
     ]
    }
   ],
   "source": [
    "print(f\"Cross-validation score is: {round(np.mean(cross_val_score(rf, X_train, y_train, cv=5))*100, 2)}%\")"
   ]
  },
  {
   "cell_type": "code",
   "execution_count": 89,
   "metadata": {
    "ExecuteTime": {
     "end_time": "2020-06-08T20:11:44.235907Z",
     "start_time": "2020-06-08T20:11:40.817254Z"
    }
   },
   "outputs": [
    {
     "data": {
      "image/png": "[encoded data removed]",
      "text/plain": [
       "<Figure size 1080x720 with 1 Axes>"
      ]
     },
     "metadata": {
      "needs_background": "light"
     },
     "output_type": "display_data"
    }
   ],
   "source": [
    "plot_features_importance(rf, \"red\")"
   ]
  },
  {
   "cell_type": "markdown",
   "metadata": {},
   "source": [
    "## Now, model with historic, 3d, and 7d trends..."
   ]
  },
  {
   "cell_type": "code",
   "execution_count": 90,
   "metadata": {
    "ExecuteTime": {
     "end_time": "2020-06-08T20:11:44.500601Z",
     "start_time": "2020-06-08T20:11:44.280896Z"
    }
   },
   "outputs": [],
   "source": [
    "y = game_df['Home_team_won?']\n",
    "X = game_df.drop(new_drop_lst, axis=1)"
   ]
  },
  {
   "cell_type": "code",
   "execution_count": 91,
   "metadata": {
    "ExecuteTime": {
     "end_time": "2020-06-08T20:11:45.557803Z",
     "start_time": "2020-06-08T20:11:44.507556Z"
    }
   },
   "outputs": [],
   "source": [
    "X_train, X_test, y_train, y_test = my_train_test_split(X, y, 2010, 2017)"
   ]
  },
  {
   "cell_type": "code",
   "execution_count": 92,
   "metadata": {
    "ExecuteTime": {
     "end_time": "2020-06-08T20:11:45.682603Z",
     "start_time": "2020-06-08T20:11:45.595801Z"
    },
    "scrolled": true
   },
   "outputs": [
    {
     "data": {
      "text/plain": [
       "Index(['winningPercentage_x', 'runsScoredPer9_x', 'hitsPer9_x',\n",
       "       'strikeoutsPer9_x', 'baseOnBallsPer9_x', 'homeRunsPer9_x', 'era_x',\n",
       "       'whip_x', 'ops_x', 'gidp_x', 'avg_x', 'winningPercentage_y',\n",
       "       'runsScoredPer9_y', 'hitsPer9_y', 'strikeoutsPer9_y',\n",
       "       'baseOnBallsPer9_y', 'homeRunsPer9_y', 'era_y', 'whip_y', 'ops_y',\n",
       "       'gidp_y', 'avg_y', 'hits_x', 'atBats_x', 'team_BA_x', 'totalBases_x',\n",
       "       'total_bases_avg_x', 'leftOnBase_x', 'LOB_avg_x', 'runs_x',\n",
       "       'runs_avg_x', 'strikeOuts_x', 'atBats_x', 'K_avg_x', 'baseOnBalls_x',\n",
       "       'BB_avg_x', 'rbi_x', 'RBI_avg_x', 'hits_y', 'atBats_y', 'team_BA_y',\n",
       "       'totalBases_y', 'total_bases_avg_y', 'leftOnBase_y', 'LOB_avg_y',\n",
       "       'runs_y', 'runs_avg_y', 'strikeOuts_y', 'atBats_y', 'K_avg_y',\n",
       "       'baseOnBalls_y', 'BB_avg_y', 'rbi_y', 'RBI_avg_y', 'current_year',\n",
       "       '3d_homeOBP_avg', '7d_homeOBP_avg', '3d_visitorOBP_avg',\n",
       "       '7d_visitorOBP_avg', '3d_homescore_avg', '7d_homescore_avg',\n",
       "       '3d_visitorscore_avg', '7d_visitorscore_avg', '3d_homeBA', '7d_homeBA',\n",
       "       '3d_visitorBA', '7d_visitorBA'],\n",
       "      dtype='object')"
      ]
     },
     "execution_count": 92,
     "metadata": {},
     "output_type": "execute_result"
    }
   ],
   "source": [
    "X_train.columns"
   ]
  },
  {
   "cell_type": "code",
   "execution_count": 93,
   "metadata": {
    "ExecuteTime": {
     "end_time": "2020-06-08T20:12:10.421653Z",
     "start_time": "2020-06-08T20:11:45.700385Z"
    }
   },
   "outputs": [],
   "source": [
    "rf = RandomForestClassifier()\n",
    "rf.fit(X_train, y_train)\n",
    "y_pred = rf.predict(X_test)"
   ]
  },
  {
   "cell_type": "code",
   "execution_count": 94,
   "metadata": {
    "ExecuteTime": {
     "end_time": "2020-06-08T20:12:10.583059Z",
     "start_time": "2020-06-08T20:12:10.425369Z"
    }
   },
   "outputs": [
    {
     "data": {
      "text/html": [
       "<div>\n",
       "<style scoped>\n",
       "    .dataframe tbody tr th:only-of-type {\n",
       "        vertical-align: middle;\n",
       "    }\n",
       "\n",
       "    .dataframe tbody tr th {\n",
       "        vertical-align: top;\n",
       "    }\n",
       "\n",
       "    .dataframe thead th {\n",
       "        text-align: right;\n",
       "    }\n",
       "</style>\n",
       "<table border=\"1\" class=\"dataframe\">\n",
       "  <thead>\n",
       "    <tr style=\"text-align: right;\">\n",
       "      <th>Predicted Result</th>\n",
       "      <th>False</th>\n",
       "      <th>True</th>\n",
       "    </tr>\n",
       "    <tr>\n",
       "      <th>Actual Result</th>\n",
       "      <th></th>\n",
       "      <th></th>\n",
       "    </tr>\n",
       "  </thead>\n",
       "  <tbody>\n",
       "    <tr>\n",
       "      <th>False</th>\n",
       "      <td>916</td>\n",
       "      <td>1375</td>\n",
       "    </tr>\n",
       "    <tr>\n",
       "      <th>True</th>\n",
       "      <td>773</td>\n",
       "      <td>1796</td>\n",
       "    </tr>\n",
       "  </tbody>\n",
       "</table>\n",
       "</div>"
      ],
      "text/plain": [
       "Predicted Result  False  True \n",
       "Actual Result                 \n",
       "False               916   1375\n",
       "True                773   1796"
      ]
     },
     "execution_count": 94,
     "metadata": {},
     "output_type": "execute_result"
    }
   ],
   "source": [
    "pd.crosstab(y_test, y_pred, rownames=['Actual Result'], colnames=['Predicted Result'])"
   ]
  },
  {
   "cell_type": "code",
   "execution_count": 95,
   "metadata": {
    "ExecuteTime": {
     "end_time": "2020-06-08T20:12:10.742775Z",
     "start_time": "2020-06-08T20:12:10.640166Z"
    }
   },
   "outputs": [
    {
     "name": "stdout",
     "output_type": "stream",
     "text": [
      "Accuracy for historic + 3d + 7d trends: 55.8%\n"
     ]
    }
   ],
   "source": [
    "print(f\"Accuracy for historic + 3d + 7d trends: {round(metrics.accuracy_score(y_test, y_pred)*100, 2)}%\")"
   ]
  },
  {
   "cell_type": "code",
   "execution_count": 96,
   "metadata": {
    "ExecuteTime": {
     "end_time": "2020-06-08T20:13:49.004498Z",
     "start_time": "2020-06-08T20:12:11.017942Z"
    }
   },
   "outputs": [
    {
     "name": "stdout",
     "output_type": "stream",
     "text": [
      "Cross-validation score is: 53.45%\n"
     ]
    }
   ],
   "source": [
    "print(f\"Cross-validation score is: {round(np.mean(cross_val_score(rf, X_train, y_train, cv=5))*100, 2)}%\")"
   ]
  },
  {
   "cell_type": "code",
   "execution_count": 97,
   "metadata": {
    "ExecuteTime": {
     "end_time": "2020-06-08T20:13:53.889419Z",
     "start_time": "2020-06-08T20:13:49.024314Z"
    }
   },
   "outputs": [
    {
     "data": {
      "image/png": "[encoded data removed]",
      "text/plain": [
       "<Figure size 1080x720 with 1 Axes>"
      ]
     },
     "metadata": {
      "needs_background": "light"
     },
     "output_type": "display_data"
    }
   ],
   "source": [
    "plot_features_importance(rf, \"red\")"
   ]
  },
  {
   "cell_type": "markdown",
   "metadata": {},
   "source": [
    "# RandomForestClassifier seems to be working well with the new features that were added. Going to try out other models for comaprisons\n",
    "- GradientBoostingClassifier (with and without GridSearchCV)\n",
    "- AdaBoostClassifier"
   ]
  },
  {
   "cell_type": "markdown",
   "metadata": {},
   "source": [
    "## Create a Train/Test split for the new models to leverage"
   ]
  },
  {
   "cell_type": "code",
   "execution_count": 98,
   "metadata": {
    "ExecuteTime": {
     "end_time": "2020-06-08T20:13:55.274563Z",
     "start_time": "2020-06-08T20:13:53.981544Z"
    }
   },
   "outputs": [],
   "source": [
    "X_train, X_test, y_train, y_test = my_train_test_split(X, y, 2010, 2017)"
   ]
  },
  {
   "cell_type": "code",
   "execution_count": 99,
   "metadata": {
    "ExecuteTime": {
     "end_time": "2020-06-08T20:13:55.401971Z",
     "start_time": "2020-06-08T20:13:55.294292Z"
    }
   },
   "outputs": [
    {
     "data": {
      "text/plain": [
       "Index(['winningPercentage_x', 'runsScoredPer9_x', 'hitsPer9_x',\n",
       "       'strikeoutsPer9_x', 'baseOnBallsPer9_x', 'homeRunsPer9_x', 'era_x',\n",
       "       'whip_x', 'ops_x', 'gidp_x', 'avg_x', 'winningPercentage_y',\n",
       "       'runsScoredPer9_y', 'hitsPer9_y', 'strikeoutsPer9_y',\n",
       "       'baseOnBallsPer9_y', 'homeRunsPer9_y', 'era_y', 'whip_y', 'ops_y',\n",
       "       'gidp_y', 'avg_y', 'hits_x', 'atBats_x', 'team_BA_x', 'totalBases_x',\n",
       "       'total_bases_avg_x', 'leftOnBase_x', 'LOB_avg_x', 'runs_x',\n",
       "       'runs_avg_x', 'strikeOuts_x', 'atBats_x', 'K_avg_x', 'baseOnBalls_x',\n",
       "       'BB_avg_x', 'rbi_x', 'RBI_avg_x', 'hits_y', 'atBats_y', 'team_BA_y',\n",
       "       'totalBases_y', 'total_bases_avg_y', 'leftOnBase_y', 'LOB_avg_y',\n",
       "       'runs_y', 'runs_avg_y', 'strikeOuts_y', 'atBats_y', 'K_avg_y',\n",
       "       'baseOnBalls_y', 'BB_avg_y', 'rbi_y', 'RBI_avg_y', 'current_year',\n",
       "       '3d_homeOBP_avg', '7d_homeOBP_avg', '3d_visitorOBP_avg',\n",
       "       '7d_visitorOBP_avg', '3d_homescore_avg', '7d_homescore_avg',\n",
       "       '3d_visitorscore_avg', '7d_visitorscore_avg', '3d_homeBA', '7d_homeBA',\n",
       "       '3d_visitorBA', '7d_visitorBA'],\n",
       "      dtype='object')"
      ]
     },
     "execution_count": 99,
     "metadata": {},
     "output_type": "execute_result"
    }
   ],
   "source": [
    "X_train.columns"
   ]
  },
  {
   "cell_type": "markdown",
   "metadata": {},
   "source": [
    "## GradientBoostingClassifier"
   ]
  },
  {
   "cell_type": "code",
   "execution_count": 100,
   "metadata": {
    "ExecuteTime": {
     "end_time": "2020-06-08T20:13:55.499382Z",
     "start_time": "2020-06-08T20:13:55.433357Z"
    }
   },
   "outputs": [],
   "source": [
    "gbc = GradientBoostingClassifier()"
   ]
  },
  {
   "cell_type": "code",
   "execution_count": 101,
   "metadata": {
    "ExecuteTime": {
     "end_time": "2020-06-08T20:14:34.776643Z",
     "start_time": "2020-06-08T20:13:55.525721Z"
    }
   },
   "outputs": [
    {
     "data": {
      "text/plain": [
       "GradientBoostingClassifier(ccp_alpha=0.0, criterion='friedman_mse', init=None,\n",
       "                           learning_rate=0.1, loss='deviance', max_depth=3,\n",
       "                           max_features=None, max_leaf_nodes=None,\n",
       "                           min_impurity_decrease=0.0, min_impurity_split=None,\n",
       "                           min_samples_leaf=1, min_samples_split=2,\n",
       "                           min_weight_fraction_leaf=0.0, n_estimators=100,\n",
       "                           n_iter_no_change=None, presort='deprecated',\n",
       "                           random_state=None, subsample=1.0, tol=0.0001,\n",
       "                           validation_fraction=0.1, verbose=0,\n",
       "                           warm_start=False)"
      ]
     },
     "execution_count": 101,
     "metadata": {},
     "output_type": "execute_result"
    }
   ],
   "source": [
    "gbc.fit(X_train, y_train)"
   ]
  },
  {
   "cell_type": "code",
   "execution_count": 102,
   "metadata": {
    "ExecuteTime": {
     "end_time": "2020-06-08T20:14:34.918552Z",
     "start_time": "2020-06-08T20:14:34.793750Z"
    }
   },
   "outputs": [],
   "source": [
    "y_pred = gbc.predict(X_test)"
   ]
  },
  {
   "cell_type": "code",
   "execution_count": 103,
   "metadata": {
    "ExecuteTime": {
     "end_time": "2020-06-08T20:14:35.197851Z",
     "start_time": "2020-06-08T20:14:34.921978Z"
    }
   },
   "outputs": [
    {
     "data": {
      "text/html": [
       "<div>\n",
       "<style scoped>\n",
       "    .dataframe tbody tr th:only-of-type {\n",
       "        vertical-align: middle;\n",
       "    }\n",
       "\n",
       "    .dataframe tbody tr th {\n",
       "        vertical-align: top;\n",
       "    }\n",
       "\n",
       "    .dataframe thead th {\n",
       "        text-align: right;\n",
       "    }\n",
       "</style>\n",
       "<table border=\"1\" class=\"dataframe\">\n",
       "  <thead>\n",
       "    <tr style=\"text-align: right;\">\n",
       "      <th>Predicted Result</th>\n",
       "      <th>False</th>\n",
       "      <th>True</th>\n",
       "    </tr>\n",
       "    <tr>\n",
       "      <th>Actual Result</th>\n",
       "      <th></th>\n",
       "      <th></th>\n",
       "    </tr>\n",
       "  </thead>\n",
       "  <tbody>\n",
       "    <tr>\n",
       "      <th>False</th>\n",
       "      <td>843</td>\n",
       "      <td>1448</td>\n",
       "    </tr>\n",
       "    <tr>\n",
       "      <th>True</th>\n",
       "      <td>644</td>\n",
       "      <td>1925</td>\n",
       "    </tr>\n",
       "  </tbody>\n",
       "</table>\n",
       "</div>"
      ],
      "text/plain": [
       "Predicted Result  False  True \n",
       "Actual Result                 \n",
       "False               843   1448\n",
       "True                644   1925"
      ]
     },
     "execution_count": 103,
     "metadata": {},
     "output_type": "execute_result"
    }
   ],
   "source": [
    "pd.crosstab(y_test, y_pred, rownames=['Actual Result'], colnames=['Predicted Result'])"
   ]
  },
  {
   "cell_type": "code",
   "execution_count": 104,
   "metadata": {
    "ExecuteTime": {
     "end_time": "2020-06-08T20:14:35.502428Z",
     "start_time": "2020-06-08T20:14:35.239969Z"
    }
   },
   "outputs": [
    {
     "name": "stdout",
     "output_type": "stream",
     "text": [
      "Accuracy for GradientBoosting (OOB): 56.95%\n"
     ]
    }
   ],
   "source": [
    "print(f\"Accuracy for GradientBoosting (OOB): {round(metrics.accuracy_score(y_test, y_pred)*100, 2)}%\")"
   ]
  },
  {
   "cell_type": "code",
   "execution_count": 105,
   "metadata": {
    "ExecuteTime": {
     "end_time": "2020-06-08T20:16:57.172845Z",
     "start_time": "2020-06-08T20:14:35.558521Z"
    }
   },
   "outputs": [
    {
     "name": "stdout",
     "output_type": "stream",
     "text": [
      "Cross-validation score is: 54.68%\n"
     ]
    }
   ],
   "source": [
    "print(f\"Cross-validation score is: {round(np.mean(cross_val_score(gbc, X_train, y_train, cv=5))*100, 2)}%\")"
   ]
  },
  {
   "cell_type": "code",
   "execution_count": 106,
   "metadata": {
    "ExecuteTime": {
     "end_time": "2020-06-08T20:17:00.074950Z",
     "start_time": "2020-06-08T20:16:57.180408Z"
    }
   },
   "outputs": [
    {
     "data": {
      "image/png": "[encoded data removed]",
      "text/plain": [
       "<Figure size 1080x720 with 1 Axes>"
      ]
     },
     "metadata": {
      "needs_background": "light"
     },
     "output_type": "display_data"
    }
   ],
   "source": [
    "plot_features_importance(gbc, \"purple\")"
   ]
  },
  {
   "cell_type": "markdown",
   "metadata": {},
   "source": [
    "## AdaBoostClassifier"
   ]
  },
  {
   "cell_type": "code",
   "execution_count": 107,
   "metadata": {
    "ExecuteTime": {
     "end_time": "2020-06-08T20:17:00.083923Z",
     "start_time": "2020-06-08T20:17:00.077681Z"
    }
   },
   "outputs": [],
   "source": [
    "abc = AdaBoostClassifier()"
   ]
  },
  {
   "cell_type": "code",
   "execution_count": 108,
   "metadata": {
    "ExecuteTime": {
     "end_time": "2020-06-08T20:17:06.905469Z",
     "start_time": "2020-06-08T20:17:00.090279Z"
    }
   },
   "outputs": [
    {
     "data": {
      "text/plain": [
       "AdaBoostClassifier(algorithm='SAMME.R', base_estimator=None, learning_rate=1.0,\n",
       "                   n_estimators=50, random_state=None)"
      ]
     },
     "execution_count": 108,
     "metadata": {},
     "output_type": "execute_result"
    }
   ],
   "source": [
    "abc.fit(X_train, y_train)"
   ]
  },
  {
   "cell_type": "code",
   "execution_count": 109,
   "metadata": {
    "ExecuteTime": {
     "end_time": "2020-06-08T20:17:07.106670Z",
     "start_time": "2020-06-08T20:17:06.915248Z"
    }
   },
   "outputs": [],
   "source": [
    "y_pred = abc.predict(X_test)"
   ]
  },
  {
   "cell_type": "code",
   "execution_count": 110,
   "metadata": {
    "ExecuteTime": {
     "end_time": "2020-06-08T20:17:07.306771Z",
     "start_time": "2020-06-08T20:17:07.119968Z"
    }
   },
   "outputs": [
    {
     "data": {
      "text/html": [
       "<div>\n",
       "<style scoped>\n",
       "    .dataframe tbody tr th:only-of-type {\n",
       "        vertical-align: middle;\n",
       "    }\n",
       "\n",
       "    .dataframe tbody tr th {\n",
       "        vertical-align: top;\n",
       "    }\n",
       "\n",
       "    .dataframe thead th {\n",
       "        text-align: right;\n",
       "    }\n",
       "</style>\n",
       "<table border=\"1\" class=\"dataframe\">\n",
       "  <thead>\n",
       "    <tr style=\"text-align: right;\">\n",
       "      <th>Predicted Result</th>\n",
       "      <th>False</th>\n",
       "      <th>True</th>\n",
       "    </tr>\n",
       "    <tr>\n",
       "      <th>Actual Result</th>\n",
       "      <th></th>\n",
       "      <th></th>\n",
       "    </tr>\n",
       "  </thead>\n",
       "  <tbody>\n",
       "    <tr>\n",
       "      <th>False</th>\n",
       "      <td>964</td>\n",
       "      <td>1327</td>\n",
       "    </tr>\n",
       "    <tr>\n",
       "      <th>True</th>\n",
       "      <td>832</td>\n",
       "      <td>1737</td>\n",
       "    </tr>\n",
       "  </tbody>\n",
       "</table>\n",
       "</div>"
      ],
      "text/plain": [
       "Predicted Result  False  True \n",
       "Actual Result                 \n",
       "False               964   1327\n",
       "True                832   1737"
      ]
     },
     "execution_count": 110,
     "metadata": {},
     "output_type": "execute_result"
    }
   ],
   "source": [
    "pd.crosstab(y_test, y_pred, rownames=['Actual Result'], colnames=['Predicted Result'])"
   ]
  },
  {
   "cell_type": "code",
   "execution_count": 111,
   "metadata": {
    "ExecuteTime": {
     "end_time": "2020-06-08T20:17:07.552417Z",
     "start_time": "2020-06-08T20:17:07.420964Z"
    }
   },
   "outputs": [
    {
     "name": "stdout",
     "output_type": "stream",
     "text": [
      "Accuracy for Adaboost: 55.58%\n"
     ]
    }
   ],
   "source": [
    "print(f\"Accuracy for Adaboost: {round(metrics.accuracy_score(y_test, y_pred)*100, 2)}%\")"
   ]
  },
  {
   "cell_type": "code",
   "execution_count": 112,
   "metadata": {
    "ExecuteTime": {
     "end_time": "2020-06-08T20:17:36.896649Z",
     "start_time": "2020-06-08T20:17:07.616524Z"
    }
   },
   "outputs": [
    {
     "name": "stdout",
     "output_type": "stream",
     "text": [
      "Cross-validation score is: 54.31%\n"
     ]
    }
   ],
   "source": [
    "print(f\"Cross-validation score is: {round(np.mean(cross_val_score(abc, X_train, y_train, cv=5))*100, 2)}%\")"
   ]
  },
  {
   "cell_type": "code",
   "execution_count": 113,
   "metadata": {
    "ExecuteTime": {
     "end_time": "2020-06-08T20:17:39.912086Z",
     "start_time": "2020-06-08T20:17:37.012501Z"
    },
    "scrolled": false
   },
   "outputs": [
    {
     "data": {
      "image/png": "[encoded data removed]",
      "text/plain": [
       "<Figure size 1080x720 with 1 Axes>"
      ]
     },
     "metadata": {
      "needs_background": "light"
     },
     "output_type": "display_data"
    }
   ],
   "source": [
    "plot_features_importance(gbc, \"green\")"
   ]
  },
  {
   "cell_type": "markdown",
   "metadata": {},
   "source": [
    "## GradientBoostingClassifier with GridSearchCV"
   ]
  },
  {
   "cell_type": "code",
   "execution_count": 114,
   "metadata": {
    "ExecuteTime": {
     "end_time": "2020-06-08T20:17:40.011078Z",
     "start_time": "2020-06-08T20:17:39.991477Z"
    },
    "code_folding": [
     0
    ]
   },
   "outputs": [],
   "source": [
    "# gbc = GradientBoostingClassifier()\n",
    "# params_dict = {'learning_rate': [.0001, .001, .01, .1],\n",
    "#                'n_estimators': [100,200,300,400,500,600,700]}\n",
    "# grid_gbc = GridSearchCV(gbc, param_grid=params_dict, scoring='accuracy', cv=5, n_jobs=-1)\n",
    "# grid_gbc.fit(X_train, y_train)\n",
    "# best_param = grid_gbc.best_params_\n",
    "# best_cv_score = grid_gbc.best_score_\n",
    "# best_model = grid_gbc.best_estimator_\n",
    "# test_acc = best_model.score(X_test, y_test)\n",
    "# print(f\"GradientBoosted with GridSearchCV accuracy: {round((test_acc*100),2)}%\")"
   ]
  },
  {
   "cell_type": "code",
   "execution_count": 115,
   "metadata": {
    "ExecuteTime": {
     "end_time": "2020-06-08T20:17:40.059281Z",
     "start_time": "2020-06-08T20:17:40.014016Z"
    }
   },
   "outputs": [],
   "source": [
    "#print(f\"Cross-validation score is: {round(np.mean(cross_val_score(grid_gbc, X_train, y_train, cv=5))*100, 2)}%\")"
   ]
  },
  {
   "cell_type": "code",
   "execution_count": 116,
   "metadata": {
    "ExecuteTime": {
     "end_time": "2020-06-08T20:17:40.119329Z",
     "start_time": "2020-06-08T20:17:40.072691Z"
    }
   },
   "outputs": [
    {
     "data": {
      "text/plain": [
       "Index(['New_Date', 'VisitingTeam', 'VisitorStartingPitcherName', 'HomeTeam',\n",
       "       'HomeStartingPitcherName', 'VisitorRunsScored', 'HomeRunsScore',\n",
       "       'VisitorAB', 'VisitorH', 'Visitor_BA',\n",
       "       ...\n",
       "       '3d_visitorOBP_avg', '7d_visitorOBP_avg', '3d_homescore_avg',\n",
       "       '7d_homescore_avg', '3d_visitorscore_avg', '7d_visitorscore_avg',\n",
       "       '3d_homeBA', '7d_homeBA', '3d_visitorBA', '7d_visitorBA'],\n",
       "      dtype='object', length=102)"
      ]
     },
     "execution_count": 116,
     "metadata": {},
     "output_type": "execute_result"
    }
   ],
   "source": [
    "game_df.columns"
   ]
  },
  {
   "cell_type": "code",
   "execution_count": null,
   "metadata": {},
   "outputs": [],
   "source": []
  }
 ],
 "metadata": {
  "kernelspec": {
   "display_name": "Python 3",
   "language": "python",
   "name": "python3"
  },
  "language_info": {
   "codemirror_mode": {
    "name": "ipython",
    "version": 3
   },
   "file_extension": ".py",
   "mimetype": "text/x-python",
   "name": "python",
   "nbconvert_exporter": "python",
   "pygments_lexer": "ipython3",
   "version": "3.7.7"
  }
 },
 "nbformat": 4,
 "nbformat_minor": 4
}
