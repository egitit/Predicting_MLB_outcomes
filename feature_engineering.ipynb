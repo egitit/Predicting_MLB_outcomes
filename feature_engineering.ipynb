{
 "cells": [
  {
   "cell_type": "code",
   "execution_count": 1,
   "metadata": {
    "ExecuteTime": {
     "end_time": "2020-06-03T01:56:01.534371Z",
     "start_time": "2020-06-03T01:56:01.052374Z"
    }
   },
   "outputs": [],
   "source": [
    "import pandas as pd"
   ]
  },
  {
   "cell_type": "code",
   "execution_count": 2,
   "metadata": {
    "ExecuteTime": {
     "end_time": "2020-06-03T01:56:01.543219Z",
     "start_time": "2020-06-03T01:56:01.537317Z"
    }
   },
   "outputs": [],
   "source": [
    "file = '/Users/Lisa/_MLB_Prediction_capstone/cleaned_batting_df.csv'\n",
    "file2 = '/Users/Lisa/_MLB_Prediction_capstone/cleaned_piching_df.csv'\n",
    "file3 = '/Users/Lisa/_MLB_Prediction_capstone/cleaned_game_df.csv'"
   ]
  },
  {
   "cell_type": "code",
   "execution_count": 3,
   "metadata": {
    "ExecuteTime": {
     "end_time": "2020-06-03T01:56:01.685471Z",
     "start_time": "2020-06-03T01:56:01.550378Z"
    }
   },
   "outputs": [],
   "source": [
    "batting_df = pd.read_csv(file)\n",
    "pitching_df = pd.read_csv(file2)\n",
    "game_df = pd.read_csv(file3)"
   ]
  },
  {
   "cell_type": "code",
   "execution_count": 4,
   "metadata": {
    "ExecuteTime": {
     "end_time": "2020-06-03T01:56:01.705481Z",
     "start_time": "2020-06-03T01:56:01.688250Z"
    }
   },
   "outputs": [],
   "source": [
    "batting_df.drop('Unnamed: 0', axis=1, inplace=True)\n",
    "pitching_df.drop('Unnamed: 0', axis=1, inplace=True)\n",
    "game_df.drop('Unnamed: 0', axis=1, inplace=True)"
   ]
  },
  {
   "cell_type": "markdown",
   "metadata": {},
   "source": [
    "## Batting Feature engineering ideas\n",
    "- All of these stats will be on a PER PLATE APPEARANCE then divide by 162 to get PER GAME STATS\n",
    "    - Team stats will be summed up and averaged - Will ultimately be compared to a teams 7 day trends history\n",
    "        - 'totalBases' / total 'plateAppearances' - DONE\n",
    "        - 'leftonbase'/ total 'plateAppearances' - DONE\n",
    "        - 'runs' / total 'plateAppearances' - DONE\n",
    "        - 'strikeOuts' / total 'atBats' - DONE\n",
    "        - 'baseOnBalls' + 'intentionalWalks' / total 'plateAppearances' - DONE\n",
    "            - 'hits' / total 'atBats' --- Leverage for game_df. get team stats per game...\n",
    "            - 'obp' / # of batters on team --- Same as above\n",
    "        - 'rbi' / total 'atBats' - DONE"
   ]
  },
  {
   "cell_type": "code",
   "execution_count": 5,
   "metadata": {
    "ExecuteTime": {
     "end_time": "2020-06-03T01:56:01.742531Z",
     "start_time": "2020-06-03T01:56:01.709634Z"
    },
    "scrolled": true
   },
   "outputs": [
    {
     "data": {
      "text/html": [
       "<div>\n",
       "<style scoped>\n",
       "    .dataframe tbody tr th:only-of-type {\n",
       "        vertical-align: middle;\n",
       "    }\n",
       "\n",
       "    .dataframe tbody tr th {\n",
       "        vertical-align: top;\n",
       "    }\n",
       "\n",
       "    .dataframe thead th {\n",
       "        text-align: right;\n",
       "    }\n",
       "</style>\n",
       "<table border=\"1\" class=\"dataframe\">\n",
       "  <thead>\n",
       "    <tr style=\"text-align: right;\">\n",
       "      <th></th>\n",
       "      <th>year</th>\n",
       "      <th>playerName</th>\n",
       "      <th>teamAbbrev</th>\n",
       "      <th>plateAppearances</th>\n",
       "      <th>totalBases</th>\n",
       "      <th>leftOnBase</th>\n",
       "      <th>runs</th>\n",
       "      <th>strikeOuts</th>\n",
       "      <th>baseOnBalls</th>\n",
       "      <th>intentionalWalks</th>\n",
       "      <th>hits</th>\n",
       "      <th>avg</th>\n",
       "      <th>atBats</th>\n",
       "      <th>obp</th>\n",
       "      <th>slg</th>\n",
       "      <th>ops</th>\n",
       "      <th>groundIntoDoublePlay</th>\n",
       "      <th>rbi</th>\n",
       "    </tr>\n",
       "  </thead>\n",
       "  <tbody>\n",
       "    <tr>\n",
       "      <th>0</th>\n",
       "      <td>2009</td>\n",
       "      <td>Aaron Hill</td>\n",
       "      <td>TOR</td>\n",
       "      <td>734</td>\n",
       "      <td>340</td>\n",
       "      <td>286</td>\n",
       "      <td>103</td>\n",
       "      <td>98</td>\n",
       "      <td>42</td>\n",
       "      <td>1</td>\n",
       "      <td>195</td>\n",
       "      <td>0.286</td>\n",
       "      <td>682</td>\n",
       "      <td>0.330</td>\n",
       "      <td>0.499</td>\n",
       "      <td>0.829</td>\n",
       "      <td>17</td>\n",
       "      <td>108</td>\n",
       "    </tr>\n",
       "    <tr>\n",
       "      <th>1</th>\n",
       "      <td>2009</td>\n",
       "      <td>Jimmy Rollins</td>\n",
       "      <td>PHI</td>\n",
       "      <td>725</td>\n",
       "      <td>284</td>\n",
       "      <td>224</td>\n",
       "      <td>100</td>\n",
       "      <td>70</td>\n",
       "      <td>44</td>\n",
       "      <td>1</td>\n",
       "      <td>168</td>\n",
       "      <td>0.250</td>\n",
       "      <td>672</td>\n",
       "      <td>0.296</td>\n",
       "      <td>0.423</td>\n",
       "      <td>0.719</td>\n",
       "      <td>7</td>\n",
       "      <td>77</td>\n",
       "    </tr>\n",
       "    <tr>\n",
       "      <th>2</th>\n",
       "      <td>2009</td>\n",
       "      <td>Orlando Cabrera</td>\n",
       "      <td>MIN</td>\n",
       "      <td>708</td>\n",
       "      <td>255</td>\n",
       "      <td>244</td>\n",
       "      <td>83</td>\n",
       "      <td>71</td>\n",
       "      <td>36</td>\n",
       "      <td>1</td>\n",
       "      <td>186</td>\n",
       "      <td>0.284</td>\n",
       "      <td>656</td>\n",
       "      <td>0.316</td>\n",
       "      <td>0.389</td>\n",
       "      <td>0.705</td>\n",
       "      <td>22</td>\n",
       "      <td>77</td>\n",
       "    </tr>\n",
       "    <tr>\n",
       "      <th>3</th>\n",
       "      <td>2009</td>\n",
       "      <td>Nick Markakis</td>\n",
       "      <td>BAL</td>\n",
       "      <td>711</td>\n",
       "      <td>291</td>\n",
       "      <td>286</td>\n",
       "      <td>94</td>\n",
       "      <td>98</td>\n",
       "      <td>56</td>\n",
       "      <td>0</td>\n",
       "      <td>188</td>\n",
       "      <td>0.293</td>\n",
       "      <td>642</td>\n",
       "      <td>0.347</td>\n",
       "      <td>0.453</td>\n",
       "      <td>0.801</td>\n",
       "      <td>12</td>\n",
       "      <td>101</td>\n",
       "    </tr>\n",
       "    <tr>\n",
       "      <th>4</th>\n",
       "      <td>2009</td>\n",
       "      <td>Ichiro Suzuki</td>\n",
       "      <td>SEA</td>\n",
       "      <td>678</td>\n",
       "      <td>297</td>\n",
       "      <td>176</td>\n",
       "      <td>88</td>\n",
       "      <td>71</td>\n",
       "      <td>32</td>\n",
       "      <td>15</td>\n",
       "      <td>225</td>\n",
       "      <td>0.352</td>\n",
       "      <td>639</td>\n",
       "      <td>0.386</td>\n",
       "      <td>0.465</td>\n",
       "      <td>0.851</td>\n",
       "      <td>1</td>\n",
       "      <td>46</td>\n",
       "    </tr>\n",
       "  </tbody>\n",
       "</table>\n",
       "</div>"
      ],
      "text/plain": [
       "   year       playerName teamAbbrev  plateAppearances  totalBases  leftOnBase  \\\n",
       "0  2009       Aaron Hill        TOR               734         340         286   \n",
       "1  2009    Jimmy Rollins        PHI               725         284         224   \n",
       "2  2009  Orlando Cabrera        MIN               708         255         244   \n",
       "3  2009    Nick Markakis        BAL               711         291         286   \n",
       "4  2009    Ichiro Suzuki        SEA               678         297         176   \n",
       "\n",
       "   runs  strikeOuts  baseOnBalls  intentionalWalks  hits    avg  atBats  \\\n",
       "0   103          98           42                 1   195  0.286     682   \n",
       "1   100          70           44                 1   168  0.250     672   \n",
       "2    83          71           36                 1   186  0.284     656   \n",
       "3    94          98           56                 0   188  0.293     642   \n",
       "4    88          71           32                15   225  0.352     639   \n",
       "\n",
       "     obp    slg    ops  groundIntoDoublePlay  rbi  \n",
       "0  0.330  0.499  0.829                    17  108  \n",
       "1  0.296  0.423  0.719                     7   77  \n",
       "2  0.316  0.389  0.705                    22   77  \n",
       "3  0.347  0.453  0.801                    12  101  \n",
       "4  0.386  0.465  0.851                     1   46  "
      ]
     },
     "execution_count": 5,
     "metadata": {},
     "output_type": "execute_result"
    }
   ],
   "source": [
    "batting_df.head()"
   ]
  },
  {
   "cell_type": "code",
   "execution_count": 6,
   "metadata": {
    "ExecuteTime": {
     "end_time": "2020-06-03T01:56:01.754259Z",
     "start_time": "2020-06-03T01:56:01.745476Z"
    }
   },
   "outputs": [],
   "source": [
    "# MIA & FLO are different. Standardizing to MIA\n",
    "batting_df.replace(to_replace='FLA', value='MIA', inplace=True)"
   ]
  },
  {
   "cell_type": "code",
   "execution_count": 7,
   "metadata": {
    "ExecuteTime": {
     "end_time": "2020-06-03T01:56:01.769706Z",
     "start_time": "2020-06-03T01:56:01.757631Z"
    }
   },
   "outputs": [
    {
     "data": {
      "text/plain": [
       "31"
      ]
     },
     "execution_count": 7,
     "metadata": {},
     "output_type": "execute_result"
    }
   ],
   "source": [
    "# 31 teams showing up since it seems like there are some NaN values for team names. Will deal with should it become an issue...\n",
    "len(batting_df.teamAbbrev.unique())"
   ]
  },
  {
   "cell_type": "markdown",
   "metadata": {},
   "source": [
    "### Create New Features for TEAM stats"
   ]
  },
  {
   "cell_type": "code",
   "execution_count": 8,
   "metadata": {
    "ExecuteTime": {
     "end_time": "2020-06-03T01:56:01.845330Z",
     "start_time": "2020-06-03T01:56:01.777986Z"
    },
    "code_folding": [
     0
    ]
   },
   "outputs": [],
   "source": [
    "# THIS IS THE FRAMEWORK TO GENERATE TEAM STATISTICS...\n",
    "# Creating a dataframe containing team annual Batting Averages\n",
    "a = batting_df.groupby(['year', 'teamAbbrev'])['hits'].sum()\n",
    "b = batting_df.groupby(['year', 'teamAbbrev'])['plateAppearances'].sum()\n",
    "a = a.to_frame()\n",
    "b = b.to_frame()\n",
    "BA = a.join(b, on=['year', 'teamAbbrev'])\n",
    "BA['team_BA'] = round((BA['hits']/BA['plateAppearances']), 3)\n",
    "# BA = BA.reset_index()"
   ]
  },
  {
   "cell_type": "code",
   "execution_count": 9,
   "metadata": {
    "ExecuteTime": {
     "end_time": "2020-06-03T01:56:01.872034Z",
     "start_time": "2020-06-03T01:56:01.848595Z"
    },
    "code_folding": [
     0
    ]
   },
   "outputs": [],
   "source": [
    "# Total bases per plate appearance\n",
    "# Commented out. Taking a different approach\n",
    "# batting_df['Total_bases_per_plateappearance'] = (batting_df['totalBases'] / batting_df['plateAppearances'])\n",
    "\n",
    "a = batting_df.groupby(['year', 'teamAbbrev'])['totalBases'].sum()\n",
    "b = batting_df.groupby(['year', 'teamAbbrev'])['plateAppearances'].sum()\n",
    "a = a.to_frame()\n",
    "b = b.to_frame()\n",
    "TB = a.join(b, on=['year', 'teamAbbrev'])\n",
    "TB['total_bases_avg'] = round((TB['totalBases']/TB['plateAppearances']), 3)\n",
    "# TB = TB.reset_index()"
   ]
  },
  {
   "cell_type": "code",
   "execution_count": 10,
   "metadata": {
    "ExecuteTime": {
     "end_time": "2020-06-03T01:56:01.898147Z",
     "start_time": "2020-06-03T01:56:01.874032Z"
    },
    "code_folding": [
     0
    ]
   },
   "outputs": [],
   "source": [
    "# LOB per plate appearnace\n",
    "# Commented out. Taking a different approach\n",
    "# batting_df['LOB_per_plateappearance'] = (batting_df['leftOnBase'] / batting_df['plateAppearances'])\n",
    "\n",
    "a = batting_df.groupby(['year', 'teamAbbrev'])['leftOnBase'].sum()\n",
    "b = batting_df.groupby(['year', 'teamAbbrev'])['plateAppearances'].sum()\n",
    "a = a.to_frame()\n",
    "b = b.to_frame()\n",
    "LOB = a.join(b, on=['year', 'teamAbbrev'])\n",
    "LOB['LOB_avg'] = round((LOB['leftOnBase']/LOB['plateAppearances']), 3)\n",
    "# LOB = LOB.reset_index()"
   ]
  },
  {
   "cell_type": "code",
   "execution_count": 11,
   "metadata": {
    "ExecuteTime": {
     "end_time": "2020-06-03T01:56:01.924451Z",
     "start_time": "2020-06-03T01:56:01.900110Z"
    },
    "code_folding": [
     0
    ]
   },
   "outputs": [],
   "source": [
    "# Runs per plate appearance\n",
    "# Commented out. Taking a different approach\n",
    "#batting_df['runs_per_plateappearance'] = (batting_df['runs'] / batting_df['plateAppearances'])\n",
    "\n",
    "a = batting_df.groupby(['year', 'teamAbbrev'])['runs'].sum()\n",
    "b = batting_df.groupby(['year', 'teamAbbrev'])['plateAppearances'].sum()\n",
    "a = a.to_frame()\n",
    "b = b.to_frame()\n",
    "RUNS = a.join(b, on=['year', 'teamAbbrev'])\n",
    "RUNS['runs_avg'] = round((RUNS['runs']/RUNS['plateAppearances']), 3)\n",
    "# RUNS = RUNS.reset_index()"
   ]
  },
  {
   "cell_type": "code",
   "execution_count": 12,
   "metadata": {
    "ExecuteTime": {
     "end_time": "2020-06-03T01:56:01.950926Z",
     "start_time": "2020-06-03T01:56:01.926506Z"
    },
    "code_folding": [
     0
    ]
   },
   "outputs": [],
   "source": [
    "# K's per AtBat\n",
    "# Commented out. Taking a different approach\n",
    "# batting_df['K_per_plateappearance'] = (batting_df['strikeOuts'] / batting_df['atBats'])\n",
    "\n",
    "a = batting_df.groupby(['year', 'teamAbbrev'])['strikeOuts'].sum()\n",
    "b = batting_df.groupby(['year', 'teamAbbrev'])['atBats'].sum()\n",
    "a = a.to_frame()\n",
    "b = b.to_frame()\n",
    "K = a.join(b, on=['year', 'teamAbbrev'])\n",
    "K['K_avg'] = round((K['strikeOuts']/K['atBats']), 3)\n",
    "# K = K.reset_index()"
   ]
  },
  {
   "cell_type": "code",
   "execution_count": 13,
   "metadata": {
    "ExecuteTime": {
     "end_time": "2020-06-03T01:56:01.976775Z",
     "start_time": "2020-06-03T01:56:01.953190Z"
    },
    "code_folding": [
     0
    ]
   },
   "outputs": [],
   "source": [
    "# BB per plate appearance\n",
    "# Commented out. Taking a different approach\n",
    "# batting_df['BB+IBB_per_plateappearance'] = ((batting_df['baseOnBalls'] + 'took out IBB for simplicity' / batting_df['plateAppearances'])\n",
    "\n",
    "a = batting_df.groupby(['year', 'teamAbbrev'])['baseOnBalls'].sum()\n",
    "b = batting_df.groupby(['year', 'teamAbbrev'])['plateAppearances'].sum()\n",
    "a = a.to_frame()\n",
    "b = b.to_frame()\n",
    "BB = a.join(b, on=['year', 'teamAbbrev'])\n",
    "BB['BB_avg'] = round((BB['baseOnBalls']/BB['plateAppearances']), 3)\n",
    "# BB = BB.reset_index()"
   ]
  },
  {
   "cell_type": "code",
   "execution_count": 14,
   "metadata": {
    "ExecuteTime": {
     "end_time": "2020-06-03T01:56:02.002916Z",
     "start_time": "2020-06-03T01:56:01.979015Z"
    },
    "code_folding": [
     0
    ]
   },
   "outputs": [],
   "source": [
    "# RBI per plate appearance\n",
    "# Commented out. Taking a different approach\n",
    "# batting_df['RBI_per_plateappearance'] = (batting_df['rbi'] / batting_df['atBats'])\n",
    "\n",
    "a = batting_df.groupby(['year', 'teamAbbrev'])['rbi'].sum()\n",
    "b = batting_df.groupby(['year', 'teamAbbrev'])['plateAppearances'].sum()\n",
    "a = a.to_frame()\n",
    "b = b.to_frame()\n",
    "RBI = a.join(b, on=['year', 'teamAbbrev'])\n",
    "RBI['RBI_avg'] = round((RBI['rbi']/RBI['plateAppearances']), 3)\n",
    "# RBI = RBI.reset_index()"
   ]
  },
  {
   "cell_type": "markdown",
   "metadata": {},
   "source": [
    "## Merge all the TEAM stats into one dataframe"
   ]
  },
  {
   "cell_type": "code",
   "execution_count": 15,
   "metadata": {
    "ExecuteTime": {
     "end_time": "2020-06-03T01:56:02.012703Z",
     "start_time": "2020-06-03T01:56:02.005510Z"
    }
   },
   "outputs": [],
   "source": [
    "team_stats_lst = [BA, TB, LOB, RUNS, K, BB, RBI]"
   ]
  },
  {
   "cell_type": "code",
   "execution_count": 16,
   "metadata": {
    "ExecuteTime": {
     "end_time": "2020-06-03T01:56:02.035293Z",
     "start_time": "2020-06-03T01:56:02.016071Z"
    }
   },
   "outputs": [],
   "source": [
    "team_stats = pd.concat(team_stats_lst, join='outer', axis=1)"
   ]
  },
  {
   "cell_type": "code",
   "execution_count": 17,
   "metadata": {
    "ExecuteTime": {
     "end_time": "2020-06-03T01:56:02.050232Z",
     "start_time": "2020-06-03T01:56:02.039444Z"
    }
   },
   "outputs": [],
   "source": [
    "team_stats = team_stats.reset_index()"
   ]
  },
  {
   "cell_type": "code",
   "execution_count": 18,
   "metadata": {
    "ExecuteTime": {
     "end_time": "2020-06-03T01:56:02.111179Z",
     "start_time": "2020-06-03T01:56:02.052169Z"
    }
   },
   "outputs": [
    {
     "data": {
      "text/html": [
       "<div>\n",
       "<style scoped>\n",
       "    .dataframe tbody tr th:only-of-type {\n",
       "        vertical-align: middle;\n",
       "    }\n",
       "\n",
       "    .dataframe tbody tr th {\n",
       "        vertical-align: top;\n",
       "    }\n",
       "\n",
       "    .dataframe thead th {\n",
       "        text-align: right;\n",
       "    }\n",
       "</style>\n",
       "<table border=\"1\" class=\"dataframe\">\n",
       "  <thead>\n",
       "    <tr style=\"text-align: right;\">\n",
       "      <th></th>\n",
       "      <th>year</th>\n",
       "      <th>teamAbbrev</th>\n",
       "      <th>hits</th>\n",
       "      <th>plateAppearances</th>\n",
       "      <th>team_BA</th>\n",
       "      <th>totalBases</th>\n",
       "      <th>plateAppearances</th>\n",
       "      <th>total_bases_avg</th>\n",
       "      <th>leftOnBase</th>\n",
       "      <th>plateAppearances</th>\n",
       "      <th>...</th>\n",
       "      <th>runs_avg</th>\n",
       "      <th>strikeOuts</th>\n",
       "      <th>atBats</th>\n",
       "      <th>K_avg</th>\n",
       "      <th>baseOnBalls</th>\n",
       "      <th>plateAppearances</th>\n",
       "      <th>BB_avg</th>\n",
       "      <th>rbi</th>\n",
       "      <th>plateAppearances</th>\n",
       "      <th>RBI_avg</th>\n",
       "    </tr>\n",
       "  </thead>\n",
       "  <tbody>\n",
       "    <tr>\n",
       "      <th>0</th>\n",
       "      <td>2009</td>\n",
       "      <td>ARI</td>\n",
       "      <td>1310</td>\n",
       "      <td>5858</td>\n",
       "      <td>0.224</td>\n",
       "      <td>2195</td>\n",
       "      <td>5858</td>\n",
       "      <td>0.375</td>\n",
       "      <td>2225</td>\n",
       "      <td>5858</td>\n",
       "      <td>...</td>\n",
       "      <td>0.116</td>\n",
       "      <td>1224</td>\n",
       "      <td>5182</td>\n",
       "      <td>0.236</td>\n",
       "      <td>545</td>\n",
       "      <td>5858</td>\n",
       "      <td>0.093</td>\n",
       "      <td>664</td>\n",
       "      <td>5858</td>\n",
       "      <td>0.113</td>\n",
       "    </tr>\n",
       "    <tr>\n",
       "      <th>1</th>\n",
       "      <td>2009</td>\n",
       "      <td>ATL</td>\n",
       "      <td>1492</td>\n",
       "      <td>6510</td>\n",
       "      <td>0.229</td>\n",
       "      <td>2336</td>\n",
       "      <td>6510</td>\n",
       "      <td>0.359</td>\n",
       "      <td>2432</td>\n",
       "      <td>6510</td>\n",
       "      <td>...</td>\n",
       "      <td>0.119</td>\n",
       "      <td>1137</td>\n",
       "      <td>5678</td>\n",
       "      <td>0.200</td>\n",
       "      <td>637</td>\n",
       "      <td>6510</td>\n",
       "      <td>0.098</td>\n",
       "      <td>723</td>\n",
       "      <td>6510</td>\n",
       "      <td>0.111</td>\n",
       "    </tr>\n",
       "    <tr>\n",
       "      <th>2</th>\n",
       "      <td>2009</td>\n",
       "      <td>BAL</td>\n",
       "      <td>1367</td>\n",
       "      <td>5610</td>\n",
       "      <td>0.244</td>\n",
       "      <td>2107</td>\n",
       "      <td>5610</td>\n",
       "      <td>0.376</td>\n",
       "      <td>2132</td>\n",
       "      <td>5610</td>\n",
       "      <td>...</td>\n",
       "      <td>0.120</td>\n",
       "      <td>913</td>\n",
       "      <td>5073</td>\n",
       "      <td>0.180</td>\n",
       "      <td>449</td>\n",
       "      <td>5610</td>\n",
       "      <td>0.080</td>\n",
       "      <td>628</td>\n",
       "      <td>5610</td>\n",
       "      <td>0.112</td>\n",
       "    </tr>\n",
       "    <tr>\n",
       "      <th>3</th>\n",
       "      <td>2009</td>\n",
       "      <td>BOS</td>\n",
       "      <td>1915</td>\n",
       "      <td>8245</td>\n",
       "      <td>0.232</td>\n",
       "      <td>3151</td>\n",
       "      <td>8245</td>\n",
       "      <td>0.382</td>\n",
       "      <td>3223</td>\n",
       "      <td>8245</td>\n",
       "      <td>...</td>\n",
       "      <td>0.128</td>\n",
       "      <td>1435</td>\n",
       "      <td>7202</td>\n",
       "      <td>0.199</td>\n",
       "      <td>864</td>\n",
       "      <td>8245</td>\n",
       "      <td>0.105</td>\n",
       "      <td>1036</td>\n",
       "      <td>8245</td>\n",
       "      <td>0.126</td>\n",
       "    </tr>\n",
       "    <tr>\n",
       "      <th>4</th>\n",
       "      <td>2009</td>\n",
       "      <td>CHC</td>\n",
       "      <td>1392</td>\n",
       "      <td>6214</td>\n",
       "      <td>0.224</td>\n",
       "      <td>2228</td>\n",
       "      <td>6214</td>\n",
       "      <td>0.359</td>\n",
       "      <td>2458</td>\n",
       "      <td>6214</td>\n",
       "      <td>...</td>\n",
       "      <td>0.113</td>\n",
       "      <td>1176</td>\n",
       "      <td>5459</td>\n",
       "      <td>0.215</td>\n",
       "      <td>590</td>\n",
       "      <td>6214</td>\n",
       "      <td>0.095</td>\n",
       "      <td>679</td>\n",
       "      <td>6214</td>\n",
       "      <td>0.109</td>\n",
       "    </tr>\n",
       "    <tr>\n",
       "      <th>...</th>\n",
       "      <td>...</td>\n",
       "      <td>...</td>\n",
       "      <td>...</td>\n",
       "      <td>...</td>\n",
       "      <td>...</td>\n",
       "      <td>...</td>\n",
       "      <td>...</td>\n",
       "      <td>...</td>\n",
       "      <td>...</td>\n",
       "      <td>...</td>\n",
       "      <td>...</td>\n",
       "      <td>...</td>\n",
       "      <td>...</td>\n",
       "      <td>...</td>\n",
       "      <td>...</td>\n",
       "      <td>...</td>\n",
       "      <td>...</td>\n",
       "      <td>...</td>\n",
       "      <td>...</td>\n",
       "      <td>...</td>\n",
       "      <td>...</td>\n",
       "    </tr>\n",
       "    <tr>\n",
       "      <th>325</th>\n",
       "      <td>2019</td>\n",
       "      <td>STL</td>\n",
       "      <td>1325</td>\n",
       "      <td>6105</td>\n",
       "      <td>0.217</td>\n",
       "      <td>2243</td>\n",
       "      <td>6105</td>\n",
       "      <td>0.367</td>\n",
       "      <td>2248</td>\n",
       "      <td>6105</td>\n",
       "      <td>...</td>\n",
       "      <td>0.124</td>\n",
       "      <td>1406</td>\n",
       "      <td>5393</td>\n",
       "      <td>0.261</td>\n",
       "      <td>555</td>\n",
       "      <td>6105</td>\n",
       "      <td>0.091</td>\n",
       "      <td>707</td>\n",
       "      <td>6105</td>\n",
       "      <td>0.116</td>\n",
       "    </tr>\n",
       "    <tr>\n",
       "      <th>326</th>\n",
       "      <td>2019</td>\n",
       "      <td>TB</td>\n",
       "      <td>1551</td>\n",
       "      <td>6835</td>\n",
       "      <td>0.227</td>\n",
       "      <td>2625</td>\n",
       "      <td>6835</td>\n",
       "      <td>0.384</td>\n",
       "      <td>2580</td>\n",
       "      <td>6835</td>\n",
       "      <td>...</td>\n",
       "      <td>0.122</td>\n",
       "      <td>1587</td>\n",
       "      <td>6103</td>\n",
       "      <td>0.260</td>\n",
       "      <td>601</td>\n",
       "      <td>6835</td>\n",
       "      <td>0.088</td>\n",
       "      <td>788</td>\n",
       "      <td>6835</td>\n",
       "      <td>0.115</td>\n",
       "    </tr>\n",
       "    <tr>\n",
       "      <th>327</th>\n",
       "      <td>2019</td>\n",
       "      <td>TEX</td>\n",
       "      <td>1298</td>\n",
       "      <td>5833</td>\n",
       "      <td>0.223</td>\n",
       "      <td>2260</td>\n",
       "      <td>5833</td>\n",
       "      <td>0.387</td>\n",
       "      <td>2107</td>\n",
       "      <td>5833</td>\n",
       "      <td>...</td>\n",
       "      <td>0.131</td>\n",
       "      <td>1492</td>\n",
       "      <td>5216</td>\n",
       "      <td>0.286</td>\n",
       "      <td>494</td>\n",
       "      <td>5833</td>\n",
       "      <td>0.085</td>\n",
       "      <td>714</td>\n",
       "      <td>5833</td>\n",
       "      <td>0.122</td>\n",
       "    </tr>\n",
       "    <tr>\n",
       "      <th>328</th>\n",
       "      <td>2019</td>\n",
       "      <td>TOR</td>\n",
       "      <td>1116</td>\n",
       "      <td>5403</td>\n",
       "      <td>0.207</td>\n",
       "      <td>2049</td>\n",
       "      <td>5403</td>\n",
       "      <td>0.379</td>\n",
       "      <td>1964</td>\n",
       "      <td>5403</td>\n",
       "      <td>...</td>\n",
       "      <td>0.119</td>\n",
       "      <td>1381</td>\n",
       "      <td>4846</td>\n",
       "      <td>0.285</td>\n",
       "      <td>475</td>\n",
       "      <td>5403</td>\n",
       "      <td>0.088</td>\n",
       "      <td>622</td>\n",
       "      <td>5403</td>\n",
       "      <td>0.115</td>\n",
       "    </tr>\n",
       "    <tr>\n",
       "      <th>329</th>\n",
       "      <td>2019</td>\n",
       "      <td>WSH</td>\n",
       "      <td>1553</td>\n",
       "      <td>6732</td>\n",
       "      <td>0.231</td>\n",
       "      <td>2655</td>\n",
       "      <td>6732</td>\n",
       "      <td>0.394</td>\n",
       "      <td>2498</td>\n",
       "      <td>6732</td>\n",
       "      <td>...</td>\n",
       "      <td>0.138</td>\n",
       "      <td>1411</td>\n",
       "      <td>5921</td>\n",
       "      <td>0.238</td>\n",
       "      <td>630</td>\n",
       "      <td>6732</td>\n",
       "      <td>0.094</td>\n",
       "      <td>881</td>\n",
       "      <td>6732</td>\n",
       "      <td>0.131</td>\n",
       "    </tr>\n",
       "  </tbody>\n",
       "</table>\n",
       "<p>330 rows × 23 columns</p>\n",
       "</div>"
      ],
      "text/plain": [
       "     year teamAbbrev  hits  plateAppearances  team_BA  totalBases  \\\n",
       "0    2009        ARI  1310              5858    0.224        2195   \n",
       "1    2009        ATL  1492              6510    0.229        2336   \n",
       "2    2009        BAL  1367              5610    0.244        2107   \n",
       "3    2009        BOS  1915              8245    0.232        3151   \n",
       "4    2009        CHC  1392              6214    0.224        2228   \n",
       "..    ...        ...   ...               ...      ...         ...   \n",
       "325  2019        STL  1325              6105    0.217        2243   \n",
       "326  2019         TB  1551              6835    0.227        2625   \n",
       "327  2019        TEX  1298              5833    0.223        2260   \n",
       "328  2019        TOR  1116              5403    0.207        2049   \n",
       "329  2019        WSH  1553              6732    0.231        2655   \n",
       "\n",
       "     plateAppearances  total_bases_avg  leftOnBase  plateAppearances  ...  \\\n",
       "0                5858            0.375        2225              5858  ...   \n",
       "1                6510            0.359        2432              6510  ...   \n",
       "2                5610            0.376        2132              5610  ...   \n",
       "3                8245            0.382        3223              8245  ...   \n",
       "4                6214            0.359        2458              6214  ...   \n",
       "..                ...              ...         ...               ...  ...   \n",
       "325              6105            0.367        2248              6105  ...   \n",
       "326              6835            0.384        2580              6835  ...   \n",
       "327              5833            0.387        2107              5833  ...   \n",
       "328              5403            0.379        1964              5403  ...   \n",
       "329              6732            0.394        2498              6732  ...   \n",
       "\n",
       "     runs_avg  strikeOuts  atBats  K_avg  baseOnBalls  plateAppearances  \\\n",
       "0       0.116        1224    5182  0.236          545              5858   \n",
       "1       0.119        1137    5678  0.200          637              6510   \n",
       "2       0.120         913    5073  0.180          449              5610   \n",
       "3       0.128        1435    7202  0.199          864              8245   \n",
       "4       0.113        1176    5459  0.215          590              6214   \n",
       "..        ...         ...     ...    ...          ...               ...   \n",
       "325     0.124        1406    5393  0.261          555              6105   \n",
       "326     0.122        1587    6103  0.260          601              6835   \n",
       "327     0.131        1492    5216  0.286          494              5833   \n",
       "328     0.119        1381    4846  0.285          475              5403   \n",
       "329     0.138        1411    5921  0.238          630              6732   \n",
       "\n",
       "     BB_avg   rbi  plateAppearances  RBI_avg  \n",
       "0     0.093   664              5858    0.113  \n",
       "1     0.098   723              6510    0.111  \n",
       "2     0.080   628              5610    0.112  \n",
       "3     0.105  1036              8245    0.126  \n",
       "4     0.095   679              6214    0.109  \n",
       "..      ...   ...               ...      ...  \n",
       "325   0.091   707              6105    0.116  \n",
       "326   0.088   788              6835    0.115  \n",
       "327   0.085   714              5833    0.122  \n",
       "328   0.088   622              5403    0.115  \n",
       "329   0.094   881              6732    0.131  \n",
       "\n",
       "[330 rows x 23 columns]"
      ]
     },
     "execution_count": 18,
     "metadata": {},
     "output_type": "execute_result"
    }
   ],
   "source": [
    "team_stats"
   ]
  },
  {
   "cell_type": "markdown",
   "metadata": {},
   "source": [
    "## Pitching Feature engineering ideas\n",
    "- Pitching stats will focus on starting pitchers Per9 innings stat (except for certain features)\n",
    "    - 'winningPercentage'\n",
    "    - 'runsScoredPer9'\n",
    "        - 'ops' - may leave out for now...\n",
    "    - 'hitsPer9'\n",
    "    - 'era'\n",
    "    - 'whip'"
   ]
  },
  {
   "cell_type": "code",
   "execution_count": 19,
   "metadata": {
    "ExecuteTime": {
     "end_time": "2020-06-03T01:56:02.143161Z",
     "start_time": "2020-06-03T01:56:02.114059Z"
    }
   },
   "outputs": [
    {
     "data": {
      "text/html": [
       "<div>\n",
       "<style scoped>\n",
       "    .dataframe tbody tr th:only-of-type {\n",
       "        vertical-align: middle;\n",
       "    }\n",
       "\n",
       "    .dataframe tbody tr th {\n",
       "        vertical-align: top;\n",
       "    }\n",
       "\n",
       "    .dataframe thead th {\n",
       "        text-align: right;\n",
       "    }\n",
       "</style>\n",
       "<table border=\"1\" class=\"dataframe\">\n",
       "  <thead>\n",
       "    <tr style=\"text-align: right;\">\n",
       "      <th></th>\n",
       "      <th>year</th>\n",
       "      <th>playerName</th>\n",
       "      <th>teamAbbrev</th>\n",
       "      <th>winningPercentage</th>\n",
       "      <th>runsScoredPer9</th>\n",
       "      <th>ops</th>\n",
       "      <th>strikeoutsPer9</th>\n",
       "      <th>baseOnBallsPer9</th>\n",
       "      <th>homeRunsPer9</th>\n",
       "      <th>hitsPer9</th>\n",
       "      <th>gidp</th>\n",
       "      <th>avg</th>\n",
       "      <th>era</th>\n",
       "      <th>whip</th>\n",
       "      <th>winPercentage</th>\n",
       "      <th>strikeoutsPer9Inn</th>\n",
       "      <th>walksPer9Inn</th>\n",
       "      <th>hitsPer9Inn</th>\n",
       "    </tr>\n",
       "  </thead>\n",
       "  <tbody>\n",
       "    <tr>\n",
       "      <th>0</th>\n",
       "      <td>2009</td>\n",
       "      <td>Nick Adenhart</td>\n",
       "      <td>LAA</td>\n",
       "      <td>.---</td>\n",
       "      <td>4.50</td>\n",
       "      <td>0.662</td>\n",
       "      <td>7.50</td>\n",
       "      <td>4.50</td>\n",
       "      <td>0.00</td>\n",
       "      <td>10.50</td>\n",
       "      <td>1</td>\n",
       "      <td>0.292</td>\n",
       "      <td>0.00</td>\n",
       "      <td>1.67</td>\n",
       "      <td>.---</td>\n",
       "      <td>7.50</td>\n",
       "      <td>4.50</td>\n",
       "      <td>10.50</td>\n",
       "    </tr>\n",
       "    <tr>\n",
       "      <th>1</th>\n",
       "      <td>2009</td>\n",
       "      <td>Mitch Atkins</td>\n",
       "      <td>CHC</td>\n",
       "      <td>.---</td>\n",
       "      <td>0.00</td>\n",
       "      <td>0.286</td>\n",
       "      <td>0.00</td>\n",
       "      <td>0.00</td>\n",
       "      <td>0.00</td>\n",
       "      <td>4.50</td>\n",
       "      <td>1</td>\n",
       "      <td>0.143</td>\n",
       "      <td>0.00</td>\n",
       "      <td>0.50</td>\n",
       "      <td>.---</td>\n",
       "      <td>0.00</td>\n",
       "      <td>0.00</td>\n",
       "      <td>4.50</td>\n",
       "    </tr>\n",
       "    <tr>\n",
       "      <th>2</th>\n",
       "      <td>2009</td>\n",
       "      <td>Ernesto Frieri</td>\n",
       "      <td>SD</td>\n",
       "      <td>.---</td>\n",
       "      <td>0.00</td>\n",
       "      <td>0.143</td>\n",
       "      <td>9.00</td>\n",
       "      <td>4.50</td>\n",
       "      <td>0.00</td>\n",
       "      <td>0.00</td>\n",
       "      <td>0</td>\n",
       "      <td>0.000</td>\n",
       "      <td>0.00</td>\n",
       "      <td>0.50</td>\n",
       "      <td>.---</td>\n",
       "      <td>9.00</td>\n",
       "      <td>4.50</td>\n",
       "      <td>0.00</td>\n",
       "    </tr>\n",
       "    <tr>\n",
       "      <th>3</th>\n",
       "      <td>2009</td>\n",
       "      <td>Ross Gload</td>\n",
       "      <td>FLA</td>\n",
       "      <td>.---</td>\n",
       "      <td>9.00</td>\n",
       "      <td>0.500</td>\n",
       "      <td>0.00</td>\n",
       "      <td>18.00</td>\n",
       "      <td>0.00</td>\n",
       "      <td>0.00</td>\n",
       "      <td>1</td>\n",
       "      <td>0.000</td>\n",
       "      <td>0.00</td>\n",
       "      <td>2.00</td>\n",
       "      <td>.---</td>\n",
       "      <td>0.00</td>\n",
       "      <td>18.00</td>\n",
       "      <td>0.00</td>\n",
       "    </tr>\n",
       "    <tr>\n",
       "      <th>4</th>\n",
       "      <td>2009</td>\n",
       "      <td>Nick Green</td>\n",
       "      <td>BOS</td>\n",
       "      <td>.---</td>\n",
       "      <td>13.50</td>\n",
       "      <td>0.333</td>\n",
       "      <td>0.00</td>\n",
       "      <td>13.50</td>\n",
       "      <td>0.00</td>\n",
       "      <td>0.00</td>\n",
       "      <td>0</td>\n",
       "      <td>0.000</td>\n",
       "      <td>0.00</td>\n",
       "      <td>1.50</td>\n",
       "      <td>.---</td>\n",
       "      <td>0.00</td>\n",
       "      <td>13.50</td>\n",
       "      <td>0.00</td>\n",
       "    </tr>\n",
       "  </tbody>\n",
       "</table>\n",
       "</div>"
      ],
      "text/plain": [
       "   year      playerName teamAbbrev winningPercentage runsScoredPer9    ops  \\\n",
       "0  2009   Nick Adenhart        LAA              .---           4.50  0.662   \n",
       "1  2009    Mitch Atkins        CHC              .---           0.00  0.286   \n",
       "2  2009  Ernesto Frieri         SD              .---           0.00  0.143   \n",
       "3  2009      Ross Gload        FLA              .---           9.00  0.500   \n",
       "4  2009      Nick Green        BOS              .---          13.50  0.333   \n",
       "\n",
       "  strikeoutsPer9 baseOnBallsPer9 homeRunsPer9 hitsPer9  gidp    avg   era  \\\n",
       "0           7.50            4.50         0.00    10.50     1  0.292  0.00   \n",
       "1           0.00            0.00         0.00     4.50     1  0.143  0.00   \n",
       "2           9.00            4.50         0.00     0.00     0  0.000  0.00   \n",
       "3           0.00           18.00         0.00     0.00     1  0.000  0.00   \n",
       "4           0.00           13.50         0.00     0.00     0  0.000  0.00   \n",
       "\n",
       "   whip winPercentage strikeoutsPer9Inn walksPer9Inn hitsPer9Inn  \n",
       "0  1.67          .---              7.50         4.50       10.50  \n",
       "1  0.50          .---              0.00         0.00        4.50  \n",
       "2  0.50          .---              9.00         4.50        0.00  \n",
       "3  2.00          .---              0.00        18.00        0.00  \n",
       "4  1.50          .---              0.00        13.50        0.00  "
      ]
     },
     "execution_count": 19,
     "metadata": {},
     "output_type": "execute_result"
    }
   ],
   "source": [
    "pitching_df.head()"
   ]
  },
  {
   "cell_type": "code",
   "execution_count": 20,
   "metadata": {
    "ExecuteTime": {
     "end_time": "2020-06-03T01:56:02.159050Z",
     "start_time": "2020-06-03T01:56:02.148208Z"
    }
   },
   "outputs": [],
   "source": [
    "pitching_df = pitching_df.reindex(columns=['year', 'playerName', 'teamAbbrev', 'winningPercentage',\n",
    "       'runsScoredPer9', 'hitsPer9', 'strikeoutsPer9', 'baseOnBallsPer9',\n",
    "       'homeRunsPer9', 'era', 'whip', 'ops', 'gidp', 'avg'])\n",
    "# Columns to be left out from the reindexing --- 'winPercentage', 'strikeoutsPer9Inn', 'walksPer9Inn', 'hitsPer9Inn'"
   ]
  },
  {
   "cell_type": "code",
   "execution_count": 21,
   "metadata": {
    "ExecuteTime": {
     "end_time": "2020-06-03T01:56:02.177170Z",
     "start_time": "2020-06-03T01:56:02.164304Z"
    }
   },
   "outputs": [],
   "source": [
    "# MIA & FLO are different. Standardizing to MIA\n",
    "pitching_df.replace(to_replace='FLA', value='MIA', inplace=True)"
   ]
  },
  {
   "cell_type": "code",
   "execution_count": 22,
   "metadata": {
    "ExecuteTime": {
     "end_time": "2020-06-03T01:56:02.191248Z",
     "start_time": "2020-06-03T01:56:02.180507Z"
    }
   },
   "outputs": [
    {
     "data": {
      "text/plain": [
       "31"
      ]
     },
     "execution_count": 22,
     "metadata": {},
     "output_type": "execute_result"
    }
   ],
   "source": [
    "# 31 teams showing up since it seems like there are some NaN values for team names. Will deal with should it become an issue...\n",
    "len(pitching_df.teamAbbrev.unique())"
   ]
  },
  {
   "cell_type": "markdown",
   "metadata": {},
   "source": [
    "## Game DF Feature ideas\n",
    "- Turn VisitorRunsScored & HomeRunsScore into a column that indicates if the home team won - DONE.\n",
    "- Combine VisitorHBP & VisitorBB & VisitorIBB into a single column containing all the stats - DONE.\n",
    "- Same with HomeHBP & HomeBB & HomeIBB - DONE.\n",
    "<br/><br/>\n",
    "- Combine VisitorH / VisitorAB = team_BA - DONE.\n",
    "- Same with HomeH / HomeAB - DONE. \n",
    "<br/><br/>\n",
    "- Eventually add on all the other engineered features into this dataframe...\n",
    "<br/><br/>\n",
    "- Since the game_df has a date column, I'd like to leverage that to look at 7-day-trends, 14-day-trends, etc"
   ]
  },
  {
   "cell_type": "code",
   "execution_count": 24,
   "metadata": {
    "ExecuteTime": {
     "end_time": "2020-06-03T01:56:02.250858Z",
     "start_time": "2020-06-03T01:56:02.243020Z"
    }
   },
   "outputs": [],
   "source": [
    "# Creating a Target for the model to eventually train on\n",
    "game_df['Home_team_won?'] = game_df['HomeRunsScore'] > game_df['VisitorRunsScored']"
   ]
  },
  {
   "cell_type": "code",
   "execution_count": 25,
   "metadata": {
    "ExecuteTime": {
     "end_time": "2020-06-03T01:56:02.259742Z",
     "start_time": "2020-06-03T01:56:02.254049Z"
    }
   },
   "outputs": [],
   "source": [
    "# game_df['Visitor_HBP+BB+IBB'] = game_df['VisitorHBP'] + game_df['VisitorBB'] + game_df['VisitorIBB']\n",
    "# game_df['Home_HBP+BB+IBB'] = game_df['HomeHBP'] + game_df['HomeBB'] + game_df['HomeIBB']\n",
    "\n",
    "# Commenting out for now until I figure out if I need to drop these or not...\n",
    "# game_df.drop(['VisitorHBP', 'VisitorBB', 'VisitorIBB', 'HomeHBP', 'HomeBB', 'HomeIBB'], axis=1, inplace=True)"
   ]
  },
  {
   "cell_type": "code",
   "execution_count": 26,
   "metadata": {
    "ExecuteTime": {
     "end_time": "2020-06-03T01:56:02.283533Z",
     "start_time": "2020-06-03T01:56:02.268800Z"
    }
   },
   "outputs": [],
   "source": [
    "# Adding a Home & Away BA per game to compare batting trends over time\n",
    "game_df['Visitor_BA'] = round((game_df['VisitorH'] / game_df['VisitorAB']), 3)\n",
    "game_df['Home_BA'] = round((game_df['HomeH'] / game_df['HomeAB']), 3)"
   ]
  },
  {
   "cell_type": "code",
   "execution_count": 27,
   "metadata": {
    "ExecuteTime": {
     "end_time": "2020-06-03T01:56:02.333872Z",
     "start_time": "2020-06-03T01:56:02.286794Z"
    }
   },
   "outputs": [],
   "source": [
    "# Creating a new column in order to add Date/Time to my dataframe\n",
    "game_df['New_Date'] = pd.to_datetime(game_df['Date'].astype(str), format='%Y%m%d')"
   ]
  },
  {
   "cell_type": "code",
   "execution_count": 28,
   "metadata": {
    "ExecuteTime": {
     "end_time": "2020-06-03T01:56:02.358684Z",
     "start_time": "2020-06-03T01:56:02.336779Z"
    }
   },
   "outputs": [],
   "source": [
    "# Rearranging columns so new date/time is at the front of the DF\n",
    "game_df = game_df.reindex(columns=['New_Date','Date', 'VisitingTeam','VisitorStartingPitcherName',\n",
    "                                 'HomeTeam','HomeStartingPitcherName', 'VisitorRunsScored',\n",
    "       'HomeRunsScore', 'VisitorAB', 'VisitorH','Visitor_BA', 'VisitorHBP', 'VisitorBB',\n",
    "       'VisitorIBB', 'VisitorLOB', 'HomeAB', 'HomeH', 'Home_BA', 'HomeHBP', 'HomeBB', 'HomeIBB', 'HomeLOB', 'Home_team_won?'])\n",
    "game_df.drop('Date', axis='columns', inplace=True)"
   ]
  },
  {
   "cell_type": "code",
   "execution_count": 29,
   "metadata": {
    "ExecuteTime": {
     "end_time": "2020-06-03T01:56:02.787091Z",
     "start_time": "2020-06-03T01:56:02.362084Z"
    }
   },
   "outputs": [],
   "source": [
    "# Had an extra team due to the Marlins having two different labels. Updating their team name to MIA\n",
    "game_df.replace(to_replace='FLO', value='MIA', inplace=True)\n",
    "# Updating game_df so team abbreviations match. Will be leveraged when aggregating teams stats\n",
    "game_df.replace(to_replace={\"NYA\":\"NYY\", \"SDN\":\"SD\", \"CHN\":\"CHC\", \"SLN\":\"STL\", \"SFN\":\"SF\", \"LAN\":\"LAD\", \"TBA\":\"TB\", \"KCA\":\"KC\", \"CHA\":\"CWS\", \"ANA\":\"LAA\", \"NYN\":\"NYM\"}, inplace=True)"
   ]
  },
  {
   "cell_type": "code",
   "execution_count": 30,
   "metadata": {
    "ExecuteTime": {
     "end_time": "2020-06-03T01:56:02.800160Z",
     "start_time": "2020-06-03T01:56:02.789311Z"
    },
    "code_folding": [
     0
    ]
   },
   "outputs": [
    {
     "data": {
      "text/plain": [
       "30"
      ]
     },
     "execution_count": 30,
     "metadata": {},
     "output_type": "execute_result"
    }
   ],
   "source": [
    "# game_df has 30 teams. Perfect!\n",
    "len(game_df.VisitingTeam.unique())"
   ]
  },
  {
   "cell_type": "markdown",
   "metadata": {},
   "source": [
    "## Add Pitching Stats to Game_DF"
   ]
  },
  {
   "cell_type": "markdown",
   "metadata": {
    "ExecuteTime": {
     "end_time": "2020-06-03T02:12:33.001105Z",
     "start_time": "2020-06-03T02:12:32.993714Z"
    }
   },
   "source": [
    "#### Pitching Feature engineering ideas\n",
    "- Pitching stats will focus on starting pitchers Per9 innings stat (except for certain features)\n",
    "    - 'winningPercentage'\n",
    "    - 'runsScoredPer9'\n",
    "        - 'ops' - may leave out for now...\n",
    "    - 'hitsPer9'\n",
    "    - 'era'\n",
    "    - 'whip'"
   ]
  },
  {
   "cell_type": "code",
   "execution_count": 38,
   "metadata": {
    "ExecuteTime": {
     "end_time": "2020-06-03T02:14:14.918362Z",
     "start_time": "2020-06-03T02:14:14.894300Z"
    }
   },
   "outputs": [
    {
     "data": {
      "text/html": [
       "<div>\n",
       "<style scoped>\n",
       "    .dataframe tbody tr th:only-of-type {\n",
       "        vertical-align: middle;\n",
       "    }\n",
       "\n",
       "    .dataframe tbody tr th {\n",
       "        vertical-align: top;\n",
       "    }\n",
       "\n",
       "    .dataframe thead th {\n",
       "        text-align: right;\n",
       "    }\n",
       "</style>\n",
       "<table border=\"1\" class=\"dataframe\">\n",
       "  <thead>\n",
       "    <tr style=\"text-align: right;\">\n",
       "      <th></th>\n",
       "      <th>year</th>\n",
       "      <th>playerName</th>\n",
       "      <th>teamAbbrev</th>\n",
       "      <th>winningPercentage</th>\n",
       "      <th>runsScoredPer9</th>\n",
       "      <th>hitsPer9</th>\n",
       "      <th>strikeoutsPer9</th>\n",
       "      <th>baseOnBallsPer9</th>\n",
       "      <th>homeRunsPer9</th>\n",
       "      <th>era</th>\n",
       "      <th>whip</th>\n",
       "      <th>ops</th>\n",
       "      <th>gidp</th>\n",
       "      <th>avg</th>\n",
       "    </tr>\n",
       "  </thead>\n",
       "  <tbody>\n",
       "    <tr>\n",
       "      <th>0</th>\n",
       "      <td>2009</td>\n",
       "      <td>Nick Adenhart</td>\n",
       "      <td>LAA</td>\n",
       "      <td>.---</td>\n",
       "      <td>4.50</td>\n",
       "      <td>10.50</td>\n",
       "      <td>7.50</td>\n",
       "      <td>4.50</td>\n",
       "      <td>0.00</td>\n",
       "      <td>0.00</td>\n",
       "      <td>1.67</td>\n",
       "      <td>0.662</td>\n",
       "      <td>1</td>\n",
       "      <td>0.292</td>\n",
       "    </tr>\n",
       "    <tr>\n",
       "      <th>1</th>\n",
       "      <td>2009</td>\n",
       "      <td>Mitch Atkins</td>\n",
       "      <td>CHC</td>\n",
       "      <td>.---</td>\n",
       "      <td>0.00</td>\n",
       "      <td>4.50</td>\n",
       "      <td>0.00</td>\n",
       "      <td>0.00</td>\n",
       "      <td>0.00</td>\n",
       "      <td>0.00</td>\n",
       "      <td>0.50</td>\n",
       "      <td>0.286</td>\n",
       "      <td>1</td>\n",
       "      <td>0.143</td>\n",
       "    </tr>\n",
       "    <tr>\n",
       "      <th>2</th>\n",
       "      <td>2009</td>\n",
       "      <td>Ernesto Frieri</td>\n",
       "      <td>SD</td>\n",
       "      <td>.---</td>\n",
       "      <td>0.00</td>\n",
       "      <td>0.00</td>\n",
       "      <td>9.00</td>\n",
       "      <td>4.50</td>\n",
       "      <td>0.00</td>\n",
       "      <td>0.00</td>\n",
       "      <td>0.50</td>\n",
       "      <td>0.143</td>\n",
       "      <td>0</td>\n",
       "      <td>0.000</td>\n",
       "    </tr>\n",
       "    <tr>\n",
       "      <th>3</th>\n",
       "      <td>2009</td>\n",
       "      <td>Ross Gload</td>\n",
       "      <td>MIA</td>\n",
       "      <td>.---</td>\n",
       "      <td>9.00</td>\n",
       "      <td>0.00</td>\n",
       "      <td>0.00</td>\n",
       "      <td>18.00</td>\n",
       "      <td>0.00</td>\n",
       "      <td>0.00</td>\n",
       "      <td>2.00</td>\n",
       "      <td>0.500</td>\n",
       "      <td>1</td>\n",
       "      <td>0.000</td>\n",
       "    </tr>\n",
       "    <tr>\n",
       "      <th>4</th>\n",
       "      <td>2009</td>\n",
       "      <td>Nick Green</td>\n",
       "      <td>BOS</td>\n",
       "      <td>.---</td>\n",
       "      <td>13.50</td>\n",
       "      <td>0.00</td>\n",
       "      <td>0.00</td>\n",
       "      <td>13.50</td>\n",
       "      <td>0.00</td>\n",
       "      <td>0.00</td>\n",
       "      <td>1.50</td>\n",
       "      <td>0.333</td>\n",
       "      <td>0</td>\n",
       "      <td>0.000</td>\n",
       "    </tr>\n",
       "  </tbody>\n",
       "</table>\n",
       "</div>"
      ],
      "text/plain": [
       "   year      playerName teamAbbrev winningPercentage runsScoredPer9 hitsPer9  \\\n",
       "0  2009   Nick Adenhart        LAA              .---           4.50    10.50   \n",
       "1  2009    Mitch Atkins        CHC              .---           0.00     4.50   \n",
       "2  2009  Ernesto Frieri         SD              .---           0.00     0.00   \n",
       "3  2009      Ross Gload        MIA              .---           9.00     0.00   \n",
       "4  2009      Nick Green        BOS              .---          13.50     0.00   \n",
       "\n",
       "  strikeoutsPer9 baseOnBallsPer9 homeRunsPer9   era  whip    ops  gidp    avg  \n",
       "0           7.50            4.50         0.00  0.00  1.67  0.662     1  0.292  \n",
       "1           0.00            0.00         0.00  0.00  0.50  0.286     1  0.143  \n",
       "2           9.00            4.50         0.00  0.00  0.50  0.143     0  0.000  \n",
       "3           0.00           18.00         0.00  0.00  2.00  0.500     1  0.000  \n",
       "4           0.00           13.50         0.00  0.00  1.50  0.333     0  0.000  "
      ]
     },
     "execution_count": 38,
     "metadata": {},
     "output_type": "execute_result"
    }
   ],
   "source": [
    "pitching_df.head()"
   ]
  },
  {
   "cell_type": "code",
   "execution_count": 42,
   "metadata": {
    "ExecuteTime": {
     "end_time": "2020-06-03T02:18:11.542662Z",
     "start_time": "2020-06-03T02:18:11.528992Z"
    }
   },
   "outputs": [
    {
     "data": {
      "text/plain": [
       "0        2010\n",
       "1        2010\n",
       "2        2010\n",
       "3        2010\n",
       "4        2010\n",
       "         ... \n",
       "24292    2019\n",
       "24293    2019\n",
       "24294    2019\n",
       "24295    2019\n",
       "24296    2019\n",
       "Name: New_Date, Length: 24297, dtype: int64"
      ]
     },
     "execution_count": 42,
     "metadata": {},
     "output_type": "execute_result"
    }
   ],
   "source": [
    "# How to Access the\n",
    "game_df['New_Date'].dt.year"
   ]
  },
  {
   "cell_type": "code",
   "execution_count": 36,
   "metadata": {
    "ExecuteTime": {
     "end_time": "2020-06-03T02:10:45.292399Z",
     "start_time": "2020-06-03T02:10:45.226428Z"
    }
   },
   "outputs": [
    {
     "data": {
      "text/html": [
       "<div>\n",
       "<style scoped>\n",
       "    .dataframe tbody tr th:only-of-type {\n",
       "        vertical-align: middle;\n",
       "    }\n",
       "\n",
       "    .dataframe tbody tr th {\n",
       "        vertical-align: top;\n",
       "    }\n",
       "\n",
       "    .dataframe thead th {\n",
       "        text-align: right;\n",
       "    }\n",
       "</style>\n",
       "<table border=\"1\" class=\"dataframe\">\n",
       "  <thead>\n",
       "    <tr style=\"text-align: right;\">\n",
       "      <th></th>\n",
       "      <th>New_Date</th>\n",
       "      <th>VisitingTeam</th>\n",
       "      <th>VisitorStartingPitcherName</th>\n",
       "      <th>HomeTeam</th>\n",
       "      <th>HomeStartingPitcherName</th>\n",
       "      <th>VisitorRunsScored</th>\n",
       "      <th>HomeRunsScore</th>\n",
       "      <th>VisitorAB</th>\n",
       "      <th>VisitorH</th>\n",
       "      <th>Visitor_BA</th>\n",
       "      <th>...</th>\n",
       "      <th>VisitorIBB</th>\n",
       "      <th>VisitorLOB</th>\n",
       "      <th>HomeAB</th>\n",
       "      <th>HomeH</th>\n",
       "      <th>Home_BA</th>\n",
       "      <th>HomeHBP</th>\n",
       "      <th>HomeBB</th>\n",
       "      <th>HomeIBB</th>\n",
       "      <th>HomeLOB</th>\n",
       "      <th>Home_team_won?</th>\n",
       "    </tr>\n",
       "  </thead>\n",
       "  <tbody>\n",
       "    <tr>\n",
       "      <th>0</th>\n",
       "      <td>2010-04-04</td>\n",
       "      <td>NYY</td>\n",
       "      <td>CC Sabathia</td>\n",
       "      <td>BOS</td>\n",
       "      <td>Josh Beckett</td>\n",
       "      <td>7</td>\n",
       "      <td>9</td>\n",
       "      <td>37</td>\n",
       "      <td>12</td>\n",
       "      <td>0.324</td>\n",
       "      <td>...</td>\n",
       "      <td>0</td>\n",
       "      <td>9</td>\n",
       "      <td>34</td>\n",
       "      <td>12</td>\n",
       "      <td>0.353</td>\n",
       "      <td>0</td>\n",
       "      <td>4</td>\n",
       "      <td>0</td>\n",
       "      <td>6</td>\n",
       "      <td>True</td>\n",
       "    </tr>\n",
       "    <tr>\n",
       "      <th>1</th>\n",
       "      <td>2010-04-05</td>\n",
       "      <td>MIN</td>\n",
       "      <td>Scott Baker</td>\n",
       "      <td>LAA</td>\n",
       "      <td>Jered Weaver</td>\n",
       "      <td>3</td>\n",
       "      <td>6</td>\n",
       "      <td>32</td>\n",
       "      <td>7</td>\n",
       "      <td>0.219</td>\n",
       "      <td>...</td>\n",
       "      <td>0</td>\n",
       "      <td>7</td>\n",
       "      <td>33</td>\n",
       "      <td>9</td>\n",
       "      <td>0.273</td>\n",
       "      <td>0</td>\n",
       "      <td>3</td>\n",
       "      <td>0</td>\n",
       "      <td>6</td>\n",
       "      <td>True</td>\n",
       "    </tr>\n",
       "    <tr>\n",
       "      <th>2</th>\n",
       "      <td>2010-04-05</td>\n",
       "      <td>CLE</td>\n",
       "      <td>Jake Westbrook</td>\n",
       "      <td>CWS</td>\n",
       "      <td>Mark Buehrle</td>\n",
       "      <td>0</td>\n",
       "      <td>6</td>\n",
       "      <td>30</td>\n",
       "      <td>4</td>\n",
       "      <td>0.133</td>\n",
       "      <td>...</td>\n",
       "      <td>0</td>\n",
       "      <td>4</td>\n",
       "      <td>28</td>\n",
       "      <td>6</td>\n",
       "      <td>0.214</td>\n",
       "      <td>2</td>\n",
       "      <td>5</td>\n",
       "      <td>0</td>\n",
       "      <td>5</td>\n",
       "      <td>True</td>\n",
       "    </tr>\n",
       "    <tr>\n",
       "      <th>3</th>\n",
       "      <td>2010-04-05</td>\n",
       "      <td>DET</td>\n",
       "      <td>Justin Verlander</td>\n",
       "      <td>KC</td>\n",
       "      <td>Zack Greinke</td>\n",
       "      <td>8</td>\n",
       "      <td>4</td>\n",
       "      <td>39</td>\n",
       "      <td>12</td>\n",
       "      <td>0.308</td>\n",
       "      <td>...</td>\n",
       "      <td>0</td>\n",
       "      <td>6</td>\n",
       "      <td>35</td>\n",
       "      <td>9</td>\n",
       "      <td>0.257</td>\n",
       "      <td>0</td>\n",
       "      <td>2</td>\n",
       "      <td>0</td>\n",
       "      <td>7</td>\n",
       "      <td>False</td>\n",
       "    </tr>\n",
       "    <tr>\n",
       "      <th>4</th>\n",
       "      <td>2010-04-05</td>\n",
       "      <td>SEA</td>\n",
       "      <td>Felix Hernandez</td>\n",
       "      <td>OAK</td>\n",
       "      <td>Ben Sheets</td>\n",
       "      <td>5</td>\n",
       "      <td>3</td>\n",
       "      <td>31</td>\n",
       "      <td>6</td>\n",
       "      <td>0.194</td>\n",
       "      <td>...</td>\n",
       "      <td>1</td>\n",
       "      <td>8</td>\n",
       "      <td>28</td>\n",
       "      <td>5</td>\n",
       "      <td>0.179</td>\n",
       "      <td>0</td>\n",
       "      <td>7</td>\n",
       "      <td>0</td>\n",
       "      <td>5</td>\n",
       "      <td>False</td>\n",
       "    </tr>\n",
       "    <tr>\n",
       "      <th>...</th>\n",
       "      <td>...</td>\n",
       "      <td>...</td>\n",
       "      <td>...</td>\n",
       "      <td>...</td>\n",
       "      <td>...</td>\n",
       "      <td>...</td>\n",
       "      <td>...</td>\n",
       "      <td>...</td>\n",
       "      <td>...</td>\n",
       "      <td>...</td>\n",
       "      <td>...</td>\n",
       "      <td>...</td>\n",
       "      <td>...</td>\n",
       "      <td>...</td>\n",
       "      <td>...</td>\n",
       "      <td>...</td>\n",
       "      <td>...</td>\n",
       "      <td>...</td>\n",
       "      <td>...</td>\n",
       "      <td>...</td>\n",
       "      <td>...</td>\n",
       "    </tr>\n",
       "    <tr>\n",
       "      <th>24292</th>\n",
       "      <td>2019-09-29</td>\n",
       "      <td>DET</td>\n",
       "      <td>Spencer Turnbull</td>\n",
       "      <td>CWS</td>\n",
       "      <td>Ross Detwiler</td>\n",
       "      <td>3</td>\n",
       "      <td>5</td>\n",
       "      <td>31</td>\n",
       "      <td>7</td>\n",
       "      <td>0.226</td>\n",
       "      <td>...</td>\n",
       "      <td>0</td>\n",
       "      <td>4</td>\n",
       "      <td>28</td>\n",
       "      <td>4</td>\n",
       "      <td>0.143</td>\n",
       "      <td>3</td>\n",
       "      <td>1</td>\n",
       "      <td>0</td>\n",
       "      <td>3</td>\n",
       "      <td>True</td>\n",
       "    </tr>\n",
       "    <tr>\n",
       "      <th>24293</th>\n",
       "      <td>2019-09-29</td>\n",
       "      <td>MIN</td>\n",
       "      <td>Martin Perez</td>\n",
       "      <td>KC</td>\n",
       "      <td>Jorge Lopez</td>\n",
       "      <td>4</td>\n",
       "      <td>5</td>\n",
       "      <td>32</td>\n",
       "      <td>6</td>\n",
       "      <td>0.188</td>\n",
       "      <td>...</td>\n",
       "      <td>0</td>\n",
       "      <td>2</td>\n",
       "      <td>33</td>\n",
       "      <td>9</td>\n",
       "      <td>0.273</td>\n",
       "      <td>0</td>\n",
       "      <td>3</td>\n",
       "      <td>0</td>\n",
       "      <td>7</td>\n",
       "      <td>True</td>\n",
       "    </tr>\n",
       "    <tr>\n",
       "      <th>24294</th>\n",
       "      <td>2019-09-29</td>\n",
       "      <td>OAK</td>\n",
       "      <td>Tanner Roark</td>\n",
       "      <td>SEA</td>\n",
       "      <td>Justin Dunn</td>\n",
       "      <td>1</td>\n",
       "      <td>3</td>\n",
       "      <td>30</td>\n",
       "      <td>3</td>\n",
       "      <td>0.100</td>\n",
       "      <td>...</td>\n",
       "      <td>0</td>\n",
       "      <td>6</td>\n",
       "      <td>31</td>\n",
       "      <td>7</td>\n",
       "      <td>0.226</td>\n",
       "      <td>0</td>\n",
       "      <td>5</td>\n",
       "      <td>0</td>\n",
       "      <td>9</td>\n",
       "      <td>True</td>\n",
       "    </tr>\n",
       "    <tr>\n",
       "      <th>24295</th>\n",
       "      <td>2019-09-29</td>\n",
       "      <td>NYY</td>\n",
       "      <td>Chad Green</td>\n",
       "      <td>TEX</td>\n",
       "      <td>Lance Lynn</td>\n",
       "      <td>1</td>\n",
       "      <td>6</td>\n",
       "      <td>30</td>\n",
       "      <td>3</td>\n",
       "      <td>0.100</td>\n",
       "      <td>...</td>\n",
       "      <td>0</td>\n",
       "      <td>3</td>\n",
       "      <td>31</td>\n",
       "      <td>10</td>\n",
       "      <td>0.323</td>\n",
       "      <td>1</td>\n",
       "      <td>4</td>\n",
       "      <td>0</td>\n",
       "      <td>7</td>\n",
       "      <td>True</td>\n",
       "    </tr>\n",
       "    <tr>\n",
       "      <th>24296</th>\n",
       "      <td>2019-09-29</td>\n",
       "      <td>TB</td>\n",
       "      <td>Blake Snell</td>\n",
       "      <td>TOR</td>\n",
       "      <td>Clay Buchholz</td>\n",
       "      <td>3</td>\n",
       "      <td>8</td>\n",
       "      <td>36</td>\n",
       "      <td>9</td>\n",
       "      <td>0.250</td>\n",
       "      <td>...</td>\n",
       "      <td>0</td>\n",
       "      <td>7</td>\n",
       "      <td>35</td>\n",
       "      <td>11</td>\n",
       "      <td>0.314</td>\n",
       "      <td>1</td>\n",
       "      <td>3</td>\n",
       "      <td>0</td>\n",
       "      <td>7</td>\n",
       "      <td>True</td>\n",
       "    </tr>\n",
       "  </tbody>\n",
       "</table>\n",
       "<p>24297 rows × 22 columns</p>\n",
       "</div>"
      ],
      "text/plain": [
       "        New_Date VisitingTeam VisitorStartingPitcherName HomeTeam  \\\n",
       "0     2010-04-04          NYY                CC Sabathia      BOS   \n",
       "1     2010-04-05          MIN                Scott Baker      LAA   \n",
       "2     2010-04-05          CLE             Jake Westbrook      CWS   \n",
       "3     2010-04-05          DET           Justin Verlander       KC   \n",
       "4     2010-04-05          SEA            Felix Hernandez      OAK   \n",
       "...          ...          ...                        ...      ...   \n",
       "24292 2019-09-29          DET           Spencer Turnbull      CWS   \n",
       "24293 2019-09-29          MIN               Martin Perez       KC   \n",
       "24294 2019-09-29          OAK               Tanner Roark      SEA   \n",
       "24295 2019-09-29          NYY                 Chad Green      TEX   \n",
       "24296 2019-09-29           TB                Blake Snell      TOR   \n",
       "\n",
       "      HomeStartingPitcherName  VisitorRunsScored  HomeRunsScore  VisitorAB  \\\n",
       "0                Josh Beckett                  7              9         37   \n",
       "1                Jered Weaver                  3              6         32   \n",
       "2                Mark Buehrle                  0              6         30   \n",
       "3                Zack Greinke                  8              4         39   \n",
       "4                  Ben Sheets                  5              3         31   \n",
       "...                       ...                ...            ...        ...   \n",
       "24292           Ross Detwiler                  3              5         31   \n",
       "24293             Jorge Lopez                  4              5         32   \n",
       "24294             Justin Dunn                  1              3         30   \n",
       "24295              Lance Lynn                  1              6         30   \n",
       "24296           Clay Buchholz                  3              8         36   \n",
       "\n",
       "       VisitorH  Visitor_BA  ...  VisitorIBB  VisitorLOB  HomeAB  HomeH  \\\n",
       "0            12       0.324  ...           0           9      34     12   \n",
       "1             7       0.219  ...           0           7      33      9   \n",
       "2             4       0.133  ...           0           4      28      6   \n",
       "3            12       0.308  ...           0           6      35      9   \n",
       "4             6       0.194  ...           1           8      28      5   \n",
       "...         ...         ...  ...         ...         ...     ...    ...   \n",
       "24292         7       0.226  ...           0           4      28      4   \n",
       "24293         6       0.188  ...           0           2      33      9   \n",
       "24294         3       0.100  ...           0           6      31      7   \n",
       "24295         3       0.100  ...           0           3      31     10   \n",
       "24296         9       0.250  ...           0           7      35     11   \n",
       "\n",
       "       Home_BA  HomeHBP  HomeBB  HomeIBB  HomeLOB  Home_team_won?  \n",
       "0        0.353        0       4        0        6            True  \n",
       "1        0.273        0       3        0        6            True  \n",
       "2        0.214        2       5        0        5            True  \n",
       "3        0.257        0       2        0        7           False  \n",
       "4        0.179        0       7        0        5           False  \n",
       "...        ...      ...     ...      ...      ...             ...  \n",
       "24292    0.143        3       1        0        3            True  \n",
       "24293    0.273        0       3        0        7            True  \n",
       "24294    0.226        0       5        0        9            True  \n",
       "24295    0.323        1       4        0        7            True  \n",
       "24296    0.314        1       3        0        7            True  \n",
       "\n",
       "[24297 rows x 22 columns]"
      ]
     },
     "execution_count": 36,
     "metadata": {},
     "output_type": "execute_result"
    }
   ],
   "source": [
    "game_df['prior_year_Visiting_SP_winningPercentage'] = pitching_df[]\n"
   ]
  },
  {
   "cell_type": "code",
   "execution_count": null,
   "metadata": {},
   "outputs": [],
   "source": []
  }
 ],
 "metadata": {
  "kernelspec": {
   "display_name": "Python 3",
   "language": "python",
   "name": "python3"
  },
  "language_info": {
   "codemirror_mode": {
    "name": "ipython",
    "version": 3
   },
   "file_extension": ".py",
   "mimetype": "text/x-python",
   "name": "python",
   "nbconvert_exporter": "python",
   "pygments_lexer": "ipython3",
   "version": "3.7.7"
  }
 },
 "nbformat": 4,
 "nbformat_minor": 4
}
