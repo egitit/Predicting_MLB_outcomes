{
 "cells": [
  {
   "cell_type": "code",
   "execution_count": 1,
   "metadata": {
    "ExecuteTime": {
     "end_time": "2020-06-02T23:42:54.084119Z",
     "start_time": "2020-06-02T23:42:53.544507Z"
    }
   },
   "outputs": [],
   "source": [
    "import pandas as pd"
   ]
  },
  {
   "cell_type": "code",
   "execution_count": 2,
   "metadata": {
    "ExecuteTime": {
     "end_time": "2020-06-02T23:42:54.093865Z",
     "start_time": "2020-06-02T23:42:54.087161Z"
    }
   },
   "outputs": [],
   "source": [
    "file = '/Users/Lisa/_MLB_Prediction_capstone/cleaned_batting_df.csv'\n",
    "file2 = '/Users/Lisa/_MLB_Prediction_capstone/cleaned_piching_df.csv'\n",
    "file3 = '/Users/Lisa/_MLB_Prediction_capstone/cleaned_game_df.csv'"
   ]
  },
  {
   "cell_type": "code",
   "execution_count": 3,
   "metadata": {
    "ExecuteTime": {
     "end_time": "2020-06-02T23:42:54.235199Z",
     "start_time": "2020-06-02T23:42:54.098587Z"
    }
   },
   "outputs": [],
   "source": [
    "batting_df = pd.read_csv(file)\n",
    "pitching_df = pd.read_csv(file2)\n",
    "game_df = pd.read_csv(file3)"
   ]
  },
  {
   "cell_type": "code",
   "execution_count": 4,
   "metadata": {
    "ExecuteTime": {
     "end_time": "2020-06-02T23:42:54.253439Z",
     "start_time": "2020-06-02T23:42:54.237183Z"
    }
   },
   "outputs": [],
   "source": [
    "batting_df.drop('Unnamed: 0', axis=1, inplace=True)\n",
    "pitching_df.drop('Unnamed: 0', axis=1, inplace=True)\n",
    "game_df.drop('Unnamed: 0', axis=1, inplace=True)"
   ]
  },
  {
   "cell_type": "markdown",
   "metadata": {},
   "source": [
    "## Batting Feature engineering ideas\n",
    "- All of these stats will be on a PER PLATE APPEARANCE then divide by 162 to get PER GAME STATS\n",
    "    - Team stats will be summed up and averaged - Will ultimately be compared to a teams 7 day trends history\n",
    "        - 'totalBases' / total 'plateAppearances' - DONE\n",
    "        - 'leftonbase'/ total 'plateAppearances' - DONE\n",
    "        - 'runs' / total 'plateAppearances' - DONE\n",
    "        - 'strikeOuts' / total 'atBats' - DONE\n",
    "        - 'baseOnBalls' + 'intentionalWalks' / total 'plateAppearances' - DONE\n",
    "            - 'hits' / total 'atBats' --- Leverage for game_df. get team stats per game...\n",
    "            - 'obp' / # of batters on team --- Same as above\n",
    "        - 'rbi' / total 'atBats' - DONE"
   ]
  },
  {
   "cell_type": "code",
   "execution_count": 5,
   "metadata": {
    "ExecuteTime": {
     "end_time": "2020-06-02T23:42:54.292719Z",
     "start_time": "2020-06-02T23:42:54.256739Z"
    },
    "scrolled": true
   },
   "outputs": [
    {
     "data": {
      "text/html": [
       "<div>\n",
       "<style scoped>\n",
       "    .dataframe tbody tr th:only-of-type {\n",
       "        vertical-align: middle;\n",
       "    }\n",
       "\n",
       "    .dataframe tbody tr th {\n",
       "        vertical-align: top;\n",
       "    }\n",
       "\n",
       "    .dataframe thead th {\n",
       "        text-align: right;\n",
       "    }\n",
       "</style>\n",
       "<table border=\"1\" class=\"dataframe\">\n",
       "  <thead>\n",
       "    <tr style=\"text-align: right;\">\n",
       "      <th></th>\n",
       "      <th>year</th>\n",
       "      <th>playerName</th>\n",
       "      <th>teamAbbrev</th>\n",
       "      <th>plateAppearances</th>\n",
       "      <th>totalBases</th>\n",
       "      <th>leftOnBase</th>\n",
       "      <th>runs</th>\n",
       "      <th>strikeOuts</th>\n",
       "      <th>baseOnBalls</th>\n",
       "      <th>intentionalWalks</th>\n",
       "      <th>hits</th>\n",
       "      <th>avg</th>\n",
       "      <th>atBats</th>\n",
       "      <th>obp</th>\n",
       "      <th>slg</th>\n",
       "      <th>ops</th>\n",
       "      <th>groundIntoDoublePlay</th>\n",
       "      <th>rbi</th>\n",
       "    </tr>\n",
       "  </thead>\n",
       "  <tbody>\n",
       "    <tr>\n",
       "      <th>0</th>\n",
       "      <td>2009</td>\n",
       "      <td>Aaron Hill</td>\n",
       "      <td>TOR</td>\n",
       "      <td>734</td>\n",
       "      <td>340</td>\n",
       "      <td>286</td>\n",
       "      <td>103</td>\n",
       "      <td>98</td>\n",
       "      <td>42</td>\n",
       "      <td>1</td>\n",
       "      <td>195</td>\n",
       "      <td>0.286</td>\n",
       "      <td>682</td>\n",
       "      <td>0.330</td>\n",
       "      <td>0.499</td>\n",
       "      <td>0.829</td>\n",
       "      <td>17</td>\n",
       "      <td>108</td>\n",
       "    </tr>\n",
       "    <tr>\n",
       "      <th>1</th>\n",
       "      <td>2009</td>\n",
       "      <td>Jimmy Rollins</td>\n",
       "      <td>PHI</td>\n",
       "      <td>725</td>\n",
       "      <td>284</td>\n",
       "      <td>224</td>\n",
       "      <td>100</td>\n",
       "      <td>70</td>\n",
       "      <td>44</td>\n",
       "      <td>1</td>\n",
       "      <td>168</td>\n",
       "      <td>0.250</td>\n",
       "      <td>672</td>\n",
       "      <td>0.296</td>\n",
       "      <td>0.423</td>\n",
       "      <td>0.719</td>\n",
       "      <td>7</td>\n",
       "      <td>77</td>\n",
       "    </tr>\n",
       "    <tr>\n",
       "      <th>2</th>\n",
       "      <td>2009</td>\n",
       "      <td>Orlando Cabrera</td>\n",
       "      <td>MIN</td>\n",
       "      <td>708</td>\n",
       "      <td>255</td>\n",
       "      <td>244</td>\n",
       "      <td>83</td>\n",
       "      <td>71</td>\n",
       "      <td>36</td>\n",
       "      <td>1</td>\n",
       "      <td>186</td>\n",
       "      <td>0.284</td>\n",
       "      <td>656</td>\n",
       "      <td>0.316</td>\n",
       "      <td>0.389</td>\n",
       "      <td>0.705</td>\n",
       "      <td>22</td>\n",
       "      <td>77</td>\n",
       "    </tr>\n",
       "    <tr>\n",
       "      <th>3</th>\n",
       "      <td>2009</td>\n",
       "      <td>Nick Markakis</td>\n",
       "      <td>BAL</td>\n",
       "      <td>711</td>\n",
       "      <td>291</td>\n",
       "      <td>286</td>\n",
       "      <td>94</td>\n",
       "      <td>98</td>\n",
       "      <td>56</td>\n",
       "      <td>0</td>\n",
       "      <td>188</td>\n",
       "      <td>0.293</td>\n",
       "      <td>642</td>\n",
       "      <td>0.347</td>\n",
       "      <td>0.453</td>\n",
       "      <td>0.801</td>\n",
       "      <td>12</td>\n",
       "      <td>101</td>\n",
       "    </tr>\n",
       "    <tr>\n",
       "      <th>4</th>\n",
       "      <td>2009</td>\n",
       "      <td>Ichiro Suzuki</td>\n",
       "      <td>SEA</td>\n",
       "      <td>678</td>\n",
       "      <td>297</td>\n",
       "      <td>176</td>\n",
       "      <td>88</td>\n",
       "      <td>71</td>\n",
       "      <td>32</td>\n",
       "      <td>15</td>\n",
       "      <td>225</td>\n",
       "      <td>0.352</td>\n",
       "      <td>639</td>\n",
       "      <td>0.386</td>\n",
       "      <td>0.465</td>\n",
       "      <td>0.851</td>\n",
       "      <td>1</td>\n",
       "      <td>46</td>\n",
       "    </tr>\n",
       "  </tbody>\n",
       "</table>\n",
       "</div>"
      ],
      "text/plain": [
       "   year       playerName teamAbbrev  plateAppearances  totalBases  leftOnBase  \\\n",
       "0  2009       Aaron Hill        TOR               734         340         286   \n",
       "1  2009    Jimmy Rollins        PHI               725         284         224   \n",
       "2  2009  Orlando Cabrera        MIN               708         255         244   \n",
       "3  2009    Nick Markakis        BAL               711         291         286   \n",
       "4  2009    Ichiro Suzuki        SEA               678         297         176   \n",
       "\n",
       "   runs  strikeOuts  baseOnBalls  intentionalWalks  hits    avg  atBats  \\\n",
       "0   103          98           42                 1   195  0.286     682   \n",
       "1   100          70           44                 1   168  0.250     672   \n",
       "2    83          71           36                 1   186  0.284     656   \n",
       "3    94          98           56                 0   188  0.293     642   \n",
       "4    88          71           32                15   225  0.352     639   \n",
       "\n",
       "     obp    slg    ops  groundIntoDoublePlay  rbi  \n",
       "0  0.330  0.499  0.829                    17  108  \n",
       "1  0.296  0.423  0.719                     7   77  \n",
       "2  0.316  0.389  0.705                    22   77  \n",
       "3  0.347  0.453  0.801                    12  101  \n",
       "4  0.386  0.465  0.851                     1   46  "
      ]
     },
     "execution_count": 5,
     "metadata": {},
     "output_type": "execute_result"
    }
   ],
   "source": [
    "batting_df.head()"
   ]
  },
  {
   "cell_type": "code",
   "execution_count": 6,
   "metadata": {
    "ExecuteTime": {
     "end_time": "2020-06-02T23:42:54.304444Z",
     "start_time": "2020-06-02T23:42:54.297223Z"
    }
   },
   "outputs": [],
   "source": [
    "# MIA & FLO are different. Standardizing to MIA\n",
    "batting_df.replace(to_replace='FLA', value='MIA', inplace=True)"
   ]
  },
  {
   "cell_type": "code",
   "execution_count": 7,
   "metadata": {
    "ExecuteTime": {
     "end_time": "2020-06-02T23:42:54.321628Z",
     "start_time": "2020-06-02T23:42:54.307004Z"
    }
   },
   "outputs": [
    {
     "data": {
      "text/plain": [
       "31"
      ]
     },
     "execution_count": 7,
     "metadata": {},
     "output_type": "execute_result"
    }
   ],
   "source": [
    "# 31 teams showing up since it seems like there are some NaN values for team names. Will deal with should it become an issue...\n",
    "len(batting_df.teamAbbrev.unique())"
   ]
  },
  {
   "cell_type": "markdown",
   "metadata": {},
   "source": [
    "### Create New Features for TEAM stats"
   ]
  },
  {
   "cell_type": "code",
   "execution_count": 8,
   "metadata": {
    "ExecuteTime": {
     "end_time": "2020-06-02T23:42:54.402466Z",
     "start_time": "2020-06-02T23:42:54.333537Z"
    },
    "code_folding": []
   },
   "outputs": [],
   "source": [
    "# THIS IS THE FRAMEWORK TO GENERATE TEAM STATISTICS...\n",
    "# Creating a dataframe containing team annual Batting Averages\n",
    "a = batting_df.groupby(['year', 'teamAbbrev'])['hits'].sum()\n",
    "b = batting_df.groupby(['year', 'teamAbbrev'])['plateAppearances'].sum()\n",
    "a = a.to_frame()\n",
    "b = b.to_frame()\n",
    "BA = a.join(b, on=['year', 'teamAbbrev'])\n",
    "BA['team_BA'] = BA['hits']/BA['plateAppearances']\n",
    "# BA = BA.reset_index()"
   ]
  },
  {
   "cell_type": "code",
   "execution_count": 9,
   "metadata": {
    "ExecuteTime": {
     "end_time": "2020-06-02T23:42:54.431487Z",
     "start_time": "2020-06-02T23:42:54.406381Z"
    },
    "code_folding": []
   },
   "outputs": [],
   "source": [
    "# Total bases per plate appearance\n",
    "# Commented out. Taking a different approach\n",
    "# batting_df['Total_bases_per_plateappearance'] = (batting_df['totalBases'] / batting_df['plateAppearances'])\n",
    "\n",
    "a = batting_df.groupby(['year', 'teamAbbrev'])['totalBases'].sum()\n",
    "b = batting_df.groupby(['year', 'teamAbbrev'])['plateAppearances'].sum()\n",
    "a = a.to_frame()\n",
    "b = b.to_frame()\n",
    "TB = a.join(b, on=['year', 'teamAbbrev'])\n",
    "TB['total_bases_avg'] = TB['totalBases']/TB['plateAppearances']\n",
    "# TB = TB.reset_index()"
   ]
  },
  {
   "cell_type": "code",
   "execution_count": 10,
   "metadata": {
    "ExecuteTime": {
     "end_time": "2020-06-02T23:42:54.458861Z",
     "start_time": "2020-06-02T23:42:54.434617Z"
    },
    "code_folding": []
   },
   "outputs": [],
   "source": [
    "# LOB per plate appearnace\n",
    "# Commented out. Taking a different approach\n",
    "# batting_df['LOB_per_plateappearance'] = (batting_df['leftOnBase'] / batting_df['plateAppearances'])\n",
    "\n",
    "a = batting_df.groupby(['year', 'teamAbbrev'])['leftOnBase'].sum()\n",
    "b = batting_df.groupby(['year', 'teamAbbrev'])['plateAppearances'].sum()\n",
    "a = a.to_frame()\n",
    "b = b.to_frame()\n",
    "LOB = a.join(b, on=['year', 'teamAbbrev'])\n",
    "LOB['LOB_avg'] = LOB['leftOnBase']/LOB['plateAppearances']\n",
    "# LOB = LOB.reset_index()"
   ]
  },
  {
   "cell_type": "code",
   "execution_count": 11,
   "metadata": {
    "ExecuteTime": {
     "end_time": "2020-06-02T23:42:54.485866Z",
     "start_time": "2020-06-02T23:42:54.460870Z"
    },
    "code_folding": []
   },
   "outputs": [],
   "source": [
    "# Runs per plate appearance\n",
    "# Commented out. Taking a different approach\n",
    "#batting_df['runs_per_plateappearance'] = (batting_df['runs'] / batting_df['plateAppearances'])\n",
    "\n",
    "a = batting_df.groupby(['year', 'teamAbbrev'])['runs'].sum()\n",
    "b = batting_df.groupby(['year', 'teamAbbrev'])['plateAppearances'].sum()\n",
    "a = a.to_frame()\n",
    "b = b.to_frame()\n",
    "RUNS = a.join(b, on=['year', 'teamAbbrev'])\n",
    "RUNS['runs_avg'] = RUNS['runs']/RUNS['plateAppearances']\n",
    "# RUNS = RUNS.reset_index()"
   ]
  },
  {
   "cell_type": "code",
   "execution_count": 12,
   "metadata": {
    "ExecuteTime": {
     "end_time": "2020-06-02T23:42:54.512991Z",
     "start_time": "2020-06-02T23:42:54.487920Z"
    },
    "code_folding": []
   },
   "outputs": [],
   "source": [
    "# K's per AtBat\n",
    "# Commented out. Taking a different approach\n",
    "# batting_df['K_per_plateappearance'] = (batting_df['strikeOuts'] / batting_df['atBats'])\n",
    "\n",
    "a = batting_df.groupby(['year', 'teamAbbrev'])['strikeOuts'].sum()\n",
    "b = batting_df.groupby(['year', 'teamAbbrev'])['atBats'].sum()\n",
    "a = a.to_frame()\n",
    "b = b.to_frame()\n",
    "K = a.join(b, on=['year', 'teamAbbrev'])\n",
    "K['K_avg'] = K['strikeOuts']/K['atBats']\n",
    "# K = K.reset_index()"
   ]
  },
  {
   "cell_type": "code",
   "execution_count": 13,
   "metadata": {
    "ExecuteTime": {
     "end_time": "2020-06-02T23:42:54.540074Z",
     "start_time": "2020-06-02T23:42:54.515835Z"
    },
    "code_folding": []
   },
   "outputs": [],
   "source": [
    "# BB per plate appearance\n",
    "# Commented out. Taking a different approach\n",
    "# batting_df['BB+IBB_per_plateappearance'] = ((batting_df['baseOnBalls'] + 'took out IBB for simplicity' / batting_df['plateAppearances'])\n",
    "\n",
    "a = batting_df.groupby(['year', 'teamAbbrev'])['baseOnBalls'].sum()\n",
    "b = batting_df.groupby(['year', 'teamAbbrev'])['plateAppearances'].sum()\n",
    "a = a.to_frame()\n",
    "b = b.to_frame()\n",
    "BB = a.join(b, on=['year', 'teamAbbrev'])\n",
    "BB['BB_avg'] = BB['baseOnBalls']/BB['plateAppearances']\n",
    "# BB = BB.reset_index()"
   ]
  },
  {
   "cell_type": "code",
   "execution_count": 14,
   "metadata": {
    "ExecuteTime": {
     "end_time": "2020-06-02T23:42:54.567317Z",
     "start_time": "2020-06-02T23:42:54.541954Z"
    },
    "code_folding": []
   },
   "outputs": [],
   "source": [
    "# RBI per plate appearance\n",
    "# Commented out. Taking a different approach\n",
    "# batting_df['RBI_per_plateappearance'] = (batting_df['rbi'] / batting_df['atBats'])\n",
    "\n",
    "a = batting_df.groupby(['year', 'teamAbbrev'])['rbi'].sum()\n",
    "b = batting_df.groupby(['year', 'teamAbbrev'])['plateAppearances'].sum()\n",
    "a = a.to_frame()\n",
    "b = b.to_frame()\n",
    "RBI = a.join(b, on=['year', 'teamAbbrev'])\n",
    "RBI['RBI_avg'] = RBI['rbi']/RBI['plateAppearances']\n",
    "# RBI = RBI.reset_index()"
   ]
  },
  {
   "cell_type": "markdown",
   "metadata": {},
   "source": [
    "## Merge all the TEAM stats into one dataframe"
   ]
  },
  {
   "cell_type": "code",
   "execution_count": 15,
   "metadata": {
    "ExecuteTime": {
     "end_time": "2020-06-02T23:42:54.595868Z",
     "start_time": "2020-06-02T23:42:54.569309Z"
    }
   },
   "outputs": [
    {
     "data": {
      "text/html": [
       "<div>\n",
       "<style scoped>\n",
       "    .dataframe tbody tr th:only-of-type {\n",
       "        vertical-align: middle;\n",
       "    }\n",
       "\n",
       "    .dataframe tbody tr th {\n",
       "        vertical-align: top;\n",
       "    }\n",
       "\n",
       "    .dataframe thead th {\n",
       "        text-align: right;\n",
       "    }\n",
       "</style>\n",
       "<table border=\"1\" class=\"dataframe\">\n",
       "  <thead>\n",
       "    <tr style=\"text-align: right;\">\n",
       "      <th></th>\n",
       "      <th></th>\n",
       "      <th>leftOnBase</th>\n",
       "      <th>plateAppearances</th>\n",
       "      <th>LOB_avg</th>\n",
       "    </tr>\n",
       "    <tr>\n",
       "      <th>year</th>\n",
       "      <th>teamAbbrev</th>\n",
       "      <th></th>\n",
       "      <th></th>\n",
       "      <th></th>\n",
       "    </tr>\n",
       "  </thead>\n",
       "  <tbody>\n",
       "    <tr>\n",
       "      <th rowspan=\"5\" valign=\"top\">2009</th>\n",
       "      <th>ARI</th>\n",
       "      <td>2225</td>\n",
       "      <td>5858</td>\n",
       "      <td>0.379822</td>\n",
       "    </tr>\n",
       "    <tr>\n",
       "      <th>ATL</th>\n",
       "      <td>2432</td>\n",
       "      <td>6510</td>\n",
       "      <td>0.373579</td>\n",
       "    </tr>\n",
       "    <tr>\n",
       "      <th>BAL</th>\n",
       "      <td>2132</td>\n",
       "      <td>5610</td>\n",
       "      <td>0.380036</td>\n",
       "    </tr>\n",
       "    <tr>\n",
       "      <th>BOS</th>\n",
       "      <td>3223</td>\n",
       "      <td>8245</td>\n",
       "      <td>0.390904</td>\n",
       "    </tr>\n",
       "    <tr>\n",
       "      <th>CHC</th>\n",
       "      <td>2458</td>\n",
       "      <td>6214</td>\n",
       "      <td>0.395558</td>\n",
       "    </tr>\n",
       "    <tr>\n",
       "      <th>...</th>\n",
       "      <th>...</th>\n",
       "      <td>...</td>\n",
       "      <td>...</td>\n",
       "      <td>...</td>\n",
       "    </tr>\n",
       "    <tr>\n",
       "      <th rowspan=\"5\" valign=\"top\">2019</th>\n",
       "      <th>STL</th>\n",
       "      <td>2248</td>\n",
       "      <td>6105</td>\n",
       "      <td>0.368223</td>\n",
       "    </tr>\n",
       "    <tr>\n",
       "      <th>TB</th>\n",
       "      <td>2580</td>\n",
       "      <td>6835</td>\n",
       "      <td>0.377469</td>\n",
       "    </tr>\n",
       "    <tr>\n",
       "      <th>TEX</th>\n",
       "      <td>2107</td>\n",
       "      <td>5833</td>\n",
       "      <td>0.361221</td>\n",
       "    </tr>\n",
       "    <tr>\n",
       "      <th>TOR</th>\n",
       "      <td>1964</td>\n",
       "      <td>5403</td>\n",
       "      <td>0.363502</td>\n",
       "    </tr>\n",
       "    <tr>\n",
       "      <th>WSH</th>\n",
       "      <td>2498</td>\n",
       "      <td>6732</td>\n",
       "      <td>0.371064</td>\n",
       "    </tr>\n",
       "  </tbody>\n",
       "</table>\n",
       "<p>330 rows × 3 columns</p>\n",
       "</div>"
      ],
      "text/plain": [
       "                 leftOnBase  plateAppearances   LOB_avg\n",
       "year teamAbbrev                                        \n",
       "2009 ARI               2225              5858  0.379822\n",
       "     ATL               2432              6510  0.373579\n",
       "     BAL               2132              5610  0.380036\n",
       "     BOS               3223              8245  0.390904\n",
       "     CHC               2458              6214  0.395558\n",
       "...                     ...               ...       ...\n",
       "2019 STL               2248              6105  0.368223\n",
       "     TB                2580              6835  0.377469\n",
       "     TEX               2107              5833  0.361221\n",
       "     TOR               1964              5403  0.363502\n",
       "     WSH               2498              6732  0.371064\n",
       "\n",
       "[330 rows x 3 columns]"
      ]
     },
     "execution_count": 15,
     "metadata": {},
     "output_type": "execute_result"
    }
   ],
   "source": [
    "LOB"
   ]
  },
  {
   "cell_type": "code",
   "execution_count": 16,
   "metadata": {
    "ExecuteTime": {
     "end_time": "2020-06-02T23:42:54.604197Z",
     "start_time": "2020-06-02T23:42:54.598462Z"
    }
   },
   "outputs": [],
   "source": [
    "team_stats_lst = [BA, TB, LOB, RUNS, K, BB, RBI]"
   ]
  },
  {
   "cell_type": "code",
   "execution_count": 17,
   "metadata": {
    "ExecuteTime": {
     "end_time": "2020-06-02T23:42:54.614266Z",
     "start_time": "2020-06-02T23:42:54.608096Z"
    }
   },
   "outputs": [],
   "source": [
    "#team_stats = BA.merge(TB, on='year')"
   ]
  },
  {
   "cell_type": "code",
   "execution_count": 19,
   "metadata": {
    "ExecuteTime": {
     "end_time": "2020-06-02T23:43:05.409566Z",
     "start_time": "2020-06-02T23:43:05.392794Z"
    }
   },
   "outputs": [],
   "source": [
    "team_stats = pd.concat(team_stats_lst, join='outer', axis=1)"
   ]
  },
  {
   "cell_type": "code",
   "execution_count": 20,
   "metadata": {
    "ExecuteTime": {
     "end_time": "2020-06-02T23:43:07.755188Z",
     "start_time": "2020-06-02T23:43:07.751916Z"
    }
   },
   "outputs": [],
   "source": [
    "#team_stats = team_stats.merge(LOB, on='year')\n",
    "#team_stats = team_stats.join(LOB, on='year')"
   ]
  },
  {
   "cell_type": "code",
   "execution_count": 21,
   "metadata": {
    "ExecuteTime": {
     "end_time": "2020-06-02T23:43:07.897506Z",
     "start_time": "2020-06-02T23:43:07.894318Z"
    }
   },
   "outputs": [],
   "source": [
    "#team_stats = team_stats.merge(RUNS, on='year')\n",
    "#team_stats = team_stats.join(RUNS, on='year')"
   ]
  },
  {
   "cell_type": "code",
   "execution_count": 22,
   "metadata": {
    "ExecuteTime": {
     "end_time": "2020-06-02T23:43:08.028842Z",
     "start_time": "2020-06-02T23:43:08.025224Z"
    }
   },
   "outputs": [],
   "source": [
    "#team_stats = team_stats.merge(K, on='year')\n",
    "#team_stats = team_stats.join(K, on='year')"
   ]
  },
  {
   "cell_type": "code",
   "execution_count": 23,
   "metadata": {
    "ExecuteTime": {
     "end_time": "2020-06-02T23:43:08.152674Z",
     "start_time": "2020-06-02T23:43:08.149286Z"
    }
   },
   "outputs": [],
   "source": [
    "#team_stats = team_stats.merge(BB, on='year')\n",
    "#team_stats = team_stats.join(BB, on='year')"
   ]
  },
  {
   "cell_type": "code",
   "execution_count": 24,
   "metadata": {
    "ExecuteTime": {
     "end_time": "2020-06-02T23:43:08.280704Z",
     "start_time": "2020-06-02T23:43:08.277698Z"
    }
   },
   "outputs": [],
   "source": [
    "#team_stats = team_stats.merge(RBI, on='year')\n",
    "#team_stats = team_stats.join(RBI, on='year')"
   ]
  },
  {
   "cell_type": "code",
   "execution_count": 26,
   "metadata": {
    "ExecuteTime": {
     "end_time": "2020-06-02T23:43:38.889970Z",
     "start_time": "2020-06-02T23:43:38.881500Z"
    }
   },
   "outputs": [],
   "source": [
    "team_stats = team_stats.reset_index()"
   ]
  },
  {
   "cell_type": "code",
   "execution_count": 27,
   "metadata": {
    "ExecuteTime": {
     "end_time": "2020-06-02T23:43:43.361825Z",
     "start_time": "2020-06-02T23:43:43.296931Z"
    }
   },
   "outputs": [
    {
     "data": {
      "text/html": [
       "<div>\n",
       "<style scoped>\n",
       "    .dataframe tbody tr th:only-of-type {\n",
       "        vertical-align: middle;\n",
       "    }\n",
       "\n",
       "    .dataframe tbody tr th {\n",
       "        vertical-align: top;\n",
       "    }\n",
       "\n",
       "    .dataframe thead th {\n",
       "        text-align: right;\n",
       "    }\n",
       "</style>\n",
       "<table border=\"1\" class=\"dataframe\">\n",
       "  <thead>\n",
       "    <tr style=\"text-align: right;\">\n",
       "      <th></th>\n",
       "      <th>year</th>\n",
       "      <th>teamAbbrev</th>\n",
       "      <th>hits</th>\n",
       "      <th>plateAppearances</th>\n",
       "      <th>team_BA</th>\n",
       "      <th>totalBases</th>\n",
       "      <th>plateAppearances</th>\n",
       "      <th>total_bases_avg</th>\n",
       "      <th>leftOnBase</th>\n",
       "      <th>plateAppearances</th>\n",
       "      <th>...</th>\n",
       "      <th>runs_avg</th>\n",
       "      <th>strikeOuts</th>\n",
       "      <th>atBats</th>\n",
       "      <th>K_avg</th>\n",
       "      <th>baseOnBalls</th>\n",
       "      <th>plateAppearances</th>\n",
       "      <th>BB_avg</th>\n",
       "      <th>rbi</th>\n",
       "      <th>plateAppearances</th>\n",
       "      <th>RBI_avg</th>\n",
       "    </tr>\n",
       "  </thead>\n",
       "  <tbody>\n",
       "    <tr>\n",
       "      <th>0</th>\n",
       "      <td>2009</td>\n",
       "      <td>ARI</td>\n",
       "      <td>1310</td>\n",
       "      <td>5858</td>\n",
       "      <td>0.223626</td>\n",
       "      <td>2195</td>\n",
       "      <td>5858</td>\n",
       "      <td>0.374701</td>\n",
       "      <td>2225</td>\n",
       "      <td>5858</td>\n",
       "      <td>...</td>\n",
       "      <td>0.115910</td>\n",
       "      <td>1224</td>\n",
       "      <td>5182</td>\n",
       "      <td>0.236202</td>\n",
       "      <td>545</td>\n",
       "      <td>5858</td>\n",
       "      <td>0.093035</td>\n",
       "      <td>664</td>\n",
       "      <td>5858</td>\n",
       "      <td>0.113349</td>\n",
       "    </tr>\n",
       "    <tr>\n",
       "      <th>1</th>\n",
       "      <td>2009</td>\n",
       "      <td>ATL</td>\n",
       "      <td>1492</td>\n",
       "      <td>6510</td>\n",
       "      <td>0.229186</td>\n",
       "      <td>2336</td>\n",
       "      <td>6510</td>\n",
       "      <td>0.358833</td>\n",
       "      <td>2432</td>\n",
       "      <td>6510</td>\n",
       "      <td>...</td>\n",
       "      <td>0.119201</td>\n",
       "      <td>1137</td>\n",
       "      <td>5678</td>\n",
       "      <td>0.200247</td>\n",
       "      <td>637</td>\n",
       "      <td>6510</td>\n",
       "      <td>0.097849</td>\n",
       "      <td>723</td>\n",
       "      <td>6510</td>\n",
       "      <td>0.111060</td>\n",
       "    </tr>\n",
       "    <tr>\n",
       "      <th>2</th>\n",
       "      <td>2009</td>\n",
       "      <td>BAL</td>\n",
       "      <td>1367</td>\n",
       "      <td>5610</td>\n",
       "      <td>0.243672</td>\n",
       "      <td>2107</td>\n",
       "      <td>5610</td>\n",
       "      <td>0.375579</td>\n",
       "      <td>2132</td>\n",
       "      <td>5610</td>\n",
       "      <td>...</td>\n",
       "      <td>0.119964</td>\n",
       "      <td>913</td>\n",
       "      <td>5073</td>\n",
       "      <td>0.179972</td>\n",
       "      <td>449</td>\n",
       "      <td>5610</td>\n",
       "      <td>0.080036</td>\n",
       "      <td>628</td>\n",
       "      <td>5610</td>\n",
       "      <td>0.111943</td>\n",
       "    </tr>\n",
       "    <tr>\n",
       "      <th>3</th>\n",
       "      <td>2009</td>\n",
       "      <td>BOS</td>\n",
       "      <td>1915</td>\n",
       "      <td>8245</td>\n",
       "      <td>0.232262</td>\n",
       "      <td>3151</td>\n",
       "      <td>8245</td>\n",
       "      <td>0.382171</td>\n",
       "      <td>3223</td>\n",
       "      <td>8245</td>\n",
       "      <td>...</td>\n",
       "      <td>0.128199</td>\n",
       "      <td>1435</td>\n",
       "      <td>7202</td>\n",
       "      <td>0.199250</td>\n",
       "      <td>864</td>\n",
       "      <td>8245</td>\n",
       "      <td>0.104791</td>\n",
       "      <td>1036</td>\n",
       "      <td>8245</td>\n",
       "      <td>0.125652</td>\n",
       "    </tr>\n",
       "    <tr>\n",
       "      <th>4</th>\n",
       "      <td>2009</td>\n",
       "      <td>CHC</td>\n",
       "      <td>1392</td>\n",
       "      <td>6214</td>\n",
       "      <td>0.224010</td>\n",
       "      <td>2228</td>\n",
       "      <td>6214</td>\n",
       "      <td>0.358545</td>\n",
       "      <td>2458</td>\n",
       "      <td>6214</td>\n",
       "      <td>...</td>\n",
       "      <td>0.112971</td>\n",
       "      <td>1176</td>\n",
       "      <td>5459</td>\n",
       "      <td>0.215424</td>\n",
       "      <td>590</td>\n",
       "      <td>6214</td>\n",
       "      <td>0.094947</td>\n",
       "      <td>679</td>\n",
       "      <td>6214</td>\n",
       "      <td>0.109269</td>\n",
       "    </tr>\n",
       "    <tr>\n",
       "      <th>...</th>\n",
       "      <td>...</td>\n",
       "      <td>...</td>\n",
       "      <td>...</td>\n",
       "      <td>...</td>\n",
       "      <td>...</td>\n",
       "      <td>...</td>\n",
       "      <td>...</td>\n",
       "      <td>...</td>\n",
       "      <td>...</td>\n",
       "      <td>...</td>\n",
       "      <td>...</td>\n",
       "      <td>...</td>\n",
       "      <td>...</td>\n",
       "      <td>...</td>\n",
       "      <td>...</td>\n",
       "      <td>...</td>\n",
       "      <td>...</td>\n",
       "      <td>...</td>\n",
       "      <td>...</td>\n",
       "      <td>...</td>\n",
       "      <td>...</td>\n",
       "    </tr>\n",
       "    <tr>\n",
       "      <th>325</th>\n",
       "      <td>2019</td>\n",
       "      <td>STL</td>\n",
       "      <td>1325</td>\n",
       "      <td>6105</td>\n",
       "      <td>0.217035</td>\n",
       "      <td>2243</td>\n",
       "      <td>6105</td>\n",
       "      <td>0.367404</td>\n",
       "      <td>2248</td>\n",
       "      <td>6105</td>\n",
       "      <td>...</td>\n",
       "      <td>0.124324</td>\n",
       "      <td>1406</td>\n",
       "      <td>5393</td>\n",
       "      <td>0.260708</td>\n",
       "      <td>555</td>\n",
       "      <td>6105</td>\n",
       "      <td>0.090909</td>\n",
       "      <td>707</td>\n",
       "      <td>6105</td>\n",
       "      <td>0.115807</td>\n",
       "    </tr>\n",
       "    <tr>\n",
       "      <th>326</th>\n",
       "      <td>2019</td>\n",
       "      <td>TB</td>\n",
       "      <td>1551</td>\n",
       "      <td>6835</td>\n",
       "      <td>0.226920</td>\n",
       "      <td>2625</td>\n",
       "      <td>6835</td>\n",
       "      <td>0.384053</td>\n",
       "      <td>2580</td>\n",
       "      <td>6835</td>\n",
       "      <td>...</td>\n",
       "      <td>0.122019</td>\n",
       "      <td>1587</td>\n",
       "      <td>6103</td>\n",
       "      <td>0.260036</td>\n",
       "      <td>601</td>\n",
       "      <td>6835</td>\n",
       "      <td>0.087930</td>\n",
       "      <td>788</td>\n",
       "      <td>6835</td>\n",
       "      <td>0.115289</td>\n",
       "    </tr>\n",
       "    <tr>\n",
       "      <th>327</th>\n",
       "      <td>2019</td>\n",
       "      <td>TEX</td>\n",
       "      <td>1298</td>\n",
       "      <td>5833</td>\n",
       "      <td>0.222527</td>\n",
       "      <td>2260</td>\n",
       "      <td>5833</td>\n",
       "      <td>0.387451</td>\n",
       "      <td>2107</td>\n",
       "      <td>5833</td>\n",
       "      <td>...</td>\n",
       "      <td>0.131150</td>\n",
       "      <td>1492</td>\n",
       "      <td>5216</td>\n",
       "      <td>0.286043</td>\n",
       "      <td>494</td>\n",
       "      <td>5833</td>\n",
       "      <td>0.084691</td>\n",
       "      <td>714</td>\n",
       "      <td>5833</td>\n",
       "      <td>0.122407</td>\n",
       "    </tr>\n",
       "    <tr>\n",
       "      <th>328</th>\n",
       "      <td>2019</td>\n",
       "      <td>TOR</td>\n",
       "      <td>1116</td>\n",
       "      <td>5403</td>\n",
       "      <td>0.206552</td>\n",
       "      <td>2049</td>\n",
       "      <td>5403</td>\n",
       "      <td>0.379234</td>\n",
       "      <td>1964</td>\n",
       "      <td>5403</td>\n",
       "      <td>...</td>\n",
       "      <td>0.119008</td>\n",
       "      <td>1381</td>\n",
       "      <td>4846</td>\n",
       "      <td>0.284977</td>\n",
       "      <td>475</td>\n",
       "      <td>5403</td>\n",
       "      <td>0.087914</td>\n",
       "      <td>622</td>\n",
       "      <td>5403</td>\n",
       "      <td>0.115121</td>\n",
       "    </tr>\n",
       "    <tr>\n",
       "      <th>329</th>\n",
       "      <td>2019</td>\n",
       "      <td>WSH</td>\n",
       "      <td>1553</td>\n",
       "      <td>6732</td>\n",
       "      <td>0.230689</td>\n",
       "      <td>2655</td>\n",
       "      <td>6732</td>\n",
       "      <td>0.394385</td>\n",
       "      <td>2498</td>\n",
       "      <td>6732</td>\n",
       "      <td>...</td>\n",
       "      <td>0.137552</td>\n",
       "      <td>1411</td>\n",
       "      <td>5921</td>\n",
       "      <td>0.238304</td>\n",
       "      <td>630</td>\n",
       "      <td>6732</td>\n",
       "      <td>0.093583</td>\n",
       "      <td>881</td>\n",
       "      <td>6732</td>\n",
       "      <td>0.130867</td>\n",
       "    </tr>\n",
       "  </tbody>\n",
       "</table>\n",
       "<p>330 rows × 23 columns</p>\n",
       "</div>"
      ],
      "text/plain": [
       "     year teamAbbrev  hits  plateAppearances   team_BA  totalBases  \\\n",
       "0    2009        ARI  1310              5858  0.223626        2195   \n",
       "1    2009        ATL  1492              6510  0.229186        2336   \n",
       "2    2009        BAL  1367              5610  0.243672        2107   \n",
       "3    2009        BOS  1915              8245  0.232262        3151   \n",
       "4    2009        CHC  1392              6214  0.224010        2228   \n",
       "..    ...        ...   ...               ...       ...         ...   \n",
       "325  2019        STL  1325              6105  0.217035        2243   \n",
       "326  2019         TB  1551              6835  0.226920        2625   \n",
       "327  2019        TEX  1298              5833  0.222527        2260   \n",
       "328  2019        TOR  1116              5403  0.206552        2049   \n",
       "329  2019        WSH  1553              6732  0.230689        2655   \n",
       "\n",
       "     plateAppearances  total_bases_avg  leftOnBase  plateAppearances  ...  \\\n",
       "0                5858         0.374701        2225              5858  ...   \n",
       "1                6510         0.358833        2432              6510  ...   \n",
       "2                5610         0.375579        2132              5610  ...   \n",
       "3                8245         0.382171        3223              8245  ...   \n",
       "4                6214         0.358545        2458              6214  ...   \n",
       "..                ...              ...         ...               ...  ...   \n",
       "325              6105         0.367404        2248              6105  ...   \n",
       "326              6835         0.384053        2580              6835  ...   \n",
       "327              5833         0.387451        2107              5833  ...   \n",
       "328              5403         0.379234        1964              5403  ...   \n",
       "329              6732         0.394385        2498              6732  ...   \n",
       "\n",
       "     runs_avg  strikeOuts  atBats     K_avg  baseOnBalls  plateAppearances  \\\n",
       "0    0.115910        1224    5182  0.236202          545              5858   \n",
       "1    0.119201        1137    5678  0.200247          637              6510   \n",
       "2    0.119964         913    5073  0.179972          449              5610   \n",
       "3    0.128199        1435    7202  0.199250          864              8245   \n",
       "4    0.112971        1176    5459  0.215424          590              6214   \n",
       "..        ...         ...     ...       ...          ...               ...   \n",
       "325  0.124324        1406    5393  0.260708          555              6105   \n",
       "326  0.122019        1587    6103  0.260036          601              6835   \n",
       "327  0.131150        1492    5216  0.286043          494              5833   \n",
       "328  0.119008        1381    4846  0.284977          475              5403   \n",
       "329  0.137552        1411    5921  0.238304          630              6732   \n",
       "\n",
       "       BB_avg   rbi  plateAppearances   RBI_avg  \n",
       "0    0.093035   664              5858  0.113349  \n",
       "1    0.097849   723              6510  0.111060  \n",
       "2    0.080036   628              5610  0.111943  \n",
       "3    0.104791  1036              8245  0.125652  \n",
       "4    0.094947   679              6214  0.109269  \n",
       "..        ...   ...               ...       ...  \n",
       "325  0.090909   707              6105  0.115807  \n",
       "326  0.087930   788              6835  0.115289  \n",
       "327  0.084691   714              5833  0.122407  \n",
       "328  0.087914   622              5403  0.115121  \n",
       "329  0.093583   881              6732  0.130867  \n",
       "\n",
       "[330 rows x 23 columns]"
      ]
     },
     "execution_count": 27,
     "metadata": {},
     "output_type": "execute_result"
    }
   ],
   "source": [
    "team_stats"
   ]
  },
  {
   "cell_type": "code",
   "execution_count": null,
   "metadata": {
    "ExecuteTime": {
     "end_time": "2020-06-02T23:42:54.820749Z",
     "start_time": "2020-06-02T23:42:53.580Z"
    }
   },
   "outputs": [],
   "source": [
    "# team_stats.to_csv(\"team_stats.csv\")\n",
    "# DONT SAVE... yet..."
   ]
  },
  {
   "cell_type": "markdown",
   "metadata": {},
   "source": [
    "## Pitching Feature engineering ideas\n",
    "- Pitching stats will focus on starting pitchers Per9 innings stat (except for certain features)\n",
    "    - 'winningPercentage'\n",
    "    - 'runsScoredPer9'\n",
    "        - 'ops' - may leave out for now...\n",
    "    - 'hitsPer9'\n",
    "    - 'era'\n",
    "    - 'whip'"
   ]
  },
  {
   "cell_type": "code",
   "execution_count": null,
   "metadata": {
    "ExecuteTime": {
     "end_time": "2020-06-02T23:42:54.823717Z",
     "start_time": "2020-06-02T23:42:53.583Z"
    }
   },
   "outputs": [],
   "source": [
    "pitching_df.head()"
   ]
  },
  {
   "cell_type": "code",
   "execution_count": null,
   "metadata": {
    "ExecuteTime": {
     "end_time": "2020-06-02T23:42:54.825573Z",
     "start_time": "2020-06-02T23:42:53.585Z"
    }
   },
   "outputs": [],
   "source": [
    "pitching_df = pitching_df.reindex(columns=['year', 'playerName', 'teamAbbrev', 'winningPercentage',\n",
    "       'runsScoredPer9', 'hitsPer9', 'strikeoutsPer9', 'baseOnBallsPer9',\n",
    "       'homeRunsPer9', 'era', 'whip', 'ops', 'gidp', 'avg'])\n",
    "# Columns to be left out from the reindexing --- 'winPercentage', 'strikeoutsPer9Inn', 'walksPer9Inn', 'hitsPer9Inn'"
   ]
  },
  {
   "cell_type": "code",
   "execution_count": null,
   "metadata": {
    "ExecuteTime": {
     "end_time": "2020-06-02T23:42:54.827791Z",
     "start_time": "2020-06-02T23:42:53.586Z"
    }
   },
   "outputs": [],
   "source": [
    "# MIA & FLO are different. Standardizing to MIA\n",
    "pitching_df.replace(to_replace='FLA', value='MIA', inplace=True)"
   ]
  },
  {
   "cell_type": "code",
   "execution_count": null,
   "metadata": {
    "ExecuteTime": {
     "end_time": "2020-06-02T23:42:54.832746Z",
     "start_time": "2020-06-02T23:42:53.588Z"
    }
   },
   "outputs": [],
   "source": [
    "# 31 teams showing up since it seems like there are some NaN values for team names. Will deal with should it become an issue...\n",
    "len(pitching_df.teamAbbrev.unique())"
   ]
  },
  {
   "cell_type": "code",
   "execution_count": null,
   "metadata": {},
   "outputs": [],
   "source": []
  },
  {
   "cell_type": "code",
   "execution_count": null,
   "metadata": {},
   "outputs": [],
   "source": []
  },
  {
   "cell_type": "markdown",
   "metadata": {},
   "source": [
    "## Game DF ideas\n",
    "- Turn VisitorRunsScored & HomeRunsScore into a column that indicates if the home team won - DONE.\n",
    "- Combine VisitorHBP & VisitorBB & VisitorIBB into a single column containing all the stats - DONE.\n",
    "- Same with HomeHBP & HomeBB & HomeIBB - DONE.\n",
    "<br/><br/>\n",
    "- Combine VisitorH / VisitorAB = team_BA - DONE.\n",
    "- Same with HomeH / HomeAB - DONE. \n",
    "<br/><br/>\n",
    "- Eventually add on all the other engineered features into this dataframe...\n",
    "<br/><br/>\n",
    "- Since the game_df has a date column, I'd like to leverage that to look at 7-day-trends, 14-day-trends, etc"
   ]
  },
  {
   "cell_type": "code",
   "execution_count": null,
   "metadata": {
    "ExecuteTime": {
     "end_time": "2020-06-02T23:42:54.838272Z",
     "start_time": "2020-06-02T23:42:53.594Z"
    }
   },
   "outputs": [],
   "source": [
    "game_df"
   ]
  },
  {
   "cell_type": "code",
   "execution_count": null,
   "metadata": {
    "ExecuteTime": {
     "end_time": "2020-06-02T23:42:54.840518Z",
     "start_time": "2020-06-02T23:42:53.596Z"
    }
   },
   "outputs": [],
   "source": [
    "# Creating a Target for the model to eventually train on\n",
    "game_df['Home_team_won?'] = game_df['HomeRunsScore'] > game_df['VisitorRunsScored']"
   ]
  },
  {
   "cell_type": "code",
   "execution_count": null,
   "metadata": {
    "ExecuteTime": {
     "end_time": "2020-06-02T23:42:54.842114Z",
     "start_time": "2020-06-02T23:42:53.598Z"
    }
   },
   "outputs": [],
   "source": [
    "# game_df['Visitor_HBP+BB+IBB'] = game_df['VisitorHBP'] + game_df['VisitorBB'] + game_df['VisitorIBB']\n",
    "# game_df['Home_HBP+BB+IBB'] = game_df['HomeHBP'] + game_df['HomeBB'] + game_df['HomeIBB']\n",
    "\n",
    "# Commenting out for now until I figure out if I need to drop these or not...\n",
    "# game_df.drop(['VisitorHBP', 'VisitorBB', 'VisitorIBB', 'HomeHBP', 'HomeBB', 'HomeIBB'], axis=1, inplace=True)"
   ]
  },
  {
   "cell_type": "code",
   "execution_count": null,
   "metadata": {
    "ExecuteTime": {
     "end_time": "2020-06-02T23:42:54.843714Z",
     "start_time": "2020-06-02T23:42:53.599Z"
    }
   },
   "outputs": [],
   "source": [
    "# Adding a Home & Away BA per game to compare batting trends over time\n",
    "game_df['Visitor_BA'] = round((game_df['VisitorH'] / game_df['VisitorAB']), 3)\n",
    "game_df['Home_BA'] = round((game_df['HomeH'] / game_df['HomeAB']), 3)"
   ]
  },
  {
   "cell_type": "code",
   "execution_count": null,
   "metadata": {
    "ExecuteTime": {
     "end_time": "2020-06-02T23:42:54.845303Z",
     "start_time": "2020-06-02T23:42:53.601Z"
    }
   },
   "outputs": [],
   "source": [
    "# Creating a new column in order to add Date/Time to my dataframe\n",
    "game_df['New_Date'] = pd.to_datetime(game_df['Date'].astype(str), format='%Y%m%d')"
   ]
  },
  {
   "cell_type": "code",
   "execution_count": null,
   "metadata": {
    "ExecuteTime": {
     "end_time": "2020-06-02T23:42:54.848367Z",
     "start_time": "2020-06-02T23:42:53.603Z"
    }
   },
   "outputs": [],
   "source": [
    "# Rearranging columns so new date/time is at the front of the DF\n",
    "game_df = game_df.reindex(columns=['New_Date','Date', 'VisitingTeam','VisitorStartingPitcherName',\n",
    "                                 'HomeTeam','HomeStartingPitcherName', 'VisitorRunsScored',\n",
    "       'HomeRunsScore', 'VisitorAB', 'VisitorH','Visitor_BA', 'VisitorHBP', 'VisitorBB',\n",
    "       'VisitorIBB', 'VisitorLOB', 'HomeAB', 'HomeH', 'Home_BA', 'HomeHBP', 'HomeBB', 'HomeIBB', 'HomeLOB', 'Home_team_won?'])\n",
    "game_df.drop('Date', axis='columns', inplace=True)"
   ]
  },
  {
   "cell_type": "code",
   "execution_count": null,
   "metadata": {
    "ExecuteTime": {
     "end_time": "2020-06-02T23:42:54.850166Z",
     "start_time": "2020-06-02T23:42:53.606Z"
    }
   },
   "outputs": [],
   "source": [
    "# Had an extra team due to the Marlins having two different labels. Updating their team name to MIA\n",
    "game_df.replace(to_replace='FLO', value='MIA', inplace=True)\n",
    "# Updating game_df so team abbreviations match. Will be leveraged when aggregating teams stats\n",
    "game_df.replace(to_replace={\"NYA\":\"NYY\", \"SDN\":\"SD\", \"CHN\":\"CHC\", \"SLN\":\"STL\", \"SFN\":\"SF\", \"LAN\":\"LAD\", \"TBA\":\"TB\", \"KCA\":\"KC\", \"CHA\":\"CWS\", \"ANA\":\"LAA\", \"NYN\":\"NYM\"}, inplace=True)"
   ]
  },
  {
   "cell_type": "code",
   "execution_count": null,
   "metadata": {
    "ExecuteTime": {
     "end_time": "2020-06-02T23:42:54.851708Z",
     "start_time": "2020-06-02T23:42:53.608Z"
    },
    "code_folding": [
     0
    ]
   },
   "outputs": [],
   "source": [
    "# game_df has 30 teams. Perfect!\n",
    "len(game_df.VisitingTeam.unique())"
   ]
  },
  {
   "cell_type": "code",
   "execution_count": null,
   "metadata": {},
   "outputs": [],
   "source": []
  }
 ],
 "metadata": {
  "kernelspec": {
   "display_name": "Python 3",
   "language": "python",
   "name": "python3"
  },
  "language_info": {
   "codemirror_mode": {
    "name": "ipython",
    "version": 3
   },
   "file_extension": ".py",
   "mimetype": "text/x-python",
   "name": "python",
   "nbconvert_exporter": "python",
   "pygments_lexer": "ipython3",
   "version": "3.7.7"
  }
 },
 "nbformat": 4,
 "nbformat_minor": 4
}
