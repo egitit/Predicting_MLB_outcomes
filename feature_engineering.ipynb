{
 "cells": [
  {
   "cell_type": "code",
   "execution_count": 2,
   "metadata": {
    "ExecuteTime": {
     "end_time": "2020-06-05T17:01:19.291852Z",
     "start_time": "2020-06-05T17:01:16.400060Z"
    }
   },
   "outputs": [],
   "source": [
    "import pandas as pd\n",
    "import numpy as np\n",
    "import matplotlib.pyplot as plt\n",
    "import seaborn as sns\n",
    "sns.set()\n",
    "%matplotlib inline\n",
    "from sklearn.ensemble import RandomForestClassifier\n",
    "from sklearn.ensemble import GradientBoostingClassifier\n",
    "from sklearn.ensemble import AdaBoostClassifier\n",
    "from sklearn.model_selection import GridSearchCV\n",
    "from sklearn import metrics"
   ]
  },
  {
   "cell_type": "code",
   "execution_count": 3,
   "metadata": {
    "ExecuteTime": {
     "end_time": "2020-06-05T17:01:19.321466Z",
     "start_time": "2020-06-05T17:01:19.304583Z"
    }
   },
   "outputs": [],
   "source": [
    "file = '/Users/Lisa/_MLB_Prediction_capstone/cleaned_batting_df.csv'\n",
    "file2 = '/Users/Lisa/_MLB_Prediction_capstone/cleaned_piching_df.csv'\n",
    "file3 = '/Users/Lisa/_MLB_Prediction_capstone/cleaned_game_df.csv'"
   ]
  },
  {
   "cell_type": "code",
   "execution_count": 4,
   "metadata": {
    "ExecuteTime": {
     "end_time": "2020-06-05T17:01:19.601628Z",
     "start_time": "2020-06-05T17:01:19.347063Z"
    }
   },
   "outputs": [],
   "source": [
    "batting_df = pd.read_csv(file)\n",
    "pitching_df = pd.read_csv(file2)\n",
    "game_df = pd.read_csv(file3)"
   ]
  },
  {
   "cell_type": "code",
   "execution_count": 5,
   "metadata": {
    "ExecuteTime": {
     "end_time": "2020-06-05T17:01:19.657840Z",
     "start_time": "2020-06-05T17:01:19.624237Z"
    }
   },
   "outputs": [],
   "source": [
    "batting_df.drop('Unnamed: 0', axis=1, inplace=True)\n",
    "pitching_df.drop('Unnamed: 0', axis=1, inplace=True)\n",
    "game_df.drop('Unnamed: 0', axis=1, inplace=True)"
   ]
  },
  {
   "cell_type": "markdown",
   "metadata": {},
   "source": [
    "## Batting Feature engineering ideas\n",
    "- All of these stats will be on a PER PLATE APPEARANCE then divide by 162 to get PER GAME STATS\n",
    "    - Team stats will be summed up and averaged - Will ultimately be compared to a teams 7 day trends history\n",
    "        - 'totalBases' / total 'plateAppearances' - DONE\n",
    "        - 'leftonbase'/ total 'plateAppearances' - DONE\n",
    "        - 'runs' / total 'plateAppearances' - DONE\n",
    "        - 'strikeOuts' / total 'atBats' - DONE\n",
    "        - 'baseOnBalls' + 'intentionalWalks' / total 'plateAppearances' - DONE\n",
    "            - 'hits' / total 'atBats' --- Leverage for game_df. get team stats per game...\n",
    "            - 'obp' / # of batters on team --- Same as above\n",
    "        - 'rbi' / total 'atBats' - DONE"
   ]
  },
  {
   "cell_type": "code",
   "execution_count": 6,
   "metadata": {
    "ExecuteTime": {
     "end_time": "2020-06-05T17:01:19.696912Z",
     "start_time": "2020-06-05T17:01:19.681270Z"
    }
   },
   "outputs": [],
   "source": [
    "# MIA & FLO are different. Standardizing to MIA\n",
    "batting_df.replace(to_replace='FLA', value='MIA', inplace=True)"
   ]
  },
  {
   "cell_type": "code",
   "execution_count": 7,
   "metadata": {
    "ExecuteTime": {
     "end_time": "2020-06-05T17:01:19.747585Z",
     "start_time": "2020-06-05T17:01:19.716355Z"
    },
    "code_folding": [
     0
    ]
   },
   "outputs": [
    {
     "data": {
      "text/plain": [
       "31"
      ]
     },
     "execution_count": 7,
     "metadata": {},
     "output_type": "execute_result"
    }
   ],
   "source": [
    "# 31 teams showing up since it seems like there are some NaN values for team names. Will deal with should it become an issue...\n",
    "len(batting_df.teamAbbrev.unique())"
   ]
  },
  {
   "cell_type": "markdown",
   "metadata": {},
   "source": [
    "### Create New Features for TEAM stats"
   ]
  },
  {
   "cell_type": "code",
   "execution_count": 8,
   "metadata": {
    "ExecuteTime": {
     "end_time": "2020-06-05T17:01:19.810618Z",
     "start_time": "2020-06-05T17:01:19.751714Z"
    },
    "code_folding": [
     0
    ]
   },
   "outputs": [],
   "source": [
    "# THIS IS THE FRAMEWORK TO GENERATE TEAM STATISTICS...\n",
    "# Creating a dataframe containing team annual Batting Averages\n",
    "\n",
    "a = batting_df.groupby(['year', 'teamAbbrev'])['hits'].sum()\n",
    "b = batting_df.groupby(['year', 'teamAbbrev'])['plateAppearances'].sum()\n",
    "a = a.to_frame()\n",
    "b = b.to_frame()\n",
    "BA = a.join(b, on=['year', 'teamAbbrev'])\n",
    "BA['team_BA'] = round((BA['hits']/BA['plateAppearances']), 3)\n",
    "# BA = BA.reset_index()"
   ]
  },
  {
   "cell_type": "code",
   "execution_count": 9,
   "metadata": {
    "ExecuteTime": {
     "end_time": "2020-06-05T17:01:19.860988Z",
     "start_time": "2020-06-05T17:01:19.817563Z"
    },
    "code_folding": [
     0
    ]
   },
   "outputs": [],
   "source": [
    "# Total bases per plate appearance\n",
    "# Commented out. Taking a different approach\n",
    "# batting_df['Total_bases_per_plateappearance'] = (batting_df['totalBases'] / batting_df['plateAppearances'])\n",
    "\n",
    "a = batting_df.groupby(['year', 'teamAbbrev'])['totalBases'].sum()\n",
    "b = batting_df.groupby(['year', 'teamAbbrev'])['plateAppearances'].sum()\n",
    "a = a.to_frame()\n",
    "b = b.to_frame()\n",
    "TB = a.join(b, on=['year', 'teamAbbrev'])\n",
    "TB['total_bases_avg'] = round((TB['totalBases']/TB['plateAppearances']), 3)\n",
    "# TB = TB.reset_index()"
   ]
  },
  {
   "cell_type": "code",
   "execution_count": 10,
   "metadata": {
    "ExecuteTime": {
     "end_time": "2020-06-05T17:01:19.920078Z",
     "start_time": "2020-06-05T17:01:19.867873Z"
    },
    "code_folding": [
     0
    ]
   },
   "outputs": [],
   "source": [
    "# LOB per plate appearnace\n",
    "# Commented out. Taking a different approach\n",
    "# batting_df['LOB_per_plateappearance'] = (batting_df['leftOnBase'] / batting_df['plateAppearances'])\n",
    "\n",
    "a = batting_df.groupby(['year', 'teamAbbrev'])['leftOnBase'].sum()\n",
    "b = batting_df.groupby(['year', 'teamAbbrev'])['plateAppearances'].sum()\n",
    "a = a.to_frame()\n",
    "b = b.to_frame()\n",
    "LOB = a.join(b, on=['year', 'teamAbbrev'])\n",
    "LOB['LOB_avg'] = round((LOB['leftOnBase']/LOB['plateAppearances']), 3)\n",
    "# LOB = LOB.reset_index()"
   ]
  },
  {
   "cell_type": "code",
   "execution_count": 11,
   "metadata": {
    "ExecuteTime": {
     "end_time": "2020-06-05T17:01:19.979618Z",
     "start_time": "2020-06-05T17:01:19.926526Z"
    },
    "code_folding": [
     0
    ]
   },
   "outputs": [],
   "source": [
    "# Runs per plate appearance\n",
    "# Commented out. Taking a different approach\n",
    "#batting_df['runs_per_plateappearance'] = (batting_df['runs'] / batting_df['plateAppearances'])\n",
    "\n",
    "a = batting_df.groupby(['year', 'teamAbbrev'])['runs'].sum()\n",
    "b = batting_df.groupby(['year', 'teamAbbrev'])['plateAppearances'].sum()\n",
    "a = a.to_frame()\n",
    "b = b.to_frame()\n",
    "RUNS = a.join(b, on=['year', 'teamAbbrev'])\n",
    "RUNS['runs_avg'] = round((RUNS['runs']/RUNS['plateAppearances']), 3)\n",
    "# RUNS = RUNS.reset_index()"
   ]
  },
  {
   "cell_type": "code",
   "execution_count": 12,
   "metadata": {
    "ExecuteTime": {
     "end_time": "2020-06-05T17:01:20.052116Z",
     "start_time": "2020-06-05T17:01:19.994192Z"
    },
    "code_folding": [
     0
    ]
   },
   "outputs": [],
   "source": [
    "# K's per AtBat\n",
    "# Commented out. Taking a different approach\n",
    "# batting_df['K_per_plateappearance'] = (batting_df['strikeOuts'] / batting_df['atBats'])\n",
    "\n",
    "a = batting_df.groupby(['year', 'teamAbbrev'])['strikeOuts'].sum()\n",
    "b = batting_df.groupby(['year', 'teamAbbrev'])['atBats'].sum()\n",
    "a = a.to_frame()\n",
    "b = b.to_frame()\n",
    "K = a.join(b, on=['year', 'teamAbbrev'])\n",
    "K['K_avg'] = round((K['strikeOuts']/K['atBats']), 3)\n",
    "# K = K.reset_index()"
   ]
  },
  {
   "cell_type": "code",
   "execution_count": 13,
   "metadata": {
    "ExecuteTime": {
     "end_time": "2020-06-05T17:01:20.099114Z",
     "start_time": "2020-06-05T17:01:20.057118Z"
    },
    "code_folding": [
     0
    ]
   },
   "outputs": [],
   "source": [
    "# BB per plate appearance\n",
    "# Commented out. Taking a different approach\n",
    "# batting_df['BB+IBB_per_plateappearance'] = ((batting_df['baseOnBalls'] + 'took out IBB for simplicity' / batting_df['plateAppearances'])\n",
    "\n",
    "a = batting_df.groupby(['year', 'teamAbbrev'])['baseOnBalls'].sum()\n",
    "b = batting_df.groupby(['year', 'teamAbbrev'])['plateAppearances'].sum()\n",
    "a = a.to_frame()\n",
    "b = b.to_frame()\n",
    "BB = a.join(b, on=['year', 'teamAbbrev'])\n",
    "BB['BB_avg'] = round((BB['baseOnBalls']/BB['plateAppearances']), 3)\n",
    "# BB = BB.reset_index()"
   ]
  },
  {
   "cell_type": "code",
   "execution_count": 14,
   "metadata": {
    "ExecuteTime": {
     "end_time": "2020-06-05T17:01:20.153728Z",
     "start_time": "2020-06-05T17:01:20.104866Z"
    },
    "code_folding": [
     0
    ]
   },
   "outputs": [],
   "source": [
    "# RBI per plate appearance\n",
    "# Commented out. Taking a different approach\n",
    "# batting_df['RBI_per_plateappearance'] = (batting_df['rbi'] / batting_df['atBats'])\n",
    "\n",
    "a = batting_df.groupby(['year', 'teamAbbrev'])['rbi'].sum()\n",
    "b = batting_df.groupby(['year', 'teamAbbrev'])['plateAppearances'].sum()\n",
    "a = a.to_frame()\n",
    "b = b.to_frame()\n",
    "RBI = a.join(b, on=['year', 'teamAbbrev'])\n",
    "RBI['RBI_avg'] = round((RBI['rbi']/RBI['plateAppearances']), 3)\n",
    "# RBI = RBI.reset_index()"
   ]
  },
  {
   "cell_type": "markdown",
   "metadata": {},
   "source": [
    "## Merge all the TEAM stats into one dataframe"
   ]
  },
  {
   "cell_type": "code",
   "execution_count": 15,
   "metadata": {
    "ExecuteTime": {
     "end_time": "2020-06-05T17:01:20.178113Z",
     "start_time": "2020-06-05T17:01:20.156337Z"
    }
   },
   "outputs": [],
   "source": [
    "team_stats_lst = [BA, TB, LOB, RUNS, K, BB, RBI]"
   ]
  },
  {
   "cell_type": "code",
   "execution_count": 16,
   "metadata": {
    "ExecuteTime": {
     "end_time": "2020-06-05T17:01:20.220397Z",
     "start_time": "2020-06-05T17:01:20.182473Z"
    }
   },
   "outputs": [],
   "source": [
    "team_stats = pd.concat(team_stats_lst, join='outer', axis=1)"
   ]
  },
  {
   "cell_type": "code",
   "execution_count": 17,
   "metadata": {
    "ExecuteTime": {
     "end_time": "2020-06-05T17:01:20.247085Z",
     "start_time": "2020-06-05T17:01:20.225542Z"
    }
   },
   "outputs": [],
   "source": [
    "team_stats = team_stats.reset_index()"
   ]
  },
  {
   "cell_type": "code",
   "execution_count": 18,
   "metadata": {
    "ExecuteTime": {
     "end_time": "2020-06-05T17:01:20.277562Z",
     "start_time": "2020-06-05T17:01:20.251578Z"
    }
   },
   "outputs": [
    {
     "data": {
      "text/plain": [
       "Index(['year', 'teamAbbrev', 'hits', 'plateAppearances', 'team_BA',\n",
       "       'totalBases', 'plateAppearances', 'total_bases_avg', 'leftOnBase',\n",
       "       'plateAppearances', 'LOB_avg', 'runs', 'plateAppearances', 'runs_avg',\n",
       "       'strikeOuts', 'atBats', 'K_avg', 'baseOnBalls', 'plateAppearances',\n",
       "       'BB_avg', 'rbi', 'plateAppearances', 'RBI_avg'],\n",
       "      dtype='object')"
      ]
     },
     "execution_count": 18,
     "metadata": {},
     "output_type": "execute_result"
    }
   ],
   "source": [
    "team_stats.columns"
   ]
  },
  {
   "cell_type": "markdown",
   "metadata": {},
   "source": [
    "## Pitching Feature ideas\n",
    "- Pitching stats will focus on starting pitchers Per9 innings stat (except for certain features)\n",
    "    - 'winningPercentage'\n",
    "    - 'runsScoredPer9'\n",
    "    - 'hitsPer9'\n",
    "    - 'era'\n",
    "    - 'whip'"
   ]
  },
  {
   "cell_type": "code",
   "execution_count": 19,
   "metadata": {
    "ExecuteTime": {
     "end_time": "2020-06-05T17:01:20.299729Z",
     "start_time": "2020-06-05T17:01:20.285618Z"
    }
   },
   "outputs": [],
   "source": [
    "# Rearrange the pitching_df so the columns have a better flow\n",
    "pitching_df = pitching_df.reindex(columns=['year','playerName','teamAbbrev','winningPercentage','runsScoredPer9','hitsPer9','strikeoutsPer9','baseOnBallsPer9','homeRunsPer9','era','whip','ops','gidp','avg'])\n",
    "# Columns to be left out from the reindexing --- 'winPercentage', 'strikeoutsPer9Inn', 'walksPer9Inn', 'hitsPer9Inn'"
   ]
  },
  {
   "cell_type": "code",
   "execution_count": 20,
   "metadata": {
    "ExecuteTime": {
     "end_time": "2020-06-05T17:01:20.329532Z",
     "start_time": "2020-06-05T17:01:20.305686Z"
    }
   },
   "outputs": [],
   "source": [
    "# Marlins have the team labels: MIA & FLO. Standardizing to MIA\n",
    "pitching_df.replace(to_replace='FLA', value='MIA', inplace=True)"
   ]
  },
  {
   "cell_type": "code",
   "execution_count": 21,
   "metadata": {
    "ExecuteTime": {
     "end_time": "2020-06-05T17:01:20.374988Z",
     "start_time": "2020-06-05T17:01:20.346187Z"
    }
   },
   "outputs": [
    {
     "data": {
      "text/plain": [
       "31"
      ]
     },
     "execution_count": 21,
     "metadata": {},
     "output_type": "execute_result"
    }
   ],
   "source": [
    "# 31 teams showing up since it seems like there are some NaN values for team names.\n",
    "# Will deal with should it become an issue...\n",
    "len(pitching_df.teamAbbrev.unique())"
   ]
  },
  {
   "cell_type": "markdown",
   "metadata": {},
   "source": [
    "## Game DF Feature ideas\n",
    "- Turn VisitorRunsScored & HomeRunsScore into a column that indicates if the home team won - DONE.\n",
    "- Combine VisitorHBP & VisitorBB & VisitorIBB into a single column containing all the stats - DONE.\n",
    "- Same with HomeHBP & HomeBB & HomeIBB - DONE.\n",
    "<br/><br/>\n",
    "- Combine VisitorH / VisitorAB = team_BA - DONE.\n",
    "- Same with HomeH / HomeAB - DONE. \n",
    "<br/><br/>\n",
    "- Eventually add on all the other engineered features into this dataframe...\n",
    "<br/><br/>\n",
    "- Since the game_df has a date column, I'd like to leverage that to look at 7-day-trends, 14-day-trends, etc"
   ]
  },
  {
   "cell_type": "code",
   "execution_count": 22,
   "metadata": {
    "ExecuteTime": {
     "end_time": "2020-06-05T17:01:20.409237Z",
     "start_time": "2020-06-05T17:01:20.388223Z"
    }
   },
   "outputs": [],
   "source": [
    "# Creating a Target for the model to eventually train on\n",
    "game_df['Home_team_won?'] = game_df['HomeRunsScore'] > game_df['VisitorRunsScored']"
   ]
  },
  {
   "cell_type": "code",
   "execution_count": 23,
   "metadata": {
    "ExecuteTime": {
     "end_time": "2020-06-05T17:01:20.457720Z",
     "start_time": "2020-06-05T17:01:20.414946Z"
    }
   },
   "outputs": [],
   "source": [
    "# Adding a Home & Away BA per game to compare batting trends over time\n",
    "game_df['Visitor_BA'] = round((game_df['VisitorH'] / game_df['VisitorAB']), 3)\n",
    "game_df['Home_BA'] = round((game_df['HomeH'] / game_df['HomeAB']), 3)"
   ]
  },
  {
   "cell_type": "code",
   "execution_count": 24,
   "metadata": {
    "ExecuteTime": {
     "end_time": "2020-06-05T17:01:20.570402Z",
     "start_time": "2020-06-05T17:01:20.481131Z"
    }
   },
   "outputs": [],
   "source": [
    "# Creating a new column in order to add Date/Time to my dataframe\n",
    "game_df['New_Date'] = pd.to_datetime(game_df['Date'].astype(str), format='%Y%m%d')"
   ]
  },
  {
   "cell_type": "code",
   "execution_count": 25,
   "metadata": {
    "ExecuteTime": {
     "end_time": "2020-06-05T17:01:20.606738Z",
     "start_time": "2020-06-05T17:01:20.573796Z"
    }
   },
   "outputs": [],
   "source": [
    "# Rearranging columns so new date/time is at the front of the DF & dropping old date column since it was an integer\n",
    "game_df = game_df.reindex(columns=['New_Date','Date', 'VisitingTeam','VisitorStartingPitcherName','HomeTeam','HomeStartingPitcherName', 'VisitorRunsScored','HomeRunsScore', 'VisitorAB', 'VisitorH','Visitor_BA', 'VisitorHBP', 'VisitorBB','VisitorIBB', 'VisitorLOB', 'HomeAB', 'HomeH', 'Home_BA', 'HomeHBP', 'HomeBB', 'HomeIBB', 'HomeLOB', 'Home_team_won?'])\n",
    "game_df.drop('Date', axis='columns', inplace=True)"
   ]
  },
  {
   "cell_type": "code",
   "execution_count": 26,
   "metadata": {
    "ExecuteTime": {
     "end_time": "2020-06-05T17:01:21.402582Z",
     "start_time": "2020-06-05T17:01:20.725990Z"
    }
   },
   "outputs": [],
   "source": [
    "# Had an extra team due to the Marlins having two different labels. Updating their team name to MIA\n",
    "game_df.replace(to_replace='FLO', value='MIA', inplace=True)\n",
    "\n",
    "# Updating game_df so team abbreviations match. Will be leveraged when aggregating teams stats\n",
    "game_df.replace(to_replace={\"NYA\":\"NYY\", \"SDN\":\"SD\", \"CHN\":\"CHC\", \"SLN\":\"STL\", \"SFN\":\"SF\", \"LAN\":\"LAD\", \"TBA\":\"TB\", \"KCA\":\"KC\", \"CHA\":\"CWS\", \"ANA\":\"LAA\", \"NYN\":\"NYM\"}, inplace=True)"
   ]
  },
  {
   "cell_type": "code",
   "execution_count": 27,
   "metadata": {
    "ExecuteTime": {
     "end_time": "2020-06-05T17:01:21.419906Z",
     "start_time": "2020-06-05T17:01:21.405767Z"
    },
    "scrolled": false
   },
   "outputs": [],
   "source": [
    "# Adding a prior year column in order to match last seasons stats from pitching_df/team_stats to game_df\n",
    "game_df['prior_year'] = game_df['New_Date'].dt.year-1"
   ]
  },
  {
   "cell_type": "markdown",
   "metadata": {},
   "source": [
    "## Merge pitching_df stats to game_df"
   ]
  },
  {
   "cell_type": "code",
   "execution_count": 28,
   "metadata": {
    "ExecuteTime": {
     "end_time": "2020-06-05T17:01:21.768223Z",
     "start_time": "2020-06-05T17:01:21.697332Z"
    }
   },
   "outputs": [],
   "source": [
    "# Merging the pitching stats on the prior year in the game_df in order to leverage the pitchers \n",
    "game_df = game_df.merge(pitching_df, how='left', left_on=['prior_year','VisitorStartingPitcherName'], right_on=['year', 'playerName'])"
   ]
  },
  {
   "cell_type": "code",
   "execution_count": 29,
   "metadata": {
    "ExecuteTime": {
     "end_time": "2020-06-05T17:01:22.210284Z",
     "start_time": "2020-06-05T17:01:22.126354Z"
    }
   },
   "outputs": [],
   "source": [
    "game_df = game_df.merge(pitching_df, how='left', left_on=['prior_year','HomeStartingPitcherName'], right_on=['year', 'playerName'])"
   ]
  },
  {
   "cell_type": "markdown",
   "metadata": {},
   "source": [
    "## Merge Team Batting stats to game_df"
   ]
  },
  {
   "cell_type": "code",
   "execution_count": 30,
   "metadata": {
    "ExecuteTime": {
     "end_time": "2020-06-05T17:01:22.969426Z",
     "start_time": "2020-06-05T17:01:22.893095Z"
    }
   },
   "outputs": [
    {
     "data": {
      "text/html": [
       "<div>\n",
       "<style scoped>\n",
       "    .dataframe tbody tr th:only-of-type {\n",
       "        vertical-align: middle;\n",
       "    }\n",
       "\n",
       "    .dataframe tbody tr th {\n",
       "        vertical-align: top;\n",
       "    }\n",
       "\n",
       "    .dataframe thead th {\n",
       "        text-align: right;\n",
       "    }\n",
       "</style>\n",
       "<table border=\"1\" class=\"dataframe\">\n",
       "  <thead>\n",
       "    <tr style=\"text-align: right;\">\n",
       "      <th></th>\n",
       "      <th>year</th>\n",
       "      <th>teamAbbrev</th>\n",
       "      <th>hits</th>\n",
       "      <th>plateAppearances</th>\n",
       "      <th>team_BA</th>\n",
       "      <th>totalBases</th>\n",
       "      <th>plateAppearances</th>\n",
       "      <th>total_bases_avg</th>\n",
       "      <th>leftOnBase</th>\n",
       "      <th>plateAppearances</th>\n",
       "      <th>...</th>\n",
       "      <th>runs_avg</th>\n",
       "      <th>strikeOuts</th>\n",
       "      <th>atBats</th>\n",
       "      <th>K_avg</th>\n",
       "      <th>baseOnBalls</th>\n",
       "      <th>plateAppearances</th>\n",
       "      <th>BB_avg</th>\n",
       "      <th>rbi</th>\n",
       "      <th>plateAppearances</th>\n",
       "      <th>RBI_avg</th>\n",
       "    </tr>\n",
       "  </thead>\n",
       "  <tbody>\n",
       "    <tr>\n",
       "      <th>0</th>\n",
       "      <td>2009</td>\n",
       "      <td>ARI</td>\n",
       "      <td>1310</td>\n",
       "      <td>5858</td>\n",
       "      <td>0.224</td>\n",
       "      <td>2195</td>\n",
       "      <td>5858</td>\n",
       "      <td>0.375</td>\n",
       "      <td>2225</td>\n",
       "      <td>5858</td>\n",
       "      <td>...</td>\n",
       "      <td>0.116</td>\n",
       "      <td>1224</td>\n",
       "      <td>5182</td>\n",
       "      <td>0.236</td>\n",
       "      <td>545</td>\n",
       "      <td>5858</td>\n",
       "      <td>0.093</td>\n",
       "      <td>664</td>\n",
       "      <td>5858</td>\n",
       "      <td>0.113</td>\n",
       "    </tr>\n",
       "    <tr>\n",
       "      <th>1</th>\n",
       "      <td>2009</td>\n",
       "      <td>ATL</td>\n",
       "      <td>1492</td>\n",
       "      <td>6510</td>\n",
       "      <td>0.229</td>\n",
       "      <td>2336</td>\n",
       "      <td>6510</td>\n",
       "      <td>0.359</td>\n",
       "      <td>2432</td>\n",
       "      <td>6510</td>\n",
       "      <td>...</td>\n",
       "      <td>0.119</td>\n",
       "      <td>1137</td>\n",
       "      <td>5678</td>\n",
       "      <td>0.200</td>\n",
       "      <td>637</td>\n",
       "      <td>6510</td>\n",
       "      <td>0.098</td>\n",
       "      <td>723</td>\n",
       "      <td>6510</td>\n",
       "      <td>0.111</td>\n",
       "    </tr>\n",
       "    <tr>\n",
       "      <th>2</th>\n",
       "      <td>2009</td>\n",
       "      <td>BAL</td>\n",
       "      <td>1367</td>\n",
       "      <td>5610</td>\n",
       "      <td>0.244</td>\n",
       "      <td>2107</td>\n",
       "      <td>5610</td>\n",
       "      <td>0.376</td>\n",
       "      <td>2132</td>\n",
       "      <td>5610</td>\n",
       "      <td>...</td>\n",
       "      <td>0.120</td>\n",
       "      <td>913</td>\n",
       "      <td>5073</td>\n",
       "      <td>0.180</td>\n",
       "      <td>449</td>\n",
       "      <td>5610</td>\n",
       "      <td>0.080</td>\n",
       "      <td>628</td>\n",
       "      <td>5610</td>\n",
       "      <td>0.112</td>\n",
       "    </tr>\n",
       "    <tr>\n",
       "      <th>3</th>\n",
       "      <td>2009</td>\n",
       "      <td>BOS</td>\n",
       "      <td>1915</td>\n",
       "      <td>8245</td>\n",
       "      <td>0.232</td>\n",
       "      <td>3151</td>\n",
       "      <td>8245</td>\n",
       "      <td>0.382</td>\n",
       "      <td>3223</td>\n",
       "      <td>8245</td>\n",
       "      <td>...</td>\n",
       "      <td>0.128</td>\n",
       "      <td>1435</td>\n",
       "      <td>7202</td>\n",
       "      <td>0.199</td>\n",
       "      <td>864</td>\n",
       "      <td>8245</td>\n",
       "      <td>0.105</td>\n",
       "      <td>1036</td>\n",
       "      <td>8245</td>\n",
       "      <td>0.126</td>\n",
       "    </tr>\n",
       "    <tr>\n",
       "      <th>4</th>\n",
       "      <td>2009</td>\n",
       "      <td>CHC</td>\n",
       "      <td>1392</td>\n",
       "      <td>6214</td>\n",
       "      <td>0.224</td>\n",
       "      <td>2228</td>\n",
       "      <td>6214</td>\n",
       "      <td>0.359</td>\n",
       "      <td>2458</td>\n",
       "      <td>6214</td>\n",
       "      <td>...</td>\n",
       "      <td>0.113</td>\n",
       "      <td>1176</td>\n",
       "      <td>5459</td>\n",
       "      <td>0.215</td>\n",
       "      <td>590</td>\n",
       "      <td>6214</td>\n",
       "      <td>0.095</td>\n",
       "      <td>679</td>\n",
       "      <td>6214</td>\n",
       "      <td>0.109</td>\n",
       "    </tr>\n",
       "  </tbody>\n",
       "</table>\n",
       "<p>5 rows × 23 columns</p>\n",
       "</div>"
      ],
      "text/plain": [
       "   year teamAbbrev  hits  plateAppearances  team_BA  totalBases  \\\n",
       "0  2009        ARI  1310              5858    0.224        2195   \n",
       "1  2009        ATL  1492              6510    0.229        2336   \n",
       "2  2009        BAL  1367              5610    0.244        2107   \n",
       "3  2009        BOS  1915              8245    0.232        3151   \n",
       "4  2009        CHC  1392              6214    0.224        2228   \n",
       "\n",
       "   plateAppearances  total_bases_avg  leftOnBase  plateAppearances  ...  \\\n",
       "0              5858            0.375        2225              5858  ...   \n",
       "1              6510            0.359        2432              6510  ...   \n",
       "2              5610            0.376        2132              5610  ...   \n",
       "3              8245            0.382        3223              8245  ...   \n",
       "4              6214            0.359        2458              6214  ...   \n",
       "\n",
       "   runs_avg  strikeOuts  atBats  K_avg  baseOnBalls  plateAppearances  BB_avg  \\\n",
       "0     0.116        1224    5182  0.236          545              5858   0.093   \n",
       "1     0.119        1137    5678  0.200          637              6510   0.098   \n",
       "2     0.120         913    5073  0.180          449              5610   0.080   \n",
       "3     0.128        1435    7202  0.199          864              8245   0.105   \n",
       "4     0.113        1176    5459  0.215          590              6214   0.095   \n",
       "\n",
       "    rbi  plateAppearances  RBI_avg  \n",
       "0   664              5858    0.113  \n",
       "1   723              6510    0.111  \n",
       "2   628              5610    0.112  \n",
       "3  1036              8245    0.126  \n",
       "4   679              6214    0.109  \n",
       "\n",
       "[5 rows x 23 columns]"
      ]
     },
     "execution_count": 30,
     "metadata": {},
     "output_type": "execute_result"
    }
   ],
   "source": [
    "team_stats.head()"
   ]
  },
  {
   "cell_type": "code",
   "execution_count": 31,
   "metadata": {
    "ExecuteTime": {
     "end_time": "2020-06-05T17:01:24.548835Z",
     "start_time": "2020-06-05T17:01:24.535926Z"
    }
   },
   "outputs": [],
   "source": [
    "# Dropping redundant columns from batting stats df\n",
    "team_stats.drop('plateAppearances', axis=1, inplace=True)"
   ]
  },
  {
   "cell_type": "code",
   "execution_count": 32,
   "metadata": {
    "ExecuteTime": {
     "end_time": "2020-06-05T17:01:25.133846Z",
     "start_time": "2020-06-05T17:01:25.013641Z"
    }
   },
   "outputs": [],
   "source": [
    "game_df = game_df.merge(team_stats, how='left', left_on=['prior_year', 'VisitingTeam'], right_on=['year', 'teamAbbrev'])"
   ]
  },
  {
   "cell_type": "code",
   "execution_count": 33,
   "metadata": {
    "ExecuteTime": {
     "end_time": "2020-06-05T17:01:25.919343Z",
     "start_time": "2020-06-05T17:01:25.797968Z"
    }
   },
   "outputs": [],
   "source": [
    "game_df = game_df.merge(team_stats, how='left', left_on=['prior_year', 'HomeTeam'], right_on=['year', 'teamAbbrev'])"
   ]
  },
  {
   "cell_type": "code",
   "execution_count": 34,
   "metadata": {
    "ExecuteTime": {
     "end_time": "2020-06-05T17:01:26.109223Z",
     "start_time": "2020-06-05T17:01:26.017875Z"
    }
   },
   "outputs": [],
   "source": [
    "# Creating an integer reference point in game_df\n",
    "game_df['current_year'] = game_df['New_Date'].dt.year"
   ]
  },
  {
   "cell_type": "code",
   "execution_count": 35,
   "metadata": {
    "ExecuteTime": {
     "end_time": "2020-06-05T17:01:26.293424Z",
     "start_time": "2020-06-05T17:01:26.217742Z"
    }
   },
   "outputs": [],
   "source": [
    "# Addressing NaN values in game_df by giving them a -1 score\n",
    "# NaN indicates that the player did not have stats from the prior year to measure againsta\n",
    "game_df.fillna(value = -1, inplace=True)"
   ]
  },
  {
   "cell_type": "code",
   "execution_count": 36,
   "metadata": {
    "ExecuteTime": {
     "end_time": "2020-06-05T17:01:26.491124Z",
     "start_time": "2020-06-05T17:01:26.405149Z"
    }
   },
   "outputs": [
    {
     "data": {
      "text/plain": [
       "False"
      ]
     },
     "execution_count": 36,
     "metadata": {},
     "output_type": "execute_result"
    }
   ],
   "source": [
    "# Checking game_df for ANY NaN values\n",
    "game_df.isnull().values.any()\n",
    "# Returns false, indicating that there are NO NaN values in the game_df"
   ]
  },
  {
   "cell_type": "markdown",
   "metadata": {},
   "source": [
    "## Train and fit a model to see how these feature perform so far..."
   ]
  },
  {
   "cell_type": "markdown",
   "metadata": {},
   "source": [
    "#### First model being trained will be on the teams/starting pitcher prior year statistics"
   ]
  },
  {
   "cell_type": "code",
   "execution_count": 37,
   "metadata": {
    "ExecuteTime": {
     "end_time": "2020-06-05T17:01:27.618615Z",
     "start_time": "2020-06-05T17:01:27.611138Z"
    },
    "code_folding": []
   },
   "outputs": [],
   "source": [
    "# Creating an initial drop_lst variable to use for dropping metrics that are answers...\n",
    "drop_lst = ['New_Date',\n",
    "'VisitingTeam',\n",
    "'VisitorStartingPitcherName',\n",
    "'HomeTeam',\n",
    "'HomeStartingPitcherName',\n",
    "'VisitorRunsScored', \n",
    "'HomeRunsScore', \n",
    "'Home_team_won?', \n",
    "'VisitorAB',\n",
    "'VisitorH',\n",
    "'Visitor_BA',\n",
    "'VisitorHBP',\n",
    "'VisitorBB',\n",
    "'VisitorIBB',\n",
    "'VisitorLOB',\n",
    "'HomeAB',\n",
    "'HomeH',\n",
    "'Home_BA',\n",
    "'HomeHBP',\n",
    "'HomeBB',\n",
    "'HomeIBB',\n",
    "'HomeLOB',\n",
    "'playerName_x',\n",
    "'teamAbbrev_x',\n",
    "'playerName_y',\n",
    "'teamAbbrev_y',\n",
    "'teamAbbrev_x',\n",
    "'teamAbbrev_y',\n",
    "'year_x',\n",
    "'year_y',\n",
    "'prior_year']"
   ]
  },
  {
   "cell_type": "code",
   "execution_count": 38,
   "metadata": {
    "ExecuteTime": {
     "end_time": "2020-06-05T17:01:28.332129Z",
     "start_time": "2020-06-05T17:01:28.317801Z"
    }
   },
   "outputs": [],
   "source": [
    "y = game_df['Home_team_won?']"
   ]
  },
  {
   "cell_type": "code",
   "execution_count": 39,
   "metadata": {
    "ExecuteTime": {
     "end_time": "2020-06-05T17:01:28.549664Z",
     "start_time": "2020-06-05T17:01:28.529649Z"
    },
    "scrolled": true
   },
   "outputs": [],
   "source": [
    "X = game_df.drop(drop_lst, axis=1)"
   ]
  },
  {
   "cell_type": "code",
   "execution_count": 40,
   "metadata": {
    "ExecuteTime": {
     "end_time": "2020-06-05T17:01:28.795354Z",
     "start_time": "2020-06-05T17:01:28.772701Z"
    }
   },
   "outputs": [
    {
     "data": {
      "text/plain": [
       "Index(['winningPercentage_x', 'runsScoredPer9_x', 'hitsPer9_x',\n",
       "       'strikeoutsPer9_x', 'baseOnBallsPer9_x', 'homeRunsPer9_x', 'era_x',\n",
       "       'whip_x', 'ops_x', 'gidp_x', 'avg_x', 'winningPercentage_y',\n",
       "       'runsScoredPer9_y', 'hitsPer9_y', 'strikeoutsPer9_y',\n",
       "       'baseOnBallsPer9_y', 'homeRunsPer9_y', 'era_y', 'whip_y', 'ops_y',\n",
       "       'gidp_y', 'avg_y', 'hits_x', 'team_BA_x', 'totalBases_x',\n",
       "       'total_bases_avg_x', 'leftOnBase_x', 'LOB_avg_x', 'runs_x',\n",
       "       'runs_avg_x', 'strikeOuts_x', 'atBats_x', 'K_avg_x', 'baseOnBalls_x',\n",
       "       'BB_avg_x', 'rbi_x', 'RBI_avg_x', 'hits_y', 'team_BA_y', 'totalBases_y',\n",
       "       'total_bases_avg_y', 'leftOnBase_y', 'LOB_avg_y', 'runs_y',\n",
       "       'runs_avg_y', 'strikeOuts_y', 'atBats_y', 'K_avg_y', 'baseOnBalls_y',\n",
       "       'BB_avg_y', 'rbi_y', 'RBI_avg_y', 'current_year'],\n",
       "      dtype='object')"
      ]
     },
     "execution_count": 40,
     "metadata": {},
     "output_type": "execute_result"
    }
   ],
   "source": [
    "X.columns"
   ]
  },
  {
   "cell_type": "code",
   "execution_count": 41,
   "metadata": {
    "ExecuteTime": {
     "end_time": "2020-06-05T17:06:17.708653Z",
     "start_time": "2020-06-05T17:06:17.688571Z"
    },
    "code_folding": [
     0
    ]
   },
   "outputs": [],
   "source": [
    "def my_train_test_split(X, y, start_year, end_year):\n",
    "    '''\n",
    "    creating a custom train_test_split in order to split data by seasons\n",
    "    i.e.\n",
    "    - train on 2010-2016 seasons\n",
    "    - test on 2018-2019 seasons\n",
    "    \n",
    "    Parameters:\n",
    "    X: features\n",
    "    y: target value\n",
    "    \n",
    "    returns:\n",
    "    X_train, X_test, y_train, y_test\n",
    "    '''\n",
    "    # There are objects in the DF that need to be numeric values\n",
    "    # obj_lst = ['winningPercentage_x','runsScoredPer9_x','hitsPer9_x','strikeoutsPer9_x','baseOnBallsPer9_x','homeRunsPer9_x','era_x','whip_x','winningPercentage_y','runsScoredPer9_y','hitsPer9_y','strikeoutsPer9_y','baseOnBallsPer9_y','homeRunsPer9_y','era_y','whip_y']\n",
    "\n",
    "    # Getting X values to_numeric\n",
    "    X = X.apply(pd.to_numeric, errors='coerce')\n",
    "    X.fillna(value = -1, inplace=True)\n",
    "    \n",
    "                    # THIS WAS THE LINE ADDED THAT MESSED STUFF UP!!!!!!!!\n",
    "    #Adding a drop y step to the function to make the tweaked version later work better\n",
    "#     y = y.loc[y['current_year'] <= end_year+1]\n",
    "#     y = y['Home_team_won?']\n",
    "    \n",
    "    \n",
    "    # Setting up how to break up seasons by years\n",
    "    years = np.arange(start_year, end_year+1)\n",
    "    mask = game_df['current_year'].isin(years)\n",
    "    \n",
    "    # Splitting between the training & testing sets\n",
    "    X_train = X[mask]\n",
    "    X_test = X[~mask]\n",
    "    y_train = y[mask]\n",
    "    y_test = y[~mask]\n",
    "\n",
    "    return X_train, X_test, y_train, y_test"
   ]
  },
  {
   "cell_type": "code",
   "execution_count": 42,
   "metadata": {
    "ExecuteTime": {
     "end_time": "2020-06-05T17:06:19.230033Z",
     "start_time": "2020-06-05T17:06:18.896343Z"
    }
   },
   "outputs": [],
   "source": [
    "X_train, X_test, y_train, y_test = my_train_test_split(X, y, 2010, 2017)"
   ]
  },
  {
   "cell_type": "code",
   "execution_count": 43,
   "metadata": {
    "ExecuteTime": {
     "end_time": "2020-06-05T17:06:19.690655Z",
     "start_time": "2020-06-05T17:06:19.684094Z"
    }
   },
   "outputs": [],
   "source": [
    "rf = RandomForestClassifier()"
   ]
  },
  {
   "cell_type": "code",
   "execution_count": 44,
   "metadata": {
    "ExecuteTime": {
     "end_time": "2020-06-05T17:06:30.949829Z",
     "start_time": "2020-06-05T17:06:20.085384Z"
    }
   },
   "outputs": [
    {
     "data": {
      "text/plain": [
       "RandomForestClassifier(bootstrap=True, ccp_alpha=0.0, class_weight=None,\n",
       "                       criterion='gini', max_depth=None, max_features='auto',\n",
       "                       max_leaf_nodes=None, max_samples=None,\n",
       "                       min_impurity_decrease=0.0, min_impurity_split=None,\n",
       "                       min_samples_leaf=1, min_samples_split=2,\n",
       "                       min_weight_fraction_leaf=0.0, n_estimators=100,\n",
       "                       n_jobs=None, oob_score=False, random_state=None,\n",
       "                       verbose=0, warm_start=False)"
      ]
     },
     "execution_count": 44,
     "metadata": {},
     "output_type": "execute_result"
    }
   ],
   "source": [
    "rf.fit(X_train, y_train)"
   ]
  },
  {
   "cell_type": "code",
   "execution_count": 45,
   "metadata": {
    "ExecuteTime": {
     "end_time": "2020-06-05T17:06:31.190148Z",
     "start_time": "2020-06-05T17:06:30.955834Z"
    }
   },
   "outputs": [],
   "source": [
    "y_pred = rf.predict(X_test)"
   ]
  },
  {
   "cell_type": "code",
   "execution_count": 46,
   "metadata": {
    "ExecuteTime": {
     "end_time": "2020-06-05T17:06:31.210447Z",
     "start_time": "2020-06-05T17:06:31.196502Z"
    }
   },
   "outputs": [
    {
     "name": "stdout",
     "output_type": "stream",
     "text": [
      "Accuracy of first RandomForest: 54.42%\n"
     ]
    }
   ],
   "source": [
    "print(f\"Accuracy of first RandomForest: {round(metrics.accuracy_score(y_test, y_pred)*100, 2)}%\")"
   ]
  },
  {
   "cell_type": "code",
   "execution_count": 47,
   "metadata": {
    "ExecuteTime": {
     "end_time": "2020-06-05T17:06:31.282714Z",
     "start_time": "2020-06-05T17:06:31.216017Z"
    }
   },
   "outputs": [
    {
     "data": {
      "text/html": [
       "<div>\n",
       "<style scoped>\n",
       "    .dataframe tbody tr th:only-of-type {\n",
       "        vertical-align: middle;\n",
       "    }\n",
       "\n",
       "    .dataframe tbody tr th {\n",
       "        vertical-align: top;\n",
       "    }\n",
       "\n",
       "    .dataframe thead th {\n",
       "        text-align: right;\n",
       "    }\n",
       "</style>\n",
       "<table border=\"1\" class=\"dataframe\">\n",
       "  <thead>\n",
       "    <tr style=\"text-align: right;\">\n",
       "      <th>Predicted Result</th>\n",
       "      <th>False</th>\n",
       "      <th>True</th>\n",
       "    </tr>\n",
       "    <tr>\n",
       "      <th>Actual Result</th>\n",
       "      <th></th>\n",
       "      <th></th>\n",
       "    </tr>\n",
       "  </thead>\n",
       "  <tbody>\n",
       "    <tr>\n",
       "      <th>False</th>\n",
       "      <td>859</td>\n",
       "      <td>1432</td>\n",
       "    </tr>\n",
       "    <tr>\n",
       "      <th>True</th>\n",
       "      <td>783</td>\n",
       "      <td>1786</td>\n",
       "    </tr>\n",
       "  </tbody>\n",
       "</table>\n",
       "</div>"
      ],
      "text/plain": [
       "Predicted Result  False  True \n",
       "Actual Result                 \n",
       "False               859   1432\n",
       "True                783   1786"
      ]
     },
     "execution_count": 47,
     "metadata": {},
     "output_type": "execute_result"
    }
   ],
   "source": [
    "# True indicates that the Home TEAM WON, \n",
    "pd.crosstab(y_test, y_pred, rownames=['Actual Result'], colnames=['Predicted Result'])"
   ]
  },
  {
   "cell_type": "code",
   "execution_count": 48,
   "metadata": {
    "ExecuteTime": {
     "end_time": "2020-06-05T17:06:31.313352Z",
     "start_time": "2020-06-05T17:06:31.287416Z"
    },
    "code_folding": [
     0
    ]
   },
   "outputs": [],
   "source": [
    "def plot_features_importance(model, color):\n",
    "    '''\n",
    "    A funciton to plot my feature importances\n",
    "    \n",
    "    parameter:\n",
    "    model - the variable that we fit our model to. i.e. RF = RandomForest()\n",
    "    color - a string that will assign the graphs color scheme\n",
    "    \n",
    "    ex: rf = RandomForestClassifier()\n",
    "    model = rf\n",
    "    \n",
    "    returns:\n",
    "    a plot highlighting feature importance\n",
    "    '''\n",
    "    model.feature_importances_\n",
    "    importances = pd.Series(data=model.feature_importances_, index= X_train.columns)\n",
    "    importances_sorted = importances.sort_values()\n",
    "    importances_sorted.plot(kind='barh', color=color, figsize=(15,10))"
   ]
  },
  {
   "cell_type": "code",
   "execution_count": 49,
   "metadata": {
    "ExecuteTime": {
     "end_time": "2020-06-05T17:06:33.083389Z",
     "start_time": "2020-06-05T17:06:31.320940Z"
    }
   },
   "outputs": [
    {
     "data": {
      "image/png": "[encoded data removed]",
      "text/plain": [
       "<Figure size 1080x720 with 1 Axes>"
      ]
     },
     "metadata": {
      "needs_background": "light"
     },
     "output_type": "display_data"
    }
   ],
   "source": [
    "plot_features_importance(rf, \"red\")"
   ]
  },
  {
   "cell_type": "markdown",
   "metadata": {},
   "source": [
    "## Adding a rolling 3-day & 7-day average for teams:\n",
    "- Batting averages ( sum(Hits) / sum(AtBats) )\n",
    "    - DONE!!! \n",
    "- LOB averages ( sum(LOB) / sum(AtBats + BB + IBB + HBP) ) # denom is sum of plate appearances\n",
    "    - Holding off for now...\n",
    "- Run averages ( sum(runs) / 7-games )\n",
    "    - DONE!!!\n",
    "- OBP averages ( sum(Hits + BB + IBB + HBP) / sum(AtBats + BB + IBB + HBP) ) # denom is sum of plate appearances\n",
    "    - DONE!!!"
   ]
  },
  {
   "cell_type": "markdown",
   "metadata": {},
   "source": [
    "## Create Home & Away OBP stats"
   ]
  },
  {
   "cell_type": "code",
   "execution_count": 50,
   "metadata": {
    "ExecuteTime": {
     "end_time": "2020-06-05T17:06:33.171144Z",
     "start_time": "2020-06-05T17:06:33.091479Z"
    }
   },
   "outputs": [],
   "source": [
    "game_df['Visitor_OBP'] = round((game_df['VisitorH'] + game_df['VisitorHBP'] + game_df['VisitorIBB'] + game_df['VisitorBB']) / (game_df['VisitorAB'] + game_df['VisitorHBP'] + game_df['VisitorIBB'] + game_df['VisitorBB']), 3)\n",
    "game_df['Home_OBP'] = round((game_df['HomeH'] + game_df['HomeHBP'] + game_df['HomeIBB'] + game_df['HomeBB']) / (game_df['HomeAB'] + game_df['HomeHBP'] + game_df['HomeIBB'] + game_df['HomeBB']), 3)"
   ]
  },
  {
   "cell_type": "markdown",
   "metadata": {},
   "source": [
    "## Create Home & Away 3d & 7d OBP trends"
   ]
  },
  {
   "cell_type": "code",
   "execution_count": 51,
   "metadata": {
    "ExecuteTime": {
     "end_time": "2020-06-05T17:06:36.156808Z",
     "start_time": "2020-06-05T17:06:33.183441Z"
    }
   },
   "outputs": [],
   "source": [
    "game_df['3d_homeOBP_avg'] = game_df.groupby(['current_year', 'HomeTeam'])['Home_OBP'].transform(lambda x: round(x.rolling(3).mean().shift(periods=1, axis=0), 3))\n",
    "game_df['7d_homeOBP_avg'] = game_df.groupby(['current_year', 'HomeTeam'])['Home_OBP'].transform(lambda x: round(x.rolling(7).mean().shift(periods=1, axis=0), 3))\n",
    "game_df['3d_visitorOBP_avg'] = game_df.groupby(['current_year', 'VisitingTeam'])['Visitor_OBP'].transform(lambda x: round(x.rolling(3).mean().shift(periods=1, axis=0), 3))\n",
    "game_df['7d_visitorOBP_avg'] = game_df.groupby(['current_year', 'VisitingTeam'])['Visitor_OBP'].transform(lambda x: round(x.rolling(7).mean().shift(periods=1, axis=0), 3))"
   ]
  },
  {
   "cell_type": "markdown",
   "metadata": {},
   "source": [
    "## Create Home & Away 3d & 7d scoring trends"
   ]
  },
  {
   "cell_type": "code",
   "execution_count": 52,
   "metadata": {
    "ExecuteTime": {
     "end_time": "2020-06-05T17:06:38.152141Z",
     "start_time": "2020-06-05T17:06:36.159943Z"
    },
    "scrolled": true
   },
   "outputs": [],
   "source": [
    "game_df['3d_homescore_avg'] = game_df.groupby(['current_year', 'HomeTeam'])['HomeRunsScore'].transform(lambda x: round(x.rolling(3).mean().shift(periods=1, axis=0), 3))\n",
    "game_df['7d_homescore_avg'] = game_df.groupby(['current_year', 'HomeTeam'])['HomeRunsScore'].transform(lambda x: round(x.rolling(7).mean().shift(periods=1, axis=0), 3))\n",
    "game_df['3d_visitorscore_avg'] = game_df.groupby(['current_year', 'VisitingTeam'])['VisitorRunsScored'].transform(lambda x: round(x.rolling(3).mean().shift(periods=1, axis=0), 3))\n",
    "game_df['7d_visitorscore_avg'] = game_df.groupby(['current_year', 'VisitingTeam'])['VisitorRunsScored'].transform(lambda x: round(x.rolling(7).mean().shift(periods=1, axis=0), 3))"
   ]
  },
  {
   "cell_type": "markdown",
   "metadata": {},
   "source": [
    "## Create Home & Away 3d & 7d Batting Average trends"
   ]
  },
  {
   "cell_type": "code",
   "execution_count": 53,
   "metadata": {
    "ExecuteTime": {
     "end_time": "2020-06-05T17:06:40.025344Z",
     "start_time": "2020-06-05T17:06:38.154805Z"
    }
   },
   "outputs": [],
   "source": [
    "game_df['3d_homeBA'] = game_df.groupby(['current_year', 'HomeTeam'])['Home_BA'].transform(lambda x: round(x.rolling(3).mean().shift(periods=1, axis=0), 3))\n",
    "game_df['7d_homeBA'] = game_df.groupby(['current_year', 'HomeTeam'])['Home_BA'].transform(lambda x: round(x.rolling(7).mean().shift(periods=1, axis=0), 3))\n",
    "game_df['3d_visitorBA'] = game_df.groupby(['current_year', 'VisitingTeam'])['Visitor_BA'].transform(lambda x: round(x.rolling(3).mean().shift(periods=1, axis=0), 3))\n",
    "game_df['7d_visitorBA'] = game_df.groupby(['current_year', 'VisitingTeam'])['Visitor_BA'].transform(lambda x: round(x.rolling(7).mean().shift(periods=1, axis=0), 3))"
   ]
  },
  {
   "cell_type": "markdown",
   "metadata": {},
   "source": [
    "#### Seems like everything worked... now to train and test different models with the additional engineered features"
   ]
  },
  {
   "cell_type": "code",
   "execution_count": 54,
   "metadata": {
    "ExecuteTime": {
     "end_time": "2020-06-05T17:06:40.055670Z",
     "start_time": "2020-06-05T17:06:40.027334Z"
    },
    "code_folding": []
   },
   "outputs": [],
   "source": [
    "# Created a 2nd drop_lst2 to take out additional columns that were created for previous modeling\n",
    "drop_lst = ['New_Date',\n",
    "'VisitingTeam',\n",
    "'VisitorStartingPitcherName',\n",
    "'HomeTeam',\n",
    "'HomeStartingPitcherName',\n",
    "'VisitorRunsScored', \n",
    "'HomeRunsScore', \n",
    "'Home_team_won?', \n",
    "'VisitorAB',\n",
    "'VisitorH',\n",
    "'Visitor_BA',\n",
    "'VisitorHBP',\n",
    "'VisitorBB',\n",
    "'VisitorIBB',\n",
    "'VisitorLOB',\n",
    "'HomeAB',\n",
    "'HomeH',\n",
    "'Home_BA',\n",
    "'HomeHBP',\n",
    "'HomeBB',\n",
    "'HomeIBB',\n",
    "'HomeLOB',\n",
    "'playerName_x',\n",
    "'teamAbbrev_x',\n",
    "'playerName_y',\n",
    "'teamAbbrev_y',\n",
    "'teamAbbrev_x',\n",
    "'teamAbbrev_y',\n",
    "'year_x',\n",
    "'year_y',\n",
    "'prior_year',\n",
    "'Visitor_OBP',\n",
    "'Home_OBP',\n",
    "'winningPercentage_x', 'runsScoredPer9_x', 'hitsPer9_x',\n",
    "'strikeoutsPer9_x', 'baseOnBallsPer9_x', 'homeRunsPer9_x', 'era_x',\n",
    "'whip_x', 'ops_x', 'gidp_x', 'avg_x', 'winningPercentage_y',\n",
    "'runsScoredPer9_y', 'hitsPer9_y', 'strikeoutsPer9_y',\n",
    "'baseOnBallsPer9_y', 'homeRunsPer9_y', 'era_y', 'whip_y', 'ops_y',\n",
    "'gidp_y', 'avg_y', 'hits_x', 'team_BA_x', 'totalBases_x',\n",
    "'total_bases_avg_x', 'leftOnBase_x', 'LOB_avg_x', 'runs_x',\n",
    "'runs_avg_x', 'strikeOuts_x', 'atBats_x', 'K_avg_x', 'baseOnBalls_x',\n",
    "'BB_avg_x', 'rbi_x', 'RBI_avg_x', 'hits_y', 'team_BA_y', 'totalBases_y',\n",
    "'total_bases_avg_y', 'leftOnBase_y', 'LOB_avg_y', 'runs_y',\n",
    "'runs_avg_y', 'strikeOuts_y', 'atBats_y', 'K_avg_y', 'baseOnBalls_y',\n",
    "'BB_avg_y', 'rbi_y', 'RBI_avg_y', ]"
   ]
  },
  {
   "cell_type": "code",
   "execution_count": 55,
   "metadata": {
    "ExecuteTime": {
     "end_time": "2020-06-05T17:06:40.089852Z",
     "start_time": "2020-06-05T17:06:40.079264Z"
    }
   },
   "outputs": [],
   "source": [
    "three_day_trends = ['3d_homeOBP_avg', '3d_visitorOBP_avg', '3d_homescore_avg', '3d_visitorscore_avg', '3d_homeBA', '3d_visitorBA']"
   ]
  },
  {
   "cell_type": "code",
   "execution_count": 56,
   "metadata": {
    "ExecuteTime": {
     "end_time": "2020-06-05T17:06:40.113862Z",
     "start_time": "2020-06-05T17:06:40.094346Z"
    }
   },
   "outputs": [],
   "source": [
    "seven_day_trends = ['7d_homeOBP_avg','7d_visitorOBP_avg','7d_homescore_avg','7d_visitorscore_avg','7d_homeBA','7d_visitorBA']"
   ]
  },
  {
   "cell_type": "markdown",
   "metadata": {},
   "source": [
    "## Test on 3d trends first"
   ]
  },
  {
   "cell_type": "code",
   "execution_count": 57,
   "metadata": {
    "ExecuteTime": {
     "end_time": "2020-06-05T17:06:40.180515Z",
     "start_time": "2020-06-05T17:06:40.126334Z"
    }
   },
   "outputs": [],
   "source": [
    "y = game_df['Home_team_won?']"
   ]
  },
  {
   "cell_type": "code",
   "execution_count": 58,
   "metadata": {
    "ExecuteTime": {
     "end_time": "2020-06-05T17:06:40.200515Z",
     "start_time": "2020-06-05T17:06:40.183982Z"
    }
   },
   "outputs": [],
   "source": [
    "X = game_df.drop(drop_lst, axis=1)"
   ]
  },
  {
   "cell_type": "code",
   "execution_count": 59,
   "metadata": {
    "ExecuteTime": {
     "end_time": "2020-06-05T17:06:40.232111Z",
     "start_time": "2020-06-05T17:06:40.215034Z"
    }
   },
   "outputs": [],
   "source": [
    "X = X.drop(seven_day_trends, axis=1)"
   ]
  },
  {
   "cell_type": "code",
   "execution_count": 60,
   "metadata": {
    "ExecuteTime": {
     "end_time": "2020-06-05T17:06:40.286354Z",
     "start_time": "2020-06-05T17:06:40.247282Z"
    }
   },
   "outputs": [],
   "source": [
    "X_train, X_test, y_train, y_test = my_train_test_split(X, y, 2010, 2017)"
   ]
  },
  {
   "cell_type": "code",
   "execution_count": 61,
   "metadata": {
    "ExecuteTime": {
     "end_time": "2020-06-05T17:06:40.294007Z",
     "start_time": "2020-06-05T17:06:40.288901Z"
    }
   },
   "outputs": [],
   "source": [
    "rf2 = RandomForestClassifier()"
   ]
  },
  {
   "cell_type": "code",
   "execution_count": 62,
   "metadata": {
    "ExecuteTime": {
     "end_time": "2020-06-05T17:06:44.104127Z",
     "start_time": "2020-06-05T17:06:40.299334Z"
    }
   },
   "outputs": [
    {
     "data": {
      "text/plain": [
       "RandomForestClassifier(bootstrap=True, ccp_alpha=0.0, class_weight=None,\n",
       "                       criterion='gini', max_depth=None, max_features='auto',\n",
       "                       max_leaf_nodes=None, max_samples=None,\n",
       "                       min_impurity_decrease=0.0, min_impurity_split=None,\n",
       "                       min_samples_leaf=1, min_samples_split=2,\n",
       "                       min_weight_fraction_leaf=0.0, n_estimators=100,\n",
       "                       n_jobs=None, oob_score=False, random_state=None,\n",
       "                       verbose=0, warm_start=False)"
      ]
     },
     "execution_count": 62,
     "metadata": {},
     "output_type": "execute_result"
    }
   ],
   "source": [
    "rf2.fit(X_train, y_train)"
   ]
  },
  {
   "cell_type": "code",
   "execution_count": 63,
   "metadata": {
    "ExecuteTime": {
     "end_time": "2020-06-05T17:06:44.314264Z",
     "start_time": "2020-06-05T17:06:44.110637Z"
    }
   },
   "outputs": [],
   "source": [
    "y_pred = rf2.predict(X_test)"
   ]
  },
  {
   "cell_type": "code",
   "execution_count": 64,
   "metadata": {
    "ExecuteTime": {
     "end_time": "2020-06-05T17:06:44.339342Z",
     "start_time": "2020-06-05T17:06:44.316523Z"
    }
   },
   "outputs": [
    {
     "name": "stdout",
     "output_type": "stream",
     "text": [
      "Accuracy for 3d trends RandomForest model: 51.01%\n"
     ]
    }
   ],
   "source": [
    "print(f\"Accuracy for 3d trends RandomForest model: {round(metrics.accuracy_score(y_test, y_pred)*100, 2)}%\")"
   ]
  },
  {
   "cell_type": "code",
   "execution_count": 65,
   "metadata": {
    "ExecuteTime": {
     "end_time": "2020-06-05T17:06:46.992731Z",
     "start_time": "2020-06-05T17:06:46.943315Z"
    }
   },
   "outputs": [
    {
     "data": {
      "text/html": [
       "<div>\n",
       "<style scoped>\n",
       "    .dataframe tbody tr th:only-of-type {\n",
       "        vertical-align: middle;\n",
       "    }\n",
       "\n",
       "    .dataframe tbody tr th {\n",
       "        vertical-align: top;\n",
       "    }\n",
       "\n",
       "    .dataframe thead th {\n",
       "        text-align: right;\n",
       "    }\n",
       "</style>\n",
       "<table border=\"1\" class=\"dataframe\">\n",
       "  <thead>\n",
       "    <tr style=\"text-align: right;\">\n",
       "      <th>Predicted Result</th>\n",
       "      <th>False</th>\n",
       "      <th>True</th>\n",
       "    </tr>\n",
       "    <tr>\n",
       "      <th>Actual Result</th>\n",
       "      <th></th>\n",
       "      <th></th>\n",
       "    </tr>\n",
       "  </thead>\n",
       "  <tbody>\n",
       "    <tr>\n",
       "      <th>False</th>\n",
       "      <td>857</td>\n",
       "      <td>1434</td>\n",
       "    </tr>\n",
       "    <tr>\n",
       "      <th>True</th>\n",
       "      <td>947</td>\n",
       "      <td>1622</td>\n",
       "    </tr>\n",
       "  </tbody>\n",
       "</table>\n",
       "</div>"
      ],
      "text/plain": [
       "Predicted Result  False  True \n",
       "Actual Result                 \n",
       "False               857   1434\n",
       "True                947   1622"
      ]
     },
     "execution_count": 65,
     "metadata": {},
     "output_type": "execute_result"
    }
   ],
   "source": [
    "pd.crosstab(y_test, y_pred, rownames=['Actual Result'], colnames=['Predicted Result'])"
   ]
  },
  {
   "cell_type": "code",
   "execution_count": 66,
   "metadata": {
    "ExecuteTime": {
     "end_time": "2020-06-05T17:06:54.727795Z",
     "start_time": "2020-06-05T17:06:54.144918Z"
    }
   },
   "outputs": [
    {
     "data": {
      "image/png": "[encoded data removed]",
      "text/plain": [
       "<Figure size 1080x720 with 1 Axes>"
      ]
     },
     "metadata": {
      "needs_background": "light"
     },
     "output_type": "display_data"
    }
   ],
   "source": [
    "plot_features_importance(rf2, \"blue\")"
   ]
  },
  {
   "cell_type": "markdown",
   "metadata": {},
   "source": [
    "## Now test 7d trends"
   ]
  },
  {
   "cell_type": "code",
   "execution_count": 67,
   "metadata": {
    "ExecuteTime": {
     "end_time": "2020-06-05T17:06:56.909898Z",
     "start_time": "2020-06-05T17:06:56.894925Z"
    }
   },
   "outputs": [],
   "source": [
    "y = game_df['Home_team_won?']"
   ]
  },
  {
   "cell_type": "code",
   "execution_count": 68,
   "metadata": {
    "ExecuteTime": {
     "end_time": "2020-06-05T17:06:57.548146Z",
     "start_time": "2020-06-05T17:06:57.527662Z"
    }
   },
   "outputs": [],
   "source": [
    "X = game_df.drop(drop_lst, axis=1)"
   ]
  },
  {
   "cell_type": "code",
   "execution_count": 69,
   "metadata": {
    "ExecuteTime": {
     "end_time": "2020-06-05T17:07:00.111568Z",
     "start_time": "2020-06-05T17:07:00.096166Z"
    }
   },
   "outputs": [],
   "source": [
    "X = X.drop(three_day_trends, axis=1)"
   ]
  },
  {
   "cell_type": "code",
   "execution_count": 70,
   "metadata": {
    "ExecuteTime": {
     "end_time": "2020-06-05T17:07:00.742698Z",
     "start_time": "2020-06-05T17:07:00.711318Z"
    }
   },
   "outputs": [],
   "source": [
    "X_train, X_test, y_train, y_test = my_train_test_split(X, y, 2010, 2017)"
   ]
  },
  {
   "cell_type": "code",
   "execution_count": 71,
   "metadata": {
    "ExecuteTime": {
     "end_time": "2020-06-05T17:07:01.234888Z",
     "start_time": "2020-06-05T17:07:01.230839Z"
    }
   },
   "outputs": [],
   "source": [
    "rf2_7 = RandomForestClassifier()"
   ]
  },
  {
   "cell_type": "code",
   "execution_count": 72,
   "metadata": {
    "ExecuteTime": {
     "end_time": "2020-06-05T17:07:06.222600Z",
     "start_time": "2020-06-05T17:07:01.761735Z"
    }
   },
   "outputs": [
    {
     "data": {
      "text/plain": [
       "RandomForestClassifier(bootstrap=True, ccp_alpha=0.0, class_weight=None,\n",
       "                       criterion='gini', max_depth=None, max_features='auto',\n",
       "                       max_leaf_nodes=None, max_samples=None,\n",
       "                       min_impurity_decrease=0.0, min_impurity_split=None,\n",
       "                       min_samples_leaf=1, min_samples_split=2,\n",
       "                       min_weight_fraction_leaf=0.0, n_estimators=100,\n",
       "                       n_jobs=None, oob_score=False, random_state=None,\n",
       "                       verbose=0, warm_start=False)"
      ]
     },
     "execution_count": 72,
     "metadata": {},
     "output_type": "execute_result"
    }
   ],
   "source": [
    "rf2_7.fit(X_train, y_train)"
   ]
  },
  {
   "cell_type": "code",
   "execution_count": 73,
   "metadata": {
    "ExecuteTime": {
     "end_time": "2020-06-05T17:07:06.433536Z",
     "start_time": "2020-06-05T17:07:06.229703Z"
    }
   },
   "outputs": [],
   "source": [
    "y_pred = rf2_7.predict(X_test)"
   ]
  },
  {
   "cell_type": "code",
   "execution_count": 74,
   "metadata": {
    "ExecuteTime": {
     "end_time": "2020-06-05T17:07:06.455789Z",
     "start_time": "2020-06-05T17:07:06.437466Z"
    }
   },
   "outputs": [
    {
     "name": "stdout",
     "output_type": "stream",
     "text": [
      "Accuracy for 7d trends RandomForest model: 50.93%\n"
     ]
    }
   ],
   "source": [
    "print(f\"Accuracy for 7d trends RandomForest model: {round(metrics.accuracy_score(y_test, y_pred)*100, 2)}%\")"
   ]
  },
  {
   "cell_type": "code",
   "execution_count": 75,
   "metadata": {
    "ExecuteTime": {
     "end_time": "2020-06-05T17:07:06.533581Z",
     "start_time": "2020-06-05T17:07:06.462597Z"
    }
   },
   "outputs": [
    {
     "data": {
      "text/html": [
       "<div>\n",
       "<style scoped>\n",
       "    .dataframe tbody tr th:only-of-type {\n",
       "        vertical-align: middle;\n",
       "    }\n",
       "\n",
       "    .dataframe tbody tr th {\n",
       "        vertical-align: top;\n",
       "    }\n",
       "\n",
       "    .dataframe thead th {\n",
       "        text-align: right;\n",
       "    }\n",
       "</style>\n",
       "<table border=\"1\" class=\"dataframe\">\n",
       "  <thead>\n",
       "    <tr style=\"text-align: right;\">\n",
       "      <th>Predicted Result</th>\n",
       "      <th>False</th>\n",
       "      <th>True</th>\n",
       "    </tr>\n",
       "    <tr>\n",
       "      <th>Actual Result</th>\n",
       "      <th></th>\n",
       "      <th></th>\n",
       "    </tr>\n",
       "  </thead>\n",
       "  <tbody>\n",
       "    <tr>\n",
       "      <th>False</th>\n",
       "      <td>779</td>\n",
       "      <td>1512</td>\n",
       "    </tr>\n",
       "    <tr>\n",
       "      <th>True</th>\n",
       "      <td>873</td>\n",
       "      <td>1696</td>\n",
       "    </tr>\n",
       "  </tbody>\n",
       "</table>\n",
       "</div>"
      ],
      "text/plain": [
       "Predicted Result  False  True \n",
       "Actual Result                 \n",
       "False               779   1512\n",
       "True                873   1696"
      ]
     },
     "execution_count": 75,
     "metadata": {},
     "output_type": "execute_result"
    }
   ],
   "source": [
    "pd.crosstab(y_test, y_pred, rownames=['Actual Result'], colnames=['Predicted Result'])"
   ]
  },
  {
   "cell_type": "code",
   "execution_count": 76,
   "metadata": {
    "ExecuteTime": {
     "end_time": "2020-06-05T17:07:07.411433Z",
     "start_time": "2020-06-05T17:07:06.547435Z"
    }
   },
   "outputs": [
    {
     "data": {
      "image/png": "[encoded data removed]",
      "text/plain": [
       "<Figure size 1080x720 with 1 Axes>"
      ]
     },
     "metadata": {
      "needs_background": "light"
     },
     "output_type": "display_data"
    }
   ],
   "source": [
    "plot_features_importance(rf2_7, \"red\")"
   ]
  },
  {
   "cell_type": "markdown",
   "metadata": {},
   "source": [
    "### It seemed like the 3d trends barely inched out the 7d trends by a fraction of a percent\n",
    "- Going to try and model with:\n",
    "    - historic trends & 3d\n",
    "    - historic trends & 7d\n",
    "    - historic trends with 3d & 7d trends"
   ]
  },
  {
   "cell_type": "markdown",
   "metadata": {},
   "source": [
    "### Will train a RandomForest model on historitc team stats, 3d, and 7d trends."
   ]
  },
  {
   "cell_type": "code",
   "execution_count": 77,
   "metadata": {
    "ExecuteTime": {
     "end_time": "2020-06-05T17:08:38.500941Z",
     "start_time": "2020-06-05T17:08:38.493094Z"
    }
   },
   "outputs": [],
   "source": [
    "new_drop_lst = ['New_Date',\n",
    "'VisitingTeam',\n",
    "'VisitorStartingPitcherName',\n",
    "'HomeTeam',\n",
    "'HomeStartingPitcherName',\n",
    "'VisitorRunsScored', \n",
    "'HomeRunsScore', \n",
    "'Home_team_won?', \n",
    "'VisitorAB',\n",
    "'VisitorH',\n",
    "'Visitor_BA',\n",
    "'VisitorHBP',\n",
    "'VisitorBB',\n",
    "'VisitorIBB',\n",
    "'VisitorLOB',\n",
    "'HomeAB',\n",
    "'HomeH',\n",
    "'Home_BA',\n",
    "'HomeHBP',\n",
    "'HomeBB',\n",
    "'HomeIBB',\n",
    "'HomeLOB',\n",
    "'playerName_x',\n",
    "'teamAbbrev_x',\n",
    "'playerName_y',\n",
    "'teamAbbrev_y',\n",
    "'teamAbbrev_x',\n",
    "'teamAbbrev_y',\n",
    "'year_x',\n",
    "'year_y',\n",
    "'prior_year',\n",
    "'Visitor_OBP',\n",
    "'Home_OBP']"
   ]
  },
  {
   "cell_type": "code",
   "execution_count": 78,
   "metadata": {
    "ExecuteTime": {
     "end_time": "2020-06-05T17:08:43.747902Z",
     "start_time": "2020-06-05T17:08:43.718244Z"
    }
   },
   "outputs": [],
   "source": [
    "y = game_df['Home_team_won?']\n",
    "X = game_df.drop(new_drop_lst, axis=1)"
   ]
  },
  {
   "cell_type": "markdown",
   "metadata": {},
   "source": [
    "### Will leverage 3d trends first..."
   ]
  },
  {
   "cell_type": "code",
   "execution_count": 81,
   "metadata": {
    "ExecuteTime": {
     "end_time": "2020-06-05T17:10:05.351576Z",
     "start_time": "2020-06-05T17:10:05.324512Z"
    }
   },
   "outputs": [],
   "source": [
    "X = X.drop(seven_day_trends, axis=1)"
   ]
  },
  {
   "cell_type": "code",
   "execution_count": 82,
   "metadata": {
    "ExecuteTime": {
     "end_time": "2020-06-05T17:10:45.430855Z",
     "start_time": "2020-06-05T17:10:45.066149Z"
    }
   },
   "outputs": [],
   "source": [
    "X_train, X_test, y_train, y_test = my_train_test_split(X, y, 2010, 2017)"
   ]
  },
  {
   "cell_type": "code",
   "execution_count": 84,
   "metadata": {
    "ExecuteTime": {
     "end_time": "2020-06-05T17:11:17.270579Z",
     "start_time": "2020-06-05T17:11:07.439429Z"
    }
   },
   "outputs": [],
   "source": [
    "rf = RandomForestClassifier()\n",
    "rf.fit(X_train, y_train)\n",
    "y_pred = rf.predict(X_test)"
   ]
  },
  {
   "cell_type": "code",
   "execution_count": 85,
   "metadata": {
    "ExecuteTime": {
     "end_time": "2020-06-05T17:11:17.284460Z",
     "start_time": "2020-06-05T17:11:17.273157Z"
    }
   },
   "outputs": [
    {
     "name": "stdout",
     "output_type": "stream",
     "text": [
      "Accuracy for historic + 3d trends: 55.12%\n"
     ]
    }
   ],
   "source": [
    "print(f\"Accuracy for historic + 3d trends: {round(metrics.accuracy_score(y_test, y_pred)*100, 2)}%\")"
   ]
  },
  {
   "cell_type": "code",
   "execution_count": 86,
   "metadata": {
    "ExecuteTime": {
     "end_time": "2020-06-05T17:11:17.362115Z",
     "start_time": "2020-06-05T17:11:17.291001Z"
    }
   },
   "outputs": [
    {
     "data": {
      "text/html": [
       "<div>\n",
       "<style scoped>\n",
       "    .dataframe tbody tr th:only-of-type {\n",
       "        vertical-align: middle;\n",
       "    }\n",
       "\n",
       "    .dataframe tbody tr th {\n",
       "        vertical-align: top;\n",
       "    }\n",
       "\n",
       "    .dataframe thead th {\n",
       "        text-align: right;\n",
       "    }\n",
       "</style>\n",
       "<table border=\"1\" class=\"dataframe\">\n",
       "  <thead>\n",
       "    <tr style=\"text-align: right;\">\n",
       "      <th>Predicted Result</th>\n",
       "      <th>False</th>\n",
       "      <th>True</th>\n",
       "    </tr>\n",
       "    <tr>\n",
       "      <th>Actual Result</th>\n",
       "      <th></th>\n",
       "      <th></th>\n",
       "    </tr>\n",
       "  </thead>\n",
       "  <tbody>\n",
       "    <tr>\n",
       "      <th>False</th>\n",
       "      <td>885</td>\n",
       "      <td>1406</td>\n",
       "    </tr>\n",
       "    <tr>\n",
       "      <th>True</th>\n",
       "      <td>775</td>\n",
       "      <td>1794</td>\n",
       "    </tr>\n",
       "  </tbody>\n",
       "</table>\n",
       "</div>"
      ],
      "text/plain": [
       "Predicted Result  False  True \n",
       "Actual Result                 \n",
       "False               885   1406\n",
       "True                775   1794"
      ]
     },
     "execution_count": 86,
     "metadata": {},
     "output_type": "execute_result"
    }
   ],
   "source": [
    "pd.crosstab(y_test, y_pred, rownames=['Actual Result'], colnames=['Predicted Result'])"
   ]
  },
  {
   "cell_type": "code",
   "execution_count": 87,
   "metadata": {
    "ExecuteTime": {
     "end_time": "2020-06-05T17:11:19.006968Z",
     "start_time": "2020-06-05T17:11:17.368826Z"
    }
   },
   "outputs": [
    {
     "data": {
      "image/png": "[encoded data removed]",
      "text/plain": [
       "<Figure size 1080x720 with 1 Axes>"
      ]
     },
     "metadata": {
      "needs_background": "light"
     },
     "output_type": "display_data"
    }
   ],
   "source": [
    "plot_features_importance(rf, \"red\")"
   ]
  },
  {
   "cell_type": "markdown",
   "metadata": {},
   "source": [
    "### Now leverage 7d trends"
   ]
  },
  {
   "cell_type": "code",
   "execution_count": null,
   "metadata": {},
   "outputs": [],
   "source": []
  },
  {
   "cell_type": "code",
   "execution_count": null,
   "metadata": {},
   "outputs": [],
   "source": []
  },
  {
   "cell_type": "code",
   "execution_count": null,
   "metadata": {},
   "outputs": [],
   "source": []
  },
  {
   "cell_type": "code",
   "execution_count": null,
   "metadata": {},
   "outputs": [],
   "source": []
  },
  {
   "cell_type": "markdown",
   "metadata": {},
   "source": [
    "# RandomForestClassifier seems to be working well with the new features that were added. Going to try out other models for comaprisons\n",
    "- GradientBoostingClassifier\n",
    "- AdaBoostClassifier"
   ]
  },
  {
   "cell_type": "markdown",
   "metadata": {},
   "source": [
    "## Create a Train/Test split for the new models to leverage"
   ]
  },
  {
   "cell_type": "code",
   "execution_count": 71,
   "metadata": {},
   "outputs": [],
   "source": [
    "X_train, X_test, y_train, y_test = my_train_test_split(X, y, 2010, 2017)"
   ]
  },
  {
   "cell_type": "markdown",
   "metadata": {},
   "source": [
    "## GradientBoostingClassifier"
   ]
  },
  {
   "cell_type": "code",
   "execution_count": 72,
   "metadata": {},
   "outputs": [],
   "source": [
    "gbc = GradientBoostingClassifier()"
   ]
  },
  {
   "cell_type": "code",
   "execution_count": 73,
   "metadata": {},
   "outputs": [
    {
     "data": {
      "text/plain": [
       "GradientBoostingClassifier(ccp_alpha=0.0, criterion='friedman_mse', init=None,\n",
       "                           learning_rate=0.1, loss='deviance', max_depth=3,\n",
       "                           max_features=None, max_leaf_nodes=None,\n",
       "                           min_impurity_decrease=0.0, min_impurity_split=None,\n",
       "                           min_samples_leaf=1, min_samples_split=2,\n",
       "                           min_weight_fraction_leaf=0.0, n_estimators=100,\n",
       "                           n_iter_no_change=None, presort='deprecated',\n",
       "                           random_state=None, subsample=1.0, tol=0.0001,\n",
       "                           validation_fraction=0.1, verbose=0,\n",
       "                           warm_start=False)"
      ]
     },
     "execution_count": 73,
     "metadata": {},
     "output_type": "execute_result"
    }
   ],
   "source": [
    "gbc.fit(X_train, y_train)"
   ]
  },
  {
   "cell_type": "code",
   "execution_count": 74,
   "metadata": {},
   "outputs": [],
   "source": [
    "y_pred = gbc.predict(X_test)"
   ]
  },
  {
   "cell_type": "code",
   "execution_count": 75,
   "metadata": {},
   "outputs": [
    {
     "name": "stdout",
     "output_type": "stream",
     "text": [
      "Accuracy for GradientBoosting: 56.85%\n"
     ]
    }
   ],
   "source": [
    "print(f\"Accuracy for GradientBoosting: {round(metrics.accuracy_score(y_test, y_pred)*100, 2)}%\")"
   ]
  },
  {
   "cell_type": "code",
   "execution_count": 76,
   "metadata": {},
   "outputs": [
    {
     "data": {
      "text/html": [
       "<div>\n",
       "<style scoped>\n",
       "    .dataframe tbody tr th:only-of-type {\n",
       "        vertical-align: middle;\n",
       "    }\n",
       "\n",
       "    .dataframe tbody tr th {\n",
       "        vertical-align: top;\n",
       "    }\n",
       "\n",
       "    .dataframe thead th {\n",
       "        text-align: right;\n",
       "    }\n",
       "</style>\n",
       "<table border=\"1\" class=\"dataframe\">\n",
       "  <thead>\n",
       "    <tr style=\"text-align: right;\">\n",
       "      <th>Predicted Result</th>\n",
       "      <th>False</th>\n",
       "      <th>True</th>\n",
       "    </tr>\n",
       "    <tr>\n",
       "      <th>Actual Result</th>\n",
       "      <th></th>\n",
       "      <th></th>\n",
       "    </tr>\n",
       "  </thead>\n",
       "  <tbody>\n",
       "    <tr>\n",
       "      <th>False</th>\n",
       "      <td>871</td>\n",
       "      <td>1420</td>\n",
       "    </tr>\n",
       "    <tr>\n",
       "      <th>True</th>\n",
       "      <td>677</td>\n",
       "      <td>1892</td>\n",
       "    </tr>\n",
       "  </tbody>\n",
       "</table>\n",
       "</div>"
      ],
      "text/plain": [
       "Predicted Result  False  True \n",
       "Actual Result                 \n",
       "False               871   1420\n",
       "True                677   1892"
      ]
     },
     "execution_count": 76,
     "metadata": {},
     "output_type": "execute_result"
    }
   ],
   "source": [
    "pd.crosstab(y_test, y_pred, rownames=['Actual Result'], colnames=['Predicted Result'])"
   ]
  },
  {
   "cell_type": "code",
   "execution_count": 77,
   "metadata": {},
   "outputs": [
    {
     "data": {
      "image/png": "[encoded data removed]",
      "text/plain": [
       "<Figure size 1080x720 with 1 Axes>"
      ]
     },
     "metadata": {
      "needs_background": "light"
     },
     "output_type": "display_data"
    }
   ],
   "source": [
    "plot_features_importance(gbc, \"purple\")"
   ]
  },
  {
   "cell_type": "markdown",
   "metadata": {},
   "source": [
    "## AdaBoostClassifier"
   ]
  },
  {
   "cell_type": "code",
   "execution_count": 78,
   "metadata": {},
   "outputs": [],
   "source": [
    "abc = AdaBoostClassifier()"
   ]
  },
  {
   "cell_type": "code",
   "execution_count": 79,
   "metadata": {},
   "outputs": [
    {
     "data": {
      "text/plain": [
       "AdaBoostClassifier(algorithm='SAMME.R', base_estimator=None, learning_rate=1.0,\n",
       "                   n_estimators=50, random_state=None)"
      ]
     },
     "execution_count": 79,
     "metadata": {},
     "output_type": "execute_result"
    }
   ],
   "source": [
    "abc.fit(X_train, y_train)"
   ]
  },
  {
   "cell_type": "code",
   "execution_count": 85,
   "metadata": {},
   "outputs": [
    {
     "data": {
      "text/plain": [
       "(19440, 65)"
      ]
     },
     "execution_count": 85,
     "metadata": {},
     "output_type": "execute_result"
    }
   ],
   "source": [
    "X_train.shape"
   ]
  },
  {
   "cell_type": "code",
   "execution_count": 80,
   "metadata": {},
   "outputs": [],
   "source": [
    "y_pred = abc.predict(X_test)"
   ]
  },
  {
   "cell_type": "code",
   "execution_count": 81,
   "metadata": {},
   "outputs": [
    {
     "name": "stdout",
     "output_type": "stream",
     "text": [
      "Accuracy for Adaboost: 55.41%\n"
     ]
    }
   ],
   "source": [
    "print(f\"Accuracy for Adaboost: {round(metrics.accuracy_score(y_test, y_pred)*100, 2)}%\")"
   ]
  },
  {
   "cell_type": "code",
   "execution_count": 82,
   "metadata": {},
   "outputs": [
    {
     "data": {
      "text/html": [
       "<div>\n",
       "<style scoped>\n",
       "    .dataframe tbody tr th:only-of-type {\n",
       "        vertical-align: middle;\n",
       "    }\n",
       "\n",
       "    .dataframe tbody tr th {\n",
       "        vertical-align: top;\n",
       "    }\n",
       "\n",
       "    .dataframe thead th {\n",
       "        text-align: right;\n",
       "    }\n",
       "</style>\n",
       "<table border=\"1\" class=\"dataframe\">\n",
       "  <thead>\n",
       "    <tr style=\"text-align: right;\">\n",
       "      <th>Predicted Result</th>\n",
       "      <th>False</th>\n",
       "      <th>True</th>\n",
       "    </tr>\n",
       "    <tr>\n",
       "      <th>Actual Result</th>\n",
       "      <th></th>\n",
       "      <th></th>\n",
       "    </tr>\n",
       "  </thead>\n",
       "  <tbody>\n",
       "    <tr>\n",
       "      <th>False</th>\n",
       "      <td>954</td>\n",
       "      <td>1337</td>\n",
       "    </tr>\n",
       "    <tr>\n",
       "      <th>True</th>\n",
       "      <td>830</td>\n",
       "      <td>1739</td>\n",
       "    </tr>\n",
       "  </tbody>\n",
       "</table>\n",
       "</div>"
      ],
      "text/plain": [
       "Predicted Result  False  True \n",
       "Actual Result                 \n",
       "False               954   1337\n",
       "True                830   1739"
      ]
     },
     "execution_count": 82,
     "metadata": {},
     "output_type": "execute_result"
    }
   ],
   "source": [
    "pd.crosstab(y_test, y_pred, rownames=['Actual Result'], colnames=['Predicted Result'])"
   ]
  },
  {
   "cell_type": "code",
   "execution_count": 83,
   "metadata": {
    "scrolled": false
   },
   "outputs": [
    {
     "data": {
      "image/png": "[encoded data removed]",
      "text/plain": [
       "<Figure size 1080x720 with 1 Axes>"
      ]
     },
     "metadata": {
      "needs_background": "light"
     },
     "output_type": "display_data"
    }
   ],
   "source": [
    "plot_features_importance(gbc, \"green\")"
   ]
  },
  {
   "cell_type": "markdown",
   "metadata": {},
   "source": [
    "## New Feature Engineering Ideas\n",
    "- Pythagorean Expectation - (runs scored^2) / (runs scored^2 + runs allowed^2)\n",
    "- winning % against a team"
   ]
  },
  {
   "cell_type": "code",
   "execution_count": null,
   "metadata": {},
   "outputs": [],
   "source": []
  }
 ],
 "metadata": {
  "kernelspec": {
   "display_name": "Python 3",
   "language": "python",
   "name": "python3"
  },
  "language_info": {
   "codemirror_mode": {
    "name": "ipython",
    "version": 3
   },
   "file_extension": ".py",
   "mimetype": "text/x-python",
   "name": "python",
   "nbconvert_exporter": "python",
   "pygments_lexer": "ipython3",
   "version": "3.7.7"
  }
 },
 "nbformat": 4,
 "nbformat_minor": 4
}
