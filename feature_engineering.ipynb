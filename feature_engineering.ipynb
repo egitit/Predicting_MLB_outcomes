{
 "cells": [
  {
   "cell_type": "code",
   "execution_count": 1,
   "metadata": {
    "ExecuteTime": {
     "end_time": "2020-06-04T21:32:26.879746Z",
     "start_time": "2020-06-04T21:32:22.010266Z"
    }
   },
   "outputs": [],
   "source": [
    "import pandas as pd\n",
    "import numpy as np\n",
    "import matplotlib.pyplot as plt\n",
    "import seaborn as sns\n",
    "sns.set()\n",
    "%matplotlib inline\n",
    "from sklearn.ensemble import RandomForestClassifier\n",
    "from sklearn.ensemble import GradientBoostingClassifier\n",
    "from sklearn.ensemble import AdaBoostClassifier\n",
    "from sklearn import metrics"
   ]
  },
  {
   "cell_type": "code",
   "execution_count": 2,
   "metadata": {
    "ExecuteTime": {
     "end_time": "2020-06-04T21:32:26.905902Z",
     "start_time": "2020-06-04T21:32:26.892056Z"
    }
   },
   "outputs": [],
   "source": [
    "file = '/Users/Lisa/_MLB_Prediction_capstone/cleaned_batting_df.csv'\n",
    "file2 = '/Users/Lisa/_MLB_Prediction_capstone/cleaned_piching_df.csv'\n",
    "file3 = '/Users/Lisa/_MLB_Prediction_capstone/cleaned_game_df.csv'"
   ]
  },
  {
   "cell_type": "code",
   "execution_count": 3,
   "metadata": {
    "ExecuteTime": {
     "end_time": "2020-06-04T21:32:27.254725Z",
     "start_time": "2020-06-04T21:32:26.959299Z"
    }
   },
   "outputs": [],
   "source": [
    "batting_df = pd.read_csv(file)\n",
    "pitching_df = pd.read_csv(file2)\n",
    "game_df = pd.read_csv(file3)"
   ]
  },
  {
   "cell_type": "code",
   "execution_count": 4,
   "metadata": {
    "ExecuteTime": {
     "end_time": "2020-06-04T21:32:27.326708Z",
     "start_time": "2020-06-04T21:32:27.258735Z"
    }
   },
   "outputs": [],
   "source": [
    "batting_df.drop('Unnamed: 0', axis=1, inplace=True)\n",
    "pitching_df.drop('Unnamed: 0', axis=1, inplace=True)\n",
    "game_df.drop('Unnamed: 0', axis=1, inplace=True)"
   ]
  },
  {
   "cell_type": "markdown",
   "metadata": {},
   "source": [
    "## Batting Feature engineering ideas\n",
    "- All of these stats will be on a PER PLATE APPEARANCE then divide by 162 to get PER GAME STATS\n",
    "    - Team stats will be summed up and averaged - Will ultimately be compared to a teams 7 day trends history\n",
    "        - 'totalBases' / total 'plateAppearances' - DONE\n",
    "        - 'leftonbase'/ total 'plateAppearances' - DONE\n",
    "        - 'runs' / total 'plateAppearances' - DONE\n",
    "        - 'strikeOuts' / total 'atBats' - DONE\n",
    "        - 'baseOnBalls' + 'intentionalWalks' / total 'plateAppearances' - DONE\n",
    "            - 'hits' / total 'atBats' --- Leverage for game_df. get team stats per game...\n",
    "            - 'obp' / # of batters on team --- Same as above\n",
    "        - 'rbi' / total 'atBats' - DONE"
   ]
  },
  {
   "cell_type": "code",
   "execution_count": 5,
   "metadata": {
    "ExecuteTime": {
     "end_time": "2020-06-04T21:32:27.384090Z",
     "start_time": "2020-06-04T21:32:27.329136Z"
    }
   },
   "outputs": [],
   "source": [
    "# MIA & FLO are different. Standardizing to MIA\n",
    "batting_df.replace(to_replace='FLA', value='MIA', inplace=True)"
   ]
  },
  {
   "cell_type": "code",
   "execution_count": 6,
   "metadata": {
    "ExecuteTime": {
     "end_time": "2020-06-04T21:32:27.428519Z",
     "start_time": "2020-06-04T21:32:27.388197Z"
    }
   },
   "outputs": [
    {
     "data": {
      "text/plain": [
       "31"
      ]
     },
     "execution_count": 6,
     "metadata": {},
     "output_type": "execute_result"
    }
   ],
   "source": [
    "# 31 teams showing up since it seems like there are some NaN values for team names. Will deal with should it become an issue...\n",
    "len(batting_df.teamAbbrev.unique())"
   ]
  },
  {
   "cell_type": "markdown",
   "metadata": {},
   "source": [
    "### Create New Features for TEAM stats"
   ]
  },
  {
   "cell_type": "code",
   "execution_count": 7,
   "metadata": {
    "ExecuteTime": {
     "end_time": "2020-06-04T21:32:27.552837Z",
     "start_time": "2020-06-04T21:32:27.445452Z"
    },
    "code_folding": [
     0
    ]
   },
   "outputs": [],
   "source": [
    "# THIS IS THE FRAMEWORK TO GENERATE TEAM STATISTICS...\n",
    "# Creating a dataframe containing team annual Batting Averages\n",
    "\n",
    "a = batting_df.groupby(['year', 'teamAbbrev'])['hits'].sum()\n",
    "b = batting_df.groupby(['year', 'teamAbbrev'])['plateAppearances'].sum()\n",
    "a = a.to_frame()\n",
    "b = b.to_frame()\n",
    "BA = a.join(b, on=['year', 'teamAbbrev'])\n",
    "BA['team_BA'] = round((BA['hits']/BA['plateAppearances']), 3)\n",
    "# BA = BA.reset_index()"
   ]
  },
  {
   "cell_type": "code",
   "execution_count": 8,
   "metadata": {
    "ExecuteTime": {
     "end_time": "2020-06-04T21:32:27.628489Z",
     "start_time": "2020-06-04T21:32:27.565833Z"
    },
    "code_folding": [
     0
    ]
   },
   "outputs": [],
   "source": [
    "# Total bases per plate appearance\n",
    "# Commented out. Taking a different approach\n",
    "# batting_df['Total_bases_per_plateappearance'] = (batting_df['totalBases'] / batting_df['plateAppearances'])\n",
    "\n",
    "a = batting_df.groupby(['year', 'teamAbbrev'])['totalBases'].sum()\n",
    "b = batting_df.groupby(['year', 'teamAbbrev'])['plateAppearances'].sum()\n",
    "a = a.to_frame()\n",
    "b = b.to_frame()\n",
    "TB = a.join(b, on=['year', 'teamAbbrev'])\n",
    "TB['total_bases_avg'] = round((TB['totalBases']/TB['plateAppearances']), 3)\n",
    "# TB = TB.reset_index()"
   ]
  },
  {
   "cell_type": "code",
   "execution_count": 9,
   "metadata": {
    "ExecuteTime": {
     "end_time": "2020-06-04T21:32:27.706780Z",
     "start_time": "2020-06-04T21:32:27.650779Z"
    },
    "code_folding": [
     0
    ]
   },
   "outputs": [],
   "source": [
    "# LOB per plate appearnace\n",
    "# Commented out. Taking a different approach\n",
    "# batting_df['LOB_per_plateappearance'] = (batting_df['leftOnBase'] / batting_df['plateAppearances'])\n",
    "\n",
    "a = batting_df.groupby(['year', 'teamAbbrev'])['leftOnBase'].sum()\n",
    "b = batting_df.groupby(['year', 'teamAbbrev'])['plateAppearances'].sum()\n",
    "a = a.to_frame()\n",
    "b = b.to_frame()\n",
    "LOB = a.join(b, on=['year', 'teamAbbrev'])\n",
    "LOB['LOB_avg'] = round((LOB['leftOnBase']/LOB['plateAppearances']), 3)\n",
    "# LOB = LOB.reset_index()"
   ]
  },
  {
   "cell_type": "code",
   "execution_count": 10,
   "metadata": {
    "ExecuteTime": {
     "end_time": "2020-06-04T21:32:27.775782Z",
     "start_time": "2020-06-04T21:32:27.709987Z"
    },
    "code_folding": [
     0
    ]
   },
   "outputs": [],
   "source": [
    "# Runs per plate appearance\n",
    "# Commented out. Taking a different approach\n",
    "#batting_df['runs_per_plateappearance'] = (batting_df['runs'] / batting_df['plateAppearances'])\n",
    "\n",
    "a = batting_df.groupby(['year', 'teamAbbrev'])['runs'].sum()\n",
    "b = batting_df.groupby(['year', 'teamAbbrev'])['plateAppearances'].sum()\n",
    "a = a.to_frame()\n",
    "b = b.to_frame()\n",
    "RUNS = a.join(b, on=['year', 'teamAbbrev'])\n",
    "RUNS['runs_avg'] = round((RUNS['runs']/RUNS['plateAppearances']), 3)\n",
    "# RUNS = RUNS.reset_index()"
   ]
  },
  {
   "cell_type": "code",
   "execution_count": 11,
   "metadata": {
    "ExecuteTime": {
     "end_time": "2020-06-04T21:32:27.852292Z",
     "start_time": "2020-06-04T21:32:27.787454Z"
    },
    "code_folding": [
     0
    ]
   },
   "outputs": [],
   "source": [
    "# K's per AtBat\n",
    "# Commented out. Taking a different approach\n",
    "# batting_df['K_per_plateappearance'] = (batting_df['strikeOuts'] / batting_df['atBats'])\n",
    "\n",
    "a = batting_df.groupby(['year', 'teamAbbrev'])['strikeOuts'].sum()\n",
    "b = batting_df.groupby(['year', 'teamAbbrev'])['atBats'].sum()\n",
    "a = a.to_frame()\n",
    "b = b.to_frame()\n",
    "K = a.join(b, on=['year', 'teamAbbrev'])\n",
    "K['K_avg'] = round((K['strikeOuts']/K['atBats']), 3)\n",
    "# K = K.reset_index()"
   ]
  },
  {
   "cell_type": "code",
   "execution_count": 12,
   "metadata": {
    "ExecuteTime": {
     "end_time": "2020-06-04T21:32:27.923426Z",
     "start_time": "2020-06-04T21:32:27.856914Z"
    },
    "code_folding": [
     0
    ]
   },
   "outputs": [],
   "source": [
    "# BB per plate appearance\n",
    "# Commented out. Taking a different approach\n",
    "# batting_df['BB+IBB_per_plateappearance'] = ((batting_df['baseOnBalls'] + 'took out IBB for simplicity' / batting_df['plateAppearances'])\n",
    "\n",
    "a = batting_df.groupby(['year', 'teamAbbrev'])['baseOnBalls'].sum()\n",
    "b = batting_df.groupby(['year', 'teamAbbrev'])['plateAppearances'].sum()\n",
    "a = a.to_frame()\n",
    "b = b.to_frame()\n",
    "BB = a.join(b, on=['year', 'teamAbbrev'])\n",
    "BB['BB_avg'] = round((BB['baseOnBalls']/BB['plateAppearances']), 3)\n",
    "# BB = BB.reset_index()"
   ]
  },
  {
   "cell_type": "code",
   "execution_count": 13,
   "metadata": {
    "ExecuteTime": {
     "end_time": "2020-06-04T21:32:27.979431Z",
     "start_time": "2020-06-04T21:32:27.925981Z"
    },
    "code_folding": [
     0
    ]
   },
   "outputs": [],
   "source": [
    "# RBI per plate appearance\n",
    "# Commented out. Taking a different approach\n",
    "# batting_df['RBI_per_plateappearance'] = (batting_df['rbi'] / batting_df['atBats'])\n",
    "\n",
    "a = batting_df.groupby(['year', 'teamAbbrev'])['rbi'].sum()\n",
    "b = batting_df.groupby(['year', 'teamAbbrev'])['plateAppearances'].sum()\n",
    "a = a.to_frame()\n",
    "b = b.to_frame()\n",
    "RBI = a.join(b, on=['year', 'teamAbbrev'])\n",
    "RBI['RBI_avg'] = round((RBI['rbi']/RBI['plateAppearances']), 3)\n",
    "# RBI = RBI.reset_index()"
   ]
  },
  {
   "cell_type": "markdown",
   "metadata": {},
   "source": [
    "## Merge all the TEAM stats into one dataframe"
   ]
  },
  {
   "cell_type": "code",
   "execution_count": 14,
   "metadata": {
    "ExecuteTime": {
     "end_time": "2020-06-04T21:32:27.993356Z",
     "start_time": "2020-06-04T21:32:27.983142Z"
    }
   },
   "outputs": [],
   "source": [
    "team_stats_lst = [BA, TB, LOB, RUNS, K, BB, RBI]"
   ]
  },
  {
   "cell_type": "code",
   "execution_count": 15,
   "metadata": {
    "ExecuteTime": {
     "end_time": "2020-06-04T21:32:28.062225Z",
     "start_time": "2020-06-04T21:32:28.025849Z"
    }
   },
   "outputs": [],
   "source": [
    "team_stats = pd.concat(team_stats_lst, join='outer', axis=1)"
   ]
  },
  {
   "cell_type": "code",
   "execution_count": 16,
   "metadata": {
    "ExecuteTime": {
     "end_time": "2020-06-04T21:32:28.093929Z",
     "start_time": "2020-06-04T21:32:28.069554Z"
    }
   },
   "outputs": [],
   "source": [
    "team_stats = team_stats.reset_index()"
   ]
  },
  {
   "cell_type": "code",
   "execution_count": 17,
   "metadata": {
    "ExecuteTime": {
     "end_time": "2020-06-04T21:32:28.144079Z",
     "start_time": "2020-06-04T21:32:28.106778Z"
    }
   },
   "outputs": [
    {
     "data": {
      "text/plain": [
       "Index(['year', 'teamAbbrev', 'hits', 'plateAppearances', 'team_BA',\n",
       "       'totalBases', 'plateAppearances', 'total_bases_avg', 'leftOnBase',\n",
       "       'plateAppearances', 'LOB_avg', 'runs', 'plateAppearances', 'runs_avg',\n",
       "       'strikeOuts', 'atBats', 'K_avg', 'baseOnBalls', 'plateAppearances',\n",
       "       'BB_avg', 'rbi', 'plateAppearances', 'RBI_avg'],\n",
       "      dtype='object')"
      ]
     },
     "execution_count": 17,
     "metadata": {},
     "output_type": "execute_result"
    }
   ],
   "source": [
    "team_stats.columns"
   ]
  },
  {
   "cell_type": "markdown",
   "metadata": {},
   "source": [
    "## Pitching Feature engineering ideas\n",
    "- Pitching stats will focus on starting pitchers Per9 innings stat (except for certain features)\n",
    "    - 'winningPercentage'\n",
    "    - 'runsScoredPer9'\n",
    "        - 'ops' - may leave out for now...\n",
    "    - 'hitsPer9'\n",
    "    - 'era'\n",
    "    - 'whip'"
   ]
  },
  {
   "cell_type": "code",
   "execution_count": 18,
   "metadata": {
    "ExecuteTime": {
     "end_time": "2020-06-04T21:32:28.196550Z",
     "start_time": "2020-06-04T21:32:28.153395Z"
    }
   },
   "outputs": [],
   "source": [
    "pitching_df = pitching_df.reindex(columns=['year', 'playerName', 'teamAbbrev', 'winningPercentage',\n",
    "       'runsScoredPer9', 'hitsPer9', 'strikeoutsPer9', 'baseOnBallsPer9',\n",
    "       'homeRunsPer9', 'era', 'whip', 'ops', 'gidp', 'avg'])\n",
    "# Columns to be left out from the reindexing --- 'winPercentage', 'strikeoutsPer9Inn', 'walksPer9Inn', 'hitsPer9Inn'"
   ]
  },
  {
   "cell_type": "code",
   "execution_count": 19,
   "metadata": {
    "ExecuteTime": {
     "end_time": "2020-06-04T21:32:28.224189Z",
     "start_time": "2020-06-04T21:32:28.207253Z"
    }
   },
   "outputs": [],
   "source": [
    "# MIA & FLO are different. Standardizing to MIA\n",
    "pitching_df.replace(to_replace='FLA', value='MIA', inplace=True)"
   ]
  },
  {
   "cell_type": "code",
   "execution_count": 20,
   "metadata": {
    "ExecuteTime": {
     "end_time": "2020-06-04T21:32:28.254779Z",
     "start_time": "2020-06-04T21:32:28.227692Z"
    }
   },
   "outputs": [
    {
     "data": {
      "text/plain": [
       "31"
      ]
     },
     "execution_count": 20,
     "metadata": {},
     "output_type": "execute_result"
    }
   ],
   "source": [
    "# 31 teams showing up since it seems like there are some NaN values for team names. Will deal with should it become an issue...\n",
    "len(pitching_df.teamAbbrev.unique())"
   ]
  },
  {
   "cell_type": "markdown",
   "metadata": {},
   "source": [
    "## Game DF Feature ideas\n",
    "- Turn VisitorRunsScored & HomeRunsScore into a column that indicates if the home team won - DONE.\n",
    "- Combine VisitorHBP & VisitorBB & VisitorIBB into a single column containing all the stats - DONE.\n",
    "- Same with HomeHBP & HomeBB & HomeIBB - DONE.\n",
    "<br/><br/>\n",
    "- Combine VisitorH / VisitorAB = team_BA - DONE.\n",
    "- Same with HomeH / HomeAB - DONE. \n",
    "<br/><br/>\n",
    "- Eventually add on all the other engineered features into this dataframe...\n",
    "<br/><br/>\n",
    "- Since the game_df has a date column, I'd like to leverage that to look at 7-day-trends, 14-day-trends, etc"
   ]
  },
  {
   "cell_type": "code",
   "execution_count": 21,
   "metadata": {
    "ExecuteTime": {
     "end_time": "2020-06-04T21:32:28.278502Z",
     "start_time": "2020-06-04T21:32:28.258195Z"
    }
   },
   "outputs": [],
   "source": [
    "# Creating a Target for the model to eventually train on\n",
    "game_df['Home_team_won?'] = game_df['HomeRunsScore'] > game_df['VisitorRunsScored']"
   ]
  },
  {
   "cell_type": "code",
   "execution_count": 22,
   "metadata": {
    "ExecuteTime": {
     "end_time": "2020-06-04T21:32:28.292615Z",
     "start_time": "2020-06-04T21:32:28.285713Z"
    }
   },
   "outputs": [],
   "source": [
    "# game_df['Visitor_HBP+BB+IBB'] = game_df['VisitorHBP'] + game_df['VisitorBB'] + game_df['VisitorIBB']\n",
    "# game_df['Home_HBP+BB+IBB'] = game_df['HomeHBP'] + game_df['HomeBB'] + game_df['HomeIBB']\n",
    "\n",
    "# Commenting out for now until I figure out if I need to drop these or not...\n",
    "# game_df.drop(['VisitorHBP', 'VisitorBB', 'VisitorIBB', 'HomeHBP', 'HomeBB', 'HomeIBB'], axis=1, inplace=True)"
   ]
  },
  {
   "cell_type": "code",
   "execution_count": 23,
   "metadata": {
    "ExecuteTime": {
     "end_time": "2020-06-04T21:32:28.329398Z",
     "start_time": "2020-06-04T21:32:28.306059Z"
    }
   },
   "outputs": [],
   "source": [
    "# Adding a Home & Away BA per game to compare batting trends over time\n",
    "game_df['Visitor_BA'] = round((game_df['VisitorH'] / game_df['VisitorAB']), 3)\n",
    "game_df['Home_BA'] = round((game_df['HomeH'] / game_df['HomeAB']), 3)"
   ]
  },
  {
   "cell_type": "code",
   "execution_count": 24,
   "metadata": {
    "ExecuteTime": {
     "end_time": "2020-06-04T21:32:28.443341Z",
     "start_time": "2020-06-04T21:32:28.342278Z"
    }
   },
   "outputs": [],
   "source": [
    "# Creating a new column in order to add Date/Time to my dataframe\n",
    "game_df['New_Date'] = pd.to_datetime(game_df['Date'].astype(str), format='%Y%m%d')"
   ]
  },
  {
   "cell_type": "code",
   "execution_count": 25,
   "metadata": {
    "ExecuteTime": {
     "end_time": "2020-06-04T21:32:28.485185Z",
     "start_time": "2020-06-04T21:32:28.445419Z"
    }
   },
   "outputs": [],
   "source": [
    "# Rearranging columns so new date/time is at the front of the DF\n",
    "game_df = game_df.reindex(columns=['New_Date','Date', 'VisitingTeam','VisitorStartingPitcherName',\n",
    "                                 'HomeTeam','HomeStartingPitcherName', 'VisitorRunsScored',\n",
    "       'HomeRunsScore', 'VisitorAB', 'VisitorH','Visitor_BA', 'VisitorHBP', 'VisitorBB',\n",
    "       'VisitorIBB', 'VisitorLOB', 'HomeAB', 'HomeH', 'Home_BA', 'HomeHBP', 'HomeBB', 'HomeIBB', 'HomeLOB', 'Home_team_won?'])\n",
    "game_df.drop('Date', axis='columns', inplace=True)"
   ]
  },
  {
   "cell_type": "code",
   "execution_count": 26,
   "metadata": {
    "ExecuteTime": {
     "end_time": "2020-06-04T21:32:29.163243Z",
     "start_time": "2020-06-04T21:32:28.508802Z"
    }
   },
   "outputs": [],
   "source": [
    "# Had an extra team due to the Marlins having two different labels. Updating their team name to MIA\n",
    "game_df.replace(to_replace='FLO', value='MIA', inplace=True)\n",
    "# Updating game_df so team abbreviations match. Will be leveraged when aggregating teams stats\n",
    "game_df.replace(to_replace={\"NYA\":\"NYY\", \"SDN\":\"SD\", \"CHN\":\"CHC\", \"SLN\":\"STL\", \"SFN\":\"SF\", \"LAN\":\"LAD\", \"TBA\":\"TB\", \"KCA\":\"KC\", \"CHA\":\"CWS\", \"ANA\":\"LAA\", \"NYN\":\"NYM\"}, inplace=True)"
   ]
  },
  {
   "cell_type": "code",
   "execution_count": 27,
   "metadata": {
    "ExecuteTime": {
     "end_time": "2020-06-04T21:32:29.185119Z",
     "start_time": "2020-06-04T21:32:29.169381Z"
    },
    "code_folding": [
     0
    ]
   },
   "outputs": [
    {
     "data": {
      "text/plain": [
       "30"
      ]
     },
     "execution_count": 27,
     "metadata": {},
     "output_type": "execute_result"
    }
   ],
   "source": [
    "# game_df has 30 teams. Perfect!\n",
    "len(game_df.VisitingTeam.unique())"
   ]
  },
  {
   "cell_type": "code",
   "execution_count": 28,
   "metadata": {
    "ExecuteTime": {
     "end_time": "2020-06-04T21:32:29.237131Z",
     "start_time": "2020-06-04T21:32:29.203525Z"
    },
    "scrolled": false
   },
   "outputs": [],
   "source": [
    "# How to Access the\n",
    "game_df['prior_year'] = game_df['New_Date'].dt.year-1"
   ]
  },
  {
   "cell_type": "markdown",
   "metadata": {},
   "source": [
    "## Merge Pitching stats to game_df"
   ]
  },
  {
   "cell_type": "code",
   "execution_count": 29,
   "metadata": {
    "ExecuteTime": {
     "end_time": "2020-06-04T21:32:29.360275Z",
     "start_time": "2020-06-04T21:32:29.277016Z"
    }
   },
   "outputs": [],
   "source": [
    "game_df = game_df.merge(pitching_df, how='left', left_on=['prior_year','VisitorStartingPitcherName'], right_on=['year', 'playerName'])"
   ]
  },
  {
   "cell_type": "code",
   "execution_count": 30,
   "metadata": {
    "ExecuteTime": {
     "end_time": "2020-06-04T21:32:29.461822Z",
     "start_time": "2020-06-04T21:32:29.362910Z"
    }
   },
   "outputs": [],
   "source": [
    "game_df = game_df.merge(pitching_df, how='left', left_on=['prior_year','HomeStartingPitcherName'], right_on=['year', 'playerName'])"
   ]
  },
  {
   "cell_type": "code",
   "execution_count": 31,
   "metadata": {
    "ExecuteTime": {
     "end_time": "2020-06-04T21:32:29.478466Z",
     "start_time": "2020-06-04T21:32:29.464230Z"
    }
   },
   "outputs": [
    {
     "data": {
      "text/plain": [
       "(Index(['New_Date', 'VisitingTeam', 'VisitorStartingPitcherName', 'HomeTeam',\n",
       "        'HomeStartingPitcherName', 'VisitorRunsScored', 'HomeRunsScore',\n",
       "        'VisitorAB', 'VisitorH', 'Visitor_BA', 'VisitorHBP', 'VisitorBB',\n",
       "        'VisitorIBB', 'VisitorLOB', 'HomeAB', 'HomeH', 'Home_BA', 'HomeHBP',\n",
       "        'HomeBB', 'HomeIBB', 'HomeLOB', 'Home_team_won?', 'prior_year',\n",
       "        'year_x', 'playerName_x', 'teamAbbrev_x', 'winningPercentage_x',\n",
       "        'runsScoredPer9_x', 'hitsPer9_x', 'strikeoutsPer9_x',\n",
       "        'baseOnBallsPer9_x', 'homeRunsPer9_x', 'era_x', 'whip_x', 'ops_x',\n",
       "        'gidp_x', 'avg_x', 'year_y', 'playerName_y', 'teamAbbrev_y',\n",
       "        'winningPercentage_y', 'runsScoredPer9_y', 'hitsPer9_y',\n",
       "        'strikeoutsPer9_y', 'baseOnBallsPer9_y', 'homeRunsPer9_y', 'era_y',\n",
       "        'whip_y', 'ops_y', 'gidp_y', 'avg_y'],\n",
       "       dtype='object'),\n",
       " (24300, 51))"
      ]
     },
     "execution_count": 31,
     "metadata": {},
     "output_type": "execute_result"
    }
   ],
   "source": [
    "game_df.columns, game_df.shape"
   ]
  },
  {
   "cell_type": "markdown",
   "metadata": {},
   "source": [
    "## Merge Team Batting stats to game_df"
   ]
  },
  {
   "cell_type": "code",
   "execution_count": 32,
   "metadata": {
    "ExecuteTime": {
     "end_time": "2020-06-04T21:32:29.613683Z",
     "start_time": "2020-06-04T21:32:29.508807Z"
    }
   },
   "outputs": [
    {
     "data": {
      "text/html": [
       "<div>\n",
       "<style scoped>\n",
       "    .dataframe tbody tr th:only-of-type {\n",
       "        vertical-align: middle;\n",
       "    }\n",
       "\n",
       "    .dataframe tbody tr th {\n",
       "        vertical-align: top;\n",
       "    }\n",
       "\n",
       "    .dataframe thead th {\n",
       "        text-align: right;\n",
       "    }\n",
       "</style>\n",
       "<table border=\"1\" class=\"dataframe\">\n",
       "  <thead>\n",
       "    <tr style=\"text-align: right;\">\n",
       "      <th></th>\n",
       "      <th>year</th>\n",
       "      <th>teamAbbrev</th>\n",
       "      <th>hits</th>\n",
       "      <th>plateAppearances</th>\n",
       "      <th>team_BA</th>\n",
       "      <th>totalBases</th>\n",
       "      <th>plateAppearances</th>\n",
       "      <th>total_bases_avg</th>\n",
       "      <th>leftOnBase</th>\n",
       "      <th>plateAppearances</th>\n",
       "      <th>...</th>\n",
       "      <th>runs_avg</th>\n",
       "      <th>strikeOuts</th>\n",
       "      <th>atBats</th>\n",
       "      <th>K_avg</th>\n",
       "      <th>baseOnBalls</th>\n",
       "      <th>plateAppearances</th>\n",
       "      <th>BB_avg</th>\n",
       "      <th>rbi</th>\n",
       "      <th>plateAppearances</th>\n",
       "      <th>RBI_avg</th>\n",
       "    </tr>\n",
       "  </thead>\n",
       "  <tbody>\n",
       "    <tr>\n",
       "      <th>0</th>\n",
       "      <td>2009</td>\n",
       "      <td>ARI</td>\n",
       "      <td>1310</td>\n",
       "      <td>5858</td>\n",
       "      <td>0.224</td>\n",
       "      <td>2195</td>\n",
       "      <td>5858</td>\n",
       "      <td>0.375</td>\n",
       "      <td>2225</td>\n",
       "      <td>5858</td>\n",
       "      <td>...</td>\n",
       "      <td>0.116</td>\n",
       "      <td>1224</td>\n",
       "      <td>5182</td>\n",
       "      <td>0.236</td>\n",
       "      <td>545</td>\n",
       "      <td>5858</td>\n",
       "      <td>0.093</td>\n",
       "      <td>664</td>\n",
       "      <td>5858</td>\n",
       "      <td>0.113</td>\n",
       "    </tr>\n",
       "    <tr>\n",
       "      <th>1</th>\n",
       "      <td>2009</td>\n",
       "      <td>ATL</td>\n",
       "      <td>1492</td>\n",
       "      <td>6510</td>\n",
       "      <td>0.229</td>\n",
       "      <td>2336</td>\n",
       "      <td>6510</td>\n",
       "      <td>0.359</td>\n",
       "      <td>2432</td>\n",
       "      <td>6510</td>\n",
       "      <td>...</td>\n",
       "      <td>0.119</td>\n",
       "      <td>1137</td>\n",
       "      <td>5678</td>\n",
       "      <td>0.200</td>\n",
       "      <td>637</td>\n",
       "      <td>6510</td>\n",
       "      <td>0.098</td>\n",
       "      <td>723</td>\n",
       "      <td>6510</td>\n",
       "      <td>0.111</td>\n",
       "    </tr>\n",
       "    <tr>\n",
       "      <th>2</th>\n",
       "      <td>2009</td>\n",
       "      <td>BAL</td>\n",
       "      <td>1367</td>\n",
       "      <td>5610</td>\n",
       "      <td>0.244</td>\n",
       "      <td>2107</td>\n",
       "      <td>5610</td>\n",
       "      <td>0.376</td>\n",
       "      <td>2132</td>\n",
       "      <td>5610</td>\n",
       "      <td>...</td>\n",
       "      <td>0.120</td>\n",
       "      <td>913</td>\n",
       "      <td>5073</td>\n",
       "      <td>0.180</td>\n",
       "      <td>449</td>\n",
       "      <td>5610</td>\n",
       "      <td>0.080</td>\n",
       "      <td>628</td>\n",
       "      <td>5610</td>\n",
       "      <td>0.112</td>\n",
       "    </tr>\n",
       "    <tr>\n",
       "      <th>3</th>\n",
       "      <td>2009</td>\n",
       "      <td>BOS</td>\n",
       "      <td>1915</td>\n",
       "      <td>8245</td>\n",
       "      <td>0.232</td>\n",
       "      <td>3151</td>\n",
       "      <td>8245</td>\n",
       "      <td>0.382</td>\n",
       "      <td>3223</td>\n",
       "      <td>8245</td>\n",
       "      <td>...</td>\n",
       "      <td>0.128</td>\n",
       "      <td>1435</td>\n",
       "      <td>7202</td>\n",
       "      <td>0.199</td>\n",
       "      <td>864</td>\n",
       "      <td>8245</td>\n",
       "      <td>0.105</td>\n",
       "      <td>1036</td>\n",
       "      <td>8245</td>\n",
       "      <td>0.126</td>\n",
       "    </tr>\n",
       "    <tr>\n",
       "      <th>4</th>\n",
       "      <td>2009</td>\n",
       "      <td>CHC</td>\n",
       "      <td>1392</td>\n",
       "      <td>6214</td>\n",
       "      <td>0.224</td>\n",
       "      <td>2228</td>\n",
       "      <td>6214</td>\n",
       "      <td>0.359</td>\n",
       "      <td>2458</td>\n",
       "      <td>6214</td>\n",
       "      <td>...</td>\n",
       "      <td>0.113</td>\n",
       "      <td>1176</td>\n",
       "      <td>5459</td>\n",
       "      <td>0.215</td>\n",
       "      <td>590</td>\n",
       "      <td>6214</td>\n",
       "      <td>0.095</td>\n",
       "      <td>679</td>\n",
       "      <td>6214</td>\n",
       "      <td>0.109</td>\n",
       "    </tr>\n",
       "  </tbody>\n",
       "</table>\n",
       "<p>5 rows × 23 columns</p>\n",
       "</div>"
      ],
      "text/plain": [
       "   year teamAbbrev  hits  plateAppearances  team_BA  totalBases  \\\n",
       "0  2009        ARI  1310              5858    0.224        2195   \n",
       "1  2009        ATL  1492              6510    0.229        2336   \n",
       "2  2009        BAL  1367              5610    0.244        2107   \n",
       "3  2009        BOS  1915              8245    0.232        3151   \n",
       "4  2009        CHC  1392              6214    0.224        2228   \n",
       "\n",
       "   plateAppearances  total_bases_avg  leftOnBase  plateAppearances  ...  \\\n",
       "0              5858            0.375        2225              5858  ...   \n",
       "1              6510            0.359        2432              6510  ...   \n",
       "2              5610            0.376        2132              5610  ...   \n",
       "3              8245            0.382        3223              8245  ...   \n",
       "4              6214            0.359        2458              6214  ...   \n",
       "\n",
       "   runs_avg  strikeOuts  atBats  K_avg  baseOnBalls  plateAppearances  BB_avg  \\\n",
       "0     0.116        1224    5182  0.236          545              5858   0.093   \n",
       "1     0.119        1137    5678  0.200          637              6510   0.098   \n",
       "2     0.120         913    5073  0.180          449              5610   0.080   \n",
       "3     0.128        1435    7202  0.199          864              8245   0.105   \n",
       "4     0.113        1176    5459  0.215          590              6214   0.095   \n",
       "\n",
       "    rbi  plateAppearances  RBI_avg  \n",
       "0   664              5858    0.113  \n",
       "1   723              6510    0.111  \n",
       "2   628              5610    0.112  \n",
       "3  1036              8245    0.126  \n",
       "4   679              6214    0.109  \n",
       "\n",
       "[5 rows x 23 columns]"
      ]
     },
     "execution_count": 32,
     "metadata": {},
     "output_type": "execute_result"
    }
   ],
   "source": [
    "team_stats.head()"
   ]
  },
  {
   "cell_type": "code",
   "execution_count": 33,
   "metadata": {
    "ExecuteTime": {
     "end_time": "2020-06-04T21:32:29.664433Z",
     "start_time": "2020-06-04T21:32:29.636070Z"
    }
   },
   "outputs": [],
   "source": [
    "# Dropping redundant columns from batting stats df\n",
    "team_stats.drop('plateAppearances', axis=1, inplace=True)"
   ]
  },
  {
   "cell_type": "code",
   "execution_count": 34,
   "metadata": {
    "ExecuteTime": {
     "end_time": "2020-06-04T21:32:29.851976Z",
     "start_time": "2020-06-04T21:32:29.698187Z"
    }
   },
   "outputs": [],
   "source": [
    "game_df = game_df.merge(team_stats, how='left', left_on=['prior_year', 'VisitingTeam'], right_on=['year', 'teamAbbrev'])"
   ]
  },
  {
   "cell_type": "code",
   "execution_count": 35,
   "metadata": {
    "ExecuteTime": {
     "end_time": "2020-06-04T21:32:29.967299Z",
     "start_time": "2020-06-04T21:32:29.858328Z"
    }
   },
   "outputs": [],
   "source": [
    "game_df = game_df.merge(team_stats, how='left', left_on=['prior_year', 'HomeTeam'], right_on=['year', 'teamAbbrev'])"
   ]
  },
  {
   "cell_type": "code",
   "execution_count": 36,
   "metadata": {
    "ExecuteTime": {
     "end_time": "2020-06-04T21:32:30.052780Z",
     "start_time": "2020-06-04T21:32:29.969360Z"
    }
   },
   "outputs": [],
   "source": [
    "# Creating an integer reference point in game_df\n",
    "game_df['current_year'] = game_df['New_Date'].dt.year"
   ]
  },
  {
   "cell_type": "code",
   "execution_count": 37,
   "metadata": {
    "ExecuteTime": {
     "end_time": "2020-06-04T21:32:30.169753Z",
     "start_time": "2020-06-04T21:32:30.054933Z"
    }
   },
   "outputs": [],
   "source": [
    "# Addressing NaN values in game_df by giving them a -1 score\n",
    "# NaN indicates that the player did not have stats from the prior year to measure againsta\n",
    "game_df.fillna(value = -1, inplace=True)"
   ]
  },
  {
   "cell_type": "code",
   "execution_count": 38,
   "metadata": {
    "ExecuteTime": {
     "end_time": "2020-06-04T21:32:30.273732Z",
     "start_time": "2020-06-04T21:32:30.175049Z"
    }
   },
   "outputs": [
    {
     "data": {
      "text/plain": [
       "False"
      ]
     },
     "execution_count": 38,
     "metadata": {},
     "output_type": "execute_result"
    }
   ],
   "source": [
    "# Checking game_df for ANY NaN values\n",
    "game_df.isnull().values.any()\n",
    "# Returns false, indicating that there are NO NaN values in the game_df"
   ]
  },
  {
   "cell_type": "code",
   "execution_count": 39,
   "metadata": {
    "ExecuteTime": {
     "end_time": "2020-06-04T21:32:30.395323Z",
     "start_time": "2020-06-04T21:32:30.298059Z"
    }
   },
   "outputs": [
    {
     "data": {
      "text/html": [
       "<div>\n",
       "<style scoped>\n",
       "    .dataframe tbody tr th:only-of-type {\n",
       "        vertical-align: middle;\n",
       "    }\n",
       "\n",
       "    .dataframe tbody tr th {\n",
       "        vertical-align: top;\n",
       "    }\n",
       "\n",
       "    .dataframe thead th {\n",
       "        text-align: right;\n",
       "    }\n",
       "</style>\n",
       "<table border=\"1\" class=\"dataframe\">\n",
       "  <thead>\n",
       "    <tr style=\"text-align: right;\">\n",
       "      <th></th>\n",
       "      <th>New_Date</th>\n",
       "      <th>VisitingTeam</th>\n",
       "      <th>VisitorStartingPitcherName</th>\n",
       "      <th>HomeTeam</th>\n",
       "      <th>HomeStartingPitcherName</th>\n",
       "      <th>VisitorRunsScored</th>\n",
       "      <th>HomeRunsScore</th>\n",
       "      <th>VisitorAB</th>\n",
       "      <th>VisitorH</th>\n",
       "      <th>Visitor_BA</th>\n",
       "      <th>...</th>\n",
       "      <th>runs_y</th>\n",
       "      <th>runs_avg_y</th>\n",
       "      <th>strikeOuts_y</th>\n",
       "      <th>atBats_y</th>\n",
       "      <th>K_avg_y</th>\n",
       "      <th>baseOnBalls_y</th>\n",
       "      <th>BB_avg_y</th>\n",
       "      <th>rbi_y</th>\n",
       "      <th>RBI_avg_y</th>\n",
       "      <th>current_year</th>\n",
       "    </tr>\n",
       "  </thead>\n",
       "  <tbody>\n",
       "    <tr>\n",
       "      <th>0</th>\n",
       "      <td>2010-04-04</td>\n",
       "      <td>NYY</td>\n",
       "      <td>CC Sabathia</td>\n",
       "      <td>BOS</td>\n",
       "      <td>Josh Beckett</td>\n",
       "      <td>7</td>\n",
       "      <td>9</td>\n",
       "      <td>37</td>\n",
       "      <td>12</td>\n",
       "      <td>0.324</td>\n",
       "      <td>...</td>\n",
       "      <td>1057.0</td>\n",
       "      <td>0.128</td>\n",
       "      <td>1435.0</td>\n",
       "      <td>7202.0</td>\n",
       "      <td>0.199</td>\n",
       "      <td>864.0</td>\n",
       "      <td>0.105</td>\n",
       "      <td>1036.0</td>\n",
       "      <td>0.126</td>\n",
       "      <td>2010</td>\n",
       "    </tr>\n",
       "    <tr>\n",
       "      <th>1</th>\n",
       "      <td>2010-04-05</td>\n",
       "      <td>MIN</td>\n",
       "      <td>Scott Baker</td>\n",
       "      <td>LAA</td>\n",
       "      <td>Jered Weaver</td>\n",
       "      <td>3</td>\n",
       "      <td>6</td>\n",
       "      <td>32</td>\n",
       "      <td>7</td>\n",
       "      <td>0.219</td>\n",
       "      <td>...</td>\n",
       "      <td>879.0</td>\n",
       "      <td>0.140</td>\n",
       "      <td>1047.0</td>\n",
       "      <td>5597.0</td>\n",
       "      <td>0.187</td>\n",
       "      <td>544.0</td>\n",
       "      <td>0.087</td>\n",
       "      <td>837.0</td>\n",
       "      <td>0.133</td>\n",
       "      <td>2010</td>\n",
       "    </tr>\n",
       "    <tr>\n",
       "      <th>2</th>\n",
       "      <td>2010-04-05</td>\n",
       "      <td>CLE</td>\n",
       "      <td>Jake Westbrook</td>\n",
       "      <td>CWS</td>\n",
       "      <td>Mark Buehrle</td>\n",
       "      <td>0</td>\n",
       "      <td>6</td>\n",
       "      <td>30</td>\n",
       "      <td>4</td>\n",
       "      <td>0.133</td>\n",
       "      <td>...</td>\n",
       "      <td>707.0</td>\n",
       "      <td>0.115</td>\n",
       "      <td>959.0</td>\n",
       "      <td>5518.0</td>\n",
       "      <td>0.174</td>\n",
       "      <td>491.0</td>\n",
       "      <td>0.080</td>\n",
       "      <td>686.0</td>\n",
       "      <td>0.111</td>\n",
       "      <td>2010</td>\n",
       "    </tr>\n",
       "    <tr>\n",
       "      <th>3</th>\n",
       "      <td>2010-04-05</td>\n",
       "      <td>DET</td>\n",
       "      <td>Justin Verlander</td>\n",
       "      <td>KC</td>\n",
       "      <td>Zack Greinke</td>\n",
       "      <td>8</td>\n",
       "      <td>4</td>\n",
       "      <td>39</td>\n",
       "      <td>12</td>\n",
       "      <td>0.308</td>\n",
       "      <td>...</td>\n",
       "      <td>715.0</td>\n",
       "      <td>0.110</td>\n",
       "      <td>1119.0</td>\n",
       "      <td>5876.0</td>\n",
       "      <td>0.190</td>\n",
       "      <td>471.0</td>\n",
       "      <td>0.073</td>\n",
       "      <td>692.0</td>\n",
       "      <td>0.107</td>\n",
       "      <td>2010</td>\n",
       "    </tr>\n",
       "    <tr>\n",
       "      <th>4</th>\n",
       "      <td>2010-04-05</td>\n",
       "      <td>SEA</td>\n",
       "      <td>Felix Hernandez</td>\n",
       "      <td>OAK</td>\n",
       "      <td>Ben Sheets</td>\n",
       "      <td>5</td>\n",
       "      <td>3</td>\n",
       "      <td>31</td>\n",
       "      <td>6</td>\n",
       "      <td>0.194</td>\n",
       "      <td>...</td>\n",
       "      <td>641.0</td>\n",
       "      <td>0.124</td>\n",
       "      <td>887.0</td>\n",
       "      <td>4635.0</td>\n",
       "      <td>0.191</td>\n",
       "      <td>410.0</td>\n",
       "      <td>0.080</td>\n",
       "      <td>609.0</td>\n",
       "      <td>0.118</td>\n",
       "      <td>2010</td>\n",
       "    </tr>\n",
       "    <tr>\n",
       "      <th>...</th>\n",
       "      <td>...</td>\n",
       "      <td>...</td>\n",
       "      <td>...</td>\n",
       "      <td>...</td>\n",
       "      <td>...</td>\n",
       "      <td>...</td>\n",
       "      <td>...</td>\n",
       "      <td>...</td>\n",
       "      <td>...</td>\n",
       "      <td>...</td>\n",
       "      <td>...</td>\n",
       "      <td>...</td>\n",
       "      <td>...</td>\n",
       "      <td>...</td>\n",
       "      <td>...</td>\n",
       "      <td>...</td>\n",
       "      <td>...</td>\n",
       "      <td>...</td>\n",
       "      <td>...</td>\n",
       "      <td>...</td>\n",
       "      <td>...</td>\n",
       "    </tr>\n",
       "    <tr>\n",
       "      <th>24295</th>\n",
       "      <td>2019-09-29</td>\n",
       "      <td>DET</td>\n",
       "      <td>Spencer Turnbull</td>\n",
       "      <td>CWS</td>\n",
       "      <td>Ross Detwiler</td>\n",
       "      <td>3</td>\n",
       "      <td>5</td>\n",
       "      <td>31</td>\n",
       "      <td>7</td>\n",
       "      <td>0.226</td>\n",
       "      <td>...</td>\n",
       "      <td>641.0</td>\n",
       "      <td>0.107</td>\n",
       "      <td>1608.0</td>\n",
       "      <td>5448.0</td>\n",
       "      <td>0.295</td>\n",
       "      <td>423.0</td>\n",
       "      <td>0.071</td>\n",
       "      <td>626.0</td>\n",
       "      <td>0.105</td>\n",
       "      <td>2019</td>\n",
       "    </tr>\n",
       "    <tr>\n",
       "      <th>24296</th>\n",
       "      <td>2019-09-29</td>\n",
       "      <td>MIN</td>\n",
       "      <td>Martin Perez</td>\n",
       "      <td>KC</td>\n",
       "      <td>Jorge Lopez</td>\n",
       "      <td>4</td>\n",
       "      <td>5</td>\n",
       "      <td>32</td>\n",
       "      <td>6</td>\n",
       "      <td>0.188</td>\n",
       "      <td>...</td>\n",
       "      <td>522.0</td>\n",
       "      <td>0.107</td>\n",
       "      <td>1092.0</td>\n",
       "      <td>4425.0</td>\n",
       "      <td>0.247</td>\n",
       "      <td>349.0</td>\n",
       "      <td>0.072</td>\n",
       "      <td>472.0</td>\n",
       "      <td>0.097</td>\n",
       "      <td>2019</td>\n",
       "    </tr>\n",
       "    <tr>\n",
       "      <th>24297</th>\n",
       "      <td>2019-09-29</td>\n",
       "      <td>OAK</td>\n",
       "      <td>Tanner Roark</td>\n",
       "      <td>SEA</td>\n",
       "      <td>Justin Dunn</td>\n",
       "      <td>1</td>\n",
       "      <td>3</td>\n",
       "      <td>30</td>\n",
       "      <td>3</td>\n",
       "      <td>0.100</td>\n",
       "      <td>...</td>\n",
       "      <td>722.0</td>\n",
       "      <td>0.111</td>\n",
       "      <td>1294.0</td>\n",
       "      <td>5891.0</td>\n",
       "      <td>0.220</td>\n",
       "      <td>487.0</td>\n",
       "      <td>0.075</td>\n",
       "      <td>692.0</td>\n",
       "      <td>0.106</td>\n",
       "      <td>2019</td>\n",
       "    </tr>\n",
       "    <tr>\n",
       "      <th>24298</th>\n",
       "      <td>2019-09-29</td>\n",
       "      <td>NYY</td>\n",
       "      <td>Chad Green</td>\n",
       "      <td>TEX</td>\n",
       "      <td>Lance Lynn</td>\n",
       "      <td>1</td>\n",
       "      <td>6</td>\n",
       "      <td>30</td>\n",
       "      <td>3</td>\n",
       "      <td>0.100</td>\n",
       "      <td>...</td>\n",
       "      <td>736.0</td>\n",
       "      <td>0.119</td>\n",
       "      <td>1491.0</td>\n",
       "      <td>5469.0</td>\n",
       "      <td>0.273</td>\n",
       "      <td>560.0</td>\n",
       "      <td>0.091</td>\n",
       "      <td>694.0</td>\n",
       "      <td>0.112</td>\n",
       "      <td>2019</td>\n",
       "    </tr>\n",
       "    <tr>\n",
       "      <th>24299</th>\n",
       "      <td>2019-09-29</td>\n",
       "      <td>TB</td>\n",
       "      <td>Blake Snell</td>\n",
       "      <td>TOR</td>\n",
       "      <td>Clay Buchholz</td>\n",
       "      <td>3</td>\n",
       "      <td>8</td>\n",
       "      <td>36</td>\n",
       "      <td>9</td>\n",
       "      <td>0.250</td>\n",
       "      <td>...</td>\n",
       "      <td>616.0</td>\n",
       "      <td>0.112</td>\n",
       "      <td>1231.0</td>\n",
       "      <td>4963.0</td>\n",
       "      <td>0.248</td>\n",
       "      <td>431.0</td>\n",
       "      <td>0.079</td>\n",
       "      <td>617.0</td>\n",
       "      <td>0.112</td>\n",
       "      <td>2019</td>\n",
       "    </tr>\n",
       "  </tbody>\n",
       "</table>\n",
       "<p>24300 rows × 86 columns</p>\n",
       "</div>"
      ],
      "text/plain": [
       "        New_Date VisitingTeam VisitorStartingPitcherName HomeTeam  \\\n",
       "0     2010-04-04          NYY                CC Sabathia      BOS   \n",
       "1     2010-04-05          MIN                Scott Baker      LAA   \n",
       "2     2010-04-05          CLE             Jake Westbrook      CWS   \n",
       "3     2010-04-05          DET           Justin Verlander       KC   \n",
       "4     2010-04-05          SEA            Felix Hernandez      OAK   \n",
       "...          ...          ...                        ...      ...   \n",
       "24295 2019-09-29          DET           Spencer Turnbull      CWS   \n",
       "24296 2019-09-29          MIN               Martin Perez       KC   \n",
       "24297 2019-09-29          OAK               Tanner Roark      SEA   \n",
       "24298 2019-09-29          NYY                 Chad Green      TEX   \n",
       "24299 2019-09-29           TB                Blake Snell      TOR   \n",
       "\n",
       "      HomeStartingPitcherName  VisitorRunsScored  HomeRunsScore  VisitorAB  \\\n",
       "0                Josh Beckett                  7              9         37   \n",
       "1                Jered Weaver                  3              6         32   \n",
       "2                Mark Buehrle                  0              6         30   \n",
       "3                Zack Greinke                  8              4         39   \n",
       "4                  Ben Sheets                  5              3         31   \n",
       "...                       ...                ...            ...        ...   \n",
       "24295           Ross Detwiler                  3              5         31   \n",
       "24296             Jorge Lopez                  4              5         32   \n",
       "24297             Justin Dunn                  1              3         30   \n",
       "24298              Lance Lynn                  1              6         30   \n",
       "24299           Clay Buchholz                  3              8         36   \n",
       "\n",
       "       VisitorH  Visitor_BA  ...  runs_y  runs_avg_y  strikeOuts_y  atBats_y  \\\n",
       "0            12       0.324  ...  1057.0       0.128        1435.0    7202.0   \n",
       "1             7       0.219  ...   879.0       0.140        1047.0    5597.0   \n",
       "2             4       0.133  ...   707.0       0.115         959.0    5518.0   \n",
       "3            12       0.308  ...   715.0       0.110        1119.0    5876.0   \n",
       "4             6       0.194  ...   641.0       0.124         887.0    4635.0   \n",
       "...         ...         ...  ...     ...         ...           ...       ...   \n",
       "24295         7       0.226  ...   641.0       0.107        1608.0    5448.0   \n",
       "24296         6       0.188  ...   522.0       0.107        1092.0    4425.0   \n",
       "24297         3       0.100  ...   722.0       0.111        1294.0    5891.0   \n",
       "24298         3       0.100  ...   736.0       0.119        1491.0    5469.0   \n",
       "24299         9       0.250  ...   616.0       0.112        1231.0    4963.0   \n",
       "\n",
       "       K_avg_y  baseOnBalls_y  BB_avg_y   rbi_y  RBI_avg_y  current_year  \n",
       "0        0.199          864.0     0.105  1036.0      0.126          2010  \n",
       "1        0.187          544.0     0.087   837.0      0.133          2010  \n",
       "2        0.174          491.0     0.080   686.0      0.111          2010  \n",
       "3        0.190          471.0     0.073   692.0      0.107          2010  \n",
       "4        0.191          410.0     0.080   609.0      0.118          2010  \n",
       "...        ...            ...       ...     ...        ...           ...  \n",
       "24295    0.295          423.0     0.071   626.0      0.105          2019  \n",
       "24296    0.247          349.0     0.072   472.0      0.097          2019  \n",
       "24297    0.220          487.0     0.075   692.0      0.106          2019  \n",
       "24298    0.273          560.0     0.091   694.0      0.112          2019  \n",
       "24299    0.248          431.0     0.079   617.0      0.112          2019  \n",
       "\n",
       "[24300 rows x 86 columns]"
      ]
     },
     "execution_count": 39,
     "metadata": {},
     "output_type": "execute_result"
    }
   ],
   "source": [
    "game_df"
   ]
  },
  {
   "cell_type": "markdown",
   "metadata": {},
   "source": [
    "## Train and fit a model to see how these feature preform so far..."
   ]
  },
  {
   "cell_type": "code",
   "execution_count": 40,
   "metadata": {
    "ExecuteTime": {
     "end_time": "2020-06-04T21:32:30.436356Z",
     "start_time": "2020-06-04T21:32:30.422204Z"
    },
    "code_folding": [
     0
    ]
   },
   "outputs": [],
   "source": [
    "# Creating an initial drop_lst variable to use for dropping metrics that are answers...\n",
    "drop_lst = ['New_Date',\n",
    "'VisitingTeam',\n",
    "'VisitorStartingPitcherName',\n",
    "'HomeTeam',\n",
    "'HomeStartingPitcherName',\n",
    "'VisitorRunsScored', \n",
    "'HomeRunsScore', \n",
    "'Home_team_won?', \n",
    "'VisitorAB',\n",
    "'VisitorH',\n",
    "'Visitor_BA',\n",
    "'VisitorHBP',\n",
    "'VisitorBB',\n",
    "'VisitorIBB',\n",
    "'VisitorLOB',\n",
    "'HomeAB',\n",
    "'HomeH',\n",
    "'Home_BA',\n",
    "'HomeHBP',\n",
    "'HomeBB',\n",
    "'HomeIBB',\n",
    "'HomeLOB',\n",
    "'playerName_x',\n",
    "'teamAbbrev_x',\n",
    "'playerName_y',\n",
    "'teamAbbrev_y',\n",
    "'teamAbbrev_x',\n",
    "'teamAbbrev_y',\n",
    "'year_x',\n",
    "'year_y',\n",
    "'prior_year']"
   ]
  },
  {
   "cell_type": "code",
   "execution_count": 41,
   "metadata": {
    "ExecuteTime": {
     "end_time": "2020-06-04T21:32:30.493804Z",
     "start_time": "2020-06-04T21:32:30.469905Z"
    }
   },
   "outputs": [],
   "source": [
    "# Added the current_year to year for indexing later - THIS IS WHERE IT STARTED TO BREAK!\n",
    "y = game_df['Home_team_won?']#, 'current_year']]"
   ]
  },
  {
   "cell_type": "code",
   "execution_count": 42,
   "metadata": {
    "ExecuteTime": {
     "end_time": "2020-06-04T21:32:30.553511Z",
     "start_time": "2020-06-04T21:32:30.497292Z"
    },
    "scrolled": true
   },
   "outputs": [],
   "source": [
    "X = game_df.drop(drop_lst, axis=1)"
   ]
  },
  {
   "cell_type": "code",
   "execution_count": 43,
   "metadata": {
    "ExecuteTime": {
     "end_time": "2020-06-04T21:32:30.579228Z",
     "start_time": "2020-06-04T21:32:30.556117Z"
    }
   },
   "outputs": [
    {
     "data": {
      "text/plain": [
       "Index(['winningPercentage_x', 'runsScoredPer9_x', 'hitsPer9_x',\n",
       "       'strikeoutsPer9_x', 'baseOnBallsPer9_x', 'homeRunsPer9_x', 'era_x',\n",
       "       'whip_x', 'ops_x', 'gidp_x', 'avg_x', 'winningPercentage_y',\n",
       "       'runsScoredPer9_y', 'hitsPer9_y', 'strikeoutsPer9_y',\n",
       "       'baseOnBallsPer9_y', 'homeRunsPer9_y', 'era_y', 'whip_y', 'ops_y',\n",
       "       'gidp_y', 'avg_y', 'hits_x', 'team_BA_x', 'totalBases_x',\n",
       "       'total_bases_avg_x', 'leftOnBase_x', 'LOB_avg_x', 'runs_x',\n",
       "       'runs_avg_x', 'strikeOuts_x', 'atBats_x', 'K_avg_x', 'baseOnBalls_x',\n",
       "       'BB_avg_x', 'rbi_x', 'RBI_avg_x', 'hits_y', 'team_BA_y', 'totalBases_y',\n",
       "       'total_bases_avg_y', 'leftOnBase_y', 'LOB_avg_y', 'runs_y',\n",
       "       'runs_avg_y', 'strikeOuts_y', 'atBats_y', 'K_avg_y', 'baseOnBalls_y',\n",
       "       'BB_avg_y', 'rbi_y', 'RBI_avg_y', 'current_year'],\n",
       "      dtype='object')"
      ]
     },
     "execution_count": 43,
     "metadata": {},
     "output_type": "execute_result"
    }
   ],
   "source": [
    "X.columns"
   ]
  },
  {
   "cell_type": "code",
   "execution_count": 44,
   "metadata": {
    "ExecuteTime": {
     "end_time": "2020-06-04T21:32:30.603127Z",
     "start_time": "2020-06-04T21:32:30.585545Z"
    },
    "code_folding": [
     0
    ]
   },
   "outputs": [],
   "source": [
    "def my_train_test_split(X, y, start_year, end_year):\n",
    "    '''\n",
    "    creating a custom train_test_split in order to split data by seasons\n",
    "    i.e.\n",
    "    - train on 2010-2016 seasons\n",
    "    - test on 2018-2019 seasons\n",
    "    \n",
    "    Parameters:\n",
    "    X: features\n",
    "    y: target value\n",
    "    \n",
    "    returns:\n",
    "    X_train, X_test, y_train, y_test\n",
    "    '''\n",
    "    # There are objects in the DF that need to be numeric values\n",
    "    # obj_lst = ['winningPercentage_x','runsScoredPer9_x','hitsPer9_x','strikeoutsPer9_x','baseOnBallsPer9_x','homeRunsPer9_x','era_x','whip_x','winningPercentage_y','runsScoredPer9_y','hitsPer9_y','strikeoutsPer9_y','baseOnBallsPer9_y','homeRunsPer9_y','era_y','whip_y']\n",
    "\n",
    "    # Getting X values to_numeric\n",
    "    X = X.apply(pd.to_numeric, errors='coerce')\n",
    "    X.fillna(value = -1, inplace=True)\n",
    "    \n",
    "                    # THIS WAS THE LINE ADDED THAT MESSED STUFF UP!!!!!!!!\n",
    "    #Adding a drop y step to the function to make the tweaked version later work better\n",
    "#     y = y.loc[y['current_year'] <= end_year+1]\n",
    "#     y = y['Home_team_won?']\n",
    "    \n",
    "    \n",
    "    # Setting up how to break up seasons by years\n",
    "    years = np.arange(start_year, end_year+1)\n",
    "    mask = game_df['current_year'].isin(years)\n",
    "    \n",
    "    # Splitting between the training & testing sets\n",
    "    X_train = X[mask]\n",
    "    X_test = X[~mask]\n",
    "    y_train = y[mask]\n",
    "    y_test = y[~mask]\n",
    "\n",
    "    return X_train, X_test, y_train, y_test"
   ]
  },
  {
   "cell_type": "code",
   "execution_count": 45,
   "metadata": {
    "ExecuteTime": {
     "end_time": "2020-06-04T21:32:31.011596Z",
     "start_time": "2020-06-04T21:32:30.612873Z"
    }
   },
   "outputs": [],
   "source": [
    "X_train, X_test, y_train, y_test = my_train_test_split(X, y, 2010, 2017)"
   ]
  },
  {
   "cell_type": "code",
   "execution_count": 46,
   "metadata": {
    "ExecuteTime": {
     "end_time": "2020-06-04T21:32:31.023776Z",
     "start_time": "2020-06-04T21:32:31.015004Z"
    }
   },
   "outputs": [],
   "source": [
    "rf = RandomForestClassifier()"
   ]
  },
  {
   "cell_type": "code",
   "execution_count": 47,
   "metadata": {
    "ExecuteTime": {
     "end_time": "2020-06-04T21:32:43.936291Z",
     "start_time": "2020-06-04T21:32:31.046240Z"
    }
   },
   "outputs": [
    {
     "data": {
      "text/plain": [
       "RandomForestClassifier(bootstrap=True, ccp_alpha=0.0, class_weight=None,\n",
       "                       criterion='gini', max_depth=None, max_features='auto',\n",
       "                       max_leaf_nodes=None, max_samples=None,\n",
       "                       min_impurity_decrease=0.0, min_impurity_split=None,\n",
       "                       min_samples_leaf=1, min_samples_split=2,\n",
       "                       min_weight_fraction_leaf=0.0, n_estimators=100,\n",
       "                       n_jobs=None, oob_score=False, random_state=None,\n",
       "                       verbose=0, warm_start=False)"
      ]
     },
     "execution_count": 47,
     "metadata": {},
     "output_type": "execute_result"
    }
   ],
   "source": [
    "rf.fit(X_train, y_train)"
   ]
  },
  {
   "cell_type": "code",
   "execution_count": 48,
   "metadata": {
    "ExecuteTime": {
     "end_time": "2020-06-04T21:32:44.237637Z",
     "start_time": "2020-06-04T21:32:43.940801Z"
    }
   },
   "outputs": [],
   "source": [
    "y_pred = rf.predict(X_test)"
   ]
  },
  {
   "cell_type": "code",
   "execution_count": 49,
   "metadata": {
    "ExecuteTime": {
     "end_time": "2020-06-04T21:32:44.252474Z",
     "start_time": "2020-06-04T21:32:44.242160Z"
    }
   },
   "outputs": [],
   "source": [
    "# Lines added to try and deal with upstrea issues....\n",
    "#y_pred = y_pred.reshape(-1,1)\n",
    "#y_pred.shape"
   ]
  },
  {
   "cell_type": "code",
   "execution_count": 50,
   "metadata": {
    "ExecuteTime": {
     "end_time": "2020-06-04T21:32:44.351461Z",
     "start_time": "2020-06-04T21:32:44.257818Z"
    }
   },
   "outputs": [
    {
     "name": "stdout",
     "output_type": "stream",
     "text": [
      "Accuracy: 0.557\n"
     ]
    }
   ],
   "source": [
    "print(\"Accuracy:\",round(metrics.accuracy_score(y_test, y_pred), 3))"
   ]
  },
  {
   "cell_type": "code",
   "execution_count": 51,
   "metadata": {
    "ExecuteTime": {
     "end_time": "2020-06-04T21:32:44.452955Z",
     "start_time": "2020-06-04T21:32:44.358642Z"
    }
   },
   "outputs": [
    {
     "data": {
      "text/html": [
       "<div>\n",
       "<style scoped>\n",
       "    .dataframe tbody tr th:only-of-type {\n",
       "        vertical-align: middle;\n",
       "    }\n",
       "\n",
       "    .dataframe tbody tr th {\n",
       "        vertical-align: top;\n",
       "    }\n",
       "\n",
       "    .dataframe thead th {\n",
       "        text-align: right;\n",
       "    }\n",
       "</style>\n",
       "<table border=\"1\" class=\"dataframe\">\n",
       "  <thead>\n",
       "    <tr style=\"text-align: right;\">\n",
       "      <th>Predicted Result</th>\n",
       "      <th>False</th>\n",
       "      <th>True</th>\n",
       "    </tr>\n",
       "    <tr>\n",
       "      <th>Actual Result</th>\n",
       "      <th></th>\n",
       "      <th></th>\n",
       "    </tr>\n",
       "  </thead>\n",
       "  <tbody>\n",
       "    <tr>\n",
       "      <th>False</th>\n",
       "      <td>905</td>\n",
       "      <td>1386</td>\n",
       "    </tr>\n",
       "    <tr>\n",
       "      <th>True</th>\n",
       "      <td>768</td>\n",
       "      <td>1801</td>\n",
       "    </tr>\n",
       "  </tbody>\n",
       "</table>\n",
       "</div>"
      ],
      "text/plain": [
       "Predicted Result  False  True \n",
       "Actual Result                 \n",
       "False               905   1386\n",
       "True                768   1801"
      ]
     },
     "execution_count": 51,
     "metadata": {},
     "output_type": "execute_result"
    }
   ],
   "source": [
    "# True indicates that the Home TEAM WON, \n",
    "pd.crosstab(y_test, y_pred, rownames=['Actual Result'], colnames=['Predicted Result'])"
   ]
  },
  {
   "cell_type": "code",
   "execution_count": 52,
   "metadata": {
    "ExecuteTime": {
     "end_time": "2020-06-04T21:32:44.490202Z",
     "start_time": "2020-06-04T21:32:44.458611Z"
    },
    "code_folding": [
     0
    ]
   },
   "outputs": [],
   "source": [
    "def plot_features_importance(model, color):\n",
    "    '''\n",
    "    A funciton to plot my feature importances\n",
    "    \n",
    "    parameter:\n",
    "    model - the variable that we fit our model to. i.e. RF = RandomForest()\n",
    "    color - a string that will assign the graphs color scheme\n",
    "    \n",
    "    ex: rf = RandomForestClassifier()\n",
    "    model = rf\n",
    "    \n",
    "    returns:\n",
    "    a plot highlighting feature importance\n",
    "    '''\n",
    "    model.feature_importances_\n",
    "    importances = pd.Series(data=model.feature_importances_, index= X_train.columns)\n",
    "    importances_sorted = importances.sort_values()\n",
    "    importances_sorted.plot(kind='barh', color=color, figsize=(15,10))"
   ]
  },
  {
   "cell_type": "code",
   "execution_count": 53,
   "metadata": {
    "ExecuteTime": {
     "end_time": "2020-06-04T21:32:46.060906Z",
     "start_time": "2020-06-04T21:32:44.497455Z"
    }
   },
   "outputs": [
    {
     "data": {
      "image/png": "[encoded data removed]",
      "text/plain": [
       "<Figure size 1080x720 with 1 Axes>"
      ]
     },
     "metadata": {
      "needs_background": "light"
     },
     "output_type": "display_data"
    }
   ],
   "source": [
    "plot_features_importance(rf, \"red\")"
   ]
  },
  {
   "cell_type": "markdown",
   "metadata": {},
   "source": [
    "## Trying to create a tweaked split function to train on 2 seasons at a time, then predict on the next season..."
   ]
  },
  {
   "cell_type": "code",
   "execution_count": 54,
   "metadata": {
    "ExecuteTime": {
     "end_time": "2020-06-04T21:32:46.069948Z",
     "start_time": "2020-06-04T21:32:46.063392Z"
    },
    "code_folding": [
     0
    ]
   },
   "outputs": [],
   "source": [
    "# def my_train_test_split_tweaked(X, y, start_year, end_year):\n",
    "#     '''\n",
    "#     creating a custom train_test_split in order to split data by seasons\n",
    "#     i.e.\n",
    "#     - train on 2010-2016 seasons\n",
    "#     - test on 2018-2019 seasons\n",
    "    \n",
    "#     Parameters:\n",
    "#     X: features\n",
    "#     y: target value\n",
    "    \n",
    "#     returns:\n",
    "#     X_train, X_test, y_train, y_test\n",
    "#     '''\n",
    "#     # There are objects in the DF that need to be numeric values\n",
    "#     # obj_lst = ['winningPercentage_x','runsScoredPer9_x','hitsPer9_x','strikeoutsPer9_x','baseOnBallsPer9_x','homeRunsPer9_x','era_x','whip_x','winningPercentage_y','runsScoredPer9_y','hitsPer9_y','strikeoutsPer9_y','baseOnBallsPer9_y','homeRunsPer9_y','era_y','whip_y']\n",
    "\n",
    "#     # Getting X values to_numeric\n",
    "#     X = X.apply(pd.to_numeric, errors='coerce')\n",
    "#     X.fillna(value = -1, inplace=True)\n",
    "    \n",
    "#     # Indexing the dataframes in order to test on single years vs multiple\n",
    "#     X = X.loc[X['current_year'] <= end_year+2]\n",
    "#     y = y.loc[y['current_year'] <= end_year+2]\n",
    "#     y = y.drop('current_year', axis=1)\n",
    "    \n",
    "#     # Setting up how to break up seasons by years\n",
    "#     years = np.arange(start_year, end_year+1)\n",
    "#     mask = game_df['current_year'].isin(years)\n",
    "    \n",
    "#     # Splitting between the training & testing sets\n",
    "#     X_train = X[mask]\n",
    "#     X_test = X[~mask]\n",
    "#     y_train = y[mask]\n",
    "#     y_test = y[~mask]\n",
    "\n",
    "#     return X_train, X_test, y_train, y_test"
   ]
  },
  {
   "cell_type": "code",
   "execution_count": 55,
   "metadata": {
    "ExecuteTime": {
     "end_time": "2020-06-04T21:32:46.081982Z",
     "start_time": "2020-06-04T21:32:46.073703Z"
    }
   },
   "outputs": [],
   "source": [
    "# my_train_test_split_tweaked(X, y, 2010, 2011)"
   ]
  },
  {
   "cell_type": "code",
   "execution_count": 56,
   "metadata": {
    "ExecuteTime": {
     "end_time": "2020-06-04T21:32:46.126885Z",
     "start_time": "2020-06-04T21:32:46.105093Z"
    },
    "code_folding": [
     0
    ]
   },
   "outputs": [],
   "source": [
    "# def train_test_2_years_at_a_time(X, y):\n",
    "#     '''\n",
    "#     Create a funciton that will take the accuracy score from training on two seasons at \n",
    "#     a time and append it to a list to get average scores\n",
    "#     i.e: \n",
    "#     - train on '10 & '11 season, test on '12\n",
    "#     - train on '11 & '12 season, test on '13\n",
    "#     - keep iterating until testing on '19 season\n",
    "    \n",
    "#     Parameters:\n",
    "#     X: features\n",
    "#     y: target value\n",
    "    \n",
    "#     return:\n",
    "#     accuracy_scores\n",
    "#     '''\n",
    "#     years = np.arange(2010,2020)\n",
    "    \n",
    "#     X = X.loc[]\n",
    "    \n",
    "#     accuracy_scores = []\n",
    "#     rf = RandomForestClassifier()\n",
    "#     for x in years:\n",
    "        \n",
    "#         X_train, X_test, y_train, y_test = my_train_test_split_tweaked(X, y, start_year, end_year)\n",
    "        \n",
    "#         rf.fit(X_train, y_train)\n",
    "#         y_pred = rf.predict(X_test)\n",
    "#         acc_score = metrics.accuracy_score(y_test, y_pred)\n",
    "#         accuracy_scores.append(acc_score)\n",
    "#     return accuracy_scores"
   ]
  },
  {
   "cell_type": "code",
   "execution_count": 57,
   "metadata": {
    "ExecuteTime": {
     "end_time": "2020-06-04T21:32:46.136047Z",
     "start_time": "2020-06-04T21:32:46.131792Z"
    }
   },
   "outputs": [],
   "source": [
    "# train_test_2_years_at_a_time(X, y)"
   ]
  },
  {
   "cell_type": "markdown",
   "metadata": {},
   "source": [
    "## Adding a rolling 7-day average for teams:\n",
    "- Batting averages ( sum(Hits) / sum(AtBats) )\n",
    "    - DONE!!! \n",
    "- LOB averages ( sum(LOB) / sum(AtBats + BB + IBB + HBP) ) # denom is sum of plate appearances\n",
    "- BB averages ( sum(BB + IBB + HBP) / sum(AtBats + BB + IBB + HBP) ) # denom is sum of plate appearances\n",
    "- Run averages ( sum(runs) / 7-games )\n",
    "    - DONE!!!\n",
    "- OBP averages ( sum(Hits + BB + IBB + HBP) / sum(AtBats + BB + IBB + HBP) ) # denom is sum of plate appearances\n",
    "    - DONE!!!"
   ]
  },
  {
   "cell_type": "markdown",
   "metadata": {},
   "source": [
    "## Create Home & Away OBP stats"
   ]
  },
  {
   "cell_type": "code",
   "execution_count": 58,
   "metadata": {
    "ExecuteTime": {
     "end_time": "2020-06-04T21:32:46.261078Z",
     "start_time": "2020-06-04T21:32:46.153664Z"
    }
   },
   "outputs": [],
   "source": [
    "game_df['Visitor_OBP'] = round((game_df['VisitorH'] + game_df['VisitorHBP'] + game_df['VisitorIBB'] + game_df['VisitorBB']) / (game_df['VisitorAB'] + game_df['VisitorHBP'] + game_df['VisitorIBB'] + game_df['VisitorBB']), 3)\n",
    "game_df['Home_OBP'] = round((game_df['HomeH'] + game_df['HomeHBP'] + game_df['HomeIBB'] + game_df['HomeBB']) / (game_df['HomeAB'] + game_df['HomeHBP'] + game_df['HomeIBB'] + game_df['HomeBB']), 3)"
   ]
  },
  {
   "cell_type": "markdown",
   "metadata": {},
   "source": [
    "## Create Home & Away 3d & 7d OBP trends"
   ]
  },
  {
   "cell_type": "code",
   "execution_count": 59,
   "metadata": {
    "ExecuteTime": {
     "end_time": "2020-06-04T21:32:49.557971Z",
     "start_time": "2020-06-04T21:32:46.269064Z"
    }
   },
   "outputs": [],
   "source": [
    "game_df['3d_homeOBP_avg'] = game_df.groupby(['current_year', 'HomeTeam'])['Home_OBP'].transform(lambda x: round(x.rolling(3).mean().shift(periods=1, axis=0), 3))\n",
    "game_df['7d_homeOBP_avg'] = game_df.groupby(['current_year', 'HomeTeam'])['Home_OBP'].transform(lambda x: round(x.rolling(7).mean().shift(periods=1, axis=0), 3))\n",
    "game_df['3d_visitorOBP_avg'] = game_df.groupby(['current_year', 'VisitingTeam'])['Visitor_OBP'].transform(lambda x: round(x.rolling(3).mean().shift(periods=1, axis=0), 3))\n",
    "game_df['7d_visitorOBP_avg'] = game_df.groupby(['current_year', 'VisitingTeam'])['Visitor_OBP'].transform(lambda x: round(x.rolling(7).mean().shift(periods=1, axis=0), 3))"
   ]
  },
  {
   "cell_type": "markdown",
   "metadata": {},
   "source": [
    "## Create Home & Away 3d & 7d scoring trends"
   ]
  },
  {
   "cell_type": "code",
   "execution_count": 60,
   "metadata": {
    "ExecuteTime": {
     "end_time": "2020-06-04T21:32:52.359408Z",
     "start_time": "2020-06-04T21:32:49.560598Z"
    },
    "scrolled": true
   },
   "outputs": [],
   "source": [
    "game_df['3d_homescore_avg'] = game_df.groupby(['current_year', 'HomeTeam'])['HomeRunsScore'].transform(lambda x: round(x.rolling(3).mean().shift(periods=1, axis=0), 3))\n",
    "game_df['7d_homescore_avg'] = game_df.groupby(['current_year', 'HomeTeam'])['HomeRunsScore'].transform(lambda x: round(x.rolling(7).mean().shift(periods=1, axis=0), 3))\n",
    "game_df['3d_visitorscore_avg'] = game_df.groupby(['current_year', 'VisitingTeam'])['VisitorRunsScored'].transform(lambda x: round(x.rolling(3).mean().shift(periods=1, axis=0), 3))\n",
    "game_df['7d_visitorscore_avg'] = game_df.groupby(['current_year', 'VisitingTeam'])['VisitorRunsScored'].transform(lambda x: round(x.rolling(7).mean().shift(periods=1, axis=0), 3))"
   ]
  },
  {
   "cell_type": "markdown",
   "metadata": {},
   "source": [
    "## Create Home & Away 3d & 7d Batting Average trends"
   ]
  },
  {
   "cell_type": "code",
   "execution_count": 61,
   "metadata": {
    "ExecuteTime": {
     "end_time": "2020-06-04T21:32:54.563946Z",
     "start_time": "2020-06-04T21:32:52.362732Z"
    }
   },
   "outputs": [],
   "source": [
    "game_df['3d_homeBA'] = game_df.groupby(['current_year', 'HomeTeam'])['Home_BA'].transform(lambda x: round(x.rolling(3).mean().shift(periods=1, axis=0), 3))\n",
    "game_df['7d_homeBA'] = game_df.groupby(['current_year', 'HomeTeam'])['Home_BA'].transform(lambda x: round(x.rolling(7).mean().shift(periods=1, axis=0), 3))\n",
    "game_df['3d_visitorBA'] = game_df.groupby(['current_year', 'VisitingTeam'])['Visitor_BA'].transform(lambda x: round(x.rolling(3).mean().shift(periods=1, axis=0), 3))\n",
    "game_df['7d_visitorBA'] = game_df.groupby(['current_year', 'VisitingTeam'])['Visitor_BA'].transform(lambda x: round(x.rolling(7).mean().shift(periods=1, axis=0), 3))"
   ]
  },
  {
   "cell_type": "markdown",
   "metadata": {},
   "source": [
    "#### Seems like everything worked... now to train and test different models with the additional engineered features"
   ]
  },
  {
   "cell_type": "code",
   "execution_count": 62,
   "metadata": {
    "ExecuteTime": {
     "end_time": "2020-06-04T21:32:54.587084Z",
     "start_time": "2020-06-04T21:32:54.573906Z"
    },
    "code_folding": [
     0
    ]
   },
   "outputs": [],
   "source": [
    "# Created a 2nd drop_lst2 to take out additional columns that were created.\n",
    "drop_lst2 = ['New_Date',\n",
    "'VisitingTeam',\n",
    "'VisitorStartingPitcherName',\n",
    "'HomeTeam',\n",
    "'HomeStartingPitcherName',\n",
    "'VisitorRunsScored', \n",
    "'HomeRunsScore', \n",
    "'Home_team_won?', \n",
    "'VisitorAB',\n",
    "'VisitorH',\n",
    "'Visitor_BA',\n",
    "'VisitorHBP',\n",
    "'VisitorBB',\n",
    "'VisitorIBB',\n",
    "'VisitorLOB',\n",
    "'HomeAB',\n",
    "'HomeH',\n",
    "'Home_BA',\n",
    "'HomeHBP',\n",
    "'HomeBB',\n",
    "'HomeIBB',\n",
    "'HomeLOB',\n",
    "'playerName_x',\n",
    "'teamAbbrev_x',\n",
    "'playerName_y',\n",
    "'teamAbbrev_y',\n",
    "'teamAbbrev_x',\n",
    "'teamAbbrev_y',\n",
    "'year_x',\n",
    "'year_y',\n",
    "'prior_year',\n",
    "'Visitor_OBP',\n",
    "'Home_OBP']"
   ]
  },
  {
   "cell_type": "code",
   "execution_count": 63,
   "metadata": {
    "ExecuteTime": {
     "end_time": "2020-06-04T21:32:54.665483Z",
     "start_time": "2020-06-04T21:32:54.593883Z"
    }
   },
   "outputs": [],
   "source": [
    "y = game_df['Home_team_won?']"
   ]
  },
  {
   "cell_type": "code",
   "execution_count": 64,
   "metadata": {
    "ExecuteTime": {
     "end_time": "2020-06-04T21:32:54.729430Z",
     "start_time": "2020-06-04T21:32:54.684626Z"
    }
   },
   "outputs": [],
   "source": [
    "X = game_df.drop(drop_lst2, axis=1)"
   ]
  },
  {
   "cell_type": "code",
   "execution_count": 65,
   "metadata": {
    "ExecuteTime": {
     "end_time": "2020-06-04T21:32:54.790730Z",
     "start_time": "2020-06-04T21:32:54.753751Z"
    }
   },
   "outputs": [
    {
     "data": {
      "text/plain": [
       "Index(['winningPercentage_x', 'runsScoredPer9_x', 'hitsPer9_x',\n",
       "       'strikeoutsPer9_x', 'baseOnBallsPer9_x', 'homeRunsPer9_x', 'era_x',\n",
       "       'whip_x', 'ops_x', 'gidp_x', 'avg_x', 'winningPercentage_y',\n",
       "       'runsScoredPer9_y', 'hitsPer9_y', 'strikeoutsPer9_y',\n",
       "       'baseOnBallsPer9_y', 'homeRunsPer9_y', 'era_y', 'whip_y', 'ops_y',\n",
       "       'gidp_y', 'avg_y', 'hits_x', 'team_BA_x', 'totalBases_x',\n",
       "       'total_bases_avg_x', 'leftOnBase_x', 'LOB_avg_x', 'runs_x',\n",
       "       'runs_avg_x', 'strikeOuts_x', 'atBats_x', 'K_avg_x', 'baseOnBalls_x',\n",
       "       'BB_avg_x', 'rbi_x', 'RBI_avg_x', 'hits_y', 'team_BA_y', 'totalBases_y',\n",
       "       'total_bases_avg_y', 'leftOnBase_y', 'LOB_avg_y', 'runs_y',\n",
       "       'runs_avg_y', 'strikeOuts_y', 'atBats_y', 'K_avg_y', 'baseOnBalls_y',\n",
       "       'BB_avg_y', 'rbi_y', 'RBI_avg_y', 'current_year', '3d_homeOBP_avg',\n",
       "       '7d_homeOBP_avg', '3d_visitorOBP_avg', '7d_visitorOBP_avg',\n",
       "       '3d_homescore_avg', '7d_homescore_avg', '3d_visitorscore_avg',\n",
       "       '7d_visitorscore_avg', '3d_homeBA', '7d_homeBA', '3d_visitorBA',\n",
       "       '7d_visitorBA'],\n",
       "      dtype='object')"
      ]
     },
     "execution_count": 65,
     "metadata": {},
     "output_type": "execute_result"
    }
   ],
   "source": [
    "X.columns"
   ]
  },
  {
   "cell_type": "code",
   "execution_count": 66,
   "metadata": {
    "ExecuteTime": {
     "end_time": "2020-06-04T21:32:55.419276Z",
     "start_time": "2020-06-04T21:32:54.795011Z"
    }
   },
   "outputs": [],
   "source": [
    "X_train, X_test, y_train, y_test = my_train_test_split(X, y, 2010, 2017)"
   ]
  },
  {
   "cell_type": "code",
   "execution_count": 67,
   "metadata": {
    "ExecuteTime": {
     "end_time": "2020-06-04T21:32:55.477910Z",
     "start_time": "2020-06-04T21:32:55.439450Z"
    }
   },
   "outputs": [],
   "source": [
    "rf2 = RandomForestClassifier()"
   ]
  },
  {
   "cell_type": "code",
   "execution_count": 68,
   "metadata": {
    "ExecuteTime": {
     "end_time": "2020-06-04T21:33:08.317711Z",
     "start_time": "2020-06-04T21:32:55.486179Z"
    }
   },
   "outputs": [
    {
     "data": {
      "text/plain": [
       "RandomForestClassifier(bootstrap=True, ccp_alpha=0.0, class_weight=None,\n",
       "                       criterion='gini', max_depth=None, max_features='auto',\n",
       "                       max_leaf_nodes=None, max_samples=None,\n",
       "                       min_impurity_decrease=0.0, min_impurity_split=None,\n",
       "                       min_samples_leaf=1, min_samples_split=2,\n",
       "                       min_weight_fraction_leaf=0.0, n_estimators=100,\n",
       "                       n_jobs=None, oob_score=False, random_state=None,\n",
       "                       verbose=0, warm_start=False)"
      ]
     },
     "execution_count": 68,
     "metadata": {},
     "output_type": "execute_result"
    }
   ],
   "source": [
    "rf2.fit(X_train, y_train)"
   ]
  },
  {
   "cell_type": "code",
   "execution_count": 69,
   "metadata": {
    "ExecuteTime": {
     "end_time": "2020-06-04T21:33:08.621972Z",
     "start_time": "2020-06-04T21:33:08.322864Z"
    }
   },
   "outputs": [],
   "source": [
    "y_pred = rf2.predict(X_test)"
   ]
  },
  {
   "cell_type": "code",
   "execution_count": 70,
   "metadata": {
    "ExecuteTime": {
     "end_time": "2020-06-04T21:33:08.669161Z",
     "start_time": "2020-06-04T21:33:08.624304Z"
    }
   },
   "outputs": [
    {
     "name": "stdout",
     "output_type": "stream",
     "text": [
      "Accuracy: 0.55\n"
     ]
    }
   ],
   "source": [
    "print(\"Accuracy:\",round(metrics.accuracy_score(y_test, y_pred), 3))"
   ]
  },
  {
   "cell_type": "code",
   "execution_count": 71,
   "metadata": {
    "ExecuteTime": {
     "end_time": "2020-06-04T21:33:08.771154Z",
     "start_time": "2020-06-04T21:33:08.685345Z"
    }
   },
   "outputs": [
    {
     "data": {
      "text/html": [
       "<div>\n",
       "<style scoped>\n",
       "    .dataframe tbody tr th:only-of-type {\n",
       "        vertical-align: middle;\n",
       "    }\n",
       "\n",
       "    .dataframe tbody tr th {\n",
       "        vertical-align: top;\n",
       "    }\n",
       "\n",
       "    .dataframe thead th {\n",
       "        text-align: right;\n",
       "    }\n",
       "</style>\n",
       "<table border=\"1\" class=\"dataframe\">\n",
       "  <thead>\n",
       "    <tr style=\"text-align: right;\">\n",
       "      <th>Predicted Result</th>\n",
       "      <th>False</th>\n",
       "      <th>True</th>\n",
       "    </tr>\n",
       "    <tr>\n",
       "      <th>Actual Result</th>\n",
       "      <th></th>\n",
       "      <th></th>\n",
       "    </tr>\n",
       "  </thead>\n",
       "  <tbody>\n",
       "    <tr>\n",
       "      <th>False</th>\n",
       "      <td>882</td>\n",
       "      <td>1409</td>\n",
       "    </tr>\n",
       "    <tr>\n",
       "      <th>True</th>\n",
       "      <td>777</td>\n",
       "      <td>1792</td>\n",
       "    </tr>\n",
       "  </tbody>\n",
       "</table>\n",
       "</div>"
      ],
      "text/plain": [
       "Predicted Result  False  True \n",
       "Actual Result                 \n",
       "False               882   1409\n",
       "True                777   1792"
      ]
     },
     "execution_count": 71,
     "metadata": {},
     "output_type": "execute_result"
    }
   ],
   "source": [
    "pd.crosstab(y_test, y_pred, rownames=['Actual Result'], colnames=['Predicted Result'])"
   ]
  },
  {
   "cell_type": "code",
   "execution_count": 72,
   "metadata": {
    "ExecuteTime": {
     "end_time": "2020-06-04T21:33:10.424520Z",
     "start_time": "2020-06-04T21:33:08.783549Z"
    },
    "collapsed": true
   },
   "outputs": [
    {
     "data": {
      "image/png": "[encoded data removed]",
      "text/plain": [
       "<Figure size 1080x720 with 1 Axes>"
      ]
     },
     "metadata": {
      "needs_background": "light"
     },
     "output_type": "display_data"
    }
   ],
   "source": [
    "plot_features_importance(rf2, \"blue\")"
   ]
  },
  {
   "cell_type": "markdown",
   "metadata": {},
   "source": [
    "# RandomForestClassifier seems to be working well with the new features that were added. Going to try out other models for comaprisons\n",
    "- GradientBoostingClassifier\n",
    "- AdaBoostClassifier"
   ]
  },
  {
   "cell_type": "markdown",
   "metadata": {},
   "source": [
    "## Create a Train/Test split for the new models to leverage"
   ]
  },
  {
   "cell_type": "code",
   "execution_count": 73,
   "metadata": {
    "ExecuteTime": {
     "end_time": "2020-06-04T21:33:10.858401Z",
     "start_time": "2020-06-04T21:33:10.427059Z"
    }
   },
   "outputs": [],
   "source": [
    "X_train, X_test, y_train, y_test = my_train_test_split(X, y, 2010, 2017)"
   ]
  },
  {
   "cell_type": "markdown",
   "metadata": {},
   "source": [
    "## GradientBoostingClassifier"
   ]
  },
  {
   "cell_type": "code",
   "execution_count": 74,
   "metadata": {
    "ExecuteTime": {
     "end_time": "2020-06-04T21:33:10.885069Z",
     "start_time": "2020-06-04T21:33:10.861326Z"
    }
   },
   "outputs": [],
   "source": [
    "gbc = GradientBoostingClassifier()"
   ]
  },
  {
   "cell_type": "code",
   "execution_count": 75,
   "metadata": {
    "ExecuteTime": {
     "end_time": "2020-06-04T21:33:35.409637Z",
     "start_time": "2020-06-04T21:33:10.892345Z"
    },
    "collapsed": true
   },
   "outputs": [
    {
     "data": {
      "text/plain": [
       "GradientBoostingClassifier(ccp_alpha=0.0, criterion='friedman_mse', init=None,\n",
       "                           learning_rate=0.1, loss='deviance', max_depth=3,\n",
       "                           max_features=None, max_leaf_nodes=None,\n",
       "                           min_impurity_decrease=0.0, min_impurity_split=None,\n",
       "                           min_samples_leaf=1, min_samples_split=2,\n",
       "                           min_weight_fraction_leaf=0.0, n_estimators=100,\n",
       "                           n_iter_no_change=None, presort='deprecated',\n",
       "                           random_state=None, subsample=1.0, tol=0.0001,\n",
       "                           validation_fraction=0.1, verbose=0,\n",
       "                           warm_start=False)"
      ]
     },
     "execution_count": 75,
     "metadata": {},
     "output_type": "execute_result"
    }
   ],
   "source": [
    "gbc.fit(X_train, y_train)"
   ]
  },
  {
   "cell_type": "code",
   "execution_count": 76,
   "metadata": {
    "ExecuteTime": {
     "end_time": "2020-06-04T21:33:35.488566Z",
     "start_time": "2020-06-04T21:33:35.416525Z"
    }
   },
   "outputs": [],
   "source": [
    "y_pred = gbc.predict(X_test)"
   ]
  },
  {
   "cell_type": "code",
   "execution_count": 77,
   "metadata": {
    "ExecuteTime": {
     "end_time": "2020-06-04T21:33:35.518382Z",
     "start_time": "2020-06-04T21:33:35.502139Z"
    }
   },
   "outputs": [
    {
     "name": "stdout",
     "output_type": "stream",
     "text": [
      "Accuracy: 0.568\n"
     ]
    }
   ],
   "source": [
    "print(\"Accuracy:\",round(metrics.accuracy_score(y_test, y_pred), 3))"
   ]
  },
  {
   "cell_type": "code",
   "execution_count": 78,
   "metadata": {
    "ExecuteTime": {
     "end_time": "2020-06-04T21:33:35.741118Z",
     "start_time": "2020-06-04T21:33:35.550957Z"
    }
   },
   "outputs": [
    {
     "data": {
      "text/html": [
       "<div>\n",
       "<style scoped>\n",
       "    .dataframe tbody tr th:only-of-type {\n",
       "        vertical-align: middle;\n",
       "    }\n",
       "\n",
       "    .dataframe tbody tr th {\n",
       "        vertical-align: top;\n",
       "    }\n",
       "\n",
       "    .dataframe thead th {\n",
       "        text-align: right;\n",
       "    }\n",
       "</style>\n",
       "<table border=\"1\" class=\"dataframe\">\n",
       "  <thead>\n",
       "    <tr style=\"text-align: right;\">\n",
       "      <th>Predicted Result</th>\n",
       "      <th>False</th>\n",
       "      <th>True</th>\n",
       "    </tr>\n",
       "    <tr>\n",
       "      <th>Actual Result</th>\n",
       "      <th></th>\n",
       "      <th></th>\n",
       "    </tr>\n",
       "  </thead>\n",
       "  <tbody>\n",
       "    <tr>\n",
       "      <th>False</th>\n",
       "      <td>868</td>\n",
       "      <td>1423</td>\n",
       "    </tr>\n",
       "    <tr>\n",
       "      <th>True</th>\n",
       "      <td>678</td>\n",
       "      <td>1891</td>\n",
       "    </tr>\n",
       "  </tbody>\n",
       "</table>\n",
       "</div>"
      ],
      "text/plain": [
       "Predicted Result  False  True \n",
       "Actual Result                 \n",
       "False               868   1423\n",
       "True                678   1891"
      ]
     },
     "execution_count": 78,
     "metadata": {},
     "output_type": "execute_result"
    }
   ],
   "source": [
    "pd.crosstab(y_test, y_pred, rownames=['Actual Result'], colnames=['Predicted Result'])"
   ]
  },
  {
   "cell_type": "code",
   "execution_count": 79,
   "metadata": {
    "ExecuteTime": {
     "end_time": "2020-06-04T21:33:38.192905Z",
     "start_time": "2020-06-04T21:33:35.745042Z"
    },
    "collapsed": true
   },
   "outputs": [
    {
     "data": {
      "image/png": "[encoded data removed]",
      "text/plain": [
       "<Figure size 1080x720 with 1 Axes>"
      ]
     },
     "metadata": {
      "needs_background": "light"
     },
     "output_type": "display_data"
    }
   ],
   "source": [
    "plot_features_importance(gbc, \"purple\")"
   ]
  },
  {
   "cell_type": "markdown",
   "metadata": {},
   "source": [
    "## AdaBoostClassifier"
   ]
  },
  {
   "cell_type": "code",
   "execution_count": 80,
   "metadata": {
    "ExecuteTime": {
     "end_time": "2020-06-04T21:33:38.222415Z",
     "start_time": "2020-06-04T21:33:38.210998Z"
    }
   },
   "outputs": [],
   "source": [
    "abc = AdaBoostClassifier()"
   ]
  },
  {
   "cell_type": "code",
   "execution_count": 81,
   "metadata": {
    "ExecuteTime": {
     "end_time": "2020-06-04T21:33:43.122157Z",
     "start_time": "2020-06-04T21:33:38.243183Z"
    }
   },
   "outputs": [
    {
     "data": {
      "text/plain": [
       "AdaBoostClassifier(algorithm='SAMME.R', base_estimator=None, learning_rate=1.0,\n",
       "                   n_estimators=50, random_state=None)"
      ]
     },
     "execution_count": 81,
     "metadata": {},
     "output_type": "execute_result"
    }
   ],
   "source": [
    "abc.fit(X_train, y_train)"
   ]
  },
  {
   "cell_type": "code",
   "execution_count": 82,
   "metadata": {
    "ExecuteTime": {
     "end_time": "2020-06-04T21:33:43.266261Z",
     "start_time": "2020-06-04T21:33:43.125001Z"
    }
   },
   "outputs": [],
   "source": [
    "y_pred = abc.predict(X_test)"
   ]
  },
  {
   "cell_type": "code",
   "execution_count": 83,
   "metadata": {
    "ExecuteTime": {
     "end_time": "2020-06-04T21:33:43.305705Z",
     "start_time": "2020-06-04T21:33:43.268698Z"
    }
   },
   "outputs": [
    {
     "name": "stdout",
     "output_type": "stream",
     "text": [
      "Accuracy: 0.554\n"
     ]
    }
   ],
   "source": [
    "print(\"Accuracy:\",round(metrics.accuracy_score(y_test, y_pred), 3))"
   ]
  },
  {
   "cell_type": "code",
   "execution_count": 84,
   "metadata": {
    "ExecuteTime": {
     "end_time": "2020-06-04T21:33:43.369276Z",
     "start_time": "2020-06-04T21:33:43.309581Z"
    }
   },
   "outputs": [
    {
     "data": {
      "text/html": [
       "<div>\n",
       "<style scoped>\n",
       "    .dataframe tbody tr th:only-of-type {\n",
       "        vertical-align: middle;\n",
       "    }\n",
       "\n",
       "    .dataframe tbody tr th {\n",
       "        vertical-align: top;\n",
       "    }\n",
       "\n",
       "    .dataframe thead th {\n",
       "        text-align: right;\n",
       "    }\n",
       "</style>\n",
       "<table border=\"1\" class=\"dataframe\">\n",
       "  <thead>\n",
       "    <tr style=\"text-align: right;\">\n",
       "      <th>Predicted Result</th>\n",
       "      <th>False</th>\n",
       "      <th>True</th>\n",
       "    </tr>\n",
       "    <tr>\n",
       "      <th>Actual Result</th>\n",
       "      <th></th>\n",
       "      <th></th>\n",
       "    </tr>\n",
       "  </thead>\n",
       "  <tbody>\n",
       "    <tr>\n",
       "      <th>False</th>\n",
       "      <td>954</td>\n",
       "      <td>1337</td>\n",
       "    </tr>\n",
       "    <tr>\n",
       "      <th>True</th>\n",
       "      <td>830</td>\n",
       "      <td>1739</td>\n",
       "    </tr>\n",
       "  </tbody>\n",
       "</table>\n",
       "</div>"
      ],
      "text/plain": [
       "Predicted Result  False  True \n",
       "Actual Result                 \n",
       "False               954   1337\n",
       "True                830   1739"
      ]
     },
     "execution_count": 84,
     "metadata": {},
     "output_type": "execute_result"
    }
   ],
   "source": [
    "pd.crosstab(y_test, y_pred, rownames=['Actual Result'], colnames=['Predicted Result'])"
   ]
  },
  {
   "cell_type": "code",
   "execution_count": 85,
   "metadata": {
    "ExecuteTime": {
     "end_time": "2020-06-04T21:33:45.068171Z",
     "start_time": "2020-06-04T21:33:43.374193Z"
    },
    "collapsed": true
   },
   "outputs": [
    {
     "data": {
      "image/png": "[encoded data removed]",
      "text/plain": [
       "<Figure size 1080x720 with 1 Axes>"
      ]
     },
     "metadata": {
      "needs_background": "light"
     },
     "output_type": "display_data"
    }
   ],
   "source": [
    "plot_features_importance(gbc, \"green\")"
   ]
  },
  {
   "cell_type": "code",
   "execution_count": 92,
   "metadata": {
    "ExecuteTime": {
     "end_time": "2020-06-04T21:38:56.990624Z",
     "start_time": "2020-06-04T21:38:56.909147Z"
    }
   },
   "outputs": [
    {
     "data": {
      "text/html": [
       "<div>\n",
       "<style scoped>\n",
       "    .dataframe tbody tr th:only-of-type {\n",
       "        vertical-align: middle;\n",
       "    }\n",
       "\n",
       "    .dataframe tbody tr th {\n",
       "        vertical-align: top;\n",
       "    }\n",
       "\n",
       "    .dataframe thead th {\n",
       "        text-align: right;\n",
       "    }\n",
       "</style>\n",
       "<table border=\"1\" class=\"dataframe\">\n",
       "  <thead>\n",
       "    <tr style=\"text-align: right;\">\n",
       "      <th></th>\n",
       "      <th>VisitorRunsScored</th>\n",
       "      <th>3d_visitorscore_avg</th>\n",
       "      <th>7d_visitorscore_avg</th>\n",
       "    </tr>\n",
       "  </thead>\n",
       "  <tbody>\n",
       "    <tr>\n",
       "      <th>0</th>\n",
       "      <td>7</td>\n",
       "      <td>NaN</td>\n",
       "      <td>NaN</td>\n",
       "    </tr>\n",
       "    <tr>\n",
       "      <th>15</th>\n",
       "      <td>6</td>\n",
       "      <td>NaN</td>\n",
       "      <td>NaN</td>\n",
       "    </tr>\n",
       "    <tr>\n",
       "      <th>22</th>\n",
       "      <td>3</td>\n",
       "      <td>NaN</td>\n",
       "      <td>NaN</td>\n",
       "    </tr>\n",
       "    <tr>\n",
       "      <th>52</th>\n",
       "      <td>3</td>\n",
       "      <td>5.333</td>\n",
       "      <td>NaN</td>\n",
       "    </tr>\n",
       "    <tr>\n",
       "      <th>67</th>\n",
       "      <td>10</td>\n",
       "      <td>4.000</td>\n",
       "      <td>NaN</td>\n",
       "    </tr>\n",
       "    <tr>\n",
       "      <th>...</th>\n",
       "      <td>...</td>\n",
       "      <td>...</td>\n",
       "      <td>...</td>\n",
       "    </tr>\n",
       "    <tr>\n",
       "      <th>24226</th>\n",
       "      <td>1</td>\n",
       "      <td>7.333</td>\n",
       "      <td>7.714</td>\n",
       "    </tr>\n",
       "    <tr>\n",
       "      <th>24241</th>\n",
       "      <td>0</td>\n",
       "      <td>6.000</td>\n",
       "      <td>7.143</td>\n",
       "    </tr>\n",
       "    <tr>\n",
       "      <th>24267</th>\n",
       "      <td>14</td>\n",
       "      <td>1.667</td>\n",
       "      <td>5.571</td>\n",
       "    </tr>\n",
       "    <tr>\n",
       "      <th>24283</th>\n",
       "      <td>4</td>\n",
       "      <td>5.000</td>\n",
       "      <td>6.143</td>\n",
       "    </tr>\n",
       "    <tr>\n",
       "      <th>24298</th>\n",
       "      <td>1</td>\n",
       "      <td>6.000</td>\n",
       "      <td>5.857</td>\n",
       "    </tr>\n",
       "  </tbody>\n",
       "</table>\n",
       "<p>810 rows × 3 columns</p>\n",
       "</div>"
      ],
      "text/plain": [
       "       VisitorRunsScored  3d_visitorscore_avg  7d_visitorscore_avg\n",
       "0                      7                  NaN                  NaN\n",
       "15                     6                  NaN                  NaN\n",
       "22                     3                  NaN                  NaN\n",
       "52                     3                5.333                  NaN\n",
       "67                    10                4.000                  NaN\n",
       "...                  ...                  ...                  ...\n",
       "24226                  1                7.333                7.714\n",
       "24241                  0                6.000                7.143\n",
       "24267                 14                1.667                5.571\n",
       "24283                  4                5.000                6.143\n",
       "24298                  1                6.000                5.857\n",
       "\n",
       "[810 rows x 3 columns]"
      ]
     },
     "execution_count": 92,
     "metadata": {},
     "output_type": "execute_result"
    }
   ],
   "source": [
    "game_df[game_df['VisitingTeam'] == 'NYY'][['VisitorRunsScored','3d_visitorscore_avg', '7d_visitorscore_avg']]"
   ]
  },
  {
   "cell_type": "code",
   "execution_count": null,
   "metadata": {},
   "outputs": [],
   "source": []
  }
 ],
 "metadata": {
  "kernelspec": {
   "display_name": "Python 3",
   "language": "python",
   "name": "python3"
  },
  "language_info": {
   "codemirror_mode": {
    "name": "ipython",
    "version": 3
   },
   "file_extension": ".py",
   "mimetype": "text/x-python",
   "name": "python",
   "nbconvert_exporter": "python",
   "pygments_lexer": "ipython3",
   "version": "3.7.7"
  }
 },
 "nbformat": 4,
 "nbformat_minor": 4
}
