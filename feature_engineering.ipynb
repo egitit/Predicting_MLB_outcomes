{
 "cells": [
  {
   "cell_type": "code",
   "execution_count": 1,
   "metadata": {
    "ExecuteTime": {
     "end_time": "2020-06-03T20:13:05.341890Z",
     "start_time": "2020-06-03T20:13:03.986037Z"
    }
   },
   "outputs": [],
   "source": [
    "import pandas as pd\n",
    "import numpy as np"
   ]
  },
  {
   "cell_type": "code",
   "execution_count": 2,
   "metadata": {
    "ExecuteTime": {
     "end_time": "2020-06-03T20:13:05.372400Z",
     "start_time": "2020-06-03T20:13:05.350243Z"
    }
   },
   "outputs": [],
   "source": [
    "file = '/Users/Lisa/_MLB_Prediction_capstone/cleaned_batting_df.csv'\n",
    "file2 = '/Users/Lisa/_MLB_Prediction_capstone/cleaned_piching_df.csv'\n",
    "file3 = '/Users/Lisa/_MLB_Prediction_capstone/cleaned_game_df.csv'"
   ]
  },
  {
   "cell_type": "code",
   "execution_count": 3,
   "metadata": {
    "ExecuteTime": {
     "end_time": "2020-06-03T20:13:05.596787Z",
     "start_time": "2020-06-03T20:13:05.390172Z"
    }
   },
   "outputs": [],
   "source": [
    "batting_df = pd.read_csv(file)\n",
    "pitching_df = pd.read_csv(file2)\n",
    "game_df = pd.read_csv(file3)"
   ]
  },
  {
   "cell_type": "code",
   "execution_count": 4,
   "metadata": {
    "ExecuteTime": {
     "end_time": "2020-06-03T20:13:05.628090Z",
     "start_time": "2020-06-03T20:13:05.598810Z"
    }
   },
   "outputs": [],
   "source": [
    "batting_df.drop('Unnamed: 0', axis=1, inplace=True)\n",
    "pitching_df.drop('Unnamed: 0', axis=1, inplace=True)\n",
    "game_df.drop('Unnamed: 0', axis=1, inplace=True)"
   ]
  },
  {
   "cell_type": "markdown",
   "metadata": {},
   "source": [
    "## Batting Feature engineering ideas\n",
    "- All of these stats will be on a PER PLATE APPEARANCE then divide by 162 to get PER GAME STATS\n",
    "    - Team stats will be summed up and averaged - Will ultimately be compared to a teams 7 day trends history\n",
    "        - 'totalBases' / total 'plateAppearances' - DONE\n",
    "        - 'leftonbase'/ total 'plateAppearances' - DONE\n",
    "        - 'runs' / total 'plateAppearances' - DONE\n",
    "        - 'strikeOuts' / total 'atBats' - DONE\n",
    "        - 'baseOnBalls' + 'intentionalWalks' / total 'plateAppearances' - DONE\n",
    "            - 'hits' / total 'atBats' --- Leverage for game_df. get team stats per game...\n",
    "            - 'obp' / # of batters on team --- Same as above\n",
    "        - 'rbi' / total 'atBats' - DONE"
   ]
  },
  {
   "cell_type": "code",
   "execution_count": 5,
   "metadata": {
    "ExecuteTime": {
     "end_time": "2020-06-03T20:13:05.652457Z",
     "start_time": "2020-06-03T20:13:05.633148Z"
    }
   },
   "outputs": [],
   "source": [
    "# MIA & FLO are different. Standardizing to MIA\n",
    "batting_df.replace(to_replace='FLA', value='MIA', inplace=True)"
   ]
  },
  {
   "cell_type": "code",
   "execution_count": 6,
   "metadata": {
    "ExecuteTime": {
     "end_time": "2020-06-03T20:13:05.692693Z",
     "start_time": "2020-06-03T20:13:05.656935Z"
    }
   },
   "outputs": [
    {
     "data": {
      "text/plain": [
       "31"
      ]
     },
     "execution_count": 6,
     "metadata": {},
     "output_type": "execute_result"
    }
   ],
   "source": [
    "# 31 teams showing up since it seems like there are some NaN values for team names. Will deal with should it become an issue...\n",
    "len(batting_df.teamAbbrev.unique())"
   ]
  },
  {
   "cell_type": "markdown",
   "metadata": {},
   "source": [
    "### Create New Features for TEAM stats"
   ]
  },
  {
   "cell_type": "code",
   "execution_count": 7,
   "metadata": {
    "ExecuteTime": {
     "end_time": "2020-06-03T20:13:05.821769Z",
     "start_time": "2020-06-03T20:13:05.695800Z"
    },
    "code_folding": [
     0
    ]
   },
   "outputs": [],
   "source": [
    "# THIS IS THE FRAMEWORK TO GENERATE TEAM STATISTICS...\n",
    "# Creating a dataframe containing team annual Batting Averages\n",
    "a = batting_df.groupby(['year', 'teamAbbrev'])['hits'].sum()\n",
    "b = batting_df.groupby(['year', 'teamAbbrev'])['plateAppearances'].sum()\n",
    "a = a.to_frame()\n",
    "b = b.to_frame()\n",
    "BA = a.join(b, on=['year', 'teamAbbrev'])\n",
    "BA['team_BA'] = round((BA['hits']/BA['plateAppearances']), 3)\n",
    "# BA = BA.reset_index()"
   ]
  },
  {
   "cell_type": "code",
   "execution_count": 8,
   "metadata": {
    "ExecuteTime": {
     "end_time": "2020-06-03T20:13:05.881215Z",
     "start_time": "2020-06-03T20:13:05.849629Z"
    },
    "code_folding": [
     0
    ]
   },
   "outputs": [],
   "source": [
    "# Total bases per plate appearance\n",
    "# Commented out. Taking a different approach\n",
    "# batting_df['Total_bases_per_plateappearance'] = (batting_df['totalBases'] / batting_df['plateAppearances'])\n",
    "\n",
    "a = batting_df.groupby(['year', 'teamAbbrev'])['totalBases'].sum()\n",
    "b = batting_df.groupby(['year', 'teamAbbrev'])['plateAppearances'].sum()\n",
    "a = a.to_frame()\n",
    "b = b.to_frame()\n",
    "TB = a.join(b, on=['year', 'teamAbbrev'])\n",
    "TB['total_bases_avg'] = round((TB['totalBases']/TB['plateAppearances']), 3)\n",
    "# TB = TB.reset_index()"
   ]
  },
  {
   "cell_type": "code",
   "execution_count": 9,
   "metadata": {
    "ExecuteTime": {
     "end_time": "2020-06-03T20:13:05.934306Z",
     "start_time": "2020-06-03T20:13:05.896341Z"
    },
    "code_folding": [
     0
    ]
   },
   "outputs": [],
   "source": [
    "# LOB per plate appearnace\n",
    "# Commented out. Taking a different approach\n",
    "# batting_df['LOB_per_plateappearance'] = (batting_df['leftOnBase'] / batting_df['plateAppearances'])\n",
    "\n",
    "a = batting_df.groupby(['year', 'teamAbbrev'])['leftOnBase'].sum()\n",
    "b = batting_df.groupby(['year', 'teamAbbrev'])['plateAppearances'].sum()\n",
    "a = a.to_frame()\n",
    "b = b.to_frame()\n",
    "LOB = a.join(b, on=['year', 'teamAbbrev'])\n",
    "LOB['LOB_avg'] = round((LOB['leftOnBase']/LOB['plateAppearances']), 3)\n",
    "# LOB = LOB.reset_index()"
   ]
  },
  {
   "cell_type": "code",
   "execution_count": 10,
   "metadata": {
    "ExecuteTime": {
     "end_time": "2020-06-03T20:13:05.984798Z",
     "start_time": "2020-06-03T20:13:05.947388Z"
    },
    "code_folding": [
     0
    ]
   },
   "outputs": [],
   "source": [
    "# Runs per plate appearance\n",
    "# Commented out. Taking a different approach\n",
    "#batting_df['runs_per_plateappearance'] = (batting_df['runs'] / batting_df['plateAppearances'])\n",
    "\n",
    "a = batting_df.groupby(['year', 'teamAbbrev'])['runs'].sum()\n",
    "b = batting_df.groupby(['year', 'teamAbbrev'])['plateAppearances'].sum()\n",
    "a = a.to_frame()\n",
    "b = b.to_frame()\n",
    "RUNS = a.join(b, on=['year', 'teamAbbrev'])\n",
    "RUNS['runs_avg'] = round((RUNS['runs']/RUNS['plateAppearances']), 3)\n",
    "# RUNS = RUNS.reset_index()"
   ]
  },
  {
   "cell_type": "code",
   "execution_count": 11,
   "metadata": {
    "ExecuteTime": {
     "end_time": "2020-06-03T20:13:06.044933Z",
     "start_time": "2020-06-03T20:13:05.988032Z"
    },
    "code_folding": [
     0
    ]
   },
   "outputs": [],
   "source": [
    "# K's per AtBat\n",
    "# Commented out. Taking a different approach\n",
    "# batting_df['K_per_plateappearance'] = (batting_df['strikeOuts'] / batting_df['atBats'])\n",
    "\n",
    "a = batting_df.groupby(['year', 'teamAbbrev'])['strikeOuts'].sum()\n",
    "b = batting_df.groupby(['year', 'teamAbbrev'])['atBats'].sum()\n",
    "a = a.to_frame()\n",
    "b = b.to_frame()\n",
    "K = a.join(b, on=['year', 'teamAbbrev'])\n",
    "K['K_avg'] = round((K['strikeOuts']/K['atBats']), 3)\n",
    "# K = K.reset_index()"
   ]
  },
  {
   "cell_type": "code",
   "execution_count": 12,
   "metadata": {
    "ExecuteTime": {
     "end_time": "2020-06-03T20:13:06.094605Z",
     "start_time": "2020-06-03T20:13:06.051798Z"
    },
    "code_folding": [
     0
    ]
   },
   "outputs": [],
   "source": [
    "# BB per plate appearance\n",
    "# Commented out. Taking a different approach\n",
    "# batting_df['BB+IBB_per_plateappearance'] = ((batting_df['baseOnBalls'] + 'took out IBB for simplicity' / batting_df['plateAppearances'])\n",
    "\n",
    "a = batting_df.groupby(['year', 'teamAbbrev'])['baseOnBalls'].sum()\n",
    "b = batting_df.groupby(['year', 'teamAbbrev'])['plateAppearances'].sum()\n",
    "a = a.to_frame()\n",
    "b = b.to_frame()\n",
    "BB = a.join(b, on=['year', 'teamAbbrev'])\n",
    "BB['BB_avg'] = round((BB['baseOnBalls']/BB['plateAppearances']), 3)\n",
    "# BB = BB.reset_index()"
   ]
  },
  {
   "cell_type": "code",
   "execution_count": 13,
   "metadata": {
    "ExecuteTime": {
     "end_time": "2020-06-03T20:13:06.152205Z",
     "start_time": "2020-06-03T20:13:06.097193Z"
    },
    "code_folding": [
     0
    ]
   },
   "outputs": [],
   "source": [
    "# RBI per plate appearance\n",
    "# Commented out. Taking a different approach\n",
    "# batting_df['RBI_per_plateappearance'] = (batting_df['rbi'] / batting_df['atBats'])\n",
    "\n",
    "a = batting_df.groupby(['year', 'teamAbbrev'])['rbi'].sum()\n",
    "b = batting_df.groupby(['year', 'teamAbbrev'])['plateAppearances'].sum()\n",
    "a = a.to_frame()\n",
    "b = b.to_frame()\n",
    "RBI = a.join(b, on=['year', 'teamAbbrev'])\n",
    "RBI['RBI_avg'] = round((RBI['rbi']/RBI['plateAppearances']), 3)\n",
    "# RBI = RBI.reset_index()"
   ]
  },
  {
   "cell_type": "markdown",
   "metadata": {},
   "source": [
    "## Merge all the TEAM stats into one dataframe"
   ]
  },
  {
   "cell_type": "code",
   "execution_count": 14,
   "metadata": {
    "ExecuteTime": {
     "end_time": "2020-06-03T20:13:06.166134Z",
     "start_time": "2020-06-03T20:13:06.155277Z"
    }
   },
   "outputs": [],
   "source": [
    "team_stats_lst = [BA, TB, LOB, RUNS, K, BB, RBI]"
   ]
  },
  {
   "cell_type": "code",
   "execution_count": 15,
   "metadata": {
    "ExecuteTime": {
     "end_time": "2020-06-03T20:13:06.223285Z",
     "start_time": "2020-06-03T20:13:06.182078Z"
    }
   },
   "outputs": [],
   "source": [
    "team_stats = pd.concat(team_stats_lst, join='outer', axis=1)"
   ]
  },
  {
   "cell_type": "code",
   "execution_count": 16,
   "metadata": {
    "ExecuteTime": {
     "end_time": "2020-06-03T20:13:06.246073Z",
     "start_time": "2020-06-03T20:13:06.228070Z"
    }
   },
   "outputs": [],
   "source": [
    "team_stats = team_stats.reset_index()"
   ]
  },
  {
   "cell_type": "code",
   "execution_count": 17,
   "metadata": {
    "ExecuteTime": {
     "end_time": "2020-06-03T20:13:06.264980Z",
     "start_time": "2020-06-03T20:13:06.254022Z"
    }
   },
   "outputs": [
    {
     "data": {
      "text/plain": [
       "Index(['year', 'teamAbbrev', 'hits', 'plateAppearances', 'team_BA',\n",
       "       'totalBases', 'plateAppearances', 'total_bases_avg', 'leftOnBase',\n",
       "       'plateAppearances', 'LOB_avg', 'runs', 'plateAppearances', 'runs_avg',\n",
       "       'strikeOuts', 'atBats', 'K_avg', 'baseOnBalls', 'plateAppearances',\n",
       "       'BB_avg', 'rbi', 'plateAppearances', 'RBI_avg'],\n",
       "      dtype='object')"
      ]
     },
     "execution_count": 17,
     "metadata": {},
     "output_type": "execute_result"
    }
   ],
   "source": [
    "team_stats.columns"
   ]
  },
  {
   "cell_type": "markdown",
   "metadata": {},
   "source": [
    "## Pitching Feature engineering ideas\n",
    "- Pitching stats will focus on starting pitchers Per9 innings stat (except for certain features)\n",
    "    - 'winningPercentage'\n",
    "    - 'runsScoredPer9'\n",
    "        - 'ops' - may leave out for now...\n",
    "    - 'hitsPer9'\n",
    "    - 'era'\n",
    "    - 'whip'"
   ]
  },
  {
   "cell_type": "code",
   "execution_count": 18,
   "metadata": {
    "ExecuteTime": {
     "end_time": "2020-06-03T20:13:06.286933Z",
     "start_time": "2020-06-03T20:13:06.275387Z"
    }
   },
   "outputs": [],
   "source": [
    "pitching_df = pitching_df.reindex(columns=['year', 'playerName', 'teamAbbrev', 'winningPercentage',\n",
    "       'runsScoredPer9', 'hitsPer9', 'strikeoutsPer9', 'baseOnBallsPer9',\n",
    "       'homeRunsPer9', 'era', 'whip', 'ops', 'gidp', 'avg'])\n",
    "# Columns to be left out from the reindexing --- 'winPercentage', 'strikeoutsPer9Inn', 'walksPer9Inn', 'hitsPer9Inn'"
   ]
  },
  {
   "cell_type": "code",
   "execution_count": 19,
   "metadata": {
    "ExecuteTime": {
     "end_time": "2020-06-03T20:13:06.314353Z",
     "start_time": "2020-06-03T20:13:06.290364Z"
    }
   },
   "outputs": [],
   "source": [
    "# MIA & FLO are different. Standardizing to MIA\n",
    "pitching_df.replace(to_replace='FLA', value='MIA', inplace=True)"
   ]
  },
  {
   "cell_type": "code",
   "execution_count": 20,
   "metadata": {
    "ExecuteTime": {
     "end_time": "2020-06-03T20:13:06.349130Z",
     "start_time": "2020-06-03T20:13:06.319107Z"
    }
   },
   "outputs": [
    {
     "data": {
      "text/plain": [
       "31"
      ]
     },
     "execution_count": 20,
     "metadata": {},
     "output_type": "execute_result"
    }
   ],
   "source": [
    "# 31 teams showing up since it seems like there are some NaN values for team names. Will deal with should it become an issue...\n",
    "len(pitching_df.teamAbbrev.unique())"
   ]
  },
  {
   "cell_type": "markdown",
   "metadata": {},
   "source": [
    "## Game DF Feature ideas\n",
    "- Turn VisitorRunsScored & HomeRunsScore into a column that indicates if the home team won - DONE.\n",
    "- Combine VisitorHBP & VisitorBB & VisitorIBB into a single column containing all the stats - DONE.\n",
    "- Same with HomeHBP & HomeBB & HomeIBB - DONE.\n",
    "<br/><br/>\n",
    "- Combine VisitorH / VisitorAB = team_BA - DONE.\n",
    "- Same with HomeH / HomeAB - DONE. \n",
    "<br/><br/>\n",
    "- Eventually add on all the other engineered features into this dataframe...\n",
    "<br/><br/>\n",
    "- Since the game_df has a date column, I'd like to leverage that to look at 7-day-trends, 14-day-trends, etc"
   ]
  },
  {
   "cell_type": "code",
   "execution_count": 21,
   "metadata": {
    "ExecuteTime": {
     "end_time": "2020-06-03T20:13:06.407711Z",
     "start_time": "2020-06-03T20:13:06.386593Z"
    }
   },
   "outputs": [],
   "source": [
    "# Creating a Target for the model to eventually train on\n",
    "game_df['Home_team_won?'] = game_df['HomeRunsScore'] > game_df['VisitorRunsScored']"
   ]
  },
  {
   "cell_type": "code",
   "execution_count": 22,
   "metadata": {
    "ExecuteTime": {
     "end_time": "2020-06-03T20:13:06.441940Z",
     "start_time": "2020-06-03T20:13:06.429166Z"
    }
   },
   "outputs": [],
   "source": [
    "# game_df['Visitor_HBP+BB+IBB'] = game_df['VisitorHBP'] + game_df['VisitorBB'] + game_df['VisitorIBB']\n",
    "# game_df['Home_HBP+BB+IBB'] = game_df['HomeHBP'] + game_df['HomeBB'] + game_df['HomeIBB']\n",
    "\n",
    "# Commenting out for now until I figure out if I need to drop these or not...\n",
    "# game_df.drop(['VisitorHBP', 'VisitorBB', 'VisitorIBB', 'HomeHBP', 'HomeBB', 'HomeIBB'], axis=1, inplace=True)"
   ]
  },
  {
   "cell_type": "code",
   "execution_count": 23,
   "metadata": {
    "ExecuteTime": {
     "end_time": "2020-06-03T20:13:06.492698Z",
     "start_time": "2020-06-03T20:13:06.456635Z"
    }
   },
   "outputs": [],
   "source": [
    "# Adding a Home & Away BA per game to compare batting trends over time\n",
    "game_df['Visitor_BA'] = round((game_df['VisitorH'] / game_df['VisitorAB']), 3)\n",
    "game_df['Home_BA'] = round((game_df['HomeH'] / game_df['HomeAB']), 3)"
   ]
  },
  {
   "cell_type": "code",
   "execution_count": 24,
   "metadata": {
    "ExecuteTime": {
     "end_time": "2020-06-03T20:13:06.573390Z",
     "start_time": "2020-06-03T20:13:06.496542Z"
    }
   },
   "outputs": [],
   "source": [
    "# Creating a new column in order to add Date/Time to my dataframe\n",
    "game_df['New_Date'] = pd.to_datetime(game_df['Date'].astype(str), format='%Y%m%d')"
   ]
  },
  {
   "cell_type": "code",
   "execution_count": 25,
   "metadata": {
    "ExecuteTime": {
     "end_time": "2020-06-03T20:13:06.608840Z",
     "start_time": "2020-06-03T20:13:06.576283Z"
    }
   },
   "outputs": [],
   "source": [
    "# Rearranging columns so new date/time is at the front of the DF\n",
    "game_df = game_df.reindex(columns=['New_Date','Date', 'VisitingTeam','VisitorStartingPitcherName',\n",
    "                                 'HomeTeam','HomeStartingPitcherName', 'VisitorRunsScored',\n",
    "       'HomeRunsScore', 'VisitorAB', 'VisitorH','Visitor_BA', 'VisitorHBP', 'VisitorBB',\n",
    "       'VisitorIBB', 'VisitorLOB', 'HomeAB', 'HomeH', 'Home_BA', 'HomeHBP', 'HomeBB', 'HomeIBB', 'HomeLOB', 'Home_team_won?'])\n",
    "game_df.drop('Date', axis='columns', inplace=True)"
   ]
  },
  {
   "cell_type": "code",
   "execution_count": 26,
   "metadata": {
    "ExecuteTime": {
     "end_time": "2020-06-03T20:13:07.181106Z",
     "start_time": "2020-06-03T20:13:06.621257Z"
    }
   },
   "outputs": [],
   "source": [
    "# Had an extra team due to the Marlins having two different labels. Updating their team name to MIA\n",
    "game_df.replace(to_replace='FLO', value='MIA', inplace=True)\n",
    "# Updating game_df so team abbreviations match. Will be leveraged when aggregating teams stats\n",
    "game_df.replace(to_replace={\"NYA\":\"NYY\", \"SDN\":\"SD\", \"CHN\":\"CHC\", \"SLN\":\"STL\", \"SFN\":\"SF\", \"LAN\":\"LAD\", \"TBA\":\"TB\", \"KCA\":\"KC\", \"CHA\":\"CWS\", \"ANA\":\"LAA\", \"NYN\":\"NYM\"}, inplace=True)"
   ]
  },
  {
   "cell_type": "code",
   "execution_count": 27,
   "metadata": {
    "ExecuteTime": {
     "end_time": "2020-06-03T20:13:07.209943Z",
     "start_time": "2020-06-03T20:13:07.187301Z"
    },
    "code_folding": [
     0
    ]
   },
   "outputs": [
    {
     "data": {
      "text/plain": [
       "30"
      ]
     },
     "execution_count": 27,
     "metadata": {},
     "output_type": "execute_result"
    }
   ],
   "source": [
    "# game_df has 30 teams. Perfect!\n",
    "len(game_df.VisitingTeam.unique())"
   ]
  },
  {
   "cell_type": "code",
   "execution_count": 28,
   "metadata": {
    "ExecuteTime": {
     "end_time": "2020-06-03T20:13:07.249467Z",
     "start_time": "2020-06-03T20:13:07.214615Z"
    },
    "scrolled": false
   },
   "outputs": [],
   "source": [
    "# How to Access the\n",
    "game_df['prior_year'] = game_df['New_Date'].dt.year-1"
   ]
  },
  {
   "cell_type": "markdown",
   "metadata": {},
   "source": [
    "## Merge Pitching stats to game_df"
   ]
  },
  {
   "cell_type": "code",
   "execution_count": 29,
   "metadata": {
    "ExecuteTime": {
     "end_time": "2020-06-03T20:13:07.334301Z",
     "start_time": "2020-06-03T20:13:07.260177Z"
    }
   },
   "outputs": [],
   "source": [
    "game_df = game_df.merge(pitching_df, how='left', left_on=['prior_year','VisitorStartingPitcherName'], right_on=['year', 'playerName'])"
   ]
  },
  {
   "cell_type": "code",
   "execution_count": 30,
   "metadata": {
    "ExecuteTime": {
     "end_time": "2020-06-03T20:13:07.417061Z",
     "start_time": "2020-06-03T20:13:07.338622Z"
    }
   },
   "outputs": [],
   "source": [
    "game_df = game_df.merge(pitching_df, how='left', left_on=['prior_year','HomeStartingPitcherName'], right_on=['year', 'playerName'])"
   ]
  },
  {
   "cell_type": "code",
   "execution_count": 31,
   "metadata": {
    "ExecuteTime": {
     "end_time": "2020-06-03T20:13:07.436588Z",
     "start_time": "2020-06-03T20:13:07.419826Z"
    }
   },
   "outputs": [
    {
     "data": {
      "text/plain": [
       "(Index(['New_Date', 'VisitingTeam', 'VisitorStartingPitcherName', 'HomeTeam',\n",
       "        'HomeStartingPitcherName', 'VisitorRunsScored', 'HomeRunsScore',\n",
       "        'VisitorAB', 'VisitorH', 'Visitor_BA', 'VisitorHBP', 'VisitorBB',\n",
       "        'VisitorIBB', 'VisitorLOB', 'HomeAB', 'HomeH', 'Home_BA', 'HomeHBP',\n",
       "        'HomeBB', 'HomeIBB', 'HomeLOB', 'Home_team_won?', 'prior_year',\n",
       "        'year_x', 'playerName_x', 'teamAbbrev_x', 'winningPercentage_x',\n",
       "        'runsScoredPer9_x', 'hitsPer9_x', 'strikeoutsPer9_x',\n",
       "        'baseOnBallsPer9_x', 'homeRunsPer9_x', 'era_x', 'whip_x', 'ops_x',\n",
       "        'gidp_x', 'avg_x', 'year_y', 'playerName_y', 'teamAbbrev_y',\n",
       "        'winningPercentage_y', 'runsScoredPer9_y', 'hitsPer9_y',\n",
       "        'strikeoutsPer9_y', 'baseOnBallsPer9_y', 'homeRunsPer9_y', 'era_y',\n",
       "        'whip_y', 'ops_y', 'gidp_y', 'avg_y'],\n",
       "       dtype='object'),\n",
       " (24300, 51))"
      ]
     },
     "execution_count": 31,
     "metadata": {},
     "output_type": "execute_result"
    }
   ],
   "source": [
    "game_df.columns, game_df.shape"
   ]
  },
  {
   "cell_type": "markdown",
   "metadata": {},
   "source": [
    "## Merge Team Batting stats to game_df"
   ]
  },
  {
   "cell_type": "code",
   "execution_count": 32,
   "metadata": {
    "ExecuteTime": {
     "end_time": "2020-06-03T20:13:07.540263Z",
     "start_time": "2020-06-03T20:13:07.449138Z"
    }
   },
   "outputs": [
    {
     "data": {
      "text/html": [
       "<div>\n",
       "<style scoped>\n",
       "    .dataframe tbody tr th:only-of-type {\n",
       "        vertical-align: middle;\n",
       "    }\n",
       "\n",
       "    .dataframe tbody tr th {\n",
       "        vertical-align: top;\n",
       "    }\n",
       "\n",
       "    .dataframe thead th {\n",
       "        text-align: right;\n",
       "    }\n",
       "</style>\n",
       "<table border=\"1\" class=\"dataframe\">\n",
       "  <thead>\n",
       "    <tr style=\"text-align: right;\">\n",
       "      <th></th>\n",
       "      <th>year</th>\n",
       "      <th>teamAbbrev</th>\n",
       "      <th>hits</th>\n",
       "      <th>plateAppearances</th>\n",
       "      <th>team_BA</th>\n",
       "      <th>totalBases</th>\n",
       "      <th>plateAppearances</th>\n",
       "      <th>total_bases_avg</th>\n",
       "      <th>leftOnBase</th>\n",
       "      <th>plateAppearances</th>\n",
       "      <th>...</th>\n",
       "      <th>runs_avg</th>\n",
       "      <th>strikeOuts</th>\n",
       "      <th>atBats</th>\n",
       "      <th>K_avg</th>\n",
       "      <th>baseOnBalls</th>\n",
       "      <th>plateAppearances</th>\n",
       "      <th>BB_avg</th>\n",
       "      <th>rbi</th>\n",
       "      <th>plateAppearances</th>\n",
       "      <th>RBI_avg</th>\n",
       "    </tr>\n",
       "  </thead>\n",
       "  <tbody>\n",
       "    <tr>\n",
       "      <th>0</th>\n",
       "      <td>2009</td>\n",
       "      <td>ARI</td>\n",
       "      <td>1310</td>\n",
       "      <td>5858</td>\n",
       "      <td>0.224</td>\n",
       "      <td>2195</td>\n",
       "      <td>5858</td>\n",
       "      <td>0.375</td>\n",
       "      <td>2225</td>\n",
       "      <td>5858</td>\n",
       "      <td>...</td>\n",
       "      <td>0.116</td>\n",
       "      <td>1224</td>\n",
       "      <td>5182</td>\n",
       "      <td>0.236</td>\n",
       "      <td>545</td>\n",
       "      <td>5858</td>\n",
       "      <td>0.093</td>\n",
       "      <td>664</td>\n",
       "      <td>5858</td>\n",
       "      <td>0.113</td>\n",
       "    </tr>\n",
       "    <tr>\n",
       "      <th>1</th>\n",
       "      <td>2009</td>\n",
       "      <td>ATL</td>\n",
       "      <td>1492</td>\n",
       "      <td>6510</td>\n",
       "      <td>0.229</td>\n",
       "      <td>2336</td>\n",
       "      <td>6510</td>\n",
       "      <td>0.359</td>\n",
       "      <td>2432</td>\n",
       "      <td>6510</td>\n",
       "      <td>...</td>\n",
       "      <td>0.119</td>\n",
       "      <td>1137</td>\n",
       "      <td>5678</td>\n",
       "      <td>0.200</td>\n",
       "      <td>637</td>\n",
       "      <td>6510</td>\n",
       "      <td>0.098</td>\n",
       "      <td>723</td>\n",
       "      <td>6510</td>\n",
       "      <td>0.111</td>\n",
       "    </tr>\n",
       "    <tr>\n",
       "      <th>2</th>\n",
       "      <td>2009</td>\n",
       "      <td>BAL</td>\n",
       "      <td>1367</td>\n",
       "      <td>5610</td>\n",
       "      <td>0.244</td>\n",
       "      <td>2107</td>\n",
       "      <td>5610</td>\n",
       "      <td>0.376</td>\n",
       "      <td>2132</td>\n",
       "      <td>5610</td>\n",
       "      <td>...</td>\n",
       "      <td>0.120</td>\n",
       "      <td>913</td>\n",
       "      <td>5073</td>\n",
       "      <td>0.180</td>\n",
       "      <td>449</td>\n",
       "      <td>5610</td>\n",
       "      <td>0.080</td>\n",
       "      <td>628</td>\n",
       "      <td>5610</td>\n",
       "      <td>0.112</td>\n",
       "    </tr>\n",
       "    <tr>\n",
       "      <th>3</th>\n",
       "      <td>2009</td>\n",
       "      <td>BOS</td>\n",
       "      <td>1915</td>\n",
       "      <td>8245</td>\n",
       "      <td>0.232</td>\n",
       "      <td>3151</td>\n",
       "      <td>8245</td>\n",
       "      <td>0.382</td>\n",
       "      <td>3223</td>\n",
       "      <td>8245</td>\n",
       "      <td>...</td>\n",
       "      <td>0.128</td>\n",
       "      <td>1435</td>\n",
       "      <td>7202</td>\n",
       "      <td>0.199</td>\n",
       "      <td>864</td>\n",
       "      <td>8245</td>\n",
       "      <td>0.105</td>\n",
       "      <td>1036</td>\n",
       "      <td>8245</td>\n",
       "      <td>0.126</td>\n",
       "    </tr>\n",
       "    <tr>\n",
       "      <th>4</th>\n",
       "      <td>2009</td>\n",
       "      <td>CHC</td>\n",
       "      <td>1392</td>\n",
       "      <td>6214</td>\n",
       "      <td>0.224</td>\n",
       "      <td>2228</td>\n",
       "      <td>6214</td>\n",
       "      <td>0.359</td>\n",
       "      <td>2458</td>\n",
       "      <td>6214</td>\n",
       "      <td>...</td>\n",
       "      <td>0.113</td>\n",
       "      <td>1176</td>\n",
       "      <td>5459</td>\n",
       "      <td>0.215</td>\n",
       "      <td>590</td>\n",
       "      <td>6214</td>\n",
       "      <td>0.095</td>\n",
       "      <td>679</td>\n",
       "      <td>6214</td>\n",
       "      <td>0.109</td>\n",
       "    </tr>\n",
       "  </tbody>\n",
       "</table>\n",
       "<p>5 rows × 23 columns</p>\n",
       "</div>"
      ],
      "text/plain": [
       "   year teamAbbrev  hits  plateAppearances  team_BA  totalBases  \\\n",
       "0  2009        ARI  1310              5858    0.224        2195   \n",
       "1  2009        ATL  1492              6510    0.229        2336   \n",
       "2  2009        BAL  1367              5610    0.244        2107   \n",
       "3  2009        BOS  1915              8245    0.232        3151   \n",
       "4  2009        CHC  1392              6214    0.224        2228   \n",
       "\n",
       "   plateAppearances  total_bases_avg  leftOnBase  plateAppearances  ...  \\\n",
       "0              5858            0.375        2225              5858  ...   \n",
       "1              6510            0.359        2432              6510  ...   \n",
       "2              5610            0.376        2132              5610  ...   \n",
       "3              8245            0.382        3223              8245  ...   \n",
       "4              6214            0.359        2458              6214  ...   \n",
       "\n",
       "   runs_avg  strikeOuts  atBats  K_avg  baseOnBalls  plateAppearances  BB_avg  \\\n",
       "0     0.116        1224    5182  0.236          545              5858   0.093   \n",
       "1     0.119        1137    5678  0.200          637              6510   0.098   \n",
       "2     0.120         913    5073  0.180          449              5610   0.080   \n",
       "3     0.128        1435    7202  0.199          864              8245   0.105   \n",
       "4     0.113        1176    5459  0.215          590              6214   0.095   \n",
       "\n",
       "    rbi  plateAppearances  RBI_avg  \n",
       "0   664              5858    0.113  \n",
       "1   723              6510    0.111  \n",
       "2   628              5610    0.112  \n",
       "3  1036              8245    0.126  \n",
       "4   679              6214    0.109  \n",
       "\n",
       "[5 rows x 23 columns]"
      ]
     },
     "execution_count": 32,
     "metadata": {},
     "output_type": "execute_result"
    }
   ],
   "source": [
    "team_stats.head()"
   ]
  },
  {
   "cell_type": "code",
   "execution_count": 33,
   "metadata": {
    "ExecuteTime": {
     "end_time": "2020-06-03T20:13:07.583738Z",
     "start_time": "2020-06-03T20:13:07.549536Z"
    }
   },
   "outputs": [],
   "source": [
    "# Dropping redundant columns from batting stats df\n",
    "team_stats.drop('plateAppearances', axis=1, inplace=True)"
   ]
  },
  {
   "cell_type": "code",
   "execution_count": 34,
   "metadata": {
    "ExecuteTime": {
     "end_time": "2020-06-03T20:13:07.696291Z",
     "start_time": "2020-06-03T20:13:07.599408Z"
    }
   },
   "outputs": [],
   "source": [
    "game_df = game_df.merge(team_stats, how='left', left_on=['prior_year', 'VisitingTeam'], right_on=['year', 'teamAbbrev'])"
   ]
  },
  {
   "cell_type": "code",
   "execution_count": 35,
   "metadata": {
    "ExecuteTime": {
     "end_time": "2020-06-03T20:13:07.801353Z",
     "start_time": "2020-06-03T20:13:07.698805Z"
    }
   },
   "outputs": [],
   "source": [
    "game_df = game_df.merge(team_stats, how='left', left_on=['prior_year', 'HomeTeam'], right_on=['year', 'teamAbbrev'])"
   ]
  },
  {
   "cell_type": "code",
   "execution_count": 36,
   "metadata": {
    "ExecuteTime": {
     "end_time": "2020-06-03T20:13:07.883394Z",
     "start_time": "2020-06-03T20:13:07.803733Z"
    }
   },
   "outputs": [],
   "source": [
    "# Creating an integer reference point in game_df\n",
    "game_df['current_year'] = game_df['New_Date'].dt.year"
   ]
  },
  {
   "cell_type": "code",
   "execution_count": 37,
   "metadata": {
    "ExecuteTime": {
     "end_time": "2020-06-03T20:13:08.020952Z",
     "start_time": "2020-06-03T20:13:07.893048Z"
    }
   },
   "outputs": [],
   "source": [
    "# Addressing NaN values in game_df by giving them a -1 score\n",
    "# NaN indicates that the player did not have stats from the prior year to measure againsta\n",
    "game_df.fillna(value = -1, inplace=True)"
   ]
  },
  {
   "cell_type": "code",
   "execution_count": 38,
   "metadata": {
    "ExecuteTime": {
     "end_time": "2020-06-03T20:13:08.148619Z",
     "start_time": "2020-06-03T20:13:08.028315Z"
    }
   },
   "outputs": [
    {
     "data": {
      "text/plain": [
       "False"
      ]
     },
     "execution_count": 38,
     "metadata": {},
     "output_type": "execute_result"
    }
   ],
   "source": [
    "# Checking game_df for ANY NaN values\n",
    "game_df.isnull().values.any()\n",
    "# Returns false, indicating that there are NO NaN values in the game_df"
   ]
  },
  {
   "cell_type": "code",
   "execution_count": 39,
   "metadata": {
    "ExecuteTime": {
     "end_time": "2020-06-03T20:13:08.270266Z",
     "start_time": "2020-06-03T20:13:08.197636Z"
    },
    "scrolled": true
   },
   "outputs": [
    {
     "data": {
      "text/html": [
       "<div>\n",
       "<style scoped>\n",
       "    .dataframe tbody tr th:only-of-type {\n",
       "        vertical-align: middle;\n",
       "    }\n",
       "\n",
       "    .dataframe tbody tr th {\n",
       "        vertical-align: top;\n",
       "    }\n",
       "\n",
       "    .dataframe thead th {\n",
       "        text-align: right;\n",
       "    }\n",
       "</style>\n",
       "<table border=\"1\" class=\"dataframe\">\n",
       "  <thead>\n",
       "    <tr style=\"text-align: right;\">\n",
       "      <th></th>\n",
       "      <th>New_Date</th>\n",
       "      <th>VisitingTeam</th>\n",
       "      <th>VisitorStartingPitcherName</th>\n",
       "      <th>HomeTeam</th>\n",
       "      <th>HomeStartingPitcherName</th>\n",
       "      <th>VisitorRunsScored</th>\n",
       "      <th>HomeRunsScore</th>\n",
       "      <th>VisitorAB</th>\n",
       "      <th>VisitorH</th>\n",
       "      <th>Visitor_BA</th>\n",
       "      <th>...</th>\n",
       "      <th>runs_y</th>\n",
       "      <th>runs_avg_y</th>\n",
       "      <th>strikeOuts_y</th>\n",
       "      <th>atBats_y</th>\n",
       "      <th>K_avg_y</th>\n",
       "      <th>baseOnBalls_y</th>\n",
       "      <th>BB_avg_y</th>\n",
       "      <th>rbi_y</th>\n",
       "      <th>RBI_avg_y</th>\n",
       "      <th>current_year</th>\n",
       "    </tr>\n",
       "  </thead>\n",
       "  <tbody>\n",
       "    <tr>\n",
       "      <th>0</th>\n",
       "      <td>2010-04-04</td>\n",
       "      <td>NYY</td>\n",
       "      <td>CC Sabathia</td>\n",
       "      <td>BOS</td>\n",
       "      <td>Josh Beckett</td>\n",
       "      <td>7</td>\n",
       "      <td>9</td>\n",
       "      <td>37</td>\n",
       "      <td>12</td>\n",
       "      <td>0.324</td>\n",
       "      <td>...</td>\n",
       "      <td>1057.0</td>\n",
       "      <td>0.128</td>\n",
       "      <td>1435.0</td>\n",
       "      <td>7202.0</td>\n",
       "      <td>0.199</td>\n",
       "      <td>864.0</td>\n",
       "      <td>0.105</td>\n",
       "      <td>1036.0</td>\n",
       "      <td>0.126</td>\n",
       "      <td>2010</td>\n",
       "    </tr>\n",
       "    <tr>\n",
       "      <th>1</th>\n",
       "      <td>2010-04-05</td>\n",
       "      <td>MIN</td>\n",
       "      <td>Scott Baker</td>\n",
       "      <td>LAA</td>\n",
       "      <td>Jered Weaver</td>\n",
       "      <td>3</td>\n",
       "      <td>6</td>\n",
       "      <td>32</td>\n",
       "      <td>7</td>\n",
       "      <td>0.219</td>\n",
       "      <td>...</td>\n",
       "      <td>879.0</td>\n",
       "      <td>0.140</td>\n",
       "      <td>1047.0</td>\n",
       "      <td>5597.0</td>\n",
       "      <td>0.187</td>\n",
       "      <td>544.0</td>\n",
       "      <td>0.087</td>\n",
       "      <td>837.0</td>\n",
       "      <td>0.133</td>\n",
       "      <td>2010</td>\n",
       "    </tr>\n",
       "    <tr>\n",
       "      <th>2</th>\n",
       "      <td>2010-04-05</td>\n",
       "      <td>CLE</td>\n",
       "      <td>Jake Westbrook</td>\n",
       "      <td>CWS</td>\n",
       "      <td>Mark Buehrle</td>\n",
       "      <td>0</td>\n",
       "      <td>6</td>\n",
       "      <td>30</td>\n",
       "      <td>4</td>\n",
       "      <td>0.133</td>\n",
       "      <td>...</td>\n",
       "      <td>707.0</td>\n",
       "      <td>0.115</td>\n",
       "      <td>959.0</td>\n",
       "      <td>5518.0</td>\n",
       "      <td>0.174</td>\n",
       "      <td>491.0</td>\n",
       "      <td>0.080</td>\n",
       "      <td>686.0</td>\n",
       "      <td>0.111</td>\n",
       "      <td>2010</td>\n",
       "    </tr>\n",
       "    <tr>\n",
       "      <th>3</th>\n",
       "      <td>2010-04-05</td>\n",
       "      <td>DET</td>\n",
       "      <td>Justin Verlander</td>\n",
       "      <td>KC</td>\n",
       "      <td>Zack Greinke</td>\n",
       "      <td>8</td>\n",
       "      <td>4</td>\n",
       "      <td>39</td>\n",
       "      <td>12</td>\n",
       "      <td>0.308</td>\n",
       "      <td>...</td>\n",
       "      <td>715.0</td>\n",
       "      <td>0.110</td>\n",
       "      <td>1119.0</td>\n",
       "      <td>5876.0</td>\n",
       "      <td>0.190</td>\n",
       "      <td>471.0</td>\n",
       "      <td>0.073</td>\n",
       "      <td>692.0</td>\n",
       "      <td>0.107</td>\n",
       "      <td>2010</td>\n",
       "    </tr>\n",
       "    <tr>\n",
       "      <th>4</th>\n",
       "      <td>2010-04-05</td>\n",
       "      <td>SEA</td>\n",
       "      <td>Felix Hernandez</td>\n",
       "      <td>OAK</td>\n",
       "      <td>Ben Sheets</td>\n",
       "      <td>5</td>\n",
       "      <td>3</td>\n",
       "      <td>31</td>\n",
       "      <td>6</td>\n",
       "      <td>0.194</td>\n",
       "      <td>...</td>\n",
       "      <td>641.0</td>\n",
       "      <td>0.124</td>\n",
       "      <td>887.0</td>\n",
       "      <td>4635.0</td>\n",
       "      <td>0.191</td>\n",
       "      <td>410.0</td>\n",
       "      <td>0.080</td>\n",
       "      <td>609.0</td>\n",
       "      <td>0.118</td>\n",
       "      <td>2010</td>\n",
       "    </tr>\n",
       "    <tr>\n",
       "      <th>...</th>\n",
       "      <td>...</td>\n",
       "      <td>...</td>\n",
       "      <td>...</td>\n",
       "      <td>...</td>\n",
       "      <td>...</td>\n",
       "      <td>...</td>\n",
       "      <td>...</td>\n",
       "      <td>...</td>\n",
       "      <td>...</td>\n",
       "      <td>...</td>\n",
       "      <td>...</td>\n",
       "      <td>...</td>\n",
       "      <td>...</td>\n",
       "      <td>...</td>\n",
       "      <td>...</td>\n",
       "      <td>...</td>\n",
       "      <td>...</td>\n",
       "      <td>...</td>\n",
       "      <td>...</td>\n",
       "      <td>...</td>\n",
       "      <td>...</td>\n",
       "    </tr>\n",
       "    <tr>\n",
       "      <th>24295</th>\n",
       "      <td>2019-09-29</td>\n",
       "      <td>DET</td>\n",
       "      <td>Spencer Turnbull</td>\n",
       "      <td>CWS</td>\n",
       "      <td>Ross Detwiler</td>\n",
       "      <td>3</td>\n",
       "      <td>5</td>\n",
       "      <td>31</td>\n",
       "      <td>7</td>\n",
       "      <td>0.226</td>\n",
       "      <td>...</td>\n",
       "      <td>641.0</td>\n",
       "      <td>0.107</td>\n",
       "      <td>1608.0</td>\n",
       "      <td>5448.0</td>\n",
       "      <td>0.295</td>\n",
       "      <td>423.0</td>\n",
       "      <td>0.071</td>\n",
       "      <td>626.0</td>\n",
       "      <td>0.105</td>\n",
       "      <td>2019</td>\n",
       "    </tr>\n",
       "    <tr>\n",
       "      <th>24296</th>\n",
       "      <td>2019-09-29</td>\n",
       "      <td>MIN</td>\n",
       "      <td>Martin Perez</td>\n",
       "      <td>KC</td>\n",
       "      <td>Jorge Lopez</td>\n",
       "      <td>4</td>\n",
       "      <td>5</td>\n",
       "      <td>32</td>\n",
       "      <td>6</td>\n",
       "      <td>0.188</td>\n",
       "      <td>...</td>\n",
       "      <td>522.0</td>\n",
       "      <td>0.107</td>\n",
       "      <td>1092.0</td>\n",
       "      <td>4425.0</td>\n",
       "      <td>0.247</td>\n",
       "      <td>349.0</td>\n",
       "      <td>0.072</td>\n",
       "      <td>472.0</td>\n",
       "      <td>0.097</td>\n",
       "      <td>2019</td>\n",
       "    </tr>\n",
       "    <tr>\n",
       "      <th>24297</th>\n",
       "      <td>2019-09-29</td>\n",
       "      <td>OAK</td>\n",
       "      <td>Tanner Roark</td>\n",
       "      <td>SEA</td>\n",
       "      <td>Justin Dunn</td>\n",
       "      <td>1</td>\n",
       "      <td>3</td>\n",
       "      <td>30</td>\n",
       "      <td>3</td>\n",
       "      <td>0.100</td>\n",
       "      <td>...</td>\n",
       "      <td>722.0</td>\n",
       "      <td>0.111</td>\n",
       "      <td>1294.0</td>\n",
       "      <td>5891.0</td>\n",
       "      <td>0.220</td>\n",
       "      <td>487.0</td>\n",
       "      <td>0.075</td>\n",
       "      <td>692.0</td>\n",
       "      <td>0.106</td>\n",
       "      <td>2019</td>\n",
       "    </tr>\n",
       "    <tr>\n",
       "      <th>24298</th>\n",
       "      <td>2019-09-29</td>\n",
       "      <td>NYY</td>\n",
       "      <td>Chad Green</td>\n",
       "      <td>TEX</td>\n",
       "      <td>Lance Lynn</td>\n",
       "      <td>1</td>\n",
       "      <td>6</td>\n",
       "      <td>30</td>\n",
       "      <td>3</td>\n",
       "      <td>0.100</td>\n",
       "      <td>...</td>\n",
       "      <td>736.0</td>\n",
       "      <td>0.119</td>\n",
       "      <td>1491.0</td>\n",
       "      <td>5469.0</td>\n",
       "      <td>0.273</td>\n",
       "      <td>560.0</td>\n",
       "      <td>0.091</td>\n",
       "      <td>694.0</td>\n",
       "      <td>0.112</td>\n",
       "      <td>2019</td>\n",
       "    </tr>\n",
       "    <tr>\n",
       "      <th>24299</th>\n",
       "      <td>2019-09-29</td>\n",
       "      <td>TB</td>\n",
       "      <td>Blake Snell</td>\n",
       "      <td>TOR</td>\n",
       "      <td>Clay Buchholz</td>\n",
       "      <td>3</td>\n",
       "      <td>8</td>\n",
       "      <td>36</td>\n",
       "      <td>9</td>\n",
       "      <td>0.250</td>\n",
       "      <td>...</td>\n",
       "      <td>616.0</td>\n",
       "      <td>0.112</td>\n",
       "      <td>1231.0</td>\n",
       "      <td>4963.0</td>\n",
       "      <td>0.248</td>\n",
       "      <td>431.0</td>\n",
       "      <td>0.079</td>\n",
       "      <td>617.0</td>\n",
       "      <td>0.112</td>\n",
       "      <td>2019</td>\n",
       "    </tr>\n",
       "  </tbody>\n",
       "</table>\n",
       "<p>24300 rows × 86 columns</p>\n",
       "</div>"
      ],
      "text/plain": [
       "        New_Date VisitingTeam VisitorStartingPitcherName HomeTeam  \\\n",
       "0     2010-04-04          NYY                CC Sabathia      BOS   \n",
       "1     2010-04-05          MIN                Scott Baker      LAA   \n",
       "2     2010-04-05          CLE             Jake Westbrook      CWS   \n",
       "3     2010-04-05          DET           Justin Verlander       KC   \n",
       "4     2010-04-05          SEA            Felix Hernandez      OAK   \n",
       "...          ...          ...                        ...      ...   \n",
       "24295 2019-09-29          DET           Spencer Turnbull      CWS   \n",
       "24296 2019-09-29          MIN               Martin Perez       KC   \n",
       "24297 2019-09-29          OAK               Tanner Roark      SEA   \n",
       "24298 2019-09-29          NYY                 Chad Green      TEX   \n",
       "24299 2019-09-29           TB                Blake Snell      TOR   \n",
       "\n",
       "      HomeStartingPitcherName  VisitorRunsScored  HomeRunsScore  VisitorAB  \\\n",
       "0                Josh Beckett                  7              9         37   \n",
       "1                Jered Weaver                  3              6         32   \n",
       "2                Mark Buehrle                  0              6         30   \n",
       "3                Zack Greinke                  8              4         39   \n",
       "4                  Ben Sheets                  5              3         31   \n",
       "...                       ...                ...            ...        ...   \n",
       "24295           Ross Detwiler                  3              5         31   \n",
       "24296             Jorge Lopez                  4              5         32   \n",
       "24297             Justin Dunn                  1              3         30   \n",
       "24298              Lance Lynn                  1              6         30   \n",
       "24299           Clay Buchholz                  3              8         36   \n",
       "\n",
       "       VisitorH  Visitor_BA  ...  runs_y  runs_avg_y  strikeOuts_y  atBats_y  \\\n",
       "0            12       0.324  ...  1057.0       0.128        1435.0    7202.0   \n",
       "1             7       0.219  ...   879.0       0.140        1047.0    5597.0   \n",
       "2             4       0.133  ...   707.0       0.115         959.0    5518.0   \n",
       "3            12       0.308  ...   715.0       0.110        1119.0    5876.0   \n",
       "4             6       0.194  ...   641.0       0.124         887.0    4635.0   \n",
       "...         ...         ...  ...     ...         ...           ...       ...   \n",
       "24295         7       0.226  ...   641.0       0.107        1608.0    5448.0   \n",
       "24296         6       0.188  ...   522.0       0.107        1092.0    4425.0   \n",
       "24297         3       0.100  ...   722.0       0.111        1294.0    5891.0   \n",
       "24298         3       0.100  ...   736.0       0.119        1491.0    5469.0   \n",
       "24299         9       0.250  ...   616.0       0.112        1231.0    4963.0   \n",
       "\n",
       "       K_avg_y  baseOnBalls_y  BB_avg_y   rbi_y  RBI_avg_y  current_year  \n",
       "0        0.199          864.0     0.105  1036.0      0.126          2010  \n",
       "1        0.187          544.0     0.087   837.0      0.133          2010  \n",
       "2        0.174          491.0     0.080   686.0      0.111          2010  \n",
       "3        0.190          471.0     0.073   692.0      0.107          2010  \n",
       "4        0.191          410.0     0.080   609.0      0.118          2010  \n",
       "...        ...            ...       ...     ...        ...           ...  \n",
       "24295    0.295          423.0     0.071   626.0      0.105          2019  \n",
       "24296    0.247          349.0     0.072   472.0      0.097          2019  \n",
       "24297    0.220          487.0     0.075   692.0      0.106          2019  \n",
       "24298    0.273          560.0     0.091   694.0      0.112          2019  \n",
       "24299    0.248          431.0     0.079   617.0      0.112          2019  \n",
       "\n",
       "[24300 rows x 86 columns]"
      ]
     },
     "execution_count": 39,
     "metadata": {},
     "output_type": "execute_result"
    }
   ],
   "source": [
    "game_df"
   ]
  },
  {
   "cell_type": "markdown",
   "metadata": {},
   "source": [
    "## Train and fit a model to see how these feature preform so far..."
   ]
  },
  {
   "cell_type": "code",
   "execution_count": 51,
   "metadata": {
    "ExecuteTime": {
     "end_time": "2020-06-03T20:15:53.689337Z",
     "start_time": "2020-06-03T20:15:53.680150Z"
    }
   },
   "outputs": [],
   "source": [
    "from sklearn.ensemble import RandomForestClassifier\n",
    "from sklearn import metrics\n",
    "from sklearn.metrics import confusion_matrix"
   ]
  },
  {
   "cell_type": "code",
   "execution_count": 41,
   "metadata": {
    "ExecuteTime": {
     "end_time": "2020-06-03T20:13:09.924011Z",
     "start_time": "2020-06-03T20:13:09.895829Z"
    }
   },
   "outputs": [],
   "source": [
    "y = game_df['Home_team_won?']"
   ]
  },
  {
   "cell_type": "code",
   "execution_count": 42,
   "metadata": {
    "ExecuteTime": {
     "end_time": "2020-06-03T20:13:09.981261Z",
     "start_time": "2020-06-03T20:13:09.936244Z"
    },
    "scrolled": true
   },
   "outputs": [],
   "source": [
    "X = game_df.drop(['New_Date',\n",
    "'VisitingTeam',\n",
    "'VisitorStartingPitcherName',\n",
    "'HomeTeam',\n",
    "'HomeStartingPitcherName',\n",
    "'VisitorRunsScored', \n",
    "'HomeRunsScore', \n",
    "'Home_team_won?', \n",
    "'VisitorAB',\n",
    "'VisitorH',\n",
    "'Visitor_BA',\n",
    "'VisitorHBP',\n",
    "'VisitorBB',\n",
    "'VisitorIBB',\n",
    "'VisitorLOB',\n",
    "'HomeAB',\n",
    "'HomeH',\n",
    "'Home_BA',\n",
    "'HomeHBP',\n",
    "'HomeBB',\n",
    "'HomeIBB',\n",
    "'HomeLOB',\n",
    "'playerName_x',\n",
    "'teamAbbrev_x',\n",
    "'playerName_y',\n",
    "'teamAbbrev_y',\n",
    "'teamAbbrev_x',\n",
    "'teamAbbrev_y'], axis=1)"
   ]
  },
  {
   "cell_type": "markdown",
   "metadata": {},
   "source": [
    "## Notes from Peter:\n",
    "- train on 2 years of data and then test on the following season (through all seasons)\n",
    "    - i.e. train on '10&'11, test on '12.\n",
    "    - then train on '11&'12, test on '13 \n",
    "- will ultimately require a function to"
   ]
  },
  {
   "cell_type": "code",
   "execution_count": 43,
   "metadata": {
    "ExecuteTime": {
     "end_time": "2020-06-03T20:13:10.041682Z",
     "start_time": "2020-06-03T20:13:09.983941Z"
    }
   },
   "outputs": [],
   "source": [
    "def my_train_test_split(X, y, start_year, end_year):\n",
    "    '''\n",
    "    creating a custom train_test_split in order to split data by seasons\n",
    "    i.e.\n",
    "    - train on 2010-2016 seasons\n",
    "    - test on 2018-2019 seasons\n",
    "    \n",
    "    Parameters:\n",
    "    X: features\n",
    "    y: target value\n",
    "    \n",
    "    returns:\n",
    "    X_train, X_test, y_train, y_test\n",
    "    '''\n",
    "    # There are objects in the DF that need to be numeric values\n",
    "    # obj_lst = ['winningPercentage_x','runsScoredPer9_x','hitsPer9_x','strikeoutsPer9_x','baseOnBallsPer9_x','homeRunsPer9_x','era_x','whip_x','winningPercentage_y','runsScoredPer9_y','hitsPer9_y','strikeoutsPer9_y','baseOnBallsPer9_y','homeRunsPer9_y','era_y','whip_y']\n",
    "\n",
    "    # Getting X values to_numeric\n",
    "    X = X.apply(pd.to_numeric, errors='coerce')\n",
    "    X.fillna(value = -1, inplace=True)\n",
    "    \n",
    "    # Setting up how to break up seasons by years\n",
    "    years = np.arange(start_year, end_year+1)\n",
    "    mask = game_df['current_year'].isin(years)\n",
    "    \n",
    "    # Splitting between the training & testing sets\n",
    "    X_train = X[mask]\n",
    "    X_test = X[~mask]\n",
    "    y_train = y[mask]\n",
    "    y_test = y[~mask]\n",
    "\n",
    "    return X_train, X_test, y_train, y_test"
   ]
  },
  {
   "cell_type": "code",
   "execution_count": 44,
   "metadata": {
    "ExecuteTime": {
     "end_time": "2020-06-03T20:13:10.508113Z",
     "start_time": "2020-06-03T20:13:10.060036Z"
    }
   },
   "outputs": [],
   "source": [
    "X_train, X_test, y_train, y_test = my_train_test_split(X, y, 2010, 2017)"
   ]
  },
  {
   "cell_type": "code",
   "execution_count": 45,
   "metadata": {
    "ExecuteTime": {
     "end_time": "2020-06-03T20:13:10.522631Z",
     "start_time": "2020-06-03T20:13:10.510331Z"
    }
   },
   "outputs": [],
   "source": [
    "rf = RandomForestClassifier()"
   ]
  },
  {
   "cell_type": "code",
   "execution_count": 46,
   "metadata": {
    "ExecuteTime": {
     "end_time": "2020-06-03T20:13:20.356102Z",
     "start_time": "2020-06-03T20:13:10.539908Z"
    }
   },
   "outputs": [
    {
     "data": {
      "text/plain": [
       "RandomForestClassifier(bootstrap=True, ccp_alpha=0.0, class_weight=None,\n",
       "                       criterion='gini', max_depth=None, max_features='auto',\n",
       "                       max_leaf_nodes=None, max_samples=None,\n",
       "                       min_impurity_decrease=0.0, min_impurity_split=None,\n",
       "                       min_samples_leaf=1, min_samples_split=2,\n",
       "                       min_weight_fraction_leaf=0.0, n_estimators=100,\n",
       "                       n_jobs=None, oob_score=False, random_state=None,\n",
       "                       verbose=0, warm_start=False)"
      ]
     },
     "execution_count": 46,
     "metadata": {},
     "output_type": "execute_result"
    }
   ],
   "source": [
    "rf.fit(X_train, y_train)"
   ]
  },
  {
   "cell_type": "code",
   "execution_count": 47,
   "metadata": {
    "ExecuteTime": {
     "end_time": "2020-06-03T20:13:20.638399Z",
     "start_time": "2020-06-03T20:13:20.360181Z"
    }
   },
   "outputs": [],
   "source": [
    "y_pred = rf.predict(X_test)"
   ]
  },
  {
   "cell_type": "code",
   "execution_count": 56,
   "metadata": {
    "ExecuteTime": {
     "end_time": "2020-06-03T20:39:08.089657Z",
     "start_time": "2020-06-03T20:39:08.069686Z"
    }
   },
   "outputs": [
    {
     "name": "stdout",
     "output_type": "stream",
     "text": [
      "Accuracy: 0.552\n"
     ]
    }
   ],
   "source": [
    "print(\"Accuracy:\",round(metrics.accuracy_score(y_test, y_pred), 3))"
   ]
  },
  {
   "cell_type": "code",
   "execution_count": 55,
   "metadata": {
    "ExecuteTime": {
     "end_time": "2020-06-03T20:19:51.230959Z",
     "start_time": "2020-06-03T20:19:51.141292Z"
    }
   },
   "outputs": [
    {
     "data": {
      "text/html": [
       "<div>\n",
       "<style scoped>\n",
       "    .dataframe tbody tr th:only-of-type {\n",
       "        vertical-align: middle;\n",
       "    }\n",
       "\n",
       "    .dataframe tbody tr th {\n",
       "        vertical-align: top;\n",
       "    }\n",
       "\n",
       "    .dataframe thead th {\n",
       "        text-align: right;\n",
       "    }\n",
       "</style>\n",
       "<table border=\"1\" class=\"dataframe\">\n",
       "  <thead>\n",
       "    <tr style=\"text-align: right;\">\n",
       "      <th>Predicted Result</th>\n",
       "      <th>False</th>\n",
       "      <th>True</th>\n",
       "    </tr>\n",
       "    <tr>\n",
       "      <th>Actual Result</th>\n",
       "      <th></th>\n",
       "      <th></th>\n",
       "    </tr>\n",
       "  </thead>\n",
       "  <tbody>\n",
       "    <tr>\n",
       "      <th>False</th>\n",
       "      <td>890</td>\n",
       "      <td>1401</td>\n",
       "    </tr>\n",
       "    <tr>\n",
       "      <th>True</th>\n",
       "      <td>778</td>\n",
       "      <td>1791</td>\n",
       "    </tr>\n",
       "  </tbody>\n",
       "</table>\n",
       "</div>"
      ],
      "text/plain": [
       "Predicted Result  False  True \n",
       "Actual Result                 \n",
       "False               890   1401\n",
       "True                778   1791"
      ]
     },
     "execution_count": 55,
     "metadata": {},
     "output_type": "execute_result"
    }
   ],
   "source": [
    "# True indicates that the Home TEAM WON, \n",
    "pd.crosstab(y_test, y_pred, rownames=['Actual Result'], colnames=['Predicted Result'])"
   ]
  },
  {
   "cell_type": "code",
   "execution_count": 57,
   "metadata": {
    "ExecuteTime": {
     "end_time": "2020-06-03T20:40:08.838779Z",
     "start_time": "2020-06-03T20:40:07.820421Z"
    }
   },
   "outputs": [],
   "source": [
    "import matplotlib.pyplot as plt\n",
    "import seaborn as sns\n",
    "sns.set()\n",
    "%matplotlib inline"
   ]
  },
  {
   "cell_type": "code",
   "execution_count": 58,
   "metadata": {
    "ExecuteTime": {
     "end_time": "2020-06-03T20:40:11.071970Z",
     "start_time": "2020-06-03T20:40:11.038263Z"
    }
   },
   "outputs": [],
   "source": [
    "def plot_features_importance(model, color):\n",
    "    '''\n",
    "    A funciton to plot my feature importances\n",
    "    \n",
    "    parameter:\n",
    "    model - the variable that we fit our model to. i.e. RF = RandomForest()\n",
    "    color - a string that will assign the graphs color scheme\n",
    "    \n",
    "    ex: rf = RandomForestClassifier()\n",
    "    model = rf\n",
    "    \n",
    "    returns:\n",
    "    a plot highlighting feature importance\n",
    "    '''\n",
    "    model.feature_importances_\n",
    "    importances = pd.Series(data=model.feature_importances_, index= X_train.columns)\n",
    "    importances_sorted = importances.sort_values()\n",
    "    importances_sorted.plot(kind='barh', color=color, figsize=(15,10))"
   ]
  },
  {
   "cell_type": "code",
   "execution_count": 59,
   "metadata": {
    "ExecuteTime": {
     "end_time": "2020-06-03T20:40:23.629855Z",
     "start_time": "2020-06-03T20:40:21.534739Z"
    }
   },
   "outputs": [
    {
     "data": {
      "image/png": "[encoded data removed]",
      "text/plain": [
       "<Figure size 1080x720 with 1 Axes>"
      ]
     },
     "metadata": {
      "needs_background": "light"
     },
     "output_type": "display_data"
    }
   ],
   "source": [
    "plot_features_importance(rf, \"red\")"
   ]
  },
  {
   "cell_type": "code",
   "execution_count": null,
   "metadata": {},
   "outputs": [],
   "source": []
  }
 ],
 "metadata": {
  "kernelspec": {
   "display_name": "Python 3",
   "language": "python",
   "name": "python3"
  },
  "language_info": {
   "codemirror_mode": {
    "name": "ipython",
    "version": 3
   },
   "file_extension": ".py",
   "mimetype": "text/x-python",
   "name": "python",
   "nbconvert_exporter": "python",
   "pygments_lexer": "ipython3",
   "version": "3.7.7"
  }
 },
 "nbformat": 4,
 "nbformat_minor": 4
}
