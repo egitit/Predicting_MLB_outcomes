{
 "cells": [
  {
   "cell_type": "code",
   "execution_count": 51,
   "metadata": {
    "ExecuteTime": {
     "end_time": "2020-06-03T15:24:48.006026Z",
     "start_time": "2020-06-03T15:24:47.997006Z"
    }
   },
   "outputs": [],
   "source": [
    "import pandas as pd\n",
    "import numpy as np"
   ]
  },
  {
   "cell_type": "code",
   "execution_count": 2,
   "metadata": {
    "ExecuteTime": {
     "end_time": "2020-06-03T14:52:52.862165Z",
     "start_time": "2020-06-03T14:52:52.848385Z"
    }
   },
   "outputs": [],
   "source": [
    "file = '/Users/Lisa/_MLB_Prediction_capstone/cleaned_batting_df.csv'\n",
    "file2 = '/Users/Lisa/_MLB_Prediction_capstone/cleaned_piching_df.csv'\n",
    "file3 = '/Users/Lisa/_MLB_Prediction_capstone/cleaned_game_df.csv'"
   ]
  },
  {
   "cell_type": "code",
   "execution_count": 3,
   "metadata": {
    "ExecuteTime": {
     "end_time": "2020-06-03T14:52:53.057557Z",
     "start_time": "2020-06-03T14:52:52.875424Z"
    }
   },
   "outputs": [],
   "source": [
    "batting_df = pd.read_csv(file)\n",
    "pitching_df = pd.read_csv(file2)\n",
    "game_df = pd.read_csv(file3)"
   ]
  },
  {
   "cell_type": "code",
   "execution_count": 4,
   "metadata": {
    "ExecuteTime": {
     "end_time": "2020-06-03T14:52:53.090529Z",
     "start_time": "2020-06-03T14:52:53.059575Z"
    }
   },
   "outputs": [],
   "source": [
    "batting_df.drop('Unnamed: 0', axis=1, inplace=True)\n",
    "pitching_df.drop('Unnamed: 0', axis=1, inplace=True)\n",
    "game_df.drop('Unnamed: 0', axis=1, inplace=True)"
   ]
  },
  {
   "cell_type": "markdown",
   "metadata": {},
   "source": [
    "## Batting Feature engineering ideas\n",
    "- All of these stats will be on a PER PLATE APPEARANCE then divide by 162 to get PER GAME STATS\n",
    "    - Team stats will be summed up and averaged - Will ultimately be compared to a teams 7 day trends history\n",
    "        - 'totalBases' / total 'plateAppearances' - DONE\n",
    "        - 'leftonbase'/ total 'plateAppearances' - DONE\n",
    "        - 'runs' / total 'plateAppearances' - DONE\n",
    "        - 'strikeOuts' / total 'atBats' - DONE\n",
    "        - 'baseOnBalls' + 'intentionalWalks' / total 'plateAppearances' - DONE\n",
    "            - 'hits' / total 'atBats' --- Leverage for game_df. get team stats per game...\n",
    "            - 'obp' / # of batters on team --- Same as above\n",
    "        - 'rbi' / total 'atBats' - DONE"
   ]
  },
  {
   "cell_type": "code",
   "execution_count": 5,
   "metadata": {
    "ExecuteTime": {
     "end_time": "2020-06-03T14:52:53.114639Z",
     "start_time": "2020-06-03T14:52:53.092938Z"
    }
   },
   "outputs": [],
   "source": [
    "# MIA & FLO are different. Standardizing to MIA\n",
    "batting_df.replace(to_replace='FLA', value='MIA', inplace=True)"
   ]
  },
  {
   "cell_type": "code",
   "execution_count": 6,
   "metadata": {
    "ExecuteTime": {
     "end_time": "2020-06-03T14:52:53.152020Z",
     "start_time": "2020-06-03T14:52:53.117838Z"
    }
   },
   "outputs": [
    {
     "data": {
      "text/plain": [
       "31"
      ]
     },
     "execution_count": 6,
     "metadata": {},
     "output_type": "execute_result"
    }
   ],
   "source": [
    "# 31 teams showing up since it seems like there are some NaN values for team names. Will deal with should it become an issue...\n",
    "len(batting_df.teamAbbrev.unique())"
   ]
  },
  {
   "cell_type": "markdown",
   "metadata": {},
   "source": [
    "### Create New Features for TEAM stats"
   ]
  },
  {
   "cell_type": "code",
   "execution_count": 7,
   "metadata": {
    "ExecuteTime": {
     "end_time": "2020-06-03T14:52:53.280080Z",
     "start_time": "2020-06-03T14:52:53.161642Z"
    },
    "code_folding": [
     0
    ]
   },
   "outputs": [],
   "source": [
    "# THIS IS THE FRAMEWORK TO GENERATE TEAM STATISTICS...\n",
    "# Creating a dataframe containing team annual Batting Averages\n",
    "a = batting_df.groupby(['year', 'teamAbbrev'])['hits'].sum()\n",
    "b = batting_df.groupby(['year', 'teamAbbrev'])['plateAppearances'].sum()\n",
    "a = a.to_frame()\n",
    "b = b.to_frame()\n",
    "BA = a.join(b, on=['year', 'teamAbbrev'])\n",
    "BA['team_BA'] = round((BA['hits']/BA['plateAppearances']), 3)\n",
    "# BA = BA.reset_index()"
   ]
  },
  {
   "cell_type": "code",
   "execution_count": 8,
   "metadata": {
    "ExecuteTime": {
     "end_time": "2020-06-03T14:52:53.328989Z",
     "start_time": "2020-06-03T14:52:53.291828Z"
    },
    "code_folding": [
     0
    ]
   },
   "outputs": [],
   "source": [
    "# Total bases per plate appearance\n",
    "# Commented out. Taking a different approach\n",
    "# batting_df['Total_bases_per_plateappearance'] = (batting_df['totalBases'] / batting_df['plateAppearances'])\n",
    "\n",
    "a = batting_df.groupby(['year', 'teamAbbrev'])['totalBases'].sum()\n",
    "b = batting_df.groupby(['year', 'teamAbbrev'])['plateAppearances'].sum()\n",
    "a = a.to_frame()\n",
    "b = b.to_frame()\n",
    "TB = a.join(b, on=['year', 'teamAbbrev'])\n",
    "TB['total_bases_avg'] = round((TB['totalBases']/TB['plateAppearances']), 3)\n",
    "# TB = TB.reset_index()"
   ]
  },
  {
   "cell_type": "code",
   "execution_count": 9,
   "metadata": {
    "ExecuteTime": {
     "end_time": "2020-06-03T14:52:53.378482Z",
     "start_time": "2020-06-03T14:52:53.337509Z"
    },
    "code_folding": [
     0
    ]
   },
   "outputs": [],
   "source": [
    "# LOB per plate appearnace\n",
    "# Commented out. Taking a different approach\n",
    "# batting_df['LOB_per_plateappearance'] = (batting_df['leftOnBase'] / batting_df['plateAppearances'])\n",
    "\n",
    "a = batting_df.groupby(['year', 'teamAbbrev'])['leftOnBase'].sum()\n",
    "b = batting_df.groupby(['year', 'teamAbbrev'])['plateAppearances'].sum()\n",
    "a = a.to_frame()\n",
    "b = b.to_frame()\n",
    "LOB = a.join(b, on=['year', 'teamAbbrev'])\n",
    "LOB['LOB_avg'] = round((LOB['leftOnBase']/LOB['plateAppearances']), 3)\n",
    "# LOB = LOB.reset_index()"
   ]
  },
  {
   "cell_type": "code",
   "execution_count": 10,
   "metadata": {
    "ExecuteTime": {
     "end_time": "2020-06-03T14:52:53.419960Z",
     "start_time": "2020-06-03T14:52:53.381382Z"
    },
    "code_folding": [
     0
    ]
   },
   "outputs": [],
   "source": [
    "# Runs per plate appearance\n",
    "# Commented out. Taking a different approach\n",
    "#batting_df['runs_per_plateappearance'] = (batting_df['runs'] / batting_df['plateAppearances'])\n",
    "\n",
    "a = batting_df.groupby(['year', 'teamAbbrev'])['runs'].sum()\n",
    "b = batting_df.groupby(['year', 'teamAbbrev'])['plateAppearances'].sum()\n",
    "a = a.to_frame()\n",
    "b = b.to_frame()\n",
    "RUNS = a.join(b, on=['year', 'teamAbbrev'])\n",
    "RUNS['runs_avg'] = round((RUNS['runs']/RUNS['plateAppearances']), 3)\n",
    "# RUNS = RUNS.reset_index()"
   ]
  },
  {
   "cell_type": "code",
   "execution_count": 11,
   "metadata": {
    "ExecuteTime": {
     "end_time": "2020-06-03T14:52:53.466943Z",
     "start_time": "2020-06-03T14:52:53.422403Z"
    },
    "code_folding": [
     0
    ]
   },
   "outputs": [],
   "source": [
    "# K's per AtBat\n",
    "# Commented out. Taking a different approach\n",
    "# batting_df['K_per_plateappearance'] = (batting_df['strikeOuts'] / batting_df['atBats'])\n",
    "\n",
    "a = batting_df.groupby(['year', 'teamAbbrev'])['strikeOuts'].sum()\n",
    "b = batting_df.groupby(['year', 'teamAbbrev'])['atBats'].sum()\n",
    "a = a.to_frame()\n",
    "b = b.to_frame()\n",
    "K = a.join(b, on=['year', 'teamAbbrev'])\n",
    "K['K_avg'] = round((K['strikeOuts']/K['atBats']), 3)\n",
    "# K = K.reset_index()"
   ]
  },
  {
   "cell_type": "code",
   "execution_count": 12,
   "metadata": {
    "ExecuteTime": {
     "end_time": "2020-06-03T14:52:53.510787Z",
     "start_time": "2020-06-03T14:52:53.470702Z"
    },
    "code_folding": [
     0
    ]
   },
   "outputs": [],
   "source": [
    "# BB per plate appearance\n",
    "# Commented out. Taking a different approach\n",
    "# batting_df['BB+IBB_per_plateappearance'] = ((batting_df['baseOnBalls'] + 'took out IBB for simplicity' / batting_df['plateAppearances'])\n",
    "\n",
    "a = batting_df.groupby(['year', 'teamAbbrev'])['baseOnBalls'].sum()\n",
    "b = batting_df.groupby(['year', 'teamAbbrev'])['plateAppearances'].sum()\n",
    "a = a.to_frame()\n",
    "b = b.to_frame()\n",
    "BB = a.join(b, on=['year', 'teamAbbrev'])\n",
    "BB['BB_avg'] = round((BB['baseOnBalls']/BB['plateAppearances']), 3)\n",
    "# BB = BB.reset_index()"
   ]
  },
  {
   "cell_type": "code",
   "execution_count": 13,
   "metadata": {
    "ExecuteTime": {
     "end_time": "2020-06-03T14:52:53.554865Z",
     "start_time": "2020-06-03T14:52:53.512964Z"
    },
    "code_folding": [
     0
    ]
   },
   "outputs": [],
   "source": [
    "# RBI per plate appearance\n",
    "# Commented out. Taking a different approach\n",
    "# batting_df['RBI_per_plateappearance'] = (batting_df['rbi'] / batting_df['atBats'])\n",
    "\n",
    "a = batting_df.groupby(['year', 'teamAbbrev'])['rbi'].sum()\n",
    "b = batting_df.groupby(['year', 'teamAbbrev'])['plateAppearances'].sum()\n",
    "a = a.to_frame()\n",
    "b = b.to_frame()\n",
    "RBI = a.join(b, on=['year', 'teamAbbrev'])\n",
    "RBI['RBI_avg'] = round((RBI['rbi']/RBI['plateAppearances']), 3)\n",
    "# RBI = RBI.reset_index()"
   ]
  },
  {
   "cell_type": "markdown",
   "metadata": {},
   "source": [
    "## Merge all the TEAM stats into one dataframe"
   ]
  },
  {
   "cell_type": "code",
   "execution_count": 14,
   "metadata": {
    "ExecuteTime": {
     "end_time": "2020-06-03T14:52:53.575357Z",
     "start_time": "2020-06-03T14:52:53.556836Z"
    }
   },
   "outputs": [],
   "source": [
    "team_stats_lst = [BA, TB, LOB, RUNS, K, BB, RBI]"
   ]
  },
  {
   "cell_type": "code",
   "execution_count": 15,
   "metadata": {
    "ExecuteTime": {
     "end_time": "2020-06-03T14:52:53.616524Z",
     "start_time": "2020-06-03T14:52:53.579789Z"
    }
   },
   "outputs": [],
   "source": [
    "team_stats = pd.concat(team_stats_lst, join='outer', axis=1)"
   ]
  },
  {
   "cell_type": "code",
   "execution_count": 16,
   "metadata": {
    "ExecuteTime": {
     "end_time": "2020-06-03T14:52:53.640072Z",
     "start_time": "2020-06-03T14:52:53.619641Z"
    }
   },
   "outputs": [],
   "source": [
    "team_stats = team_stats.reset_index()"
   ]
  },
  {
   "cell_type": "code",
   "execution_count": 17,
   "metadata": {
    "ExecuteTime": {
     "end_time": "2020-06-03T14:52:53.666395Z",
     "start_time": "2020-06-03T14:52:53.642846Z"
    }
   },
   "outputs": [
    {
     "data": {
      "text/plain": [
       "Index(['year', 'teamAbbrev', 'hits', 'plateAppearances', 'team_BA',\n",
       "       'totalBases', 'plateAppearances', 'total_bases_avg', 'leftOnBase',\n",
       "       'plateAppearances', 'LOB_avg', 'runs', 'plateAppearances', 'runs_avg',\n",
       "       'strikeOuts', 'atBats', 'K_avg', 'baseOnBalls', 'plateAppearances',\n",
       "       'BB_avg', 'rbi', 'plateAppearances', 'RBI_avg'],\n",
       "      dtype='object')"
      ]
     },
     "execution_count": 17,
     "metadata": {},
     "output_type": "execute_result"
    }
   ],
   "source": [
    "team_stats.columns"
   ]
  },
  {
   "cell_type": "markdown",
   "metadata": {},
   "source": [
    "## Pitching Feature engineering ideas\n",
    "- Pitching stats will focus on starting pitchers Per9 innings stat (except for certain features)\n",
    "    - 'winningPercentage'\n",
    "    - 'runsScoredPer9'\n",
    "        - 'ops' - may leave out for now...\n",
    "    - 'hitsPer9'\n",
    "    - 'era'\n",
    "    - 'whip'"
   ]
  },
  {
   "cell_type": "code",
   "execution_count": 18,
   "metadata": {
    "ExecuteTime": {
     "end_time": "2020-06-03T14:52:53.690459Z",
     "start_time": "2020-06-03T14:52:53.671634Z"
    }
   },
   "outputs": [],
   "source": [
    "pitching_df = pitching_df.reindex(columns=['year', 'playerName', 'teamAbbrev', 'winningPercentage',\n",
    "       'runsScoredPer9', 'hitsPer9', 'strikeoutsPer9', 'baseOnBallsPer9',\n",
    "       'homeRunsPer9', 'era', 'whip', 'ops', 'gidp', 'avg'])\n",
    "# Columns to be left out from the reindexing --- 'winPercentage', 'strikeoutsPer9Inn', 'walksPer9Inn', 'hitsPer9Inn'"
   ]
  },
  {
   "cell_type": "code",
   "execution_count": 19,
   "metadata": {
    "ExecuteTime": {
     "end_time": "2020-06-03T14:52:53.742629Z",
     "start_time": "2020-06-03T14:52:53.707086Z"
    }
   },
   "outputs": [],
   "source": [
    "# MIA & FLO are different. Standardizing to MIA\n",
    "pitching_df.replace(to_replace='FLA', value='MIA', inplace=True)"
   ]
  },
  {
   "cell_type": "code",
   "execution_count": 20,
   "metadata": {
    "ExecuteTime": {
     "end_time": "2020-06-03T14:52:53.780321Z",
     "start_time": "2020-06-03T14:52:53.747517Z"
    }
   },
   "outputs": [
    {
     "data": {
      "text/plain": [
       "31"
      ]
     },
     "execution_count": 20,
     "metadata": {},
     "output_type": "execute_result"
    }
   ],
   "source": [
    "# 31 teams showing up since it seems like there are some NaN values for team names. Will deal with should it become an issue...\n",
    "len(pitching_df.teamAbbrev.unique())"
   ]
  },
  {
   "cell_type": "markdown",
   "metadata": {},
   "source": [
    "## Game DF Feature ideas\n",
    "- Turn VisitorRunsScored & HomeRunsScore into a column that indicates if the home team won - DONE.\n",
    "- Combine VisitorHBP & VisitorBB & VisitorIBB into a single column containing all the stats - DONE.\n",
    "- Same with HomeHBP & HomeBB & HomeIBB - DONE.\n",
    "<br/><br/>\n",
    "- Combine VisitorH / VisitorAB = team_BA - DONE.\n",
    "- Same with HomeH / HomeAB - DONE. \n",
    "<br/><br/>\n",
    "- Eventually add on all the other engineered features into this dataframe...\n",
    "<br/><br/>\n",
    "- Since the game_df has a date column, I'd like to leverage that to look at 7-day-trends, 14-day-trends, etc"
   ]
  },
  {
   "cell_type": "code",
   "execution_count": 21,
   "metadata": {
    "ExecuteTime": {
     "end_time": "2020-06-03T14:52:53.808910Z",
     "start_time": "2020-06-03T14:52:53.783142Z"
    }
   },
   "outputs": [],
   "source": [
    "# Creating a Target for the model to eventually train on\n",
    "game_df['Home_team_won?'] = game_df['HomeRunsScore'] > game_df['VisitorRunsScored']"
   ]
  },
  {
   "cell_type": "code",
   "execution_count": 22,
   "metadata": {
    "ExecuteTime": {
     "end_time": "2020-06-03T14:52:53.822964Z",
     "start_time": "2020-06-03T14:52:53.813169Z"
    }
   },
   "outputs": [],
   "source": [
    "# game_df['Visitor_HBP+BB+IBB'] = game_df['VisitorHBP'] + game_df['VisitorBB'] + game_df['VisitorIBB']\n",
    "# game_df['Home_HBP+BB+IBB'] = game_df['HomeHBP'] + game_df['HomeBB'] + game_df['HomeIBB']\n",
    "\n",
    "# Commenting out for now until I figure out if I need to drop these or not...\n",
    "# game_df.drop(['VisitorHBP', 'VisitorBB', 'VisitorIBB', 'HomeHBP', 'HomeBB', 'HomeIBB'], axis=1, inplace=True)"
   ]
  },
  {
   "cell_type": "code",
   "execution_count": 23,
   "metadata": {
    "ExecuteTime": {
     "end_time": "2020-06-03T14:52:53.875231Z",
     "start_time": "2020-06-03T14:52:53.836773Z"
    }
   },
   "outputs": [],
   "source": [
    "# Adding a Home & Away BA per game to compare batting trends over time\n",
    "game_df['Visitor_BA'] = round((game_df['VisitorH'] / game_df['VisitorAB']), 3)\n",
    "game_df['Home_BA'] = round((game_df['HomeH'] / game_df['HomeAB']), 3)"
   ]
  },
  {
   "cell_type": "code",
   "execution_count": 24,
   "metadata": {
    "ExecuteTime": {
     "end_time": "2020-06-03T14:52:53.949176Z",
     "start_time": "2020-06-03T14:52:53.877752Z"
    }
   },
   "outputs": [],
   "source": [
    "# Creating a new column in order to add Date/Time to my dataframe\n",
    "game_df['New_Date'] = pd.to_datetime(game_df['Date'].astype(str), format='%Y%m%d')"
   ]
  },
  {
   "cell_type": "code",
   "execution_count": 25,
   "metadata": {
    "ExecuteTime": {
     "end_time": "2020-06-03T14:52:53.994418Z",
     "start_time": "2020-06-03T14:52:53.951473Z"
    }
   },
   "outputs": [],
   "source": [
    "# Rearranging columns so new date/time is at the front of the DF\n",
    "game_df = game_df.reindex(columns=['New_Date','Date', 'VisitingTeam','VisitorStartingPitcherName',\n",
    "                                 'HomeTeam','HomeStartingPitcherName', 'VisitorRunsScored',\n",
    "       'HomeRunsScore', 'VisitorAB', 'VisitorH','Visitor_BA', 'VisitorHBP', 'VisitorBB',\n",
    "       'VisitorIBB', 'VisitorLOB', 'HomeAB', 'HomeH', 'Home_BA', 'HomeHBP', 'HomeBB', 'HomeIBB', 'HomeLOB', 'Home_team_won?'])\n",
    "game_df.drop('Date', axis='columns', inplace=True)"
   ]
  },
  {
   "cell_type": "code",
   "execution_count": 26,
   "metadata": {
    "ExecuteTime": {
     "end_time": "2020-06-03T14:52:54.619593Z",
     "start_time": "2020-06-03T14:52:54.016658Z"
    }
   },
   "outputs": [],
   "source": [
    "# Had an extra team due to the Marlins having two different labels. Updating their team name to MIA\n",
    "game_df.replace(to_replace='FLO', value='MIA', inplace=True)\n",
    "# Updating game_df so team abbreviations match. Will be leveraged when aggregating teams stats\n",
    "game_df.replace(to_replace={\"NYA\":\"NYY\", \"SDN\":\"SD\", \"CHN\":\"CHC\", \"SLN\":\"STL\", \"SFN\":\"SF\", \"LAN\":\"LAD\", \"TBA\":\"TB\", \"KCA\":\"KC\", \"CHA\":\"CWS\", \"ANA\":\"LAA\", \"NYN\":\"NYM\"}, inplace=True)"
   ]
  },
  {
   "cell_type": "code",
   "execution_count": 27,
   "metadata": {
    "ExecuteTime": {
     "end_time": "2020-06-03T14:52:54.647567Z",
     "start_time": "2020-06-03T14:52:54.622515Z"
    },
    "code_folding": [
     0
    ]
   },
   "outputs": [
    {
     "data": {
      "text/plain": [
       "30"
      ]
     },
     "execution_count": 27,
     "metadata": {},
     "output_type": "execute_result"
    }
   ],
   "source": [
    "# game_df has 30 teams. Perfect!\n",
    "len(game_df.VisitingTeam.unique())"
   ]
  },
  {
   "cell_type": "code",
   "execution_count": 28,
   "metadata": {
    "ExecuteTime": {
     "end_time": "2020-06-03T14:52:54.694577Z",
     "start_time": "2020-06-03T14:52:54.658881Z"
    },
    "scrolled": false
   },
   "outputs": [],
   "source": [
    "# How to Access the\n",
    "game_df['prior_year'] = game_df['New_Date'].dt.year-1"
   ]
  },
  {
   "cell_type": "code",
   "execution_count": 29,
   "metadata": {
    "ExecuteTime": {
     "end_time": "2020-06-03T14:52:54.732144Z",
     "start_time": "2020-06-03T14:52:54.701771Z"
    }
   },
   "outputs": [
    {
     "data": {
      "text/plain": [
       "dtype('int64')"
      ]
     },
     "execution_count": 29,
     "metadata": {},
     "output_type": "execute_result"
    }
   ],
   "source": [
    "game_df['prior_year'].dtypes"
   ]
  },
  {
   "cell_type": "code",
   "execution_count": 30,
   "metadata": {
    "ExecuteTime": {
     "end_time": "2020-06-03T14:52:54.774146Z",
     "start_time": "2020-06-03T14:52:54.745937Z"
    }
   },
   "outputs": [
    {
     "data": {
      "text/plain": [
       "(24297, 23)"
      ]
     },
     "execution_count": 30,
     "metadata": {},
     "output_type": "execute_result"
    }
   ],
   "source": [
    "game_df.shape"
   ]
  },
  {
   "cell_type": "code",
   "execution_count": 31,
   "metadata": {
    "ExecuteTime": {
     "end_time": "2020-06-03T14:52:54.898235Z",
     "start_time": "2020-06-03T14:52:54.777843Z"
    }
   },
   "outputs": [],
   "source": [
    "game_df = game_df.merge(pitching_df, how='left', left_on=['prior_year','VisitorStartingPitcherName'], right_on=['year', 'playerName'])"
   ]
  },
  {
   "cell_type": "code",
   "execution_count": 32,
   "metadata": {
    "ExecuteTime": {
     "end_time": "2020-06-03T14:52:54.934425Z",
     "start_time": "2020-06-03T14:52:54.908769Z"
    }
   },
   "outputs": [
    {
     "data": {
      "text/plain": [
       "(Index(['New_Date', 'VisitingTeam', 'VisitorStartingPitcherName', 'HomeTeam',\n",
       "        'HomeStartingPitcherName', 'VisitorRunsScored', 'HomeRunsScore',\n",
       "        'VisitorAB', 'VisitorH', 'Visitor_BA', 'VisitorHBP', 'VisitorBB',\n",
       "        'VisitorIBB', 'VisitorLOB', 'HomeAB', 'HomeH', 'Home_BA', 'HomeHBP',\n",
       "        'HomeBB', 'HomeIBB', 'HomeLOB', 'Home_team_won?', 'prior_year', 'year',\n",
       "        'playerName', 'teamAbbrev', 'winningPercentage', 'runsScoredPer9',\n",
       "        'hitsPer9', 'strikeoutsPer9', 'baseOnBallsPer9', 'homeRunsPer9', 'era',\n",
       "        'whip', 'ops', 'gidp', 'avg'],\n",
       "       dtype='object'),\n",
       " (24299, 37))"
      ]
     },
     "execution_count": 32,
     "metadata": {},
     "output_type": "execute_result"
    }
   ],
   "source": [
    "game_df.columns, game_df.shape"
   ]
  },
  {
   "cell_type": "code",
   "execution_count": 33,
   "metadata": {
    "ExecuteTime": {
     "end_time": "2020-06-03T14:52:55.036879Z",
     "start_time": "2020-06-03T14:52:54.953326Z"
    }
   },
   "outputs": [],
   "source": [
    "game_df = game_df.merge(pitching_df, how='left', left_on=['prior_year','HomeStartingPitcherName'], right_on=['year', 'playerName'])"
   ]
  },
  {
   "cell_type": "code",
   "execution_count": 34,
   "metadata": {
    "ExecuteTime": {
     "end_time": "2020-06-03T14:52:55.053480Z",
     "start_time": "2020-06-03T14:52:55.039787Z"
    }
   },
   "outputs": [
    {
     "data": {
      "text/plain": [
       "(Index(['New_Date', 'VisitingTeam', 'VisitorStartingPitcherName', 'HomeTeam',\n",
       "        'HomeStartingPitcherName', 'VisitorRunsScored', 'HomeRunsScore',\n",
       "        'VisitorAB', 'VisitorH', 'Visitor_BA', 'VisitorHBP', 'VisitorBB',\n",
       "        'VisitorIBB', 'VisitorLOB', 'HomeAB', 'HomeH', 'Home_BA', 'HomeHBP',\n",
       "        'HomeBB', 'HomeIBB', 'HomeLOB', 'Home_team_won?', 'prior_year',\n",
       "        'year_x', 'playerName_x', 'teamAbbrev_x', 'winningPercentage_x',\n",
       "        'runsScoredPer9_x', 'hitsPer9_x', 'strikeoutsPer9_x',\n",
       "        'baseOnBallsPer9_x', 'homeRunsPer9_x', 'era_x', 'whip_x', 'ops_x',\n",
       "        'gidp_x', 'avg_x', 'year_y', 'playerName_y', 'teamAbbrev_y',\n",
       "        'winningPercentage_y', 'runsScoredPer9_y', 'hitsPer9_y',\n",
       "        'strikeoutsPer9_y', 'baseOnBallsPer9_y', 'homeRunsPer9_y', 'era_y',\n",
       "        'whip_y', 'ops_y', 'gidp_y', 'avg_y'],\n",
       "       dtype='object'),\n",
       " (24300, 51))"
      ]
     },
     "execution_count": 34,
     "metadata": {},
     "output_type": "execute_result"
    }
   ],
   "source": [
    "game_df.columns, game_df.shape"
   ]
  },
  {
   "cell_type": "code",
   "execution_count": 37,
   "metadata": {
    "ExecuteTime": {
     "end_time": "2020-06-03T15:00:01.061351Z",
     "start_time": "2020-06-03T15:00:01.030814Z"
    },
    "collapsed": true
   },
   "outputs": [
    {
     "name": "stdout",
     "output_type": "stream",
     "text": [
      "New_Date\n",
      "VisitingTeam\n",
      "VisitorStartingPitcherName\n",
      "HomeTeam\n",
      "HomeStartingPitcherName\n",
      "VisitorRunsScored\n",
      "HomeRunsScore\n",
      "VisitorAB\n",
      "VisitorH\n",
      "Visitor_BA\n",
      "VisitorHBP\n",
      "VisitorBB\n",
      "VisitorIBB\n",
      "VisitorLOB\n",
      "HomeAB\n",
      "HomeH\n",
      "Home_BA\n",
      "HomeHBP\n",
      "HomeBB\n",
      "HomeIBB\n",
      "HomeLOB\n",
      "Home_team_won?\n",
      "prior_year\n",
      "year_x\n",
      "playerName_x\n",
      "teamAbbrev_x\n",
      "winningPercentage_x\n",
      "runsScoredPer9_x\n",
      "hitsPer9_x\n",
      "strikeoutsPer9_x\n",
      "baseOnBallsPer9_x\n",
      "homeRunsPer9_x\n",
      "era_x\n",
      "whip_x\n",
      "ops_x\n",
      "gidp_x\n",
      "avg_x\n",
      "year_y\n",
      "playerName_y\n",
      "teamAbbrev_y\n",
      "winningPercentage_y\n",
      "runsScoredPer9_y\n",
      "hitsPer9_y\n",
      "strikeoutsPer9_y\n",
      "baseOnBallsPer9_y\n",
      "homeRunsPer9_y\n",
      "era_y\n",
      "whip_y\n",
      "ops_y\n",
      "gidp_y\n",
      "avg_y\n"
     ]
    }
   ],
   "source": [
    "for name in game_df.columns:\n",
    "    print(name)"
   ]
  },
  {
   "cell_type": "markdown",
   "metadata": {},
   "source": [
    "### Team Batting stats to add to DF"
   ]
  },
  {
   "cell_type": "code",
   "execution_count": 35,
   "metadata": {
    "ExecuteTime": {
     "end_time": "2020-06-03T14:52:55.151246Z",
     "start_time": "2020-06-03T14:52:55.059971Z"
    }
   },
   "outputs": [
    {
     "data": {
      "text/html": [
       "<div>\n",
       "<style scoped>\n",
       "    .dataframe tbody tr th:only-of-type {\n",
       "        vertical-align: middle;\n",
       "    }\n",
       "\n",
       "    .dataframe tbody tr th {\n",
       "        vertical-align: top;\n",
       "    }\n",
       "\n",
       "    .dataframe thead th {\n",
       "        text-align: right;\n",
       "    }\n",
       "</style>\n",
       "<table border=\"1\" class=\"dataframe\">\n",
       "  <thead>\n",
       "    <tr style=\"text-align: right;\">\n",
       "      <th></th>\n",
       "      <th>year</th>\n",
       "      <th>teamAbbrev</th>\n",
       "      <th>hits</th>\n",
       "      <th>plateAppearances</th>\n",
       "      <th>team_BA</th>\n",
       "      <th>totalBases</th>\n",
       "      <th>plateAppearances</th>\n",
       "      <th>total_bases_avg</th>\n",
       "      <th>leftOnBase</th>\n",
       "      <th>plateAppearances</th>\n",
       "      <th>...</th>\n",
       "      <th>runs_avg</th>\n",
       "      <th>strikeOuts</th>\n",
       "      <th>atBats</th>\n",
       "      <th>K_avg</th>\n",
       "      <th>baseOnBalls</th>\n",
       "      <th>plateAppearances</th>\n",
       "      <th>BB_avg</th>\n",
       "      <th>rbi</th>\n",
       "      <th>plateAppearances</th>\n",
       "      <th>RBI_avg</th>\n",
       "    </tr>\n",
       "  </thead>\n",
       "  <tbody>\n",
       "    <tr>\n",
       "      <th>0</th>\n",
       "      <td>2009</td>\n",
       "      <td>ARI</td>\n",
       "      <td>1310</td>\n",
       "      <td>5858</td>\n",
       "      <td>0.224</td>\n",
       "      <td>2195</td>\n",
       "      <td>5858</td>\n",
       "      <td>0.375</td>\n",
       "      <td>2225</td>\n",
       "      <td>5858</td>\n",
       "      <td>...</td>\n",
       "      <td>0.116</td>\n",
       "      <td>1224</td>\n",
       "      <td>5182</td>\n",
       "      <td>0.236</td>\n",
       "      <td>545</td>\n",
       "      <td>5858</td>\n",
       "      <td>0.093</td>\n",
       "      <td>664</td>\n",
       "      <td>5858</td>\n",
       "      <td>0.113</td>\n",
       "    </tr>\n",
       "    <tr>\n",
       "      <th>1</th>\n",
       "      <td>2009</td>\n",
       "      <td>ATL</td>\n",
       "      <td>1492</td>\n",
       "      <td>6510</td>\n",
       "      <td>0.229</td>\n",
       "      <td>2336</td>\n",
       "      <td>6510</td>\n",
       "      <td>0.359</td>\n",
       "      <td>2432</td>\n",
       "      <td>6510</td>\n",
       "      <td>...</td>\n",
       "      <td>0.119</td>\n",
       "      <td>1137</td>\n",
       "      <td>5678</td>\n",
       "      <td>0.200</td>\n",
       "      <td>637</td>\n",
       "      <td>6510</td>\n",
       "      <td>0.098</td>\n",
       "      <td>723</td>\n",
       "      <td>6510</td>\n",
       "      <td>0.111</td>\n",
       "    </tr>\n",
       "    <tr>\n",
       "      <th>2</th>\n",
       "      <td>2009</td>\n",
       "      <td>BAL</td>\n",
       "      <td>1367</td>\n",
       "      <td>5610</td>\n",
       "      <td>0.244</td>\n",
       "      <td>2107</td>\n",
       "      <td>5610</td>\n",
       "      <td>0.376</td>\n",
       "      <td>2132</td>\n",
       "      <td>5610</td>\n",
       "      <td>...</td>\n",
       "      <td>0.120</td>\n",
       "      <td>913</td>\n",
       "      <td>5073</td>\n",
       "      <td>0.180</td>\n",
       "      <td>449</td>\n",
       "      <td>5610</td>\n",
       "      <td>0.080</td>\n",
       "      <td>628</td>\n",
       "      <td>5610</td>\n",
       "      <td>0.112</td>\n",
       "    </tr>\n",
       "    <tr>\n",
       "      <th>3</th>\n",
       "      <td>2009</td>\n",
       "      <td>BOS</td>\n",
       "      <td>1915</td>\n",
       "      <td>8245</td>\n",
       "      <td>0.232</td>\n",
       "      <td>3151</td>\n",
       "      <td>8245</td>\n",
       "      <td>0.382</td>\n",
       "      <td>3223</td>\n",
       "      <td>8245</td>\n",
       "      <td>...</td>\n",
       "      <td>0.128</td>\n",
       "      <td>1435</td>\n",
       "      <td>7202</td>\n",
       "      <td>0.199</td>\n",
       "      <td>864</td>\n",
       "      <td>8245</td>\n",
       "      <td>0.105</td>\n",
       "      <td>1036</td>\n",
       "      <td>8245</td>\n",
       "      <td>0.126</td>\n",
       "    </tr>\n",
       "    <tr>\n",
       "      <th>4</th>\n",
       "      <td>2009</td>\n",
       "      <td>CHC</td>\n",
       "      <td>1392</td>\n",
       "      <td>6214</td>\n",
       "      <td>0.224</td>\n",
       "      <td>2228</td>\n",
       "      <td>6214</td>\n",
       "      <td>0.359</td>\n",
       "      <td>2458</td>\n",
       "      <td>6214</td>\n",
       "      <td>...</td>\n",
       "      <td>0.113</td>\n",
       "      <td>1176</td>\n",
       "      <td>5459</td>\n",
       "      <td>0.215</td>\n",
       "      <td>590</td>\n",
       "      <td>6214</td>\n",
       "      <td>0.095</td>\n",
       "      <td>679</td>\n",
       "      <td>6214</td>\n",
       "      <td>0.109</td>\n",
       "    </tr>\n",
       "  </tbody>\n",
       "</table>\n",
       "<p>5 rows × 23 columns</p>\n",
       "</div>"
      ],
      "text/plain": [
       "   year teamAbbrev  hits  plateAppearances  team_BA  totalBases  \\\n",
       "0  2009        ARI  1310              5858    0.224        2195   \n",
       "1  2009        ATL  1492              6510    0.229        2336   \n",
       "2  2009        BAL  1367              5610    0.244        2107   \n",
       "3  2009        BOS  1915              8245    0.232        3151   \n",
       "4  2009        CHC  1392              6214    0.224        2228   \n",
       "\n",
       "   plateAppearances  total_bases_avg  leftOnBase  plateAppearances  ...  \\\n",
       "0              5858            0.375        2225              5858  ...   \n",
       "1              6510            0.359        2432              6510  ...   \n",
       "2              5610            0.376        2132              5610  ...   \n",
       "3              8245            0.382        3223              8245  ...   \n",
       "4              6214            0.359        2458              6214  ...   \n",
       "\n",
       "   runs_avg  strikeOuts  atBats  K_avg  baseOnBalls  plateAppearances  BB_avg  \\\n",
       "0     0.116        1224    5182  0.236          545              5858   0.093   \n",
       "1     0.119        1137    5678  0.200          637              6510   0.098   \n",
       "2     0.120         913    5073  0.180          449              5610   0.080   \n",
       "3     0.128        1435    7202  0.199          864              8245   0.105   \n",
       "4     0.113        1176    5459  0.215          590              6214   0.095   \n",
       "\n",
       "    rbi  plateAppearances  RBI_avg  \n",
       "0   664              5858    0.113  \n",
       "1   723              6510    0.111  \n",
       "2   628              5610    0.112  \n",
       "3  1036              8245    0.126  \n",
       "4   679              6214    0.109  \n",
       "\n",
       "[5 rows x 23 columns]"
      ]
     },
     "execution_count": 35,
     "metadata": {},
     "output_type": "execute_result"
    }
   ],
   "source": [
    "team_stats.head()"
   ]
  },
  {
   "cell_type": "code",
   "execution_count": 38,
   "metadata": {
    "ExecuteTime": {
     "end_time": "2020-06-03T15:04:32.318708Z",
     "start_time": "2020-06-03T15:04:32.300744Z"
    }
   },
   "outputs": [],
   "source": [
    "team_stats.drop('plateAppearances', axis=1, inplace=True)"
   ]
  },
  {
   "cell_type": "code",
   "execution_count": 43,
   "metadata": {
    "ExecuteTime": {
     "end_time": "2020-06-03T15:10:30.149151Z",
     "start_time": "2020-06-03T15:10:30.139045Z"
    }
   },
   "outputs": [
    {
     "data": {
      "text/plain": [
       "(Index(['year', 'teamAbbrev', 'hits', 'team_BA', 'totalBases',\n",
       "        'total_bases_avg', 'leftOnBase', 'LOB_avg', 'runs', 'runs_avg',\n",
       "        'strikeOuts', 'atBats', 'K_avg', 'baseOnBalls', 'BB_avg', 'rbi',\n",
       "        'RBI_avg'],\n",
       "       dtype='object'),\n",
       " (330, 17))"
      ]
     },
     "execution_count": 43,
     "metadata": {},
     "output_type": "execute_result"
    }
   ],
   "source": [
    "team_stats.columns, team_stats.shape"
   ]
  },
  {
   "cell_type": "code",
   "execution_count": 45,
   "metadata": {
    "ExecuteTime": {
     "end_time": "2020-06-03T15:12:26.289067Z",
     "start_time": "2020-06-03T15:12:26.179395Z"
    }
   },
   "outputs": [],
   "source": [
    "game_df = game_df.merge(team_stats, how='left', left_on=['prior_year', 'VisitingTeam'], right_on=['year', 'teamAbbrev'])"
   ]
  },
  {
   "cell_type": "code",
   "execution_count": 46,
   "metadata": {
    "ExecuteTime": {
     "end_time": "2020-06-03T15:12:51.471435Z",
     "start_time": "2020-06-03T15:12:51.332922Z"
    }
   },
   "outputs": [],
   "source": [
    "game_df = game_df.merge(team_stats, how='left', left_on=['prior_year', 'HomeTeam'], right_on=['year', 'teamAbbrev'])"
   ]
  },
  {
   "cell_type": "code",
   "execution_count": 50,
   "metadata": {
    "ExecuteTime": {
     "end_time": "2020-06-03T15:14:21.466607Z",
     "start_time": "2020-06-03T15:14:21.432574Z"
    }
   },
   "outputs": [
    {
     "name": "stdout",
     "output_type": "stream",
     "text": [
      "New_Date\n",
      "VisitingTeam\n",
      "VisitorStartingPitcherName\n",
      "HomeTeam\n",
      "HomeStartingPitcherName\n",
      "VisitorRunsScored\n",
      "HomeRunsScore\n",
      "VisitorAB\n",
      "VisitorH\n",
      "Visitor_BA\n",
      "VisitorHBP\n",
      "VisitorBB\n",
      "VisitorIBB\n",
      "VisitorLOB\n",
      "HomeAB\n",
      "HomeH\n",
      "Home_BA\n",
      "HomeHBP\n",
      "HomeBB\n",
      "HomeIBB\n",
      "HomeLOB\n",
      "Home_team_won?\n",
      "prior_year\n",
      "year_x\n",
      "playerName_x\n",
      "teamAbbrev_x\n",
      "winningPercentage_x\n",
      "runsScoredPer9_x\n",
      "hitsPer9_x\n",
      "strikeoutsPer9_x\n",
      "baseOnBallsPer9_x\n",
      "homeRunsPer9_x\n",
      "era_x\n",
      "whip_x\n",
      "ops_x\n",
      "gidp_x\n",
      "avg_x\n",
      "year_y\n",
      "playerName_y\n",
      "teamAbbrev_y\n",
      "winningPercentage_y\n",
      "runsScoredPer9_y\n",
      "hitsPer9_y\n",
      "strikeoutsPer9_y\n",
      "baseOnBallsPer9_y\n",
      "homeRunsPer9_y\n",
      "era_y\n",
      "whip_y\n",
      "ops_y\n",
      "gidp_y\n",
      "avg_y\n",
      "year_x\n",
      "teamAbbrev_x\n",
      "hits_x\n",
      "team_BA_x\n",
      "totalBases_x\n",
      "total_bases_avg_x\n",
      "leftOnBase_x\n",
      "LOB_avg_x\n",
      "runs_x\n",
      "runs_avg_x\n",
      "strikeOuts_x\n",
      "atBats_x\n",
      "K_avg_x\n",
      "baseOnBalls_x\n",
      "BB_avg_x\n",
      "rbi_x\n",
      "RBI_avg_x\n",
      "year_y\n",
      "teamAbbrev_y\n",
      "hits_y\n",
      "team_BA_y\n",
      "totalBases_y\n",
      "total_bases_avg_y\n",
      "leftOnBase_y\n",
      "LOB_avg_y\n",
      "runs_y\n",
      "runs_avg_y\n",
      "strikeOuts_y\n",
      "atBats_y\n",
      "K_avg_y\n",
      "baseOnBalls_y\n",
      "BB_avg_y\n",
      "rbi_y\n",
      "RBI_avg_y\n"
     ]
    }
   ],
   "source": [
    "for name in game_df.columns:\n",
    "    print(name)"
   ]
  },
  {
   "cell_type": "code",
   "execution_count": 56,
   "metadata": {
    "ExecuteTime": {
     "end_time": "2020-06-03T15:30:16.450338Z",
     "start_time": "2020-06-03T15:30:16.427996Z"
    }
   },
   "outputs": [],
   "source": [
    "game_df['current_year'] = game_df['New_Date'].dt.year"
   ]
  },
  {
   "cell_type": "markdown",
   "metadata": {},
   "source": [
    "### Next steps, feature engineer 7-day trends for key statistics"
   ]
  },
  {
   "cell_type": "markdown",
   "metadata": {},
   "source": [
    "## Train and fit a model to see how these feature preform so far..."
   ]
  },
  {
   "cell_type": "code",
   "execution_count": null,
   "metadata": {},
   "outputs": [],
   "source": [
    "y = game_df['Home_team_won?']"
   ]
  },
  {
   "cell_type": "code",
   "execution_count": null,
   "metadata": {},
   "outputs": [],
   "source": [
    "X = game_df.drop(['VisitorRunsScored', 'HomeRunsScore', 'Home_team_won?', \n",
    "'VisitorAB',\n",
    "'VisitorH',\n",
    "'Visitor_BA',\n",
    "'VisitorHBP',\n",
    "'VisitorBB',\n",
    "'VisitorIBB',\n",
    "'VisitorLOB',\n",
    "'HomeAB',\n",
    "'HomeH',\n",
    "'Home_BA',\n",
    "'HomeHBP',\n",
    "'HomeBB',\n",
    "'HomeIBB',\n",
    "'HomeLOB'], axis=1)"
   ]
  },
  {
   "cell_type": "markdown",
   "metadata": {},
   "source": [
    "train on 2 years of data and then test on the following season (through all seasons)"
   ]
  },
  {
   "cell_type": "code",
   "execution_count": null,
   "metadata": {},
   "outputs": [],
   "source": [
    "def my_train_test_split(X, y):\n",
    "    '''\n",
    "    creating a custom train_test_split in order to split data by seasons\n",
    "    i.e.\n",
    "    - train on 2010-2016 seasons\n",
    "    - test on 2018-2019 seasons\n",
    "    \n",
    "    Parameters:\n",
    "    X: features\n",
    "    y: target value\n",
    "    '''\n",
    "    years = np.arange(2010,2018)\n",
    "    mask = game_df['current_year'].isin(years)\n",
    "    X_train = X[mask]\n",
    "    X_test = X[~mask]\n",
    "    y_train = y[mask]\n",
    "    y_test = y[~mask]\n",
    "    return X_train, X_test, y_train, y_test"
   ]
  }
 ],
 "metadata": {
  "kernelspec": {
   "display_name": "Python 3",
   "language": "python",
   "name": "python3"
  },
  "language_info": {
   "codemirror_mode": {
    "name": "ipython",
    "version": 3
   },
   "file_extension": ".py",
   "mimetype": "text/x-python",
   "name": "python",
   "nbconvert_exporter": "python",
   "pygments_lexer": "ipython3",
   "version": "3.7.7"
  }
 },
 "nbformat": 4,
 "nbformat_minor": 4
}
