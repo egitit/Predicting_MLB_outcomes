{
 "cells": [
  {
   "cell_type": "markdown",
   "metadata": {},
   "source": [
    "## Statscast Stats"
   ]
  },
  {
   "cell_type": "code",
   "execution_count": 1,
   "metadata": {
    "ExecuteTime": {
     "end_time": "2020-05-27T15:45:13.870561Z",
     "start_time": "2020-05-27T15:45:12.064548Z"
    }
   },
   "outputs": [],
   "source": [
    "from baseball_scraper import statcast"
   ]
  },
  {
   "cell_type": "code",
   "execution_count": 2,
   "metadata": {
    "ExecuteTime": {
     "end_time": "2020-05-27T15:45:30.079564Z",
     "start_time": "2020-05-27T15:45:18.141200Z"
    }
   },
   "outputs": [],
   "source": [
    "data = statcast(start_dt='2017-06-24', end_dt='2017-06-27')"
   ]
  },
  {
   "cell_type": "code",
   "execution_count": 4,
   "metadata": {
    "ExecuteTime": {
     "end_time": "2020-05-27T15:45:45.222023Z",
     "start_time": "2020-05-27T15:45:45.137820Z"
    }
   },
   "outputs": [
    {
     "data": {
      "text/html": [
       "<div>\n",
       "<style scoped>\n",
       "    .dataframe tbody tr th:only-of-type {\n",
       "        vertical-align: middle;\n",
       "    }\n",
       "\n",
       "    .dataframe tbody tr th {\n",
       "        vertical-align: top;\n",
       "    }\n",
       "\n",
       "    .dataframe thead th {\n",
       "        text-align: right;\n",
       "    }\n",
       "</style>\n",
       "<table border=\"1\" class=\"dataframe\">\n",
       "  <thead>\n",
       "    <tr style=\"text-align: right;\">\n",
       "      <th></th>\n",
       "      <th>index</th>\n",
       "      <th>pitch_type</th>\n",
       "      <th>game_date</th>\n",
       "      <th>release_speed</th>\n",
       "      <th>release_pos_x</th>\n",
       "      <th>release_pos_z</th>\n",
       "      <th>player_name</th>\n",
       "      <th>batter</th>\n",
       "      <th>pitcher</th>\n",
       "      <th>events</th>\n",
       "      <th>...</th>\n",
       "      <th>home_score</th>\n",
       "      <th>away_score</th>\n",
       "      <th>bat_score</th>\n",
       "      <th>fld_score</th>\n",
       "      <th>post_away_score</th>\n",
       "      <th>post_home_score</th>\n",
       "      <th>post_bat_score</th>\n",
       "      <th>post_fld_score</th>\n",
       "      <th>if_fielding_alignment</th>\n",
       "      <th>of_fielding_alignment</th>\n",
       "    </tr>\n",
       "  </thead>\n",
       "  <tbody>\n",
       "    <tr>\n",
       "      <th>0</th>\n",
       "      <td>317</td>\n",
       "      <td>CU</td>\n",
       "      <td>2017-06-27</td>\n",
       "      <td>79.7</td>\n",
       "      <td>-1.3441</td>\n",
       "      <td>5.4075</td>\n",
       "      <td>Matt Bush</td>\n",
       "      <td>608070.0</td>\n",
       "      <td>456713.0</td>\n",
       "      <td>field_out</td>\n",
       "      <td>...</td>\n",
       "      <td>1.0</td>\n",
       "      <td>2.0</td>\n",
       "      <td>1.0</td>\n",
       "      <td>2.0</td>\n",
       "      <td>2.0</td>\n",
       "      <td>1.0</td>\n",
       "      <td>1.0</td>\n",
       "      <td>2.0</td>\n",
       "      <td>Standard</td>\n",
       "      <td>Strategic</td>\n",
       "    </tr>\n",
       "    <tr>\n",
       "      <th>1</th>\n",
       "      <td>326</td>\n",
       "      <td>FF</td>\n",
       "      <td>2017-06-27</td>\n",
       "      <td>98.1</td>\n",
       "      <td>-1.3547</td>\n",
       "      <td>5.4196</td>\n",
       "      <td>Matt Bush</td>\n",
       "      <td>429665.0</td>\n",
       "      <td>456713.0</td>\n",
       "      <td>field_out</td>\n",
       "      <td>...</td>\n",
       "      <td>1.0</td>\n",
       "      <td>2.0</td>\n",
       "      <td>1.0</td>\n",
       "      <td>2.0</td>\n",
       "      <td>2.0</td>\n",
       "      <td>1.0</td>\n",
       "      <td>1.0</td>\n",
       "      <td>2.0</td>\n",
       "      <td>Standard</td>\n",
       "      <td>Strategic</td>\n",
       "    </tr>\n",
       "  </tbody>\n",
       "</table>\n",
       "<p>2 rows × 90 columns</p>\n",
       "</div>"
      ],
      "text/plain": [
       "   index pitch_type  game_date  release_speed  release_pos_x  release_pos_z  \\\n",
       "0    317         CU 2017-06-27           79.7        -1.3441         5.4075   \n",
       "1    326         FF 2017-06-27           98.1        -1.3547         5.4196   \n",
       "\n",
       "  player_name    batter   pitcher     events  ... home_score  away_score  \\\n",
       "0   Matt Bush  608070.0  456713.0  field_out  ...        1.0         2.0   \n",
       "1   Matt Bush  429665.0  456713.0  field_out  ...        1.0         2.0   \n",
       "\n",
       "   bat_score  fld_score  post_away_score  post_home_score post_bat_score  \\\n",
       "0        1.0        2.0              2.0              1.0            1.0   \n",
       "1        1.0        2.0              2.0              1.0            1.0   \n",
       "\n",
       "  post_fld_score if_fielding_alignment of_fielding_alignment  \n",
       "0            2.0              Standard             Strategic  \n",
       "1            2.0              Standard             Strategic  \n",
       "\n",
       "[2 rows x 90 columns]"
      ]
     },
     "execution_count": 4,
     "metadata": {},
     "output_type": "execute_result"
    }
   ],
   "source": [
    "data.head(2)"
   ]
  },
  {
   "cell_type": "code",
   "execution_count": 5,
   "metadata": {
    "ExecuteTime": {
     "end_time": "2020-05-27T15:48:17.342429Z",
     "start_time": "2020-05-27T15:48:17.334115Z"
    }
   },
   "outputs": [],
   "source": [
    "from baseball_scraper import playerid_lookup\n",
    "from baseball_scraper import statcast_pitcher"
   ]
  },
  {
   "cell_type": "code",
   "execution_count": 6,
   "metadata": {
    "ExecuteTime": {
     "end_time": "2020-05-27T15:48:33.762329Z",
     "start_time": "2020-05-27T15:48:26.130639Z"
    }
   },
   "outputs": [
    {
     "name": "stdout",
     "output_type": "stream",
     "text": [
      "Gathering player lookup table. This may take a moment.\n"
     ]
    },
    {
     "data": {
      "text/html": [
       "<div>\n",
       "<style scoped>\n",
       "    .dataframe tbody tr th:only-of-type {\n",
       "        vertical-align: middle;\n",
       "    }\n",
       "\n",
       "    .dataframe tbody tr th {\n",
       "        vertical-align: top;\n",
       "    }\n",
       "\n",
       "    .dataframe thead th {\n",
       "        text-align: right;\n",
       "    }\n",
       "</style>\n",
       "<table border=\"1\" class=\"dataframe\">\n",
       "  <thead>\n",
       "    <tr style=\"text-align: right;\">\n",
       "      <th></th>\n",
       "      <th>name_last</th>\n",
       "      <th>name_first</th>\n",
       "      <th>key_mlbam</th>\n",
       "      <th>key_retro</th>\n",
       "      <th>key_bbref</th>\n",
       "      <th>key_fangraphs</th>\n",
       "      <th>mlb_played_first</th>\n",
       "      <th>mlb_played_last</th>\n",
       "    </tr>\n",
       "  </thead>\n",
       "  <tbody>\n",
       "    <tr>\n",
       "      <th>0</th>\n",
       "      <td>kershaw</td>\n",
       "      <td>clayton</td>\n",
       "      <td>477132</td>\n",
       "      <td>kersc001</td>\n",
       "      <td>kershcl01</td>\n",
       "      <td>2036</td>\n",
       "      <td>2008.0</td>\n",
       "      <td>2019.0</td>\n",
       "    </tr>\n",
       "  </tbody>\n",
       "</table>\n",
       "</div>"
      ],
      "text/plain": [
       "  name_last name_first  key_mlbam key_retro  key_bbref  key_fangraphs  \\\n",
       "0   kershaw    clayton     477132  kersc001  kershcl01           2036   \n",
       "\n",
       "   mlb_played_first  mlb_played_last  \n",
       "0            2008.0           2019.0  "
      ]
     },
     "execution_count": 6,
     "metadata": {},
     "output_type": "execute_result"
    }
   ],
   "source": [
    "playerid_lookup('kershaw', 'clayton')"
   ]
  },
  {
   "cell_type": "code",
   "execution_count": 7,
   "metadata": {
    "ExecuteTime": {
     "end_time": "2020-05-27T15:50:11.596626Z",
     "start_time": "2020-05-27T15:50:10.513114Z"
    }
   },
   "outputs": [
    {
     "name": "stdout",
     "output_type": "stream",
     "text": [
      "Gathering Player Data\n"
     ]
    }
   ],
   "source": [
    "kershaw_stats = statcast_pitcher('2017-06-01', '2017-07-01', 477132)"
   ]
  },
  {
   "cell_type": "code",
   "execution_count": 8,
   "metadata": {
    "ExecuteTime": {
     "end_time": "2020-05-27T15:50:24.264475Z",
     "start_time": "2020-05-27T15:50:24.165221Z"
    }
   },
   "outputs": [
    {
     "data": {
      "text/html": [
       "<div>\n",
       "<style scoped>\n",
       "    .dataframe tbody tr th:only-of-type {\n",
       "        vertical-align: middle;\n",
       "    }\n",
       "\n",
       "    .dataframe tbody tr th {\n",
       "        vertical-align: top;\n",
       "    }\n",
       "\n",
       "    .dataframe thead th {\n",
       "        text-align: right;\n",
       "    }\n",
       "</style>\n",
       "<table border=\"1\" class=\"dataframe\">\n",
       "  <thead>\n",
       "    <tr style=\"text-align: right;\">\n",
       "      <th></th>\n",
       "      <th>pitch_type</th>\n",
       "      <th>game_date</th>\n",
       "      <th>release_speed</th>\n",
       "      <th>release_pos_x</th>\n",
       "      <th>release_pos_z</th>\n",
       "      <th>player_name</th>\n",
       "      <th>batter</th>\n",
       "      <th>pitcher</th>\n",
       "      <th>events</th>\n",
       "      <th>description</th>\n",
       "      <th>...</th>\n",
       "      <th>home_score</th>\n",
       "      <th>away_score</th>\n",
       "      <th>bat_score</th>\n",
       "      <th>fld_score</th>\n",
       "      <th>post_away_score</th>\n",
       "      <th>post_home_score</th>\n",
       "      <th>post_bat_score</th>\n",
       "      <th>post_fld_score</th>\n",
       "      <th>if_fielding_alignment</th>\n",
       "      <th>of_fielding_alignment</th>\n",
       "    </tr>\n",
       "  </thead>\n",
       "  <tbody>\n",
       "    <tr>\n",
       "      <th>0</th>\n",
       "      <td>SL</td>\n",
       "      <td>2017-06-29</td>\n",
       "      <td>87.2</td>\n",
       "      <td>1.0847</td>\n",
       "      <td>6.4020</td>\n",
       "      <td>Clayton Kershaw</td>\n",
       "      <td>458913</td>\n",
       "      <td>477132</td>\n",
       "      <td>strikeout</td>\n",
       "      <td>swinging_strike_blocked</td>\n",
       "      <td>...</td>\n",
       "      <td>1</td>\n",
       "      <td>6</td>\n",
       "      <td>1</td>\n",
       "      <td>6</td>\n",
       "      <td>6</td>\n",
       "      <td>1</td>\n",
       "      <td>1</td>\n",
       "      <td>6</td>\n",
       "      <td>Standard</td>\n",
       "      <td>Standard</td>\n",
       "    </tr>\n",
       "    <tr>\n",
       "      <th>1</th>\n",
       "      <td>SL</td>\n",
       "      <td>2017-06-29</td>\n",
       "      <td>86.9</td>\n",
       "      <td>1.0178</td>\n",
       "      <td>6.4313</td>\n",
       "      <td>Clayton Kershaw</td>\n",
       "      <td>458913</td>\n",
       "      <td>477132</td>\n",
       "      <td>NaN</td>\n",
       "      <td>ball</td>\n",
       "      <td>...</td>\n",
       "      <td>1</td>\n",
       "      <td>6</td>\n",
       "      <td>1</td>\n",
       "      <td>6</td>\n",
       "      <td>6</td>\n",
       "      <td>1</td>\n",
       "      <td>1</td>\n",
       "      <td>6</td>\n",
       "      <td>Standard</td>\n",
       "      <td>Standard</td>\n",
       "    </tr>\n",
       "  </tbody>\n",
       "</table>\n",
       "<p>2 rows × 89 columns</p>\n",
       "</div>"
      ],
      "text/plain": [
       "  pitch_type   game_date  release_speed  release_pos_x  release_pos_z  \\\n",
       "0         SL  2017-06-29           87.2         1.0847         6.4020   \n",
       "1         SL  2017-06-29           86.9         1.0178         6.4313   \n",
       "\n",
       "       player_name  batter  pitcher     events              description  ...  \\\n",
       "0  Clayton Kershaw  458913   477132  strikeout  swinging_strike_blocked  ...   \n",
       "1  Clayton Kershaw  458913   477132        NaN                     ball  ...   \n",
       "\n",
       "   home_score  away_score  bat_score  fld_score  post_away_score  \\\n",
       "0           1           6          1          6                6   \n",
       "1           1           6          1          6                6   \n",
       "\n",
       "  post_home_score post_bat_score post_fld_score if_fielding_alignment  \\\n",
       "0               1              1              6              Standard   \n",
       "1               1              1              6              Standard   \n",
       "\n",
       "  of_fielding_alignment  \n",
       "0              Standard  \n",
       "1              Standard  \n",
       "\n",
       "[2 rows x 89 columns]"
      ]
     },
     "execution_count": 8,
     "metadata": {},
     "output_type": "execute_result"
    }
   ],
   "source": [
    "kershaw_stats.head(2)"
   ]
  },
  {
   "cell_type": "markdown",
   "metadata": {},
   "source": [
    "## Pitching Stats\n",
    "### Pitching stats doesn't seem to be working..."
   ]
  },
  {
   "cell_type": "code",
   "execution_count": 10,
   "metadata": {
    "ExecuteTime": {
     "end_time": "2020-05-27T15:53:00.636638Z",
     "start_time": "2020-05-27T15:53:00.613909Z"
    }
   },
   "outputs": [],
   "source": [
    "from baseball_scraper import pitching_stats"
   ]
  },
  {
   "cell_type": "code",
   "execution_count": 14,
   "metadata": {
    "ExecuteTime": {
     "end_time": "2020-05-27T15:58:36.757896Z",
     "start_time": "2020-05-27T15:58:36.751851Z"
    }
   },
   "outputs": [],
   "source": [
    "# data = pitching_stats(2010, 2012)"
   ]
  },
  {
   "cell_type": "markdown",
   "metadata": {},
   "source": [
    "## Batting Stats\n",
    "### Batting stats doesn't seem to be working either..."
   ]
  },
  {
   "cell_type": "code",
   "execution_count": 15,
   "metadata": {
    "ExecuteTime": {
     "end_time": "2020-05-27T15:58:38.566681Z",
     "start_time": "2020-05-27T15:58:38.559752Z"
    }
   },
   "outputs": [],
   "source": [
    "from baseball_scraper import batting_stats_range"
   ]
  },
  {
   "cell_type": "code",
   "execution_count": 18,
   "metadata": {
    "ExecuteTime": {
     "end_time": "2020-05-27T16:00:14.533215Z",
     "start_time": "2020-05-27T16:00:14.513097Z"
    }
   },
   "outputs": [],
   "source": [
    "# data = batting_stats_range('2017-05-01', '2017-06-01')"
   ]
  },
  {
   "cell_type": "markdown",
   "metadata": {},
   "source": [
    "## Game-by-Game Results and Schedule"
   ]
  },
  {
   "cell_type": "code",
   "execution_count": 19,
   "metadata": {
    "ExecuteTime": {
     "end_time": "2020-05-27T16:00:18.392929Z",
     "start_time": "2020-05-27T16:00:18.363903Z"
    }
   },
   "outputs": [],
   "source": [
    "from baseball_scraper import baseball_reference"
   ]
  },
  {
   "cell_type": "code",
   "execution_count": 21,
   "metadata": {
    "ExecuteTime": {
     "end_time": "2020-05-27T16:01:15.836849Z",
     "start_time": "2020-05-27T16:01:14.856167Z"
    }
   },
   "outputs": [
    {
     "data": {
      "text/html": [
       "<div>\n",
       "<style scoped>\n",
       "    .dataframe tbody tr th:only-of-type {\n",
       "        vertical-align: middle;\n",
       "    }\n",
       "\n",
       "    .dataframe tbody tr th {\n",
       "        vertical-align: top;\n",
       "    }\n",
       "\n",
       "    .dataframe thead th {\n",
       "        text-align: right;\n",
       "    }\n",
       "</style>\n",
       "<table border=\"1\" class=\"dataframe\">\n",
       "  <thead>\n",
       "    <tr style=\"text-align: right;\">\n",
       "      <th></th>\n",
       "      <th>Date</th>\n",
       "      <th>Tm</th>\n",
       "      <th>Home_Away</th>\n",
       "      <th>Opp</th>\n",
       "      <th>W/L</th>\n",
       "      <th>R</th>\n",
       "      <th>RA</th>\n",
       "      <th>Inn</th>\n",
       "      <th>W-L</th>\n",
       "      <th>Rank</th>\n",
       "      <th>GB</th>\n",
       "      <th>Win</th>\n",
       "      <th>Loss</th>\n",
       "      <th>Save</th>\n",
       "      <th>Time</th>\n",
       "      <th>D/N</th>\n",
       "      <th>Attendance</th>\n",
       "      <th>Streak</th>\n",
       "      <th>Orig. Scheduled</th>\n",
       "    </tr>\n",
       "  </thead>\n",
       "  <tbody>\n",
       "    <tr>\n",
       "      <th>1</th>\n",
       "      <td>2010-04-05</td>\n",
       "      <td>SFG</td>\n",
       "      <td>@</td>\n",
       "      <td>HOU</td>\n",
       "      <td>W</td>\n",
       "      <td>5.0</td>\n",
       "      <td>2.0</td>\n",
       "      <td>9.0</td>\n",
       "      <td>1-0</td>\n",
       "      <td>1.0</td>\n",
       "      <td>Tied</td>\n",
       "      <td>Lincecum</td>\n",
       "      <td>Oswalt</td>\n",
       "      <td>Wilson</td>\n",
       "      <td>2:34</td>\n",
       "      <td>N</td>\n",
       "      <td>43836.0</td>\n",
       "      <td>1</td>\n",
       "      <td>None</td>\n",
       "    </tr>\n",
       "    <tr>\n",
       "      <th>2</th>\n",
       "      <td>2010-04-06</td>\n",
       "      <td>SFG</td>\n",
       "      <td>@</td>\n",
       "      <td>HOU</td>\n",
       "      <td>W</td>\n",
       "      <td>3.0</td>\n",
       "      <td>0.0</td>\n",
       "      <td>9.0</td>\n",
       "      <td>2-0</td>\n",
       "      <td>1.0</td>\n",
       "      <td>up 1.0</td>\n",
       "      <td>Zito</td>\n",
       "      <td>Rodriguez</td>\n",
       "      <td>Wilson</td>\n",
       "      <td>2:38</td>\n",
       "      <td>N</td>\n",
       "      <td>24237.0</td>\n",
       "      <td>2</td>\n",
       "      <td>None</td>\n",
       "    </tr>\n",
       "    <tr>\n",
       "      <th>3</th>\n",
       "      <td>2010-04-07</td>\n",
       "      <td>SFG</td>\n",
       "      <td>@</td>\n",
       "      <td>HOU</td>\n",
       "      <td>W</td>\n",
       "      <td>10.0</td>\n",
       "      <td>4.0</td>\n",
       "      <td>9.0</td>\n",
       "      <td>3-0</td>\n",
       "      <td>1.0</td>\n",
       "      <td>up 1.0</td>\n",
       "      <td>Affeldt</td>\n",
       "      <td>Gervacio</td>\n",
       "      <td>None</td>\n",
       "      <td>3:01</td>\n",
       "      <td>D</td>\n",
       "      <td>21599.0</td>\n",
       "      <td>3</td>\n",
       "      <td>None</td>\n",
       "    </tr>\n",
       "    <tr>\n",
       "      <th>4</th>\n",
       "      <td>2010-04-09</td>\n",
       "      <td>SFG</td>\n",
       "      <td>Home</td>\n",
       "      <td>ATL</td>\n",
       "      <td>W-wo</td>\n",
       "      <td>5.0</td>\n",
       "      <td>4.0</td>\n",
       "      <td>13.0</td>\n",
       "      <td>4-0</td>\n",
       "      <td>1.0</td>\n",
       "      <td>up 1.0</td>\n",
       "      <td>Affeldt</td>\n",
       "      <td>Medlen</td>\n",
       "      <td>None</td>\n",
       "      <td>4:01</td>\n",
       "      <td>D</td>\n",
       "      <td>42940.0</td>\n",
       "      <td>4</td>\n",
       "      <td>None</td>\n",
       "    </tr>\n",
       "    <tr>\n",
       "      <th>5</th>\n",
       "      <td>2010-04-10</td>\n",
       "      <td>SFG</td>\n",
       "      <td>Home</td>\n",
       "      <td>ATL</td>\n",
       "      <td>L</td>\n",
       "      <td>2.0</td>\n",
       "      <td>7.0</td>\n",
       "      <td>9.0</td>\n",
       "      <td>4-1</td>\n",
       "      <td>1.0</td>\n",
       "      <td>up 1.0</td>\n",
       "      <td>Lowe</td>\n",
       "      <td>Wellemeyer</td>\n",
       "      <td>None</td>\n",
       "      <td>3:06</td>\n",
       "      <td>N</td>\n",
       "      <td>42985.0</td>\n",
       "      <td>-1</td>\n",
       "      <td>None</td>\n",
       "    </tr>\n",
       "    <tr>\n",
       "      <th>...</th>\n",
       "      <td>...</td>\n",
       "      <td>...</td>\n",
       "      <td>...</td>\n",
       "      <td>...</td>\n",
       "      <td>...</td>\n",
       "      <td>...</td>\n",
       "      <td>...</td>\n",
       "      <td>...</td>\n",
       "      <td>...</td>\n",
       "      <td>...</td>\n",
       "      <td>...</td>\n",
       "      <td>...</td>\n",
       "      <td>...</td>\n",
       "      <td>...</td>\n",
       "      <td>...</td>\n",
       "      <td>...</td>\n",
       "      <td>...</td>\n",
       "      <td>...</td>\n",
       "      <td>...</td>\n",
       "    </tr>\n",
       "    <tr>\n",
       "      <th>158</th>\n",
       "      <td>2010-09-29</td>\n",
       "      <td>SFG</td>\n",
       "      <td>Home</td>\n",
       "      <td>ARI</td>\n",
       "      <td>W</td>\n",
       "      <td>3.0</td>\n",
       "      <td>1.0</td>\n",
       "      <td>9.0</td>\n",
       "      <td>90-68</td>\n",
       "      <td>1.0</td>\n",
       "      <td>up 2.0</td>\n",
       "      <td>Lincecum</td>\n",
       "      <td>Kennedy</td>\n",
       "      <td>Wilson</td>\n",
       "      <td>2:34</td>\n",
       "      <td>N</td>\n",
       "      <td>38228.0</td>\n",
       "      <td>3</td>\n",
       "      <td>None</td>\n",
       "    </tr>\n",
       "    <tr>\n",
       "      <th>159</th>\n",
       "      <td>2010-09-30</td>\n",
       "      <td>SFG</td>\n",
       "      <td>Home</td>\n",
       "      <td>ARI</td>\n",
       "      <td>W</td>\n",
       "      <td>4.0</td>\n",
       "      <td>1.0</td>\n",
       "      <td>9.0</td>\n",
       "      <td>91-68</td>\n",
       "      <td>1.0</td>\n",
       "      <td>up 3.0</td>\n",
       "      <td>Bumgarner</td>\n",
       "      <td>Enright</td>\n",
       "      <td>Ramirez</td>\n",
       "      <td>2:26</td>\n",
       "      <td>D</td>\n",
       "      <td>37261.0</td>\n",
       "      <td>4</td>\n",
       "      <td>None</td>\n",
       "    </tr>\n",
       "    <tr>\n",
       "      <th>160</th>\n",
       "      <td>2010-10-01</td>\n",
       "      <td>SFG</td>\n",
       "      <td>Home</td>\n",
       "      <td>SDP</td>\n",
       "      <td>L</td>\n",
       "      <td>4.0</td>\n",
       "      <td>6.0</td>\n",
       "      <td>9.0</td>\n",
       "      <td>91-69</td>\n",
       "      <td>1.0</td>\n",
       "      <td>up 2.0</td>\n",
       "      <td>Richard</td>\n",
       "      <td>Cain</td>\n",
       "      <td>Bell</td>\n",
       "      <td>3:14</td>\n",
       "      <td>N</td>\n",
       "      <td>42409.0</td>\n",
       "      <td>-1</td>\n",
       "      <td>None</td>\n",
       "    </tr>\n",
       "    <tr>\n",
       "      <th>161</th>\n",
       "      <td>2010-10-02</td>\n",
       "      <td>SFG</td>\n",
       "      <td>Home</td>\n",
       "      <td>SDP</td>\n",
       "      <td>L</td>\n",
       "      <td>2.0</td>\n",
       "      <td>4.0</td>\n",
       "      <td>9.0</td>\n",
       "      <td>91-70</td>\n",
       "      <td>1.0</td>\n",
       "      <td>up 1.0</td>\n",
       "      <td>Stauffer</td>\n",
       "      <td>Zito</td>\n",
       "      <td>Bell</td>\n",
       "      <td>2:44</td>\n",
       "      <td>D</td>\n",
       "      <td>42653.0</td>\n",
       "      <td>-2</td>\n",
       "      <td>None</td>\n",
       "    </tr>\n",
       "    <tr>\n",
       "      <th>162</th>\n",
       "      <td>2010-10-03</td>\n",
       "      <td>SFG</td>\n",
       "      <td>Home</td>\n",
       "      <td>SDP</td>\n",
       "      <td>W</td>\n",
       "      <td>3.0</td>\n",
       "      <td>0.0</td>\n",
       "      <td>9.0</td>\n",
       "      <td>92-70</td>\n",
       "      <td>1.0</td>\n",
       "      <td>up 2.0</td>\n",
       "      <td>Sanchez</td>\n",
       "      <td>Latos</td>\n",
       "      <td>Wilson</td>\n",
       "      <td>3:05</td>\n",
       "      <td>D</td>\n",
       "      <td>42822.0</td>\n",
       "      <td>1</td>\n",
       "      <td>None</td>\n",
       "    </tr>\n",
       "  </tbody>\n",
       "</table>\n",
       "<p>162 rows × 19 columns</p>\n",
       "</div>"
      ],
      "text/plain": [
       "          Date   Tm Home_Away  Opp   W/L     R   RA   Inn    W-L  Rank  \\\n",
       "1   2010-04-05  SFG         @  HOU     W   5.0  2.0   9.0    1-0   1.0   \n",
       "2   2010-04-06  SFG         @  HOU     W   3.0  0.0   9.0    2-0   1.0   \n",
       "3   2010-04-07  SFG         @  HOU     W  10.0  4.0   9.0    3-0   1.0   \n",
       "4   2010-04-09  SFG      Home  ATL  W-wo   5.0  4.0  13.0    4-0   1.0   \n",
       "5   2010-04-10  SFG      Home  ATL     L   2.0  7.0   9.0    4-1   1.0   \n",
       "..         ...  ...       ...  ...   ...   ...  ...   ...    ...   ...   \n",
       "158 2010-09-29  SFG      Home  ARI     W   3.0  1.0   9.0  90-68   1.0   \n",
       "159 2010-09-30  SFG      Home  ARI     W   4.0  1.0   9.0  91-68   1.0   \n",
       "160 2010-10-01  SFG      Home  SDP     L   4.0  6.0   9.0  91-69   1.0   \n",
       "161 2010-10-02  SFG      Home  SDP     L   2.0  4.0   9.0  91-70   1.0   \n",
       "162 2010-10-03  SFG      Home  SDP     W   3.0  0.0   9.0  92-70   1.0   \n",
       "\n",
       "         GB        Win        Loss     Save  Time D/N  Attendance  Streak  \\\n",
       "1      Tied   Lincecum      Oswalt   Wilson  2:34   N     43836.0       1   \n",
       "2    up 1.0       Zito   Rodriguez   Wilson  2:38   N     24237.0       2   \n",
       "3    up 1.0    Affeldt    Gervacio     None  3:01   D     21599.0       3   \n",
       "4    up 1.0    Affeldt      Medlen     None  4:01   D     42940.0       4   \n",
       "5    up 1.0       Lowe  Wellemeyer     None  3:06   N     42985.0      -1   \n",
       "..      ...        ...         ...      ...   ...  ..         ...     ...   \n",
       "158  up 2.0   Lincecum     Kennedy   Wilson  2:34   N     38228.0       3   \n",
       "159  up 3.0  Bumgarner     Enright  Ramirez  2:26   D     37261.0       4   \n",
       "160  up 2.0    Richard        Cain     Bell  3:14   N     42409.0      -1   \n",
       "161  up 1.0   Stauffer        Zito     Bell  2:44   D     42653.0      -2   \n",
       "162  up 2.0    Sanchez       Latos   Wilson  3:05   D     42822.0       1   \n",
       "\n",
       "    Orig. Scheduled  \n",
       "1              None  \n",
       "2              None  \n",
       "3              None  \n",
       "4              None  \n",
       "5              None  \n",
       "..              ...  \n",
       "158            None  \n",
       "159            None  \n",
       "160            None  \n",
       "161            None  \n",
       "162            None  \n",
       "\n",
       "[162 rows x 19 columns]"
      ]
     },
     "execution_count": 21,
     "metadata": {},
     "output_type": "execute_result"
    }
   ],
   "source": [
    "s = baseball_reference.TeamScraper()\n",
    "s.set_season(2010)\n",
    "data = s.scrape('SFG')\n",
    "data"
   ]
  },
  {
   "cell_type": "code",
   "execution_count": null,
   "metadata": {},
   "outputs": [],
   "source": []
  }
 ],
 "metadata": {
  "kernelspec": {
   "display_name": "Python 3",
   "language": "python",
   "name": "python3"
  },
  "language_info": {
   "codemirror_mode": {
    "name": "ipython",
    "version": 3
   },
   "file_extension": ".py",
   "mimetype": "text/x-python",
   "name": "python",
   "nbconvert_exporter": "python",
   "pygments_lexer": "ipython3",
   "version": "3.7.7"
  }
 },
 "nbformat": 4,
 "nbformat_minor": 4
}
