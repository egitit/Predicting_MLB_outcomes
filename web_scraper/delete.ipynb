{
 "cells": [
  {
   "cell_type": "code",
   "execution_count": 1,
   "metadata": {
    "ExecuteTime": {
     "end_time": "2020-05-28T01:34:23.169630Z",
     "start_time": "2020-05-28T01:34:22.212035Z"
    }
   },
   "outputs": [],
   "source": [
    "import pandas as pd\n",
    "import numpy as np"
   ]
  },
  {
   "cell_type": "markdown",
   "metadata": {
    "ExecuteTime": {
     "end_time": "2020-05-28T01:34:23.329187Z",
     "start_time": "2020-05-28T01:34:23.171974Z"
    }
   },
   "source": [
    "# Notebook meant to run in other notebooks in order to delete extra columns"
   ]
  },
  {
   "cell_type": "code",
   "execution_count": 3,
   "metadata": {
    "ExecuteTime": {
     "end_time": "2020-05-28T01:34:23.340354Z",
     "start_time": "2020-05-28T01:34:23.333767Z"
    }
   },
   "outputs": [],
   "source": [
    "file = '/Users/Lisa/_MLB_Prediction_capstone/2010_to_2019_seasons.csv'"
   ]
  },
  {
   "cell_type": "code",
   "execution_count": 4,
   "metadata": {
    "ExecuteTime": {
     "end_time": "2020-05-28T01:34:32.949727Z",
     "start_time": "2020-05-28T01:34:32.175036Z"
    }
   },
   "outputs": [
    {
     "name": "stderr",
     "output_type": "stream",
     "text": [
      "/Users/Lisa/opt/anaconda3/lib/python3.7/site-packages/IPython/core/interactiveshell.py:3063: DtypeWarning: Columns (16,86,88) have mixed types.Specify dtype option on import or set low_memory=False.\n",
      "  interactivity=interactivity, compiler=compiler, result=result)\n"
     ]
    }
   ],
   "source": [
    "df = pd.read_csv(file)"
   ]
  },
  {
   "cell_type": "code",
   "execution_count": 6,
   "metadata": {
    "ExecuteTime": {
     "end_time": "2020-05-28T01:35:07.046411Z",
     "start_time": "2020-05-28T01:35:06.982307Z"
    }
   },
   "outputs": [],
   "source": [
    "df.drop('Unnamed: 0', axis=1, inplace=True)"
   ]
  },
  {
   "cell_type": "code",
   "execution_count": 7,
   "metadata": {
    "ExecuteTime": {
     "end_time": "2020-05-28T01:35:09.124229Z",
     "start_time": "2020-05-28T01:35:08.994081Z"
    },
    "scrolled": true
   },
   "outputs": [
    {
     "data": {
      "text/html": [
       "<div>\n",
       "<style scoped>\n",
       "    .dataframe tbody tr th:only-of-type {\n",
       "        vertical-align: middle;\n",
       "    }\n",
       "\n",
       "    .dataframe tbody tr th {\n",
       "        vertical-align: top;\n",
       "    }\n",
       "\n",
       "    .dataframe thead th {\n",
       "        text-align: right;\n",
       "    }\n",
       "</style>\n",
       "<table border=\"1\" class=\"dataframe\">\n",
       "  <thead>\n",
       "    <tr style=\"text-align: right;\">\n",
       "      <th></th>\n",
       "      <th>Date</th>\n",
       "      <th>DoubleHeader</th>\n",
       "      <th>DayOfWeek</th>\n",
       "      <th>VisitingTeam</th>\n",
       "      <th>VisitingTeamLeague</th>\n",
       "      <th>VisitingTeamGameNumber</th>\n",
       "      <th>HomeTeam</th>\n",
       "      <th>HomeTeamLeague</th>\n",
       "      <th>HomeTeamGameNumber</th>\n",
       "      <th>VisitorRunsScored</th>\n",
       "      <th>...</th>\n",
       "      <th>HomeBatting7Name</th>\n",
       "      <th>HomeBatting7Position</th>\n",
       "      <th>HomeBatting8PlayerID</th>\n",
       "      <th>HomeBatting8Name</th>\n",
       "      <th>HomeBatting8Position</th>\n",
       "      <th>HomeBatting9PlayerID</th>\n",
       "      <th>HomeBatting9Name</th>\n",
       "      <th>HomeBatting9Position</th>\n",
       "      <th>AdditionalInfo</th>\n",
       "      <th>AcquisitionInfo</th>\n",
       "    </tr>\n",
       "  </thead>\n",
       "  <tbody>\n",
       "    <tr>\n",
       "      <th>0</th>\n",
       "      <td>20100404</td>\n",
       "      <td>0</td>\n",
       "      <td>Sun</td>\n",
       "      <td>NYA</td>\n",
       "      <td>AL</td>\n",
       "      <td>1</td>\n",
       "      <td>BOS</td>\n",
       "      <td>AL</td>\n",
       "      <td>1</td>\n",
       "      <td>7</td>\n",
       "      <td>...</td>\n",
       "      <td>J.D. Drew</td>\n",
       "      <td>9</td>\n",
       "      <td>camem001</td>\n",
       "      <td>Mike Cameron</td>\n",
       "      <td>8</td>\n",
       "      <td>scutm001</td>\n",
       "      <td>Marco Scutaro</td>\n",
       "      <td>6</td>\n",
       "      <td>NaN</td>\n",
       "      <td>Y</td>\n",
       "    </tr>\n",
       "    <tr>\n",
       "      <th>1</th>\n",
       "      <td>20100405</td>\n",
       "      <td>0</td>\n",
       "      <td>Mon</td>\n",
       "      <td>MIN</td>\n",
       "      <td>AL</td>\n",
       "      <td>1</td>\n",
       "      <td>ANA</td>\n",
       "      <td>AL</td>\n",
       "      <td>1</td>\n",
       "      <td>3</td>\n",
       "      <td>...</td>\n",
       "      <td>Howie Kendrick</td>\n",
       "      <td>4</td>\n",
       "      <td>woodb003</td>\n",
       "      <td>Brandon Wood</td>\n",
       "      <td>5</td>\n",
       "      <td>mathj001</td>\n",
       "      <td>Jeff Mathis</td>\n",
       "      <td>2</td>\n",
       "      <td>NaN</td>\n",
       "      <td>Y</td>\n",
       "    </tr>\n",
       "    <tr>\n",
       "      <th>2</th>\n",
       "      <td>20100405</td>\n",
       "      <td>0</td>\n",
       "      <td>Mon</td>\n",
       "      <td>CLE</td>\n",
       "      <td>AL</td>\n",
       "      <td>1</td>\n",
       "      <td>CHA</td>\n",
       "      <td>AL</td>\n",
       "      <td>1</td>\n",
       "      <td>0</td>\n",
       "      <td>...</td>\n",
       "      <td>A.J. Pierzynski</td>\n",
       "      <td>2</td>\n",
       "      <td>teahm001</td>\n",
       "      <td>Mark Teahen</td>\n",
       "      <td>5</td>\n",
       "      <td>ramia003</td>\n",
       "      <td>Alexei Ramirez</td>\n",
       "      <td>6</td>\n",
       "      <td>NaN</td>\n",
       "      <td>Y</td>\n",
       "    </tr>\n",
       "    <tr>\n",
       "      <th>3</th>\n",
       "      <td>20100405</td>\n",
       "      <td>0</td>\n",
       "      <td>Mon</td>\n",
       "      <td>DET</td>\n",
       "      <td>AL</td>\n",
       "      <td>1</td>\n",
       "      <td>KCA</td>\n",
       "      <td>AL</td>\n",
       "      <td>1</td>\n",
       "      <td>8</td>\n",
       "      <td>...</td>\n",
       "      <td>Yuniesky Betancourt</td>\n",
       "      <td>6</td>\n",
       "      <td>kendj001</td>\n",
       "      <td>Jason Kendall</td>\n",
       "      <td>2</td>\n",
       "      <td>getzc001</td>\n",
       "      <td>Chris Getz</td>\n",
       "      <td>4</td>\n",
       "      <td>NaN</td>\n",
       "      <td>Y</td>\n",
       "    </tr>\n",
       "    <tr>\n",
       "      <th>4</th>\n",
       "      <td>20100405</td>\n",
       "      <td>0</td>\n",
       "      <td>Mon</td>\n",
       "      <td>SEA</td>\n",
       "      <td>AL</td>\n",
       "      <td>1</td>\n",
       "      <td>OAK</td>\n",
       "      <td>AL</td>\n",
       "      <td>1</td>\n",
       "      <td>5</td>\n",
       "      <td>...</td>\n",
       "      <td>Mark Ellis</td>\n",
       "      <td>4</td>\n",
       "      <td>buckt001</td>\n",
       "      <td>Travis Buck</td>\n",
       "      <td>7</td>\n",
       "      <td>pennc001</td>\n",
       "      <td>Cliff Pennington</td>\n",
       "      <td>6</td>\n",
       "      <td>NaN</td>\n",
       "      <td>Y</td>\n",
       "    </tr>\n",
       "    <tr>\n",
       "      <th>...</th>\n",
       "      <td>...</td>\n",
       "      <td>...</td>\n",
       "      <td>...</td>\n",
       "      <td>...</td>\n",
       "      <td>...</td>\n",
       "      <td>...</td>\n",
       "      <td>...</td>\n",
       "      <td>...</td>\n",
       "      <td>...</td>\n",
       "      <td>...</td>\n",
       "      <td>...</td>\n",
       "      <td>...</td>\n",
       "      <td>...</td>\n",
       "      <td>...</td>\n",
       "      <td>...</td>\n",
       "      <td>...</td>\n",
       "      <td>...</td>\n",
       "      <td>...</td>\n",
       "      <td>...</td>\n",
       "      <td>...</td>\n",
       "      <td>...</td>\n",
       "    </tr>\n",
       "    <tr>\n",
       "      <th>24292</th>\n",
       "      <td>20190929</td>\n",
       "      <td>0</td>\n",
       "      <td>Sun</td>\n",
       "      <td>DET</td>\n",
       "      <td>AL</td>\n",
       "      <td>161</td>\n",
       "      <td>CHA</td>\n",
       "      <td>AL</td>\n",
       "      <td>161</td>\n",
       "      <td>3</td>\n",
       "      <td>...</td>\n",
       "      <td>Welington Castillo</td>\n",
       "      <td>10</td>\n",
       "      <td>palkd001</td>\n",
       "      <td>Daniel Palka</td>\n",
       "      <td>9</td>\n",
       "      <td>engea001</td>\n",
       "      <td>Adam Engel</td>\n",
       "      <td>8</td>\n",
       "      <td>NaN</td>\n",
       "      <td>Y</td>\n",
       "    </tr>\n",
       "    <tr>\n",
       "      <th>24293</th>\n",
       "      <td>20190929</td>\n",
       "      <td>0</td>\n",
       "      <td>Sun</td>\n",
       "      <td>MIN</td>\n",
       "      <td>AL</td>\n",
       "      <td>162</td>\n",
       "      <td>KCA</td>\n",
       "      <td>AL</td>\n",
       "      <td>162</td>\n",
       "      <td>4</td>\n",
       "      <td>...</td>\n",
       "      <td>Erick Mejia</td>\n",
       "      <td>8</td>\n",
       "      <td>arteh001</td>\n",
       "      <td>Humberto Arteaga</td>\n",
       "      <td>6</td>\n",
       "      <td>dinin001</td>\n",
       "      <td>Nick Dini</td>\n",
       "      <td>2</td>\n",
       "      <td>NaN</td>\n",
       "      <td>Y</td>\n",
       "    </tr>\n",
       "    <tr>\n",
       "      <th>24294</th>\n",
       "      <td>20190929</td>\n",
       "      <td>0</td>\n",
       "      <td>Sun</td>\n",
       "      <td>OAK</td>\n",
       "      <td>AL</td>\n",
       "      <td>162</td>\n",
       "      <td>SEA</td>\n",
       "      <td>AL</td>\n",
       "      <td>162</td>\n",
       "      <td>1</td>\n",
       "      <td>...</td>\n",
       "      <td>Daniel Vogelbach</td>\n",
       "      <td>10</td>\n",
       "      <td>smitm007</td>\n",
       "      <td>Mallex Smith</td>\n",
       "      <td>8</td>\n",
       "      <td>gordd002</td>\n",
       "      <td>Dee Gordon</td>\n",
       "      <td>4</td>\n",
       "      <td>NaN</td>\n",
       "      <td>Y</td>\n",
       "    </tr>\n",
       "    <tr>\n",
       "      <th>24295</th>\n",
       "      <td>20190929</td>\n",
       "      <td>0</td>\n",
       "      <td>Sun</td>\n",
       "      <td>NYA</td>\n",
       "      <td>AL</td>\n",
       "      <td>162</td>\n",
       "      <td>TEX</td>\n",
       "      <td>AL</td>\n",
       "      <td>162</td>\n",
       "      <td>1</td>\n",
       "      <td>...</td>\n",
       "      <td>Ronald Guzman</td>\n",
       "      <td>3</td>\n",
       "      <td>deshd002</td>\n",
       "      <td>Delino DeShields</td>\n",
       "      <td>8</td>\n",
       "      <td>trevj001</td>\n",
       "      <td>Jose Trevino</td>\n",
       "      <td>2</td>\n",
       "      <td>NaN</td>\n",
       "      <td>Y</td>\n",
       "    </tr>\n",
       "    <tr>\n",
       "      <th>24296</th>\n",
       "      <td>20190929</td>\n",
       "      <td>0</td>\n",
       "      <td>Sun</td>\n",
       "      <td>TBA</td>\n",
       "      <td>AL</td>\n",
       "      <td>162</td>\n",
       "      <td>TOR</td>\n",
       "      <td>AL</td>\n",
       "      <td>162</td>\n",
       "      <td>3</td>\n",
       "      <td>...</td>\n",
       "      <td>Richard Urena</td>\n",
       "      <td>6</td>\n",
       "      <td>davij007</td>\n",
       "      <td>Jonathan Davis</td>\n",
       "      <td>8</td>\n",
       "      <td>maill001</td>\n",
       "      <td>Luke Maile</td>\n",
       "      <td>2</td>\n",
       "      <td>NaN</td>\n",
       "      <td>Y</td>\n",
       "    </tr>\n",
       "  </tbody>\n",
       "</table>\n",
       "<p>24297 rows × 161 columns</p>\n",
       "</div>"
      ],
      "text/plain": [
       "           Date  DoubleHeader DayOfWeek VisitingTeam VisitingTeamLeague  \\\n",
       "0      20100404             0       Sun          NYA                 AL   \n",
       "1      20100405             0       Mon          MIN                 AL   \n",
       "2      20100405             0       Mon          CLE                 AL   \n",
       "3      20100405             0       Mon          DET                 AL   \n",
       "4      20100405             0       Mon          SEA                 AL   \n",
       "...         ...           ...       ...          ...                ...   \n",
       "24292  20190929             0       Sun          DET                 AL   \n",
       "24293  20190929             0       Sun          MIN                 AL   \n",
       "24294  20190929             0       Sun          OAK                 AL   \n",
       "24295  20190929             0       Sun          NYA                 AL   \n",
       "24296  20190929             0       Sun          TBA                 AL   \n",
       "\n",
       "       VisitingTeamGameNumber HomeTeam HomeTeamLeague  HomeTeamGameNumber  \\\n",
       "0                           1      BOS             AL                   1   \n",
       "1                           1      ANA             AL                   1   \n",
       "2                           1      CHA             AL                   1   \n",
       "3                           1      KCA             AL                   1   \n",
       "4                           1      OAK             AL                   1   \n",
       "...                       ...      ...            ...                 ...   \n",
       "24292                     161      CHA             AL                 161   \n",
       "24293                     162      KCA             AL                 162   \n",
       "24294                     162      SEA             AL                 162   \n",
       "24295                     162      TEX             AL                 162   \n",
       "24296                     162      TOR             AL                 162   \n",
       "\n",
       "       VisitorRunsScored  ...     HomeBatting7Name  HomeBatting7Position  \\\n",
       "0                      7  ...            J.D. Drew                     9   \n",
       "1                      3  ...       Howie Kendrick                     4   \n",
       "2                      0  ...      A.J. Pierzynski                     2   \n",
       "3                      8  ...  Yuniesky Betancourt                     6   \n",
       "4                      5  ...           Mark Ellis                     4   \n",
       "...                  ...  ...                  ...                   ...   \n",
       "24292                  3  ...   Welington Castillo                    10   \n",
       "24293                  4  ...          Erick Mejia                     8   \n",
       "24294                  1  ...     Daniel Vogelbach                    10   \n",
       "24295                  1  ...        Ronald Guzman                     3   \n",
       "24296                  3  ...        Richard Urena                     6   \n",
       "\n",
       "      HomeBatting8PlayerID  HomeBatting8Name  HomeBatting8Position  \\\n",
       "0                 camem001      Mike Cameron                     8   \n",
       "1                 woodb003      Brandon Wood                     5   \n",
       "2                 teahm001       Mark Teahen                     5   \n",
       "3                 kendj001     Jason Kendall                     2   \n",
       "4                 buckt001       Travis Buck                     7   \n",
       "...                    ...               ...                   ...   \n",
       "24292             palkd001      Daniel Palka                     9   \n",
       "24293             arteh001  Humberto Arteaga                     6   \n",
       "24294             smitm007      Mallex Smith                     8   \n",
       "24295             deshd002  Delino DeShields                     8   \n",
       "24296             davij007    Jonathan Davis                     8   \n",
       "\n",
       "      HomeBatting9PlayerID  HomeBatting9Name  HomeBatting9Position  \\\n",
       "0                 scutm001     Marco Scutaro                     6   \n",
       "1                 mathj001       Jeff Mathis                     2   \n",
       "2                 ramia003    Alexei Ramirez                     6   \n",
       "3                 getzc001        Chris Getz                     4   \n",
       "4                 pennc001  Cliff Pennington                     6   \n",
       "...                    ...               ...                   ...   \n",
       "24292             engea001        Adam Engel                     8   \n",
       "24293             dinin001         Nick Dini                     2   \n",
       "24294             gordd002        Dee Gordon                     4   \n",
       "24295             trevj001      Jose Trevino                     2   \n",
       "24296             maill001        Luke Maile                     2   \n",
       "\n",
       "       AdditionalInfo AcquisitionInfo  \n",
       "0                 NaN               Y  \n",
       "1                 NaN               Y  \n",
       "2                 NaN               Y  \n",
       "3                 NaN               Y  \n",
       "4                 NaN               Y  \n",
       "...               ...             ...  \n",
       "24292             NaN               Y  \n",
       "24293             NaN               Y  \n",
       "24294             NaN               Y  \n",
       "24295             NaN               Y  \n",
       "24296             NaN               Y  \n",
       "\n",
       "[24297 rows x 161 columns]"
      ]
     },
     "execution_count": 7,
     "metadata": {},
     "output_type": "execute_result"
    }
   ],
   "source": [
    "df"
   ]
  },
  {
   "cell_type": "code",
   "execution_count": 15,
   "metadata": {
    "ExecuteTime": {
     "end_time": "2020-06-01T01:26:09.307873Z",
     "start_time": "2020-06-01T01:26:09.304580Z"
    }
   },
   "outputs": [],
   "source": [
    "batting_col_del = '''playerId,type,rank,playerFullName,playerFirstName,playerLastName,playerUseName,playerInitLastName,teamId,teamName,teamShortName,leagueName,leagueId,positionAbbrev,position,primaryPositionAbbrev'''"
   ]
  },
  {
   "cell_type": "code",
   "execution_count": 16,
   "metadata": {
    "ExecuteTime": {
     "end_time": "2020-06-01T01:26:10.472093Z",
     "start_time": "2020-06-01T01:26:10.467868Z"
    }
   },
   "outputs": [],
   "source": [
    "batting_col_del = batting_col_del.split(\",\")"
   ]
  },
  {
   "cell_type": "code",
   "execution_count": 17,
   "metadata": {
    "ExecuteTime": {
     "end_time": "2020-06-01T01:26:11.014264Z",
     "start_time": "2020-06-01T01:26:11.003866Z"
    },
    "collapsed": true
   },
   "outputs": [
    {
     "data": {
      "text/plain": [
       "['playerId',\n",
       " 'type',\n",
       " 'rank',\n",
       " 'playerFullName',\n",
       " 'playerFirstName',\n",
       " 'playerLastName',\n",
       " 'playerUseName',\n",
       " 'playerInitLastName',\n",
       " 'teamId',\n",
       " 'teamName',\n",
       " 'teamShortName',\n",
       " 'leagueName',\n",
       " 'leagueId',\n",
       " 'positionAbbrev',\n",
       " 'position',\n",
       " 'primaryPositionAbbrev']"
      ]
     },
     "execution_count": 17,
     "metadata": {},
     "output_type": "execute_result"
    }
   ],
   "source": [
    "batting_col_del"
   ]
  },
  {
   "cell_type": "code",
   "execution_count": 23,
   "metadata": {
    "ExecuteTime": {
     "end_time": "2020-06-01T01:28:26.518962Z",
     "start_time": "2020-06-01T01:28:26.513980Z"
    }
   },
   "outputs": [],
   "source": [
    "pitching_col_del = '''playerId, type, rank, playerFullName, playerFirstName, playerLastName,playerUseName, playerInitLastName, teamId, teamName, teamShortName, leagueName, leagueId, positionAbbrev, position, primaryPositionAbbrev'''"
   ]
  },
  {
   "cell_type": "code",
   "execution_count": 24,
   "metadata": {
    "ExecuteTime": {
     "end_time": "2020-06-01T01:28:27.122269Z",
     "start_time": "2020-06-01T01:28:27.113991Z"
    }
   },
   "outputs": [],
   "source": [
    "pitching_col_del = pitching_col_del.replace(\" \",\"\")"
   ]
  },
  {
   "cell_type": "code",
   "execution_count": 25,
   "metadata": {
    "ExecuteTime": {
     "end_time": "2020-06-01T01:28:27.716443Z",
     "start_time": "2020-06-01T01:28:27.706263Z"
    }
   },
   "outputs": [],
   "source": [
    "pitching_col_del = pitching_col_del.split(\",\")"
   ]
  },
  {
   "cell_type": "code",
   "execution_count": 26,
   "metadata": {
    "ExecuteTime": {
     "end_time": "2020-06-01T01:28:34.244692Z",
     "start_time": "2020-06-01T01:28:34.234702Z"
    }
   },
   "outputs": [
    {
     "data": {
      "text/plain": [
       "['playerId',\n",
       " 'type',\n",
       " 'rank',\n",
       " 'playerFullName',\n",
       " 'playerFirstName',\n",
       " 'playerLastName',\n",
       " 'playerUseName',\n",
       " 'playerInitLastName',\n",
       " 'teamId',\n",
       " 'teamName',\n",
       " 'teamShortName',\n",
       " 'leagueName',\n",
       " 'leagueId',\n",
       " 'positionAbbrev',\n",
       " 'position',\n",
       " 'primaryPositionAbbrev']"
      ]
     },
     "execution_count": 26,
     "metadata": {},
     "output_type": "execute_result"
    }
   ],
   "source": [
    "pitching_col_del"
   ]
  },
  {
   "cell_type": "code",
   "execution_count": 29,
   "metadata": {
    "ExecuteTime": {
     "end_time": "2020-06-01T01:30:41.121179Z",
     "start_time": "2020-06-01T01:30:41.115387Z"
    }
   },
   "outputs": [],
   "source": [
    "game_col_del = '''DoubleHeader, DayOfWeek, VisitingTeamLeague, VisitingTeamGameNumber,HomeTeamLeague, HomeTeamGameNumber, LengthInOuts, DayNight, CompletionInfo,ForfeitInfo, ProtestInfo, ParkID, Attendence, Duration, VisitorLineScore, HomeLineScore, UmpireHID, UmpireHName, Umpire1BID, Umpire1BName, Umpire2BID,Umpire2BName, Umpire3BID, Umpire3BName, UmpireLFID, UmpireLFName, UmpireRFID,UmpireRFName, VisitorManagerID, VisitorManagerName, HomeManagerID, HomeManagerName,WinningPitcherID, WinningPitcherName, LosingPitcherID, LosingPitcherNAme,SavingPitcherID, SavingPitcherName, GameWinningRBIID, GameWinningRBIName, VisitorBatting1Position, VisitorBatting2Position, VisitorBatting3Position,VisitorBatting4Position, VisitorBatting5Position, VisitorBatting6Position,VisitorBatting7Position, VisitorBatting8Position, VisitorBatting9Position,HomeBatting1Position, HomeBatting2Position, HomeBatting3Position,HomeBatting4Position, HomeBatting5Position, HomeBatting6Position,HomeBatting7Position, HomeBatting8Position, HomeBatting9Position,AdditionalInfo, AcquisitionInfo'''"
   ]
  },
  {
   "cell_type": "code",
   "execution_count": 30,
   "metadata": {
    "ExecuteTime": {
     "end_time": "2020-06-01T01:30:42.739502Z",
     "start_time": "2020-06-01T01:30:42.730998Z"
    }
   },
   "outputs": [],
   "source": [
    "game_col_del = game_col_del.replace(\" \", \"\")"
   ]
  },
  {
   "cell_type": "code",
   "execution_count": 32,
   "metadata": {
    "ExecuteTime": {
     "end_time": "2020-06-01T01:30:59.657989Z",
     "start_time": "2020-06-01T01:30:59.651518Z"
    }
   },
   "outputs": [],
   "source": [
    "game_col_del = game_col_del.split(\",\")"
   ]
  },
  {
   "cell_type": "code",
   "execution_count": 33,
   "metadata": {
    "ExecuteTime": {
     "end_time": "2020-06-01T01:31:01.802766Z",
     "start_time": "2020-06-01T01:31:01.793589Z"
    }
   },
   "outputs": [
    {
     "data": {
      "text/plain": [
       "['DoubleHeader',\n",
       " 'DayOfWeek',\n",
       " 'VisitingTeamLeague',\n",
       " 'VisitingTeamGameNumber',\n",
       " 'HomeTeamLeague',\n",
       " 'HomeTeamGameNumber',\n",
       " 'LengthInOuts',\n",
       " 'DayNight',\n",
       " 'CompletionInfo',\n",
       " 'ForfeitInfo',\n",
       " 'ProtestInfo',\n",
       " 'ParkID',\n",
       " 'Attendence',\n",
       " 'Duration',\n",
       " 'VisitorLineScore',\n",
       " 'HomeLineScore',\n",
       " 'UmpireHID',\n",
       " 'UmpireHName',\n",
       " 'Umpire1BID',\n",
       " 'Umpire1BName',\n",
       " 'Umpire2BID',\n",
       " 'Umpire2BName',\n",
       " 'Umpire3BID',\n",
       " 'Umpire3BName',\n",
       " 'UmpireLFID',\n",
       " 'UmpireLFName',\n",
       " 'UmpireRFID',\n",
       " 'UmpireRFName',\n",
       " 'VisitorManagerID',\n",
       " 'VisitorManagerName',\n",
       " 'HomeManagerID',\n",
       " 'HomeManagerName',\n",
       " 'WinningPitcherID',\n",
       " 'WinningPitcherName',\n",
       " 'LosingPitcherID',\n",
       " 'LosingPitcherNAme',\n",
       " 'SavingPitcherID',\n",
       " 'SavingPitcherName',\n",
       " 'GameWinningRBIID',\n",
       " 'GameWinningRBIName',\n",
       " 'VisitorBatting1Position',\n",
       " 'VisitorBatting2Position',\n",
       " 'VisitorBatting3Position',\n",
       " 'VisitorBatting4Position',\n",
       " 'VisitorBatting5Position',\n",
       " 'VisitorBatting6Position',\n",
       " 'VisitorBatting7Position',\n",
       " 'VisitorBatting8Position',\n",
       " 'VisitorBatting9Position',\n",
       " 'HomeBatting1Position',\n",
       " 'HomeBatting2Position',\n",
       " 'HomeBatting3Position',\n",
       " 'HomeBatting4Position',\n",
       " 'HomeBatting5Position',\n",
       " 'HomeBatting6Position',\n",
       " 'HomeBatting7Position',\n",
       " 'HomeBatting8Position',\n",
       " 'HomeBatting9Position',\n",
       " 'AdditionalInfo',\n",
       " 'AcquisitionInfo']"
      ]
     },
     "execution_count": 33,
     "metadata": {},
     "output_type": "execute_result"
    }
   ],
   "source": [
    "game_col_del"
   ]
  },
  {
   "cell_type": "code",
   "execution_count": null,
   "metadata": {},
   "outputs": [],
   "source": []
  }
 ],
 "metadata": {
  "kernelspec": {
   "display_name": "Python 3",
   "language": "python",
   "name": "python3"
  },
  "language_info": {
   "codemirror_mode": {
    "name": "ipython",
    "version": 3
   },
   "file_extension": ".py",
   "mimetype": "text/x-python",
   "name": "python",
   "nbconvert_exporter": "python",
   "pygments_lexer": "ipython3",
   "version": "3.7.7"
  }
 },
 "nbformat": 4,
 "nbformat_minor": 4
}
