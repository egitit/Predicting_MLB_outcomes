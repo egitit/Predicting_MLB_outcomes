{
 "cells": [
  {
   "cell_type": "code",
   "execution_count": 1,
   "metadata": {
    "ExecuteTime": {
     "end_time": "2020-06-02T15:32:20.572359Z",
     "start_time": "2020-06-02T15:32:19.546382Z"
    }
   },
   "outputs": [],
   "source": [
    "import pandas as pd"
   ]
  },
  {
   "cell_type": "code",
   "execution_count": 2,
   "metadata": {
    "ExecuteTime": {
     "end_time": "2020-06-02T15:32:21.924641Z",
     "start_time": "2020-06-02T15:32:20.577380Z"
    }
   },
   "outputs": [
    {
     "name": "stdout",
     "output_type": "stream",
     "text": [
      "/Users/Lisa/_MLB_Prediction_capstone/web_scraper\r\n"
     ]
    },
    {
     "name": "stderr",
     "output_type": "stream",
     "text": [
      "/Users/Lisa/opt/anaconda3/lib/python3.7/site-packages/IPython/core/interactiveshell.py:3063: DtypeWarning: Columns (16,86,88) have mixed types.Specify dtype option on import or set low_memory=False.\n",
      "  interactivity=interactivity, compiler=compiler, result=result)\n"
     ]
    }
   ],
   "source": [
    "%run delete.ipynb"
   ]
  },
  {
   "cell_type": "code",
   "execution_count": 3,
   "metadata": {
    "ExecuteTime": {
     "end_time": "2020-06-02T15:32:21.940607Z",
     "start_time": "2020-06-02T15:32:21.930028Z"
    }
   },
   "outputs": [],
   "source": [
    "file = '/Users/Lisa/_MLB_Prediction_capstone/web_scraper/MLB_batting_stats_ALL_BATTING.csv'\n",
    "file2 = '/Users/Lisa/_MLB_Prediction_capstone/web_scraper/MLB_pitching_stats_ALL_PITCHING.csv'\n",
    "file3 = '/Users/Lisa/_MLB_Prediction_capstone/2010_to_2019_seasons.csv'"
   ]
  },
  {
   "cell_type": "code",
   "execution_count": 4,
   "metadata": {
    "ExecuteTime": {
     "end_time": "2020-06-02T15:32:23.170325Z",
     "start_time": "2020-06-02T15:32:21.944351Z"
    }
   },
   "outputs": [],
   "source": [
    "batting_df = pd.read_csv(file)\n",
    "pitching_df = pd.read_csv(file2)\n",
    "game_df = pd.read_csv(file3)"
   ]
  },
  {
   "cell_type": "markdown",
   "metadata": {},
   "source": [
    "### Original Batting DF"
   ]
  },
  {
   "cell_type": "code",
   "execution_count": 5,
   "metadata": {
    "ExecuteTime": {
     "end_time": "2020-06-02T15:32:23.260179Z",
     "start_time": "2020-06-02T15:32:23.172562Z"
    }
   },
   "outputs": [],
   "source": [
    "batting_df.drop('Unnamed: 0', axis=1, inplace=True)\n",
    "pitching_df.drop('Unnamed: 0', axis=1, inplace=True)\n",
    "game_df.drop('Unnamed: 0', axis=1, inplace=True)"
   ]
  },
  {
   "cell_type": "code",
   "execution_count": 6,
   "metadata": {
    "ExecuteTime": {
     "end_time": "2020-06-02T15:32:23.332232Z",
     "start_time": "2020-06-02T15:32:23.263020Z"
    }
   },
   "outputs": [
    {
     "name": "stdout",
     "output_type": "stream",
     "text": [
      "<class 'pandas.core.frame.DataFrame'>\n",
      "RangeIndex: 13371 entries, 0 to 13370\n",
      "Data columns (total 61 columns):\n",
      " #   Column                        Non-Null Count  Dtype  \n",
      "---  ------                        --------------  -----  \n",
      " 0   year                          13371 non-null  int64  \n",
      " 1   playerId                      13371 non-null  int64  \n",
      " 2   playerName                    13371 non-null  object \n",
      " 3   type                          13371 non-null  object \n",
      " 4   rank                          13371 non-null  int64  \n",
      " 5   playerFullName                13371 non-null  object \n",
      " 6   playerFirstName               13371 non-null  object \n",
      " 7   playerLastName                13371 non-null  object \n",
      " 8   playerUseName                 13371 non-null  object \n",
      " 9   playerInitLastName            13371 non-null  object \n",
      " 10  teamId                        13370 non-null  float64\n",
      " 11  teamAbbrev                    13370 non-null  object \n",
      " 12  teamName                      13370 non-null  object \n",
      " 13  teamShortName                 13370 non-null  object \n",
      " 14  leagueName                    13370 non-null  object \n",
      " 15  leagueId                      13370 non-null  float64\n",
      " 16  positionAbbrev                13371 non-null  object \n",
      " 17  position                      13371 non-null  object \n",
      " 18  primaryPositionAbbrev         13371 non-null  object \n",
      " 19  plateAppearances              13371 non-null  int64  \n",
      " 20  totalBases                    13371 non-null  int64  \n",
      " 21  leftOnBase                    13371 non-null  int64  \n",
      " 22  sacBunts                      13371 non-null  int64  \n",
      " 23  sacFlies                      13371 non-null  int64  \n",
      " 24  babip                         13371 non-null  object \n",
      " 25  extraBaseHits                 13371 non-null  int64  \n",
      " 26  hitByPitch                    13371 non-null  int64  \n",
      " 27  gidp                          13371 non-null  int64  \n",
      " 28  gidpOpp                       13371 non-null  int64  \n",
      " 29  numberOfPitches               13371 non-null  int64  \n",
      " 30  pitchesPerPlateAppearance     13371 non-null  object \n",
      " 31  walksPerPlateAppearance       13371 non-null  object \n",
      " 32  strikeoutsPerPlateAppearance  13371 non-null  object \n",
      " 33  homeRunsPerPlateAppearance    13371 non-null  object \n",
      " 34  walksPerStrikeout             13371 non-null  object \n",
      " 35  iso                           10464 non-null  float64\n",
      " 36  reachedOnError                13371 non-null  int64  \n",
      " 37  walkOffs                      13371 non-null  int64  \n",
      " 38  gamesPlayed                   13371 non-null  int64  \n",
      " 39  groundOuts                    13371 non-null  int64  \n",
      " 40  airOuts                       13371 non-null  int64  \n",
      " 41  runs                          13371 non-null  int64  \n",
      " 42  doubles                       13371 non-null  int64  \n",
      " 43  triples                       13371 non-null  int64  \n",
      " 44  homeRuns                      13371 non-null  int64  \n",
      " 45  strikeOuts                    13371 non-null  int64  \n",
      " 46  baseOnBalls                   13371 non-null  int64  \n",
      " 47  intentionalWalks              13371 non-null  int64  \n",
      " 48  hits                          13371 non-null  int64  \n",
      " 49  avg                           13371 non-null  float64\n",
      " 50  atBats                        13371 non-null  int64  \n",
      " 51  obp                           13371 non-null  float64\n",
      " 52  slg                           13371 non-null  float64\n",
      " 53  ops                           13371 non-null  float64\n",
      " 54  caughtStealing                13371 non-null  int64  \n",
      " 55  stolenBases                   13371 non-null  int64  \n",
      " 56  stolenBasePercentage          13371 non-null  object \n",
      " 57  groundIntoDoublePlay          13371 non-null  int64  \n",
      " 58  rbi                           13371 non-null  int64  \n",
      " 59  groundOutsToAirouts           13371 non-null  object \n",
      " 60  atBatsPerHomeRun              13371 non-null  object \n",
      "dtypes: float64(7), int64(31), object(23)\n",
      "memory usage: 6.2+ MB\n"
     ]
    }
   ],
   "source": [
    "batting_df.info()"
   ]
  },
  {
   "cell_type": "code",
   "execution_count": 7,
   "metadata": {
    "ExecuteTime": {
     "end_time": "2020-06-02T15:32:23.423768Z",
     "start_time": "2020-06-02T15:32:23.343964Z"
    }
   },
   "outputs": [
    {
     "name": "stdout",
     "output_type": "stream",
     "text": [
      "<class 'pandas.core.frame.DataFrame'>\n",
      "RangeIndex: 7858 entries, 0 to 7857\n",
      "Data columns (total 95 columns):\n",
      " #   Column                        Non-Null Count  Dtype  \n",
      "---  ------                        --------------  -----  \n",
      " 0   year                          7858 non-null   int64  \n",
      " 1   playerId                      7858 non-null   int64  \n",
      " 2   playerName                    7858 non-null   object \n",
      " 3   type                          7858 non-null   object \n",
      " 4   rank                          7858 non-null   int64  \n",
      " 5   playerFullName                7858 non-null   object \n",
      " 6   playerFirstName               7858 non-null   object \n",
      " 7   playerLastName                7858 non-null   object \n",
      " 8   playerUseName                 7858 non-null   object \n",
      " 9   playerInitLastName            7858 non-null   object \n",
      " 10  teamId                        7857 non-null   float64\n",
      " 11  teamAbbrev                    7857 non-null   object \n",
      " 12  teamName                      7857 non-null   object \n",
      " 13  teamShortName                 7857 non-null   object \n",
      " 14  leagueName                    7857 non-null   object \n",
      " 15  leagueId                      7857 non-null   float64\n",
      " 16  positionAbbrev                0 non-null      float64\n",
      " 17  position                      0 non-null      float64\n",
      " 18  primaryPositionAbbrev         7858 non-null   object \n",
      " 19  winningPercentage             7858 non-null   object \n",
      " 20  runsScoredPer9                7858 non-null   object \n",
      " 21  battersFaced                  7858 non-null   int64  \n",
      " 22  babip                         7858 non-null   object \n",
      " 23  obp                           7858 non-null   object \n",
      " 24  slg                           7858 non-null   object \n",
      " 25  ops                           7858 non-null   float64\n",
      " 26  strikeoutsPer9                7858 non-null   object \n",
      " 27  baseOnBallsPer9               7858 non-null   object \n",
      " 28  homeRunsPer9                  7858 non-null   object \n",
      " 29  hitsPer9                      7858 non-null   object \n",
      " 30  strikesoutsToWalks            7858 non-null   object \n",
      " 31  inheritedRunners              7858 non-null   int64  \n",
      " 32  inheritedRunnersScored        7858 non-null   int64  \n",
      " 33  bequeathedRunners             7858 non-null   int64  \n",
      " 34  bequeathedRunnersScored       7858 non-null   int64  \n",
      " 35  stolenBases                   7858 non-null   int64  \n",
      " 36  caughtStealing                7858 non-null   int64  \n",
      " 37  qualityStarts                 7858 non-null   int64  \n",
      " 38  gamesFinished                 7858 non-null   int64  \n",
      " 39  doubles                       7858 non-null   int64  \n",
      " 40  triples                       7858 non-null   int64  \n",
      " 41  gidp                          7858 non-null   int64  \n",
      " 42  gidpOpp                       7858 non-null   int64  \n",
      " 43  wildPitches                   7858 non-null   int64  \n",
      " 44  balks                         7858 non-null   int64  \n",
      " 45  pickoffs                      7858 non-null   int64  \n",
      " 46  strikePercentage              7858 non-null   object \n",
      " 47  pitchesPerInning              7858 non-null   object \n",
      " 48  pitchesPerPlateAppearance     7858 non-null   object \n",
      " 49  walksPerPlateAppearance       7858 non-null   object \n",
      " 50  strikeoutsPerPlateAppearance  7858 non-null   object \n",
      " 51  homeRunsPerPlateAppearance    7858 non-null   object \n",
      " 52  walksPerStrikeout             7858 non-null   object \n",
      " 53  iso                           7851 non-null   float64\n",
      " 54  gamesPlayed                   7858 non-null   int64  \n",
      " 55  gamesStarted                  7858 non-null   int64  \n",
      " 56  groundOuts                    7858 non-null   int64  \n",
      " 57  airOuts                       7858 non-null   int64  \n",
      " 58  runs                          7858 non-null   int64  \n",
      " 59  homeRuns                      7858 non-null   int64  \n",
      " 60  strikeOuts                    7858 non-null   int64  \n",
      " 61  baseOnBalls                   7858 non-null   int64  \n",
      " 62  intentionalWalks              7858 non-null   int64  \n",
      " 63  hits                          7858 non-null   int64  \n",
      " 64  hitByPitch                    7858 non-null   int64  \n",
      " 65  avg                           7858 non-null   float64\n",
      " 66  atBats                        7858 non-null   int64  \n",
      " 67  stolenBasePercentage          7858 non-null   object \n",
      " 68  groundIntoDoublePlay          7858 non-null   int64  \n",
      " 69  numberOfPitches               7858 non-null   int64  \n",
      " 70  era                           7858 non-null   object \n",
      " 71  inningsPitched                7858 non-null   float64\n",
      " 72  wins                          7858 non-null   int64  \n",
      " 73  losses                        7858 non-null   int64  \n",
      " 74  saves                         7858 non-null   int64  \n",
      " 75  saveOpportunities             7858 non-null   int64  \n",
      " 76  holds                         7858 non-null   int64  \n",
      " 77  blownSaves                    7858 non-null   int64  \n",
      " 78  earnedRuns                    7858 non-null   int64  \n",
      " 79  whip                          7858 non-null   object \n",
      " 80  outs                          7858 non-null   int64  \n",
      " 81  gamesPitched                  7858 non-null   int64  \n",
      " 82  completeGames                 7858 non-null   int64  \n",
      " 83  shutouts                      7858 non-null   int64  \n",
      " 84  strikes                       7858 non-null   int64  \n",
      " 85  hitBatsmen                    7858 non-null   int64  \n",
      " 86  totalBases                    7858 non-null   int64  \n",
      " 87  groundOutsToAirouts           7858 non-null   object \n",
      " 88  winPercentage                 7858 non-null   object \n",
      " 89  strikeoutWalkRatio            7858 non-null   float64\n",
      " 90  strikeoutsPer9Inn             7858 non-null   object \n",
      " 91  walksPer9Inn                  7858 non-null   object \n",
      " 92  hitsPer9Inn                   7858 non-null   object \n",
      " 93  sacBunts                      7858 non-null   int64  \n",
      " 94  sacFlies                      7858 non-null   int64  \n",
      "dtypes: float64(9), int64(49), object(37)\n",
      "memory usage: 5.7+ MB\n"
     ]
    }
   ],
   "source": [
    "pitching_df.info()"
   ]
  },
  {
   "cell_type": "code",
   "execution_count": 8,
   "metadata": {
    "ExecuteTime": {
     "end_time": "2020-06-02T15:32:23.461540Z",
     "start_time": "2020-06-02T15:32:23.428818Z"
    }
   },
   "outputs": [
    {
     "name": "stdout",
     "output_type": "stream",
     "text": [
      "<class 'pandas.core.frame.DataFrame'>\n",
      "RangeIndex: 24297 entries, 0 to 24296\n",
      "Columns: 161 entries, Date to AcquisitionInfo\n",
      "dtypes: float64(2), int64(82), object(77)\n",
      "memory usage: 29.8+ MB\n"
     ]
    }
   ],
   "source": [
    "game_df.info()"
   ]
  },
  {
   "cell_type": "code",
   "execution_count": 9,
   "metadata": {
    "ExecuteTime": {
     "end_time": "2020-06-02T15:32:23.472684Z",
     "start_time": "2020-06-02T15:32:23.465675Z"
    }
   },
   "outputs": [],
   "source": [
    "#batting_df.iloc[:,0:20]"
   ]
  },
  {
   "cell_type": "code",
   "execution_count": 10,
   "metadata": {
    "ExecuteTime": {
     "end_time": "2020-06-02T15:32:23.492858Z",
     "start_time": "2020-06-02T15:32:23.487009Z"
    }
   },
   "outputs": [],
   "source": [
    "#batting_df.iloc[:,20:40]"
   ]
  },
  {
   "cell_type": "code",
   "execution_count": 11,
   "metadata": {
    "ExecuteTime": {
     "end_time": "2020-06-02T15:32:23.521726Z",
     "start_time": "2020-06-02T15:32:23.502482Z"
    }
   },
   "outputs": [],
   "source": [
    "#batting_df.iloc[:,40:60]"
   ]
  },
  {
   "cell_type": "code",
   "execution_count": 12,
   "metadata": {
    "ExecuteTime": {
     "end_time": "2020-06-02T15:32:23.543384Z",
     "start_time": "2020-06-02T15:32:23.533254Z"
    }
   },
   "outputs": [],
   "source": [
    "#batting_df.iloc[:,60:]"
   ]
  },
  {
   "cell_type": "markdown",
   "metadata": {},
   "source": [
    "### Original Pitching DF"
   ]
  },
  {
   "cell_type": "code",
   "execution_count": 13,
   "metadata": {
    "ExecuteTime": {
     "end_time": "2020-06-02T15:32:23.558432Z",
     "start_time": "2020-06-02T15:32:23.550547Z"
    }
   },
   "outputs": [],
   "source": [
    "#pitching_df.iloc[:,0:20]"
   ]
  },
  {
   "cell_type": "code",
   "execution_count": 14,
   "metadata": {
    "ExecuteTime": {
     "end_time": "2020-06-02T15:32:23.571453Z",
     "start_time": "2020-06-02T15:32:23.561791Z"
    }
   },
   "outputs": [],
   "source": [
    "#pitching_df.iloc[:,20:40]"
   ]
  },
  {
   "cell_type": "code",
   "execution_count": 15,
   "metadata": {
    "ExecuteTime": {
     "end_time": "2020-06-02T15:32:23.594719Z",
     "start_time": "2020-06-02T15:32:23.577743Z"
    }
   },
   "outputs": [],
   "source": [
    "#pitching_df.iloc[:,40:60]"
   ]
  },
  {
   "cell_type": "code",
   "execution_count": 16,
   "metadata": {
    "ExecuteTime": {
     "end_time": "2020-06-02T15:32:23.613064Z",
     "start_time": "2020-06-02T15:32:23.606017Z"
    }
   },
   "outputs": [],
   "source": [
    "#pitching_df.iloc[:,60:80]"
   ]
  },
  {
   "cell_type": "code",
   "execution_count": 17,
   "metadata": {
    "ExecuteTime": {
     "end_time": "2020-06-02T15:32:23.629411Z",
     "start_time": "2020-06-02T15:32:23.623741Z"
    }
   },
   "outputs": [],
   "source": [
    "#pitching_df.iloc[:,80:]"
   ]
  },
  {
   "cell_type": "markdown",
   "metadata": {},
   "source": [
    "### Original Game DF"
   ]
  },
  {
   "cell_type": "code",
   "execution_count": 18,
   "metadata": {
    "ExecuteTime": {
     "end_time": "2020-06-02T15:32:23.638435Z",
     "start_time": "2020-06-02T15:32:23.634226Z"
    },
    "code_folding": []
   },
   "outputs": [],
   "source": [
    "#game_df.iloc[:,0:20]"
   ]
  },
  {
   "cell_type": "code",
   "execution_count": 19,
   "metadata": {
    "ExecuteTime": {
     "end_time": "2020-06-02T15:32:23.647717Z",
     "start_time": "2020-06-02T15:32:23.643457Z"
    }
   },
   "outputs": [],
   "source": [
    "#game_df.iloc[:,20:40]"
   ]
  },
  {
   "cell_type": "code",
   "execution_count": 20,
   "metadata": {
    "ExecuteTime": {
     "end_time": "2020-06-02T15:32:23.658029Z",
     "start_time": "2020-06-02T15:32:23.653320Z"
    }
   },
   "outputs": [],
   "source": [
    "#game_df.iloc[:,40:60]"
   ]
  },
  {
   "cell_type": "code",
   "execution_count": 21,
   "metadata": {
    "ExecuteTime": {
     "end_time": "2020-06-02T15:32:23.664955Z",
     "start_time": "2020-06-02T15:32:23.661620Z"
    }
   },
   "outputs": [],
   "source": [
    "#game_df.iloc[:,60:80]"
   ]
  },
  {
   "cell_type": "code",
   "execution_count": 22,
   "metadata": {
    "ExecuteTime": {
     "end_time": "2020-06-02T15:32:23.675612Z",
     "start_time": "2020-06-02T15:32:23.671393Z"
    }
   },
   "outputs": [],
   "source": [
    "#game_df.iloc[:,80:100]"
   ]
  },
  {
   "cell_type": "code",
   "execution_count": 23,
   "metadata": {
    "ExecuteTime": {
     "end_time": "2020-06-02T15:32:23.685038Z",
     "start_time": "2020-06-02T15:32:23.680034Z"
    }
   },
   "outputs": [],
   "source": [
    "#game_df.iloc[:,100:120]"
   ]
  },
  {
   "cell_type": "code",
   "execution_count": 24,
   "metadata": {
    "ExecuteTime": {
     "end_time": "2020-06-02T15:32:23.693006Z",
     "start_time": "2020-06-02T15:32:23.689320Z"
    }
   },
   "outputs": [],
   "source": [
    "#game_df.iloc[:,120:140]"
   ]
  },
  {
   "cell_type": "code",
   "execution_count": 25,
   "metadata": {
    "ExecuteTime": {
     "end_time": "2020-06-02T15:32:23.702902Z",
     "start_time": "2020-06-02T15:32:23.697320Z"
    }
   },
   "outputs": [],
   "source": [
    "#game_df.iloc[:,140:160]"
   ]
  },
  {
   "cell_type": "code",
   "execution_count": 26,
   "metadata": {
    "ExecuteTime": {
     "end_time": "2020-06-02T15:32:23.711509Z",
     "start_time": "2020-06-02T15:32:23.707219Z"
    }
   },
   "outputs": [],
   "source": [
    "#game_df.iloc[:,160:]"
   ]
  },
  {
   "cell_type": "markdown",
   "metadata": {},
   "source": [
    "### Initial Column drops"
   ]
  },
  {
   "cell_type": "code",
   "execution_count": 27,
   "metadata": {
    "ExecuteTime": {
     "end_time": "2020-06-02T15:32:23.737745Z",
     "start_time": "2020-06-02T15:32:23.717411Z"
    }
   },
   "outputs": [],
   "source": [
    "batting_df.drop(batting_col_del, axis=1, inplace=True)"
   ]
  },
  {
   "cell_type": "code",
   "execution_count": 28,
   "metadata": {
    "ExecuteTime": {
     "end_time": "2020-06-02T15:32:23.766899Z",
     "start_time": "2020-06-02T15:32:23.746849Z"
    }
   },
   "outputs": [],
   "source": [
    "pitching_df.drop(pitching_col_del, axis=1, inplace=True)"
   ]
  },
  {
   "cell_type": "code",
   "execution_count": 29,
   "metadata": {
    "ExecuteTime": {
     "end_time": "2020-06-02T15:32:23.815050Z",
     "start_time": "2020-06-02T15:32:23.770871Z"
    }
   },
   "outputs": [],
   "source": [
    "game_df.drop(game_col_del, axis=1, inplace=True)"
   ]
  },
  {
   "cell_type": "markdown",
   "metadata": {},
   "source": [
    "### Second Go at cleaning up data"
   ]
  },
  {
   "cell_type": "code",
   "execution_count": 30,
   "metadata": {
    "ExecuteTime": {
     "end_time": "2020-06-02T15:32:23.830814Z",
     "start_time": "2020-06-02T15:32:23.820276Z"
    }
   },
   "outputs": [],
   "source": [
    "batting_col_del_2 = ['gidpOpp', 'numberOfPitches', 'pitchesPerPlateAppearance', 'walksPerStrikeout', 'iso', 'walkOffs', 'gamesPlayed', 'caughtStealing', 'stolenBases', 'stolenBasePercentage']"
   ]
  },
  {
   "cell_type": "code",
   "execution_count": 31,
   "metadata": {
    "ExecuteTime": {
     "end_time": "2020-06-02T15:32:23.849847Z",
     "start_time": "2020-06-02T15:32:23.836993Z"
    }
   },
   "outputs": [],
   "source": [
    "batting_df.drop(batting_col_del_2, axis='columns', inplace=True)"
   ]
  },
  {
   "cell_type": "code",
   "execution_count": 32,
   "metadata": {
    "ExecuteTime": {
     "end_time": "2020-06-02T15:32:23.889634Z",
     "start_time": "2020-06-02T15:32:23.854251Z"
    }
   },
   "outputs": [],
   "source": [
    "pitching_col_del_2 = ['inheritedRunners', 'inheritedRunnersScored', 'bequeathedRunners', 'bequeathedRunnersScored', 'stolenBases', 'caughtStealing', 'gamesFinished', 'gidpOpp', 'wildPitches', 'balks', 'pickoffs', 'strikePercentage', 'pitchesPerInning', 'pitchesPerPlateAppearance', 'iso', 'gamesPlayed', 'gamesStarted', 'stolenBasePercentage', 'numberOfPitches', 'inningsPitched', 'wins', 'losses', 'saves', 'saveOpportunities', 'holds', 'blownSaves', 'outs', 'gamesPitched', 'completeGames', 'shutouts', 'strikes']"
   ]
  },
  {
   "cell_type": "code",
   "execution_count": 33,
   "metadata": {
    "ExecuteTime": {
     "end_time": "2020-06-02T15:32:23.944065Z",
     "start_time": "2020-06-02T15:32:23.903847Z"
    }
   },
   "outputs": [],
   "source": [
    "pitching_df.drop(pitching_col_del_2, axis='columns', inplace=True)"
   ]
  },
  {
   "cell_type": "code",
   "execution_count": 34,
   "metadata": {
    "ExecuteTime": {
     "end_time": "2020-06-02T15:32:23.958464Z",
     "start_time": "2020-06-02T15:32:23.947845Z"
    }
   },
   "outputs": [],
   "source": [
    "game_col_del_2 = ['VisitorSH', 'VisitorSF', 'VisitorSB', 'VisitorCS', 'VisitorCI', 'VisitorPitchers', 'VisitorER', 'VisitorWP', 'VisitorBalks', 'VisitorPO', 'VisitorA', 'VisitorE', 'VisitorPassed', 'HomeSH', 'HomeSF', 'HomeSB', 'HomeCS', 'HomeCI', 'HomePitchers', 'HomeER', 'HomeWP', 'HomeBalks', 'HomePO', 'HomeA', 'HomeE', 'HomePassed']"
   ]
  },
  {
   "cell_type": "code",
   "execution_count": 35,
   "metadata": {
    "ExecuteTime": {
     "end_time": "2020-06-02T15:32:24.020008Z",
     "start_time": "2020-06-02T15:32:23.963645Z"
    }
   },
   "outputs": [],
   "source": [
    "game_df.drop(game_col_del_2, axis='columns', inplace=True)"
   ]
  },
  {
   "cell_type": "markdown",
   "metadata": {},
   "source": [
    "### Third Go at cleaning up data..."
   ]
  },
  {
   "cell_type": "code",
   "execution_count": 36,
   "metadata": {
    "ExecuteTime": {
     "end_time": "2020-06-02T15:32:24.045201Z",
     "start_time": "2020-06-02T15:32:24.025846Z"
    }
   },
   "outputs": [],
   "source": [
    "batting_col_del_3 = ['sacBunts', 'sacFlies', 'reachedOnError', 'gidp', 'babip', 'extraBaseHits', 'hitByPitch', 'walksPerPlateAppearance', 'strikeoutsPerPlateAppearance', 'homeRunsPerPlateAppearance', 'groundOuts', 'airOuts', 'doubles', 'triples', 'homeRuns', 'groundOutsToAirouts', 'atBatsPerHomeRun', ]"
   ]
  },
  {
   "cell_type": "code",
   "execution_count": 37,
   "metadata": {
    "ExecuteTime": {
     "end_time": "2020-06-02T15:32:24.064360Z",
     "start_time": "2020-06-02T15:32:24.049326Z"
    }
   },
   "outputs": [],
   "source": [
    "batting_df.drop(batting_col_del_3, axis=1, inplace=True)"
   ]
  },
  {
   "cell_type": "code",
   "execution_count": 38,
   "metadata": {
    "ExecuteTime": {
     "end_time": "2020-06-02T15:32:24.096927Z",
     "start_time": "2020-06-02T15:32:24.068846Z"
    }
   },
   "outputs": [],
   "source": [
    "pitching_col_del_3 = ['battersFaced', 'babip', 'obp', 'slg', 'strikesoutsToWalks', 'qualityStarts', 'doubles', 'triples', 'walksPerPlateAppearance', 'strikeoutsPerPlateAppearance', 'homeRunsPerPlateAppearance', 'walksPerStrikeout', 'groundOuts', 'airOuts', 'runs', 'homeRuns', 'strikeOuts', 'baseOnBalls', 'intentionalWalks', 'hits', 'hitByPitch', 'atBats', 'groundIntoDoublePlay', 'earnedRuns', 'hitBatsmen', 'totalBases', 'groundOutsToAirouts', 'strikeoutWalkRatio', 'sacBunts', 'sacFlies', ]"
   ]
  },
  {
   "cell_type": "code",
   "execution_count": 39,
   "metadata": {
    "ExecuteTime": {
     "end_time": "2020-06-02T15:32:24.137833Z",
     "start_time": "2020-06-02T15:32:24.102020Z"
    }
   },
   "outputs": [],
   "source": [
    "pitching_df.drop(pitching_col_del_3, axis=1, inplace=True)"
   ]
  },
  {
   "cell_type": "code",
   "execution_count": 40,
   "metadata": {
    "ExecuteTime": {
     "end_time": "2020-06-02T15:32:24.159750Z",
     "start_time": "2020-06-02T15:32:24.140239Z"
    }
   },
   "outputs": [],
   "source": [
    "game_col_del_3 = ['VisitorD', 'VisitorT', 'VisitorHR', 'VisitorRBI', 'VisitorK', 'VisitorGDP', 'VisitorTER', 'VisitorDB', 'VisitorTP', 'HomeD', 'HomeT', 'HomeHR', 'HomeRBI', 'HomeK', 'HomeGDP', 'HomeTER', 'HomeDB', 'HomeTP', 'VisitorStartingPitcherID', 'HomeStartingPitcherID', 'VisitorBatting1PlayerID', 'VisitorBatting1Name', 'VisitorBatting2PlayerID', 'VisitorBatting2Name', 'VisitorBatting3PlayerID', 'VisitorBatting3Name', 'VisitorBatting4PlayerID', 'VisitorBatting4Name', 'VisitorBatting5PlayerID', 'VisitorBatting5Name', 'VisitorBatting6PlayerID', 'VisitorBatting6Name', 'VisitorBatting7PlayerID', 'VisitorBatting7Name', 'VisitorBatting8PlayerID', 'VisitorBatting8Name', 'VisitorBatting9PlayerID', 'VisitorBatting9Name', 'HomeBatting1PlayerID', 'HomeBatting1Name', 'HomeBatting2PlayerID', 'HomeBatting2Name', 'HomeBatting3PlayerID', 'HomeBatting3Name', 'HomeBatting4PlayerID', 'HomeBatting4Name', 'HomeBatting5PlayerID', 'HomeBatting5Name', 'HomeBatting6PlayerID', 'HomeBatting6Name', 'HomeBatting7PlayerID', 'HomeBatting7Name', 'HomeBatting8PlayerID', 'HomeBatting8Name', 'HomeBatting9PlayerID', 'HomeBatting9Name']"
   ]
  },
  {
   "cell_type": "code",
   "execution_count": 41,
   "metadata": {
    "ExecuteTime": {
     "end_time": "2020-06-02T15:32:24.192832Z",
     "start_time": "2020-06-02T15:32:24.161988Z"
    }
   },
   "outputs": [],
   "source": [
    "game_df.drop(game_col_del_3, axis=1, inplace=True)"
   ]
  },
  {
   "cell_type": "markdown",
   "metadata": {},
   "source": [
    "### Dataframes seemed cleaned up enough. Saving to CSV and moving on to additional feature engineering"
   ]
  },
  {
   "cell_type": "code",
   "execution_count": 42,
   "metadata": {
    "ExecuteTime": {
     "end_time": "2020-06-02T15:32:24.675451Z",
     "start_time": "2020-06-02T15:32:24.195808Z"
    },
    "code_folding": []
   },
   "outputs": [],
   "source": [
    "batting_df.to_csv(\"cleaned_batting_df.csv\")\n",
    "pitching_df.to_csv(\"cleaned_piching_df.csv\")\n",
    "game_df.to_csv(\"cleaned_game_df.csv\")"
   ]
  },
  {
   "cell_type": "code",
   "execution_count": null,
   "metadata": {},
   "outputs": [],
   "source": []
  }
 ],
 "metadata": {
  "kernelspec": {
   "display_name": "Python 3",
   "language": "python",
   "name": "python3"
  },
  "language_info": {
   "codemirror_mode": {
    "name": "ipython",
    "version": 3
   },
   "file_extension": ".py",
   "mimetype": "text/x-python",
   "name": "python",
   "nbconvert_exporter": "python",
   "pygments_lexer": "ipython3",
   "version": "3.7.7"
  }
 },
 "nbformat": 4,
 "nbformat_minor": 4
}
