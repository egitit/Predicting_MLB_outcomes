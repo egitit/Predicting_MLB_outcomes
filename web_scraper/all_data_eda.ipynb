{
 "cells": [
  {
   "cell_type": "code",
   "execution_count": 1,
   "metadata": {
    "ExecuteTime": {
     "end_time": "2020-06-01T19:04:15.539765Z",
     "start_time": "2020-06-01T19:04:14.347409Z"
    }
   },
   "outputs": [],
   "source": [
    "import pandas as pd"
   ]
  },
  {
   "cell_type": "code",
   "execution_count": 2,
   "metadata": {
    "ExecuteTime": {
     "end_time": "2020-06-01T19:04:17.005223Z",
     "start_time": "2020-06-01T19:04:15.545547Z"
    }
   },
   "outputs": [
    {
     "name": "stdout",
     "output_type": "stream",
     "text": [
      "/Users/Lisa/_MLB_Prediction_capstone/web_scraper\r\n"
     ]
    },
    {
     "name": "stderr",
     "output_type": "stream",
     "text": [
      "/Users/Lisa/opt/anaconda3/lib/python3.7/site-packages/IPython/core/interactiveshell.py:3063: DtypeWarning: Columns (16,86,88) have mixed types.Specify dtype option on import or set low_memory=False.\n",
      "  interactivity=interactivity, compiler=compiler, result=result)\n"
     ]
    }
   ],
   "source": [
    "%run delete.ipynb"
   ]
  },
  {
   "cell_type": "code",
   "execution_count": 3,
   "metadata": {
    "ExecuteTime": {
     "end_time": "2020-06-01T19:04:17.043460Z",
     "start_time": "2020-06-01T19:04:17.013110Z"
    }
   },
   "outputs": [],
   "source": [
    "file = '/Users/Lisa/_MLB_Prediction_capstone/web_scraper/MLB_batting_stats.csv'\n",
    "file2 = '/Users/Lisa/_MLB_Prediction_capstone/web_scraper/MLB_pitching_stats.csv'\n",
    "file3 = '/Users/Lisa/_MLB_Prediction_capstone/2010_to_2019_seasons.csv'"
   ]
  },
  {
   "cell_type": "code",
   "execution_count": 4,
   "metadata": {
    "ExecuteTime": {
     "end_time": "2020-06-01T19:04:17.974698Z",
     "start_time": "2020-06-01T19:04:17.046298Z"
    }
   },
   "outputs": [],
   "source": [
    "batting_df = pd.read_csv(file)\n",
    "pitching_df = pd.read_csv(file2)\n",
    "game_df = pd.read_csv(file3)"
   ]
  },
  {
   "cell_type": "markdown",
   "metadata": {},
   "source": [
    "### Original Batting DF"
   ]
  },
  {
   "cell_type": "code",
   "execution_count": 5,
   "metadata": {
    "ExecuteTime": {
     "end_time": "2020-06-01T19:04:18.052102Z",
     "start_time": "2020-06-01T19:04:17.977228Z"
    }
   },
   "outputs": [],
   "source": [
    "batting_df.drop('Unnamed: 0', axis=1, inplace=True)\n",
    "pitching_df.drop('Unnamed: 0', axis=1, inplace=True)\n",
    "game_df.drop('Unnamed: 0', axis=1, inplace=True)"
   ]
  },
  {
   "cell_type": "code",
   "execution_count": 6,
   "metadata": {
    "ExecuteTime": {
     "end_time": "2020-06-01T19:04:18.100473Z",
     "start_time": "2020-06-01T19:04:18.054002Z"
    },
    "collapsed": true
   },
   "outputs": [
    {
     "name": "stdout",
     "output_type": "stream",
     "text": [
      "<class 'pandas.core.frame.DataFrame'>\n",
      "RangeIndex: 1435 entries, 0 to 1434\n",
      "Data columns (total 61 columns):\n",
      " #   Column                        Non-Null Count  Dtype  \n",
      "---  ------                        --------------  -----  \n",
      " 0   year                          1435 non-null   int64  \n",
      " 1   playerId                      1435 non-null   int64  \n",
      " 2   playerName                    1435 non-null   object \n",
      " 3   type                          1435 non-null   object \n",
      " 4   rank                          1435 non-null   int64  \n",
      " 5   playerFullName                1435 non-null   object \n",
      " 6   playerFirstName               1435 non-null   object \n",
      " 7   playerLastName                1435 non-null   object \n",
      " 8   playerUseName                 1435 non-null   object \n",
      " 9   playerInitLastName            1435 non-null   object \n",
      " 10  teamId                        1435 non-null   int64  \n",
      " 11  teamAbbrev                    1435 non-null   object \n",
      " 12  teamName                      1435 non-null   object \n",
      " 13  teamShortName                 1435 non-null   object \n",
      " 14  leagueName                    1435 non-null   object \n",
      " 15  leagueId                      1435 non-null   int64  \n",
      " 16  positionAbbrev                1435 non-null   object \n",
      " 17  position                      1435 non-null   object \n",
      " 18  primaryPositionAbbrev         1435 non-null   object \n",
      " 19  plateAppearances              1435 non-null   int64  \n",
      " 20  totalBases                    1435 non-null   int64  \n",
      " 21  leftOnBase                    1435 non-null   int64  \n",
      " 22  sacBunts                      1435 non-null   int64  \n",
      " 23  sacFlies                      1435 non-null   int64  \n",
      " 24  babip                         1435 non-null   float64\n",
      " 25  extraBaseHits                 1435 non-null   int64  \n",
      " 26  hitByPitch                    1435 non-null   int64  \n",
      " 27  gidp                          1435 non-null   int64  \n",
      " 28  gidpOpp                       1435 non-null   int64  \n",
      " 29  numberOfPitches               1435 non-null   int64  \n",
      " 30  pitchesPerPlateAppearance     1435 non-null   float64\n",
      " 31  walksPerPlateAppearance       1435 non-null   float64\n",
      " 32  strikeoutsPerPlateAppearance  1435 non-null   float64\n",
      " 33  homeRunsPerPlateAppearance    1435 non-null   float64\n",
      " 34  walksPerStrikeout             1435 non-null   float64\n",
      " 35  iso                           1435 non-null   float64\n",
      " 36  reachedOnError                1435 non-null   int64  \n",
      " 37  walkOffs                      1435 non-null   int64  \n",
      " 38  gamesPlayed                   1435 non-null   int64  \n",
      " 39  groundOuts                    1435 non-null   int64  \n",
      " 40  airOuts                       1435 non-null   int64  \n",
      " 41  runs                          1435 non-null   int64  \n",
      " 42  doubles                       1435 non-null   int64  \n",
      " 43  triples                       1435 non-null   int64  \n",
      " 44  homeRuns                      1435 non-null   int64  \n",
      " 45  strikeOuts                    1435 non-null   int64  \n",
      " 46  baseOnBalls                   1435 non-null   int64  \n",
      " 47  intentionalWalks              1435 non-null   int64  \n",
      " 48  hits                          1435 non-null   int64  \n",
      " 49  avg                           1435 non-null   float64\n",
      " 50  atBats                        1435 non-null   int64  \n",
      " 51  obp                           1435 non-null   float64\n",
      " 52  slg                           1435 non-null   float64\n",
      " 53  ops                           1435 non-null   float64\n",
      " 54  caughtStealing                1435 non-null   int64  \n",
      " 55  stolenBases                   1435 non-null   int64  \n",
      " 56  stolenBasePercentage          1435 non-null   object \n",
      " 57  groundIntoDoublePlay          1435 non-null   int64  \n",
      " 58  rbi                           1435 non-null   int64  \n",
      " 59  groundOutsToAirouts           1435 non-null   float64\n",
      " 60  atBatsPerHomeRun              1435 non-null   object \n",
      "dtypes: float64(12), int64(33), object(16)\n",
      "memory usage: 684.0+ KB\n"
     ]
    }
   ],
   "source": [
    "batting_df.info()"
   ]
  },
  {
   "cell_type": "code",
   "execution_count": 7,
   "metadata": {
    "ExecuteTime": {
     "end_time": "2020-06-01T19:04:18.174339Z",
     "start_time": "2020-06-01T19:04:18.104330Z"
    },
    "collapsed": true
   },
   "outputs": [
    {
     "name": "stdout",
     "output_type": "stream",
     "text": [
      "<class 'pandas.core.frame.DataFrame'>\n",
      "RangeIndex: 770 entries, 0 to 769\n",
      "Data columns (total 95 columns):\n",
      " #   Column                        Non-Null Count  Dtype  \n",
      "---  ------                        --------------  -----  \n",
      " 0   year                          770 non-null    int64  \n",
      " 1   playerId                      770 non-null    int64  \n",
      " 2   playerName                    770 non-null    object \n",
      " 3   type                          770 non-null    object \n",
      " 4   rank                          770 non-null    int64  \n",
      " 5   playerFullName                770 non-null    object \n",
      " 6   playerFirstName               770 non-null    object \n",
      " 7   playerLastName                770 non-null    object \n",
      " 8   playerUseName                 770 non-null    object \n",
      " 9   playerInitLastName            770 non-null    object \n",
      " 10  teamId                        770 non-null    int64  \n",
      " 11  teamAbbrev                    770 non-null    object \n",
      " 12  teamName                      770 non-null    object \n",
      " 13  teamShortName                 770 non-null    object \n",
      " 14  leagueName                    770 non-null    object \n",
      " 15  leagueId                      770 non-null    int64  \n",
      " 16  positionAbbrev                0 non-null      float64\n",
      " 17  position                      0 non-null      float64\n",
      " 18  primaryPositionAbbrev         770 non-null    object \n",
      " 19  winningPercentage             770 non-null    float64\n",
      " 20  runsScoredPer9                770 non-null    float64\n",
      " 21  battersFaced                  770 non-null    int64  \n",
      " 22  babip                         770 non-null    float64\n",
      " 23  obp                           770 non-null    float64\n",
      " 24  slg                           770 non-null    float64\n",
      " 25  ops                           770 non-null    float64\n",
      " 26  strikeoutsPer9                770 non-null    float64\n",
      " 27  baseOnBallsPer9               770 non-null    float64\n",
      " 28  homeRunsPer9                  770 non-null    float64\n",
      " 29  hitsPer9                      770 non-null    float64\n",
      " 30  strikesoutsToWalks            770 non-null    float64\n",
      " 31  inheritedRunners              770 non-null    int64  \n",
      " 32  inheritedRunnersScored        770 non-null    int64  \n",
      " 33  bequeathedRunners             770 non-null    int64  \n",
      " 34  bequeathedRunnersScored       770 non-null    int64  \n",
      " 35  stolenBases                   770 non-null    int64  \n",
      " 36  caughtStealing                770 non-null    int64  \n",
      " 37  qualityStarts                 770 non-null    int64  \n",
      " 38  gamesFinished                 770 non-null    int64  \n",
      " 39  doubles                       770 non-null    int64  \n",
      " 40  triples                       770 non-null    int64  \n",
      " 41  gidp                          770 non-null    int64  \n",
      " 42  gidpOpp                       770 non-null    int64  \n",
      " 43  wildPitches                   770 non-null    int64  \n",
      " 44  balks                         770 non-null    int64  \n",
      " 45  pickoffs                      770 non-null    int64  \n",
      " 46  strikePercentage              770 non-null    float64\n",
      " 47  pitchesPerInning              770 non-null    float64\n",
      " 48  pitchesPerPlateAppearance     770 non-null    float64\n",
      " 49  walksPerPlateAppearance       770 non-null    float64\n",
      " 50  strikeoutsPerPlateAppearance  770 non-null    float64\n",
      " 51  homeRunsPerPlateAppearance    770 non-null    float64\n",
      " 52  walksPerStrikeout             770 non-null    float64\n",
      " 53  iso                           770 non-null    float64\n",
      " 54  gamesPlayed                   770 non-null    int64  \n",
      " 55  gamesStarted                  770 non-null    int64  \n",
      " 56  groundOuts                    770 non-null    int64  \n",
      " 57  airOuts                       770 non-null    int64  \n",
      " 58  runs                          770 non-null    int64  \n",
      " 59  homeRuns                      770 non-null    int64  \n",
      " 60  strikeOuts                    770 non-null    int64  \n",
      " 61  baseOnBalls                   770 non-null    int64  \n",
      " 62  intentionalWalks              770 non-null    int64  \n",
      " 63  hits                          770 non-null    int64  \n",
      " 64  hitByPitch                    770 non-null    int64  \n",
      " 65  avg                           770 non-null    float64\n",
      " 66  atBats                        770 non-null    int64  \n",
      " 67  stolenBasePercentage          770 non-null    object \n",
      " 68  groundIntoDoublePlay          770 non-null    int64  \n",
      " 69  numberOfPitches               770 non-null    int64  \n",
      " 70  era                           770 non-null    float64\n",
      " 71  inningsPitched                770 non-null    float64\n",
      " 72  wins                          770 non-null    int64  \n",
      " 73  losses                        770 non-null    int64  \n",
      " 74  saves                         770 non-null    int64  \n",
      " 75  saveOpportunities             770 non-null    int64  \n",
      " 76  holds                         770 non-null    int64  \n",
      " 77  blownSaves                    770 non-null    int64  \n",
      " 78  earnedRuns                    770 non-null    int64  \n",
      " 79  whip                          770 non-null    float64\n",
      " 80  outs                          770 non-null    int64  \n",
      " 81  gamesPitched                  770 non-null    int64  \n",
      " 82  completeGames                 770 non-null    int64  \n",
      " 83  shutouts                      770 non-null    int64  \n",
      " 84  strikes                       770 non-null    int64  \n",
      " 85  hitBatsmen                    770 non-null    int64  \n",
      " 86  totalBases                    770 non-null    int64  \n",
      " 87  groundOutsToAirouts           770 non-null    float64\n",
      " 88  winPercentage                 770 non-null    float64\n",
      " 89  strikeoutWalkRatio            770 non-null    float64\n",
      " 90  strikeoutsPer9Inn             770 non-null    float64\n",
      " 91  walksPer9Inn                  770 non-null    float64\n",
      " 92  hitsPer9Inn                   770 non-null    float64\n",
      " 93  sacBunts                      770 non-null    int64  \n",
      " 94  sacFlies                      770 non-null    int64  \n",
      "dtypes: float64(31), int64(51), object(13)\n",
      "memory usage: 571.6+ KB\n"
     ]
    }
   ],
   "source": [
    "pitching_df.info()"
   ]
  },
  {
   "cell_type": "code",
   "execution_count": 8,
   "metadata": {
    "ExecuteTime": {
     "end_time": "2020-06-01T19:04:18.220548Z",
     "start_time": "2020-06-01T19:04:18.184759Z"
    }
   },
   "outputs": [
    {
     "name": "stdout",
     "output_type": "stream",
     "text": [
      "<class 'pandas.core.frame.DataFrame'>\n",
      "RangeIndex: 24297 entries, 0 to 24296\n",
      "Columns: 161 entries, Date to AcquisitionInfo\n",
      "dtypes: float64(2), int64(82), object(77)\n",
      "memory usage: 29.8+ MB\n"
     ]
    }
   ],
   "source": [
    "game_df.info()"
   ]
  },
  {
   "cell_type": "code",
   "execution_count": 9,
   "metadata": {
    "ExecuteTime": {
     "end_time": "2020-06-01T19:04:18.237896Z",
     "start_time": "2020-06-01T19:04:18.227324Z"
    }
   },
   "outputs": [],
   "source": [
    "#batting_df.iloc[:,0:20]"
   ]
  },
  {
   "cell_type": "code",
   "execution_count": 10,
   "metadata": {
    "ExecuteTime": {
     "end_time": "2020-06-01T19:04:18.259339Z",
     "start_time": "2020-06-01T19:04:18.252496Z"
    }
   },
   "outputs": [],
   "source": [
    "#batting_df.iloc[:,20:40]"
   ]
  },
  {
   "cell_type": "code",
   "execution_count": 11,
   "metadata": {
    "ExecuteTime": {
     "end_time": "2020-06-01T19:04:18.300127Z",
     "start_time": "2020-06-01T19:04:18.271963Z"
    }
   },
   "outputs": [],
   "source": [
    "#batting_df.iloc[:,40:60]"
   ]
  },
  {
   "cell_type": "code",
   "execution_count": 12,
   "metadata": {
    "ExecuteTime": {
     "end_time": "2020-06-01T19:04:18.319084Z",
     "start_time": "2020-06-01T19:04:18.305105Z"
    }
   },
   "outputs": [],
   "source": [
    "#batting_df.iloc[:,60:]"
   ]
  },
  {
   "cell_type": "markdown",
   "metadata": {},
   "source": [
    "### Original Pitching DF"
   ]
  },
  {
   "cell_type": "code",
   "execution_count": 13,
   "metadata": {
    "ExecuteTime": {
     "end_time": "2020-06-01T19:04:18.331872Z",
     "start_time": "2020-06-01T19:04:18.323256Z"
    }
   },
   "outputs": [],
   "source": [
    "#pitching_df.iloc[:,0:20]"
   ]
  },
  {
   "cell_type": "code",
   "execution_count": 14,
   "metadata": {
    "ExecuteTime": {
     "end_time": "2020-06-01T19:04:18.349375Z",
     "start_time": "2020-06-01T19:04:18.338060Z"
    }
   },
   "outputs": [],
   "source": [
    "#pitching_df.iloc[:,20:40]"
   ]
  },
  {
   "cell_type": "code",
   "execution_count": 15,
   "metadata": {
    "ExecuteTime": {
     "end_time": "2020-06-01T19:04:18.367800Z",
     "start_time": "2020-06-01T19:04:18.356223Z"
    }
   },
   "outputs": [],
   "source": [
    "#pitching_df.iloc[:,40:60]"
   ]
  },
  {
   "cell_type": "code",
   "execution_count": 16,
   "metadata": {
    "ExecuteTime": {
     "end_time": "2020-06-01T19:04:18.401477Z",
     "start_time": "2020-06-01T19:04:18.388941Z"
    }
   },
   "outputs": [],
   "source": [
    "#pitching_df.iloc[:,60:80]"
   ]
  },
  {
   "cell_type": "code",
   "execution_count": 17,
   "metadata": {
    "ExecuteTime": {
     "end_time": "2020-06-01T19:04:18.425568Z",
     "start_time": "2020-06-01T19:04:18.409230Z"
    }
   },
   "outputs": [],
   "source": [
    "#pitching_df.iloc[:,80:]"
   ]
  },
  {
   "cell_type": "markdown",
   "metadata": {},
   "source": [
    "### Original Game DF"
   ]
  },
  {
   "cell_type": "code",
   "execution_count": 18,
   "metadata": {
    "ExecuteTime": {
     "end_time": "2020-06-01T19:04:18.451352Z",
     "start_time": "2020-06-01T19:04:18.439921Z"
    },
    "code_folding": []
   },
   "outputs": [],
   "source": [
    "#game_df.iloc[:,0:20]"
   ]
  },
  {
   "cell_type": "code",
   "execution_count": 19,
   "metadata": {
    "ExecuteTime": {
     "end_time": "2020-06-01T19:04:18.466332Z",
     "start_time": "2020-06-01T19:04:18.458319Z"
    }
   },
   "outputs": [],
   "source": [
    "#game_df.iloc[:,20:40]"
   ]
  },
  {
   "cell_type": "code",
   "execution_count": 20,
   "metadata": {
    "ExecuteTime": {
     "end_time": "2020-06-01T19:04:18.484789Z",
     "start_time": "2020-06-01T19:04:18.471003Z"
    }
   },
   "outputs": [],
   "source": [
    "#game_df.iloc[:,40:60]"
   ]
  },
  {
   "cell_type": "code",
   "execution_count": 21,
   "metadata": {
    "ExecuteTime": {
     "end_time": "2020-06-01T19:04:18.493413Z",
     "start_time": "2020-06-01T19:04:18.488832Z"
    }
   },
   "outputs": [],
   "source": [
    "#game_df.iloc[:,60:80]"
   ]
  },
  {
   "cell_type": "code",
   "execution_count": 22,
   "metadata": {
    "ExecuteTime": {
     "end_time": "2020-06-01T19:04:18.504956Z",
     "start_time": "2020-06-01T19:04:18.498444Z"
    }
   },
   "outputs": [],
   "source": [
    "#game_df.iloc[:,80:100]"
   ]
  },
  {
   "cell_type": "code",
   "execution_count": 23,
   "metadata": {
    "ExecuteTime": {
     "end_time": "2020-06-01T19:04:18.517567Z",
     "start_time": "2020-06-01T19:04:18.512388Z"
    }
   },
   "outputs": [],
   "source": [
    "#game_df.iloc[:,100:120]"
   ]
  },
  {
   "cell_type": "code",
   "execution_count": 24,
   "metadata": {
    "ExecuteTime": {
     "end_time": "2020-06-01T19:04:18.526494Z",
     "start_time": "2020-06-01T19:04:18.520966Z"
    }
   },
   "outputs": [],
   "source": [
    "#game_df.iloc[:,120:140]"
   ]
  },
  {
   "cell_type": "code",
   "execution_count": 25,
   "metadata": {
    "ExecuteTime": {
     "end_time": "2020-06-01T19:04:18.535017Z",
     "start_time": "2020-06-01T19:04:18.529878Z"
    }
   },
   "outputs": [],
   "source": [
    "#game_df.iloc[:,140:160]"
   ]
  },
  {
   "cell_type": "code",
   "execution_count": 26,
   "metadata": {
    "ExecuteTime": {
     "end_time": "2020-06-01T19:04:18.572582Z",
     "start_time": "2020-06-01T19:04:18.557292Z"
    }
   },
   "outputs": [],
   "source": [
    "#game_df.iloc[:,160:]"
   ]
  },
  {
   "cell_type": "markdown",
   "metadata": {},
   "source": [
    "### Initial Column drops"
   ]
  },
  {
   "cell_type": "code",
   "execution_count": 27,
   "metadata": {
    "ExecuteTime": {
     "end_time": "2020-06-01T19:04:18.617108Z",
     "start_time": "2020-06-01T19:04:18.585120Z"
    }
   },
   "outputs": [],
   "source": [
    "batting_df.drop(batting_col_del, axis=1, inplace=True)"
   ]
  },
  {
   "cell_type": "code",
   "execution_count": 28,
   "metadata": {
    "ExecuteTime": {
     "end_time": "2020-06-01T19:04:18.651049Z",
     "start_time": "2020-06-01T19:04:18.622936Z"
    }
   },
   "outputs": [],
   "source": [
    "pitching_df.drop(pitching_col_del, axis=1, inplace=True)"
   ]
  },
  {
   "cell_type": "code",
   "execution_count": 29,
   "metadata": {
    "ExecuteTime": {
     "end_time": "2020-06-01T19:04:18.764276Z",
     "start_time": "2020-06-01T19:04:18.660520Z"
    }
   },
   "outputs": [],
   "source": [
    "game_df.drop(game_col_del, axis=1, inplace=True)"
   ]
  },
  {
   "cell_type": "markdown",
   "metadata": {},
   "source": [
    "### Second Go at cleaning up data"
   ]
  },
  {
   "cell_type": "code",
   "execution_count": 30,
   "metadata": {
    "ExecuteTime": {
     "end_time": "2020-06-01T19:04:18.810694Z",
     "start_time": "2020-06-01T19:04:18.779390Z"
    }
   },
   "outputs": [],
   "source": [
    "batting_col_del_2 = ['gidpOpp', 'numberOfPitches', 'pitchesPerPlateAppearance', 'walksPerStrikeout', 'iso', 'walkOffs', 'gamesPlayed', 'caughtStealing', 'stolenBases', 'stolenBasePercentage']"
   ]
  },
  {
   "cell_type": "code",
   "execution_count": 31,
   "metadata": {
    "ExecuteTime": {
     "end_time": "2020-06-01T19:04:18.830291Z",
     "start_time": "2020-06-01T19:04:18.816648Z"
    }
   },
   "outputs": [],
   "source": [
    "batting_df.drop(batting_col_del_2, axis='columns', inplace=True)"
   ]
  },
  {
   "cell_type": "code",
   "execution_count": 32,
   "metadata": {
    "ExecuteTime": {
     "end_time": "2020-06-01T19:04:18.849335Z",
     "start_time": "2020-06-01T19:04:18.838761Z"
    }
   },
   "outputs": [],
   "source": [
    "pitching_col_del_2 = ['inheritedRunners', 'inheritedRunnersScored', 'bequeathedRunners', 'bequeathedRunnersScored', 'stolenBases', 'caughtStealing', 'gamesFinished', 'gidpOpp', 'wildPitches', 'balks', 'pickoffs', 'strikePercentage', 'pitchesPerInning', 'pitchesPerPlateAppearance', 'iso', 'gamesPlayed', 'gamesStarted', 'stolenBasePercentage', 'numberOfPitches', 'inningsPitched', 'wins', 'losses', 'saves', 'saveOpportunities', 'holds', 'blownSaves', 'outs', 'gamesPitched', 'completeGames', 'shutouts', 'strikes']"
   ]
  },
  {
   "cell_type": "code",
   "execution_count": 33,
   "metadata": {
    "ExecuteTime": {
     "end_time": "2020-06-01T19:04:18.866353Z",
     "start_time": "2020-06-01T19:04:18.856520Z"
    }
   },
   "outputs": [],
   "source": [
    "pitching_df.drop(pitching_col_del_2, axis='columns', inplace=True)"
   ]
  },
  {
   "cell_type": "code",
   "execution_count": 34,
   "metadata": {
    "ExecuteTime": {
     "end_time": "2020-06-01T19:04:18.878532Z",
     "start_time": "2020-06-01T19:04:18.870205Z"
    }
   },
   "outputs": [],
   "source": [
    "game_col_del_2 = ['VisitorSH', 'VisitorSF', 'VisitorSB', 'VisitorCS', 'VisitorCI', 'VisitorPitchers', 'VisitorER', 'VisitorWP', 'VisitorBalks', 'VisitorPO', 'VisitorA', 'VisitorE', 'VisitorPassed', 'HomeSH', 'HomeSF', 'HomeSB', 'HomeCS', 'HomeCI', 'HomePitchers', 'HomeER', 'HomeWP', 'HomeBalks', 'HomePO', 'HomeA', 'HomeE', 'HomePassed']"
   ]
  },
  {
   "cell_type": "code",
   "execution_count": 35,
   "metadata": {
    "ExecuteTime": {
     "end_time": "2020-06-01T19:04:18.924955Z",
     "start_time": "2020-06-01T19:04:18.883519Z"
    }
   },
   "outputs": [],
   "source": [
    "game_df.drop(game_col_del_2, axis='columns', inplace=True)"
   ]
  },
  {
   "cell_type": "markdown",
   "metadata": {},
   "source": [
    "### Third Go at cleaning up data..."
   ]
  },
  {
   "cell_type": "code",
   "execution_count": 36,
   "metadata": {
    "ExecuteTime": {
     "end_time": "2020-06-01T19:04:18.941422Z",
     "start_time": "2020-06-01T19:04:18.929134Z"
    }
   },
   "outputs": [],
   "source": [
    "batting_col_del_3 = ['sacBunts', 'sacFlies', 'reachedOnError', 'gidp', 'babip', 'extraBaseHits', 'hitByPitch', 'walksPerPlateAppearance', 'strikeoutsPerPlateAppearance', 'homeRunsPerPlateAppearance', 'groundOuts', 'airOuts', 'doubles', 'triples', 'homeRuns', 'groundOutsToAirouts', 'atBatsPerHomeRun', ]"
   ]
  },
  {
   "cell_type": "code",
   "execution_count": 37,
   "metadata": {
    "ExecuteTime": {
     "end_time": "2020-06-01T19:04:18.953819Z",
     "start_time": "2020-06-01T19:04:18.945369Z"
    }
   },
   "outputs": [],
   "source": [
    "batting_df.drop(batting_col_del_3, axis=1, inplace=True)"
   ]
  },
  {
   "cell_type": "code",
   "execution_count": 38,
   "metadata": {
    "ExecuteTime": {
     "end_time": "2020-06-01T19:04:18.966539Z",
     "start_time": "2020-06-01T19:04:18.958226Z"
    }
   },
   "outputs": [],
   "source": [
    "pitching_col_del_3 = ['battersFaced', 'babip', 'obp', 'slg', 'strikesoutsToWalks', 'qualityStarts', 'doubles', 'triples', 'walksPerPlateAppearance', 'strikeoutsPerPlateAppearance', 'homeRunsPerPlateAppearance', 'walksPerStrikeout', 'groundOuts', 'airOuts', 'runs', 'homeRuns', 'strikeOuts', 'baseOnBalls', 'intentionalWalks', 'hits', 'hitByPitch', 'atBats', 'groundIntoDoublePlay', 'earnedRuns', 'hitBatsmen', 'totalBases', 'groundOutsToAirouts', 'strikeoutWalkRatio', 'sacBunts', 'sacFlies', ]"
   ]
  },
  {
   "cell_type": "code",
   "execution_count": 39,
   "metadata": {
    "ExecuteTime": {
     "end_time": "2020-06-01T19:04:18.982773Z",
     "start_time": "2020-06-01T19:04:18.972739Z"
    }
   },
   "outputs": [],
   "source": [
    "pitching_df.drop(pitching_col_del_3, axis=1, inplace=True)"
   ]
  },
  {
   "cell_type": "code",
   "execution_count": 40,
   "metadata": {
    "ExecuteTime": {
     "end_time": "2020-06-01T19:04:18.997326Z",
     "start_time": "2020-06-01T19:04:18.985388Z"
    }
   },
   "outputs": [],
   "source": [
    "game_col_del_3 = ['VisitorD', 'VisitorT', 'VisitorHR', 'VisitorRBI', 'VisitorK', 'VisitorGDP', 'VisitorTER', 'VisitorDB', 'VisitorTP', 'HomeD', 'HomeT', 'HomeHR', 'HomeRBI', 'HomeK', 'HomeGDP', 'HomeTER', 'HomeDB', 'HomeTP', 'VisitorStartingPitcherID', 'HomeStartingPitcherID', 'VisitorBatting1PlayerID', 'VisitorBatting1Name', 'VisitorBatting2PlayerID', 'VisitorBatting2Name', 'VisitorBatting3PlayerID', 'VisitorBatting3Name', 'VisitorBatting4PlayerID', 'VisitorBatting4Name', 'VisitorBatting5PlayerID', 'VisitorBatting5Name', 'VisitorBatting6PlayerID', 'VisitorBatting6Name', 'VisitorBatting7PlayerID', 'VisitorBatting7Name', 'VisitorBatting8PlayerID', 'VisitorBatting8Name', 'VisitorBatting9PlayerID', 'VisitorBatting9Name', 'HomeBatting1PlayerID', 'HomeBatting1Name', 'HomeBatting2PlayerID', 'HomeBatting2Name', 'HomeBatting3PlayerID', 'HomeBatting3Name', 'HomeBatting4PlayerID', 'HomeBatting4Name', 'HomeBatting5PlayerID', 'HomeBatting5Name', 'HomeBatting6PlayerID', 'HomeBatting6Name', 'HomeBatting7PlayerID', 'HomeBatting7Name', 'HomeBatting8PlayerID', 'HomeBatting8Name', 'HomeBatting9PlayerID', 'HomeBatting9Name']"
   ]
  },
  {
   "cell_type": "code",
   "execution_count": 41,
   "metadata": {
    "ExecuteTime": {
     "end_time": "2020-06-01T19:04:19.026082Z",
     "start_time": "2020-06-01T19:04:19.002364Z"
    }
   },
   "outputs": [],
   "source": [
    "game_df.drop(game_col_del_3, axis=1, inplace=True)"
   ]
  },
  {
   "cell_type": "markdown",
   "metadata": {},
   "source": [
    "### Dataframes seemed cleaned up enough. Saving to CSV and moving on to additional feature engineering"
   ]
  },
  {
   "cell_type": "code",
   "execution_count": 45,
   "metadata": {
    "ExecuteTime": {
     "end_time": "2020-06-01T19:11:52.423591Z",
     "start_time": "2020-06-01T19:11:52.378013Z"
    },
    "code_folding": [
     0
    ]
   },
   "outputs": [],
   "source": [
    "# batting_df.to_csv(\"cleaned_batting_df.csv\")\n",
    "# pitching_df.to_csv(\"cleaned_piching_df.csv\")\n",
    "# game_df.to_csv(\"cleaned_game_df.csv\")"
   ]
  },
  {
   "cell_type": "code",
   "execution_count": null,
   "metadata": {},
   "outputs": [],
   "source": []
  }
 ],
 "metadata": {
  "kernelspec": {
   "display_name": "Python 3",
   "language": "python",
   "name": "python3"
  },
  "language_info": {
   "codemirror_mode": {
    "name": "ipython",
    "version": 3
   },
   "file_extension": ".py",
   "mimetype": "text/x-python",
   "name": "python",
   "nbconvert_exporter": "python",
   "pygments_lexer": "ipython3",
   "version": "3.7.7"
  }
 },
 "nbformat": 4,
 "nbformat_minor": 4
}
