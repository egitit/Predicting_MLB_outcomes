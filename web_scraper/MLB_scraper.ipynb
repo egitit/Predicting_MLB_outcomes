{
 "cells": [
  {
   "cell_type": "markdown",
   "metadata": {},
   "source": [
    "### Build a webscraper that collects the annual pitching & hitting extended stats from 2010-2019"
   ]
  },
  {
   "cell_type": "code",
   "execution_count": 1,
   "metadata": {
    "ExecuteTime": {
     "end_time": "2020-05-27T13:35:35.220289Z",
     "start_time": "2020-05-27T13:35:35.182351Z"
    },
    "code_folding": [
     0
    ]
   },
   "outputs": [],
   "source": [
    "def get_links(url):\n",
    "    '''\n",
    "    Generate a list of website links to pull data from\n",
    "    \n",
    "    Parameter:\n",
    "    a base url (string) to work with\n",
    "    \n",
    "    returns:\n",
    "    a list of strings of hyperlinks\n",
    "    '''\n",
    "    url = url\n",
    "    lst = []\n",
    "    for x in range(10,20):\n",
    "        lst.append(url + f\"20{x}\")\n",
    "    return lst"
   ]
  },
  {
   "cell_type": "code",
   "execution_count": 2,
   "metadata": {
    "ExecuteTime": {
     "end_time": "2020-05-27T13:35:35.281088Z",
     "start_time": "2020-05-27T13:35:35.226319Z"
    }
   },
   "outputs": [
    {
     "data": {
      "text/plain": [
       "['https://www.mlb.com/stats/2010',\n",
       " 'https://www.mlb.com/stats/2011',\n",
       " 'https://www.mlb.com/stats/2012',\n",
       " 'https://www.mlb.com/stats/2013',\n",
       " 'https://www.mlb.com/stats/2014',\n",
       " 'https://www.mlb.com/stats/2015',\n",
       " 'https://www.mlb.com/stats/2016',\n",
       " 'https://www.mlb.com/stats/2017',\n",
       " 'https://www.mlb.com/stats/2018',\n",
       " 'https://www.mlb.com/stats/2019']"
      ]
     },
     "execution_count": 2,
     "metadata": {},
     "output_type": "execute_result"
    }
   ],
   "source": [
    "links_lst = get_links('https://www.mlb.com/stats/')\n",
    "links_lst"
   ]
  },
  {
   "cell_type": "code",
   "execution_count": 3,
   "metadata": {
    "ExecuteTime": {
     "end_time": "2020-05-27T13:35:35.316362Z",
     "start_time": "2020-05-27T13:35:35.287869Z"
    },
    "code_folding": []
   },
   "outputs": [],
   "source": [
    "# BATTING\n",
    "# 2010 - 7 pages\n",
    "    https://www.mlb.com/stats/2010    (page-1)\n",
    "    https://www.mlb.com/stats/2010?page=2  (page-2)\n",
    "    https://www.mlb.com/stats/2010?page=3  (page-3)\n",
    "    https://www.mlb.com/stats/2010?page=4\n",
    "    format stays consistent until page 7...\n",
    "# 2011 - 6 pages\n",
    "    https://www.mlb.com/stats/2011\n",
    "    https://www.mlb.com/stats/2011?page=2\n",
    "    format stays consistent until page 6\n",
    "# 2012 - 6 pages\n",
    "# 2013 - 6 pages\n",
    "# 2014 - 6 pages\n",
    "# 2015 - 6 pages\n",
    "# 2016 - 6 pages\n",
    "# 2017 - 6 pages\n",
    "# 2018 - 6 pages\n",
    "# 2019 - 6 pages"
   ]
  },
  {
   "cell_type": "code",
   "execution_count": 4,
   "metadata": {
    "ExecuteTime": {
     "end_time": "2020-05-27T13:35:35.329074Z",
     "start_time": "2020-05-27T13:35:35.320521Z"
    },
    "code_folding": []
   },
   "outputs": [],
   "source": [
    "# Pitching\n",
    "# 2010 - 4 pages\n",
    "    https://www.mlb.com/stats/pitching/2010\n",
    "    https://www.mlb.com/stats/pitching/2010?page=2\n",
    "    https://www.mlb.com/stats/pitching/2010?page=3\n",
    "    https://www.mlb.com/stats/pitching/2010?page=4\n",
    "# 2011 - 4 pages\n",
    "# 2012 - 4 pages\n",
    "# 2013 - 4 pages\n",
    "# 2014 - 4 pages\n",
    "# 2015 - 4 pages\n",
    "# 2016 - 3 pages\n",
    "# 2017 - 3 pages\n",
    "# 2018 - 3 pages\n",
    "# 2019 - 3 pages"
   ]
  },
  {
   "cell_type": "code",
   "execution_count": 5,
   "metadata": {
    "ExecuteTime": {
     "end_time": "2020-05-27T13:35:35.340541Z",
     "start_time": "2020-05-27T13:35:35.335080Z"
    }
   },
   "outputs": [],
   "source": [
    "# Page buttons are the same Xpaths, too...\n",
    "# button-3wq5VxsJ tab-27nhZTIl sm-1_yhMOW5 default-theme-3rNrN4ik\n",
    "# button-3wq5VxsJ tab-27nhZTIl sm-1_yhMOW5 default-theme-3rNrN4ik"
   ]
  },
  {
   "cell_type": "code",
   "execution_count": 14,
   "metadata": {
    "ExecuteTime": {
     "end_time": "2020-05-27T13:43:53.228188Z",
     "start_time": "2020-05-27T13:43:53.216644Z"
    }
   },
   "outputs": [],
   "source": [
    "from selenium import webdriver\n",
    "from selenium.webdriver.common.keys import Keys # allows for button use - Return, Alt, F1, etc...\n",
    "import time as t\n",
    "from selenium.webdriver.common.action_chains import ActionChains\n",
    "from selenium.webdriver.common.by import By"
   ]
  },
  {
   "cell_type": "code",
   "execution_count": 39,
   "metadata": {
    "ExecuteTime": {
     "end_time": "2020-05-27T16:30:45.424993Z",
     "start_time": "2020-05-27T16:30:26.817444Z"
    }
   },
   "outputs": [
    {
     "ename": "NoSuchElementException",
     "evalue": "Message: \n",
     "output_type": "error",
     "traceback": [
      "\u001b[0;31m---------------------------------------------------------------------------\u001b[0m",
      "\u001b[0;31mNoSuchElementException\u001b[0m                    Traceback (most recent call last)",
      "\u001b[0;32m<ipython-input-39-c4001cd47ccc>\u001b[0m in \u001b[0;36m<module>\u001b[0;34m\u001b[0m\n\u001b[1;32m      3\u001b[0m \u001b[0mt\u001b[0m\u001b[0;34m.\u001b[0m\u001b[0msleep\u001b[0m\u001b[0;34m(\u001b[0m\u001b[0;36m8\u001b[0m\u001b[0;34m)\u001b[0m\u001b[0;34m\u001b[0m\u001b[0;34m\u001b[0m\u001b[0m\n\u001b[1;32m      4\u001b[0m \u001b[0;34m\u001b[0m\u001b[0m\n\u001b[0;32m----> 5\u001b[0;31m \u001b[0me\u001b[0m \u001b[0;34m=\u001b[0m \u001b[0md\u001b[0m\u001b[0;34m.\u001b[0m\u001b[0mfind_element_by_class_name\u001b[0m\u001b[0;34m(\u001b[0m\u001b[0;34m'button-3wq5VxsJ.groupSecondary-1qOL70ym.sm-1_yhMOW5ppp'\u001b[0m\u001b[0;34m)\u001b[0m\u001b[0;34m\u001b[0m\u001b[0;34m\u001b[0m\u001b[0m\n\u001b[0m\u001b[1;32m      6\u001b[0m \u001b[0;34m\u001b[0m\u001b[0m\n\u001b[1;32m      7\u001b[0m \u001b[0;34m\u001b[0m\u001b[0m\n",
      "\u001b[0;32m~/opt/anaconda3/lib/python3.7/site-packages/selenium/webdriver/remote/webdriver.py\u001b[0m in \u001b[0;36mfind_element_by_class_name\u001b[0;34m(self, name)\u001b[0m\n\u001b[1;32m    562\u001b[0m             \u001b[0melement\u001b[0m \u001b[0;34m=\u001b[0m \u001b[0mdriver\u001b[0m\u001b[0;34m.\u001b[0m\u001b[0mfind_element_by_class_name\u001b[0m\u001b[0;34m(\u001b[0m\u001b[0;34m'foo'\u001b[0m\u001b[0;34m)\u001b[0m\u001b[0;34m\u001b[0m\u001b[0;34m\u001b[0m\u001b[0m\n\u001b[1;32m    563\u001b[0m         \"\"\"\n\u001b[0;32m--> 564\u001b[0;31m         \u001b[0;32mreturn\u001b[0m \u001b[0mself\u001b[0m\u001b[0;34m.\u001b[0m\u001b[0mfind_element\u001b[0m\u001b[0;34m(\u001b[0m\u001b[0mby\u001b[0m\u001b[0;34m=\u001b[0m\u001b[0mBy\u001b[0m\u001b[0;34m.\u001b[0m\u001b[0mCLASS_NAME\u001b[0m\u001b[0;34m,\u001b[0m \u001b[0mvalue\u001b[0m\u001b[0;34m=\u001b[0m\u001b[0mname\u001b[0m\u001b[0;34m)\u001b[0m\u001b[0;34m\u001b[0m\u001b[0;34m\u001b[0m\u001b[0m\n\u001b[0m\u001b[1;32m    565\u001b[0m \u001b[0;34m\u001b[0m\u001b[0m\n\u001b[1;32m    566\u001b[0m     \u001b[0;32mdef\u001b[0m \u001b[0mfind_elements_by_class_name\u001b[0m\u001b[0;34m(\u001b[0m\u001b[0mself\u001b[0m\u001b[0;34m,\u001b[0m \u001b[0mname\u001b[0m\u001b[0;34m)\u001b[0m\u001b[0;34m:\u001b[0m\u001b[0;34m\u001b[0m\u001b[0;34m\u001b[0m\u001b[0m\n",
      "\u001b[0;32m~/opt/anaconda3/lib/python3.7/site-packages/selenium/webdriver/remote/webdriver.py\u001b[0m in \u001b[0;36mfind_element\u001b[0;34m(self, by, value)\u001b[0m\n\u001b[1;32m    976\u001b[0m         return self.execute(Command.FIND_ELEMENT, {\n\u001b[1;32m    977\u001b[0m             \u001b[0;34m'using'\u001b[0m\u001b[0;34m:\u001b[0m \u001b[0mby\u001b[0m\u001b[0;34m,\u001b[0m\u001b[0;34m\u001b[0m\u001b[0;34m\u001b[0m\u001b[0m\n\u001b[0;32m--> 978\u001b[0;31m             'value': value})['value']\n\u001b[0m\u001b[1;32m    979\u001b[0m \u001b[0;34m\u001b[0m\u001b[0m\n\u001b[1;32m    980\u001b[0m     \u001b[0;32mdef\u001b[0m \u001b[0mfind_elements\u001b[0m\u001b[0;34m(\u001b[0m\u001b[0mself\u001b[0m\u001b[0;34m,\u001b[0m \u001b[0mby\u001b[0m\u001b[0;34m=\u001b[0m\u001b[0mBy\u001b[0m\u001b[0;34m.\u001b[0m\u001b[0mID\u001b[0m\u001b[0;34m,\u001b[0m \u001b[0mvalue\u001b[0m\u001b[0;34m=\u001b[0m\u001b[0;32mNone\u001b[0m\u001b[0;34m)\u001b[0m\u001b[0;34m:\u001b[0m\u001b[0;34m\u001b[0m\u001b[0;34m\u001b[0m\u001b[0m\n",
      "\u001b[0;32m~/opt/anaconda3/lib/python3.7/site-packages/selenium/webdriver/remote/webdriver.py\u001b[0m in \u001b[0;36mexecute\u001b[0;34m(self, driver_command, params)\u001b[0m\n\u001b[1;32m    319\u001b[0m         \u001b[0mresponse\u001b[0m \u001b[0;34m=\u001b[0m \u001b[0mself\u001b[0m\u001b[0;34m.\u001b[0m\u001b[0mcommand_executor\u001b[0m\u001b[0;34m.\u001b[0m\u001b[0mexecute\u001b[0m\u001b[0;34m(\u001b[0m\u001b[0mdriver_command\u001b[0m\u001b[0;34m,\u001b[0m \u001b[0mparams\u001b[0m\u001b[0;34m)\u001b[0m\u001b[0;34m\u001b[0m\u001b[0;34m\u001b[0m\u001b[0m\n\u001b[1;32m    320\u001b[0m         \u001b[0;32mif\u001b[0m \u001b[0mresponse\u001b[0m\u001b[0;34m:\u001b[0m\u001b[0;34m\u001b[0m\u001b[0;34m\u001b[0m\u001b[0m\n\u001b[0;32m--> 321\u001b[0;31m             \u001b[0mself\u001b[0m\u001b[0;34m.\u001b[0m\u001b[0merror_handler\u001b[0m\u001b[0;34m.\u001b[0m\u001b[0mcheck_response\u001b[0m\u001b[0;34m(\u001b[0m\u001b[0mresponse\u001b[0m\u001b[0;34m)\u001b[0m\u001b[0;34m\u001b[0m\u001b[0;34m\u001b[0m\u001b[0m\n\u001b[0m\u001b[1;32m    322\u001b[0m             response['value'] = self._unwrap_value(\n\u001b[1;32m    323\u001b[0m                 response.get('value', None))\n",
      "\u001b[0;32m~/opt/anaconda3/lib/python3.7/site-packages/selenium/webdriver/remote/errorhandler.py\u001b[0m in \u001b[0;36mcheck_response\u001b[0;34m(self, response)\u001b[0m\n\u001b[1;32m    240\u001b[0m                 \u001b[0malert_text\u001b[0m \u001b[0;34m=\u001b[0m \u001b[0mvalue\u001b[0m\u001b[0;34m[\u001b[0m\u001b[0;34m'alert'\u001b[0m\u001b[0;34m]\u001b[0m\u001b[0;34m.\u001b[0m\u001b[0mget\u001b[0m\u001b[0;34m(\u001b[0m\u001b[0;34m'text'\u001b[0m\u001b[0;34m)\u001b[0m\u001b[0;34m\u001b[0m\u001b[0;34m\u001b[0m\u001b[0m\n\u001b[1;32m    241\u001b[0m             \u001b[0;32mraise\u001b[0m \u001b[0mexception_class\u001b[0m\u001b[0;34m(\u001b[0m\u001b[0mmessage\u001b[0m\u001b[0;34m,\u001b[0m \u001b[0mscreen\u001b[0m\u001b[0;34m,\u001b[0m \u001b[0mstacktrace\u001b[0m\u001b[0;34m,\u001b[0m \u001b[0malert_text\u001b[0m\u001b[0;34m)\u001b[0m\u001b[0;34m\u001b[0m\u001b[0;34m\u001b[0m\u001b[0m\n\u001b[0;32m--> 242\u001b[0;31m         \u001b[0;32mraise\u001b[0m \u001b[0mexception_class\u001b[0m\u001b[0;34m(\u001b[0m\u001b[0mmessage\u001b[0m\u001b[0;34m,\u001b[0m \u001b[0mscreen\u001b[0m\u001b[0;34m,\u001b[0m \u001b[0mstacktrace\u001b[0m\u001b[0;34m)\u001b[0m\u001b[0;34m\u001b[0m\u001b[0;34m\u001b[0m\u001b[0m\n\u001b[0m\u001b[1;32m    243\u001b[0m \u001b[0;34m\u001b[0m\u001b[0m\n\u001b[1;32m    244\u001b[0m     \u001b[0;32mdef\u001b[0m \u001b[0m_value_or_default\u001b[0m\u001b[0;34m(\u001b[0m\u001b[0mself\u001b[0m\u001b[0;34m,\u001b[0m \u001b[0mobj\u001b[0m\u001b[0;34m,\u001b[0m \u001b[0mkey\u001b[0m\u001b[0;34m,\u001b[0m \u001b[0mdefault\u001b[0m\u001b[0;34m)\u001b[0m\u001b[0;34m:\u001b[0m\u001b[0;34m\u001b[0m\u001b[0;34m\u001b[0m\u001b[0m\n",
      "\u001b[0;31mNoSuchElementException\u001b[0m: Message: \n"
     ]
    }
   ],
   "source": [
    "d = webdriver.Safari() # instantiate a Safari webdriver\n",
    "d.get('https://www.mlb.com/stats/2010')\n",
    "t.sleep(8)\n",
    "\n",
    "e = d.find_element_by_class_name('button-3wq5VxsJ.groupSecondary-1qOL70ym.sm-1_yhMOW5')\n",
    "\n",
    "\n",
    "\n",
    "e.click()\n",
    "\n",
    "#e = d.find_element_by_css_selector(\"[aria-label='Expanded']\")\n",
    "#e = d.find_element_by_xpath(\"//div[@aria-label='Expanded']/div[@class='button-3wq5VxsJ.groupSecondary-1qOL70ym.sm-1_yhMOW5.selected']\")\n",
    "#e = d.find_element(By.XPATH, '//*[@id=\"stats-app-root\"]/div/section/section/div[1]/div[2]/div/div[1]/div/div[2]/button')\n",
    "#e = d.find_element_by_css_selector(\"[aria-label='Expanded']\")\n",
    "#e = d.find_element_by_xpath('//*[@id=\"stats-app-root\"]/div/section/section/div[1]/div[2]/div/div[1]/div/div[2]/button')\n",
    "#e = d.find_element_by_xpath(\"/html/body/main/div[2]/div/section/section/div[1]/div[2]/div/div[1]/div/div[2]/button\")\n",
    "#e = d.find_element_by_xpath(By.xpath(\"//*[contains(text(),'Expanded')]\"))\n",
    "#e = d.find_element_by_xpath('//*[@id=\"stats-app-root\"]/div/section/section/div[1]/div[2]/div/div[1]/div/div[2]/button')\n",
    "#e = driver.find_element_by_class_name('bui-button.bui-button.group-secondary')[1]\n",
    "#e = driver.find_element_by_xpath(\"//div[@class='bui-button-group.groupSecondary-1BOq4j5j.stats-navigation.stats-dropdown-3pzcaTD6.bui-button-group']/div[@class='button-3wq5VxsJ.groupSecondary-1qOL70ym.sm-1_yhMOW5.selected' and text()='Expanded']\")\n",
    "#e = driver.find_element_by_link_text('Expanded')\n",
    "#e = driver.find_elements_by_class_name(\"'bui-button.bui-button.group-secondary' and text()='Expanded'\")\n",
    "#e = driver.find_elements_by_class_name(\"'button-3wq5VxsJ.groupSecondary-1qOL70ym.sm-1_yhMOW5.selected' and text()='Expanded'\")\n",
    "#e = driver.find_element_by_xpath(\"'//*[@id='stats-app-root']/div/section/section/div[1]/div[2]/div/div[1]/div/div[2]/button' and text()='Expanded'\")\n",
    "#e = d.find_element_by_xpath(\"//*[@id='stats-app-root']/div/section/section/div[1]/div[2]/div/div[1]/div/div[2]/button\")\n",
    "#e = d.find_element_by_class_name(\"button-3wq5VxsJ.groupSecondary-1qOL70ym.sm-1_yhMOW5.selected\")"
   ]
  },
  {
   "cell_type": "code",
   "execution_count": 36,
   "metadata": {
    "ExecuteTime": {
     "end_time": "2020-05-27T16:27:40.931737Z",
     "start_time": "2020-05-27T16:27:40.337882Z"
    }
   },
   "outputs": [
    {
     "name": "stdout",
     "output_type": "stream",
     "text": [
      "header__nav-top__button header__nav-top__button-menu\n",
      "header__nav-top__nav-search__icon\n",
      "header__nav-top__button account\n",
      "button-3wq5VxsJ tab-27nhZTIl sm-1_yhMOW5 default-theme-3rNrN4ik selected\n",
      "button-3wq5VxsJ tab-27nhZTIl sm-1_yhMOW5 default-theme-3rNrN4ik\n",
      "button-3wq5VxsJ simple-2If_dr4s simpleBorder-PejJukYJ sm-1_yhMOW5 default-theme-3rNrN4ik\n",
      "button-3wq5VxsJ\n",
      "button-3wq5VxsJ rounded-3UEU09fp sm-1_yhMOW5 light-theme-2Xs8q6Ha\n",
      "button-3wq5VxsJ groupSecondary-1qOL70ym sm-1_yhMOW5 selected\n",
      "button-3wq5VxsJ groupSecondary-1qOL70ym sm-1_yhMOW5\n",
      "button-3wq5VxsJ simple-2If_dr4s simpleBorder-PejJukYJ sm-1_yhMOW5 default-theme-3rNrN4ik\n",
      "button-3wq5VxsJ tab-27nhZTIl sm-1_yhMOW5 default-theme-3rNrN4ik selected\n",
      "button-3wq5VxsJ tab-27nhZTIl sm-1_yhMOW5 default-theme-3rNrN4ik\n",
      "button-3wq5VxsJ tab-27nhZTIl sm-1_yhMOW5 default-theme-3rNrN4ik\n",
      "button-3wq5VxsJ tab-27nhZTIl sm-1_yhMOW5 default-theme-3rNrN4ik\n",
      "button-3wq5VxsJ tab-27nhZTIl sm-1_yhMOW5 default-theme-3rNrN4ik\n",
      "button-3wq5VxsJ tab-27nhZTIl sm-1_yhMOW5 default-theme-3rNrN4ik\n",
      "button-3wq5VxsJ tab-27nhZTIl sm-1_yhMOW5 default-theme-3rNrN4ik\n",
      "button-3wq5VxsJ paginationSide-3bpX4evu\n",
      "site-footer__feature-toggle\n",
      "site-footer__feature-toggle\n",
      "site-footer__feature-toggle\n",
      "site-footer__feature-toggle\n",
      "ot-sdk-show-settings\n",
      "pc-close-button close-icon\n",
      "pill\n",
      "save-preference-btn-handler onetrust-close-btn-handler\n",
      "\n",
      "onetrust-close-btn-handler onetrust-close-btn-ui banner-close-button mobile close-icon\n",
      "cookie-setting-link\n",
      "\n",
      "onetrust-close-btn-handler onetrust-close-btn-ui banner-close-button onetrust-lg close-icon\n"
     ]
    }
   ],
   "source": [
    "for x in e:\n",
    "    print(x.get_attribute('class'))"
   ]
  },
  {
   "cell_type": "code",
   "execution_count": null,
   "metadata": {},
   "outputs": [],
   "source": []
  },
  {
   "cell_type": "code",
   "execution_count": null,
   "metadata": {},
   "outputs": [],
   "source": []
  },
  {
   "cell_type": "code",
   "execution_count": null,
   "metadata": {},
   "outputs": [],
   "source": []
  },
  {
   "cell_type": "code",
   "execution_count": null,
   "metadata": {},
   "outputs": [],
   "source": [
    "<div class=\"bui-button bui-button group-secondary \"><button value=\"advanced\" class=\"button-3wq5VxsJ groupSecondary-1qOL70ym sm-1_yhMOW5 selected\" role=\"button\" aria-label=\"Expanded\" aria-selected=\"true\"><span>Expanded</span></button></div>"
   ]
  },
  {
   "cell_type": "code",
   "execution_count": null,
   "metadata": {},
   "outputs": [],
   "source": [
    "d.find_element_by_xpath"
   ]
  },
  {
   "cell_type": "code",
   "execution_count": null,
   "metadata": {},
   "outputs": [],
   "source": [
    "driver.find_element_by_xpath(\"\"\" //div*[@aria-label='Any Time'] \"\"\").click()"
   ]
  },
  {
   "cell_type": "code",
   "execution_count": null,
   "metadata": {},
   "outputs": [],
   "source": [
    "driver.find_element_by_xpath(\"//div[@aria-label='Any time']/div[@class='mn-hd-txt' and text()='Any time']\");\n",
    "driver.find_element_by_xpath(\"//div[@aria-label='Any time']/div[@class='mn-hd-txt'][text()='Any time']\");\n",
    "driver.find_element_by_xpath(\"//div[@class='hdtb-mn-hd']/div[@class='mn-hd-txt' and text()='Any time']\");\n",
    "driver.find_element_by_xpath(\"//div[@class='hdtb-mn-hd']/div[@class='mn-hd-txt'][text()='Any time']\");"
   ]
  },
  {
   "cell_type": "code",
   "execution_count": null,
   "metadata": {},
   "outputs": [],
   "source": []
  },
  {
   "cell_type": "code",
   "execution_count": null,
   "metadata": {},
   "outputs": [],
   "source": [
    "# '/html/body/main/div[2]/div/section/section/div[1]/div[2]/div/div[1]/div/div[2]' - didn't work\n",
    "# '/html/body/main/div[2]/div/section/section/div[1]/div[2]/div/div[1]/div/div[2]/button' - didn't work\n",
    "# '/html/body/main/div[2]/div/section/section/div[1]/div[2]/div/div[1]/div/div[2]/button/span' - didn't work"
   ]
  },
  {
   "cell_type": "code",
   "execution_count": null,
   "metadata": {},
   "outputs": [],
   "source": []
  },
  {
   "cell_type": "code",
   "execution_count": 8,
   "metadata": {
    "ExecuteTime": {
     "end_time": "2020-05-27T13:35:51.552218Z",
     "start_time": "2020-05-27T13:35:51.544445Z"
    }
   },
   "outputs": [],
   "source": [
    "# HTML\n",
    "# <button value=\"advanced\" class=\"button-3wq5VxsJ groupSecondary-1qOL70ym sm-1_yhMOW5 selected\" role=\"button\" aria-label=\"Expanded\" aria-selected=\"true\"><span>Expanded</span></button>"
   ]
  },
  {
   "cell_type": "code",
   "execution_count": 9,
   "metadata": {
    "ExecuteTime": {
     "end_time": "2020-05-27T13:35:51.592379Z",
     "start_time": "2020-05-27T13:35:51.557834Z"
    }
   },
   "outputs": [],
   "source": [
    "# Selector Path\n",
    "# stats-app-root > div > section > section > div.stats-navigation > div.stats-type-wrapper-3JVcAfuJ > div > div:nth-child(1) > div > div:nth-child(2) > button"
   ]
  },
  {
   "cell_type": "code",
   "execution_count": 10,
   "metadata": {
    "ExecuteTime": {
     "end_time": "2020-05-27T13:35:51.641048Z",
     "start_time": "2020-05-27T13:35:51.608123Z"
    }
   },
   "outputs": [],
   "source": [
    "# Attribute (class)\n",
    "# standard stats\n",
    "# class=\"button-3wq5VxsJ groupSecondary-1qOL70ym sm-1_yhMOW5\"\n",
    "\n",
    "# Expanded button selected\n",
    "# class=\"button-3wq5VxsJ groupSecondary-1qOL70ym sm-1_yhMOW5 selected\""
   ]
  },
  {
   "cell_type": "code",
   "execution_count": 11,
   "metadata": {
    "ExecuteTime": {
     "end_time": "2020-05-27T13:35:51.668074Z",
     "start_time": "2020-05-27T13:35:51.650916Z"
    }
   },
   "outputs": [],
   "source": [
    "# XPath\n",
    "\n",
    "#Standard selected\n",
    "# //*[@id=\"stats-app-root\"]/div/section/section/div[1]/div[2]/div/div[1]/div/div[1]/button\n",
    "\n",
    "# Expanded selected\n",
    "# //*[@id=\"stats-app-root\"]/div/section/section/div[1]/div[2]/div/div[1]/div/div[2]/button"
   ]
  }
 ],
 "metadata": {
  "kernelspec": {
   "display_name": "Python 3",
   "language": "python",
   "name": "python3"
  },
  "language_info": {
   "codemirror_mode": {
    "name": "ipython",
    "version": 3
   },
   "file_extension": ".py",
   "mimetype": "text/x-python",
   "name": "python",
   "nbconvert_exporter": "python",
   "pygments_lexer": "ipython3",
   "version": "3.7.7"
  }
 },
 "nbformat": 4,
 "nbformat_minor": 4
}
