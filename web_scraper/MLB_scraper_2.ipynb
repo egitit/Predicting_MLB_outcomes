{
 "cells": [
  {
   "cell_type": "code",
   "execution_count": 1,
   "metadata": {
    "ExecuteTime": {
     "end_time": "2020-05-29T02:46:37.166918Z",
     "start_time": "2020-05-29T02:46:36.000309Z"
    }
   },
   "outputs": [],
   "source": [
    "import pandas as pd\n",
    "import requests\n",
    "import time"
   ]
  },
  {
   "cell_type": "code",
   "execution_count": null,
   "metadata": {},
   "outputs": [],
   "source": []
  },
  {
   "cell_type": "code",
   "execution_count": 2,
   "metadata": {
    "ExecuteTime": {
     "end_time": "2020-05-29T02:46:37.186924Z",
     "start_time": "2020-05-29T02:46:37.170198Z"
    }
   },
   "outputs": [],
   "source": [
    "def scrape_batting_data(start_year, end_year, num_of_players):\n",
    "    '''\n",
    "    webscrap MLB.com for batting statistics\n",
    "    '''\n",
    "    batting_url = 'https://bdfed.stitch.mlbinfra.com/bdfed/stats/player?stitch_env=prod&season={}&sportId=1&stats=season&group=hitting&gameType=R&limit={}&offset=0&sortStat=onBasePlusSlugging&order=desc'\n",
    "    data = []\n",
    "    for year in range(start_year, end_year+1):\n",
    "        time.sleep(5)\n",
    "        request = requests.get(batting_url.format(year, num_of_players))\n",
    "        new_data = request.json()['stats']\n",
    "        data += new_data\n",
    "    return data"
   ]
  },
  {
   "cell_type": "code",
   "execution_count": 3,
   "metadata": {
    "ExecuteTime": {
     "end_time": "2020-05-29T02:47:34.782062Z",
     "start_time": "2020-05-29T02:46:37.193816Z"
    }
   },
   "outputs": [],
   "source": [
    "data = scrape_batting_data(2010, 2019, 2000)"
   ]
  },
  {
   "cell_type": "code",
   "execution_count": 4,
   "metadata": {
    "ExecuteTime": {
     "end_time": "2020-05-29T02:47:34.836442Z",
     "start_time": "2020-05-29T02:47:34.784999Z"
    }
   },
   "outputs": [],
   "source": [
    "batting_df = pd.DataFrame(data)"
   ]
  },
  {
   "cell_type": "code",
   "execution_count": 15,
   "metadata": {
    "ExecuteTime": {
     "end_time": "2020-05-29T13:48:32.215660Z",
     "start_time": "2020-05-29T13:48:32.085388Z"
    }
   },
   "outputs": [],
   "source": [
    "# batting_df.to_csv(\"MLB_batting_stats.csv\")"
   ]
  },
  {
   "cell_type": "code",
   "execution_count": 6,
   "metadata": {
    "ExecuteTime": {
     "end_time": "2020-05-29T02:47:34.921401Z",
     "start_time": "2020-05-29T02:47:34.913174Z"
    }
   },
   "outputs": [],
   "source": [
    "# for name in df.columns:\n",
    "#     print(name)"
   ]
  },
  {
   "cell_type": "code",
   "execution_count": 7,
   "metadata": {
    "ExecuteTime": {
     "end_time": "2020-05-29T02:47:34.928919Z",
     "start_time": "2020-05-29T02:47:34.924603Z"
    }
   },
   "outputs": [],
   "source": [
    "# df.iloc[:,0:20]"
   ]
  },
  {
   "cell_type": "code",
   "execution_count": 8,
   "metadata": {
    "ExecuteTime": {
     "end_time": "2020-05-29T02:47:34.941796Z",
     "start_time": "2020-05-29T02:47:34.933667Z"
    }
   },
   "outputs": [],
   "source": [
    "# df.iloc[:,20:40]"
   ]
  },
  {
   "cell_type": "code",
   "execution_count": 9,
   "metadata": {
    "ExecuteTime": {
     "end_time": "2020-05-29T02:47:34.954396Z",
     "start_time": "2020-05-29T02:47:34.944914Z"
    }
   },
   "outputs": [],
   "source": [
    "# df.iloc[:,40:60]"
   ]
  },
  {
   "cell_type": "code",
   "execution_count": 10,
   "metadata": {
    "ExecuteTime": {
     "end_time": "2020-05-29T02:47:34.966968Z",
     "start_time": "2020-05-29T02:47:34.957839Z"
    }
   },
   "outputs": [],
   "source": [
    "# df.iloc[:,60:]"
   ]
  },
  {
   "cell_type": "code",
   "execution_count": 11,
   "metadata": {
    "ExecuteTime": {
     "end_time": "2020-05-29T02:47:34.991920Z",
     "start_time": "2020-05-29T02:47:34.974198Z"
    }
   },
   "outputs": [],
   "source": [
    "def scrape_pitching_data(start_year, end_year, num_of_players):\n",
    "    '''\n",
    "    webscrap MLB.com for batting statistics\n",
    "    '''\n",
    "    pitching_url = 'https://bdfed.stitch.mlbinfra.com/bdfed/stats/player?stitch_env=prod&season={}&sportId=1&stats=season&group=pitching&gameType=R&limit={}&offset=0&sortStat=earnedRunAverage&order=asc'\n",
    "    data = []\n",
    "    for year in range(start_year, end_year+1):\n",
    "        time.sleep(5)\n",
    "        request = requests.get(pitching_url.format(year, num_of_players))\n",
    "        new_data = request.json()['stats']\n",
    "        data += new_data\n",
    "    return data"
   ]
  },
  {
   "cell_type": "code",
   "execution_count": 12,
   "metadata": {
    "ExecuteTime": {
     "end_time": "2020-05-29T02:48:29.793275Z",
     "start_time": "2020-05-29T02:47:34.996869Z"
    }
   },
   "outputs": [],
   "source": [
    "data2 = scrape_pitching_data(2010, 2019, 2000)"
   ]
  },
  {
   "cell_type": "code",
   "execution_count": 13,
   "metadata": {
    "ExecuteTime": {
     "end_time": "2020-05-29T02:48:29.839101Z",
     "start_time": "2020-05-29T02:48:29.795222Z"
    }
   },
   "outputs": [],
   "source": [
    "pitching_df = pd.DataFrame(data2)"
   ]
  },
  {
   "cell_type": "code",
   "execution_count": 16,
   "metadata": {
    "ExecuteTime": {
     "end_time": "2020-05-29T13:49:17.157170Z",
     "start_time": "2020-05-29T13:49:17.091081Z"
    }
   },
   "outputs": [],
   "source": [
    "#pitching_df.to_csv(\"MLB_pitching_stats.csv\")"
   ]
  },
  {
   "cell_type": "code",
   "execution_count": null,
   "metadata": {},
   "outputs": [],
   "source": []
  }
 ],
 "metadata": {
  "kernelspec": {
   "display_name": "Python 3",
   "language": "python",
   "name": "python3"
  },
  "language_info": {
   "codemirror_mode": {
    "name": "ipython",
    "version": 3
   },
   "file_extension": ".py",
   "mimetype": "text/x-python",
   "name": "python",
   "nbconvert_exporter": "python",
   "pygments_lexer": "ipython3",
   "version": "3.7.7"
  }
 },
 "nbformat": 4,
 "nbformat_minor": 4
}
